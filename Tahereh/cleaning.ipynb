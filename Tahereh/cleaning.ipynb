{
 "cells": [
  {
   "cell_type": "code",
   "execution_count": 1,
   "id": "5d7be605",
   "metadata": {},
   "outputs": [],
   "source": [
    "import pandas as pd\n",
    "from sklearn.preprocessing import StandardScaler,OneHotEncoder\n",
    "import tensorflow as tf\n",
    "from sklearn.model_selection import train_test_split\n",
    "import numpy as np"
   ]
  },
  {
   "cell_type": "code",
   "execution_count": 2,
   "id": "11e6dab5",
   "metadata": {},
   "outputs": [
    {
     "data": {
      "text/html": [
       "<div>\n",
       "<style scoped>\n",
       "    .dataframe tbody tr th:only-of-type {\n",
       "        vertical-align: middle;\n",
       "    }\n",
       "\n",
       "    .dataframe tbody tr th {\n",
       "        vertical-align: top;\n",
       "    }\n",
       "\n",
       "    .dataframe thead th {\n",
       "        text-align: right;\n",
       "    }\n",
       "</style>\n",
       "<table border=\"1\" class=\"dataframe\">\n",
       "  <thead>\n",
       "    <tr style=\"text-align: right;\">\n",
       "      <th></th>\n",
       "      <th>Company</th>\n",
       "      <th>Bean_Origin_or_Bar_Name</th>\n",
       "      <th>REF</th>\n",
       "      <th>Review_Date</th>\n",
       "      <th>Cocoa_Percent</th>\n",
       "      <th>Company_Location</th>\n",
       "      <th>Rating</th>\n",
       "      <th>Bean_Type</th>\n",
       "      <th>Broad_Bean_Origin</th>\n",
       "    </tr>\n",
       "  </thead>\n",
       "  <tbody>\n",
       "    <tr>\n",
       "      <th>0</th>\n",
       "      <td>A. Morin</td>\n",
       "      <td>Agua Grande</td>\n",
       "      <td>1876</td>\n",
       "      <td>2016</td>\n",
       "      <td>63%</td>\n",
       "      <td>France</td>\n",
       "      <td>3.75</td>\n",
       "      <td></td>\n",
       "      <td>Sao Tome</td>\n",
       "    </tr>\n",
       "    <tr>\n",
       "      <th>1</th>\n",
       "      <td>A. Morin</td>\n",
       "      <td>Kpime</td>\n",
       "      <td>1676</td>\n",
       "      <td>2015</td>\n",
       "      <td>70%</td>\n",
       "      <td>France</td>\n",
       "      <td>2.75</td>\n",
       "      <td></td>\n",
       "      <td>Togo</td>\n",
       "    </tr>\n",
       "    <tr>\n",
       "      <th>2</th>\n",
       "      <td>A. Morin</td>\n",
       "      <td>Atsane</td>\n",
       "      <td>1676</td>\n",
       "      <td>2015</td>\n",
       "      <td>70%</td>\n",
       "      <td>France</td>\n",
       "      <td>3.00</td>\n",
       "      <td></td>\n",
       "      <td>Togo</td>\n",
       "    </tr>\n",
       "    <tr>\n",
       "      <th>3</th>\n",
       "      <td>A. Morin</td>\n",
       "      <td>Akata</td>\n",
       "      <td>1680</td>\n",
       "      <td>2015</td>\n",
       "      <td>70%</td>\n",
       "      <td>France</td>\n",
       "      <td>3.50</td>\n",
       "      <td></td>\n",
       "      <td>Togo</td>\n",
       "    </tr>\n",
       "    <tr>\n",
       "      <th>4</th>\n",
       "      <td>A. Morin</td>\n",
       "      <td>Quilla</td>\n",
       "      <td>1704</td>\n",
       "      <td>2015</td>\n",
       "      <td>70%</td>\n",
       "      <td>France</td>\n",
       "      <td>3.50</td>\n",
       "      <td></td>\n",
       "      <td>Peru</td>\n",
       "    </tr>\n",
       "  </tbody>\n",
       "</table>\n",
       "</div>"
      ],
      "text/plain": [
       "    Company Bean_Origin_or_Bar_Name   REF  Review_Date Cocoa_Percent  \\\n",
       "0  A. Morin             Agua Grande  1876         2016           63%   \n",
       "1  A. Morin                   Kpime  1676         2015           70%   \n",
       "2  A. Morin                  Atsane  1676         2015           70%   \n",
       "3  A. Morin                   Akata  1680         2015           70%   \n",
       "4  A. Morin                  Quilla  1704         2015           70%   \n",
       "\n",
       "  Company_Location  Rating Bean_Type Broad_Bean_Origin  \n",
       "0           France    3.75                    Sao Tome  \n",
       "1           France    2.75                        Togo  \n",
       "2           France    3.00                        Togo  \n",
       "3           France    3.50                        Togo  \n",
       "4           France    3.50                        Peru  "
      ]
     },
     "execution_count": 2,
     "metadata": {},
     "output_type": "execute_result"
    }
   ],
   "source": [
    "file =\"flavors_of_cacao.csv\"\n",
    "df_chocolate = pd.read_csv(file)\n",
    "df_chocolate.head()"
   ]
  },
  {
   "cell_type": "code",
   "execution_count": 3,
   "id": "bc126e17",
   "metadata": {},
   "outputs": [],
   "source": [
    "#Changing column names\n",
    "#columns_name = ['Company', 'Bean_Origin', 'REF', 'Review_Date', 'Cocoa_Percentage', 'Company_Location', 'Rating', 'Bean_Type', 'Broad_Bean_Origin'] \n",
    "#df_chocolate.columns = columns_name\n",
    "#df_chocolate"
   ]
  },
  {
   "cell_type": "code",
   "execution_count": 4,
   "id": "859826d7",
   "metadata": {},
   "outputs": [
    {
     "name": "stderr",
     "output_type": "stream",
     "text": [
      "C:\\Users\\Tata\\anaconda3\\envs\\mlenv\\lib\\site-packages\\ipykernel_launcher.py:3: FutureWarning: The default value of regex will change from True to False in a future version. In addition, single character regular expressions will*not* be treated as literal strings when regex=True.\n",
      "  This is separate from the ipykernel package so we can avoid doing imports until\n"
     ]
    },
    {
     "data": {
      "text/plain": [
       "0       0.63\n",
       "1       0.70\n",
       "2       0.70\n",
       "3       0.70\n",
       "4       0.70\n",
       "        ... \n",
       "1790    0.70\n",
       "1791    0.65\n",
       "1792    0.65\n",
       "1793    0.62\n",
       "1794    0.65\n",
       "Name: Cocoa_Percent, Length: 1795, dtype: float64"
      ]
     },
     "execution_count": 4,
     "metadata": {},
     "output_type": "execute_result"
    }
   ],
   "source": [
    "#Converting String Cocoa_Percent column into Integers\n",
    "df_chocolate[\"Cocoa_Percent\"] = df_chocolate[\"Cocoa_Percent\"].str.replace('%', '')\n",
    "df_chocolate['Cocoa_Percent'] = df_chocolate['Cocoa_Percent'].str.replace('.', '')\n",
    "df_chocolate[\"Cocoa_Percent\"]= df_chocolate[\"Cocoa_Percent\"].astype(float)/100\n",
    "df_chocolate[\"Cocoa_Percent\"]"
   ]
  },
  {
   "cell_type": "code",
   "execution_count": 5,
   "id": "4e7ae401",
   "metadata": {},
   "outputs": [],
   "source": [
    "\n",
    "#df_chocolate[\"Rating\"] = df_chocolate[\"Rating\"].apply(int)\n",
    "\n",
    "#df_chocolate[\"Rating\"] = df_chocolate[\"Rating\"].apply(np.floor).astype(np.int64)\n",
    "#df_chocolate[\"Rating\"] "
   ]
  },
  {
   "cell_type": "code",
   "execution_count": 6,
   "id": "c21313b2",
   "metadata": {},
   "outputs": [
    {
     "name": "stdout",
     "output_type": "stream",
     "text": [
      "<class 'pandas.core.frame.DataFrame'>\n",
      "RangeIndex: 1795 entries, 0 to 1794\n",
      "Data columns (total 9 columns):\n",
      " #   Column                   Non-Null Count  Dtype  \n",
      "---  ------                   --------------  -----  \n",
      " 0   Company                  1795 non-null   object \n",
      " 1   Bean_Origin_or_Bar_Name  1795 non-null   object \n",
      " 2   REF                      1795 non-null   int64  \n",
      " 3   Review_Date              1795 non-null   int64  \n",
      " 4   Cocoa_Percent            1795 non-null   float64\n",
      " 5   Company_Location         1795 non-null   object \n",
      " 6   Rating                   1795 non-null   float64\n",
      " 7   Bean_Type                1794 non-null   object \n",
      " 8   Broad_Bean_Origin        1794 non-null   object \n",
      "dtypes: float64(2), int64(2), object(5)\n",
      "memory usage: 126.3+ KB\n"
     ]
    }
   ],
   "source": [
    "df_chocolate.info()\n"
   ]
  },
  {
   "cell_type": "code",
   "execution_count": 7,
   "id": "ec7bb79c",
   "metadata": {},
   "outputs": [
    {
     "data": {
      "text/html": [
       "<div>\n",
       "<style scoped>\n",
       "    .dataframe tbody tr th:only-of-type {\n",
       "        vertical-align: middle;\n",
       "    }\n",
       "\n",
       "    .dataframe tbody tr th {\n",
       "        vertical-align: top;\n",
       "    }\n",
       "\n",
       "    .dataframe thead th {\n",
       "        text-align: right;\n",
       "    }\n",
       "</style>\n",
       "<table border=\"1\" class=\"dataframe\">\n",
       "  <thead>\n",
       "    <tr style=\"text-align: right;\">\n",
       "      <th></th>\n",
       "      <th>count</th>\n",
       "      <th>unique</th>\n",
       "      <th>top</th>\n",
       "      <th>freq</th>\n",
       "      <th>mean</th>\n",
       "      <th>std</th>\n",
       "      <th>min</th>\n",
       "      <th>25%</th>\n",
       "      <th>50%</th>\n",
       "      <th>75%</th>\n",
       "      <th>max</th>\n",
       "    </tr>\n",
       "  </thead>\n",
       "  <tbody>\n",
       "    <tr>\n",
       "      <th>Company</th>\n",
       "      <td>1795</td>\n",
       "      <td>416</td>\n",
       "      <td>Soma</td>\n",
       "      <td>47</td>\n",
       "      <td>NaN</td>\n",
       "      <td>NaN</td>\n",
       "      <td>NaN</td>\n",
       "      <td>NaN</td>\n",
       "      <td>NaN</td>\n",
       "      <td>NaN</td>\n",
       "      <td>NaN</td>\n",
       "    </tr>\n",
       "    <tr>\n",
       "      <th>Bean_Origin_or_Bar_Name</th>\n",
       "      <td>1795</td>\n",
       "      <td>1039</td>\n",
       "      <td>Madagascar</td>\n",
       "      <td>57</td>\n",
       "      <td>NaN</td>\n",
       "      <td>NaN</td>\n",
       "      <td>NaN</td>\n",
       "      <td>NaN</td>\n",
       "      <td>NaN</td>\n",
       "      <td>NaN</td>\n",
       "      <td>NaN</td>\n",
       "    </tr>\n",
       "    <tr>\n",
       "      <th>REF</th>\n",
       "      <td>1795.0</td>\n",
       "      <td>NaN</td>\n",
       "      <td>NaN</td>\n",
       "      <td>NaN</td>\n",
       "      <td>1035.904735</td>\n",
       "      <td>552.886365</td>\n",
       "      <td>5.0</td>\n",
       "      <td>576.0</td>\n",
       "      <td>1069.0</td>\n",
       "      <td>1502.0</td>\n",
       "      <td>1952.0</td>\n",
       "    </tr>\n",
       "    <tr>\n",
       "      <th>Review_Date</th>\n",
       "      <td>1795.0</td>\n",
       "      <td>NaN</td>\n",
       "      <td>NaN</td>\n",
       "      <td>NaN</td>\n",
       "      <td>2012.325348</td>\n",
       "      <td>2.92721</td>\n",
       "      <td>2006.0</td>\n",
       "      <td>2010.0</td>\n",
       "      <td>2013.0</td>\n",
       "      <td>2015.0</td>\n",
       "      <td>2017.0</td>\n",
       "    </tr>\n",
       "    <tr>\n",
       "      <th>Cocoa_Percent</th>\n",
       "      <td>1795.0</td>\n",
       "      <td>NaN</td>\n",
       "      <td>NaN</td>\n",
       "      <td>NaN</td>\n",
       "      <td>0.741928</td>\n",
       "      <td>0.404268</td>\n",
       "      <td>0.42</td>\n",
       "      <td>0.7</td>\n",
       "      <td>0.7</td>\n",
       "      <td>0.75</td>\n",
       "      <td>7.35</td>\n",
       "    </tr>\n",
       "    <tr>\n",
       "      <th>Company_Location</th>\n",
       "      <td>1795</td>\n",
       "      <td>60</td>\n",
       "      <td>U.S.A.</td>\n",
       "      <td>764</td>\n",
       "      <td>NaN</td>\n",
       "      <td>NaN</td>\n",
       "      <td>NaN</td>\n",
       "      <td>NaN</td>\n",
       "      <td>NaN</td>\n",
       "      <td>NaN</td>\n",
       "      <td>NaN</td>\n",
       "    </tr>\n",
       "    <tr>\n",
       "      <th>Rating</th>\n",
       "      <td>1795.0</td>\n",
       "      <td>NaN</td>\n",
       "      <td>NaN</td>\n",
       "      <td>NaN</td>\n",
       "      <td>3.185933</td>\n",
       "      <td>0.478062</td>\n",
       "      <td>1.0</td>\n",
       "      <td>2.875</td>\n",
       "      <td>3.25</td>\n",
       "      <td>3.5</td>\n",
       "      <td>5.0</td>\n",
       "    </tr>\n",
       "    <tr>\n",
       "      <th>Bean_Type</th>\n",
       "      <td>1794</td>\n",
       "      <td>41</td>\n",
       "      <td></td>\n",
       "      <td>887</td>\n",
       "      <td>NaN</td>\n",
       "      <td>NaN</td>\n",
       "      <td>NaN</td>\n",
       "      <td>NaN</td>\n",
       "      <td>NaN</td>\n",
       "      <td>NaN</td>\n",
       "      <td>NaN</td>\n",
       "    </tr>\n",
       "    <tr>\n",
       "      <th>Broad_Bean_Origin</th>\n",
       "      <td>1794</td>\n",
       "      <td>100</td>\n",
       "      <td>Venezuela</td>\n",
       "      <td>214</td>\n",
       "      <td>NaN</td>\n",
       "      <td>NaN</td>\n",
       "      <td>NaN</td>\n",
       "      <td>NaN</td>\n",
       "      <td>NaN</td>\n",
       "      <td>NaN</td>\n",
       "      <td>NaN</td>\n",
       "    </tr>\n",
       "  </tbody>\n",
       "</table>\n",
       "</div>"
      ],
      "text/plain": [
       "                          count unique         top freq         mean  \\\n",
       "Company                    1795    416        Soma   47          NaN   \n",
       "Bean_Origin_or_Bar_Name    1795   1039  Madagascar   57          NaN   \n",
       "REF                      1795.0    NaN         NaN  NaN  1035.904735   \n",
       "Review_Date              1795.0    NaN         NaN  NaN  2012.325348   \n",
       "Cocoa_Percent            1795.0    NaN         NaN  NaN     0.741928   \n",
       "Company_Location           1795     60      U.S.A.  764          NaN   \n",
       "Rating                   1795.0    NaN         NaN  NaN     3.185933   \n",
       "Bean_Type                  1794     41              887          NaN   \n",
       "Broad_Bean_Origin          1794    100   Venezuela  214          NaN   \n",
       "\n",
       "                                std     min     25%     50%     75%     max  \n",
       "Company                         NaN     NaN     NaN     NaN     NaN     NaN  \n",
       "Bean_Origin_or_Bar_Name         NaN     NaN     NaN     NaN     NaN     NaN  \n",
       "REF                      552.886365     5.0   576.0  1069.0  1502.0  1952.0  \n",
       "Review_Date                 2.92721  2006.0  2010.0  2013.0  2015.0  2017.0  \n",
       "Cocoa_Percent              0.404268    0.42     0.7     0.7    0.75    7.35  \n",
       "Company_Location                NaN     NaN     NaN     NaN     NaN     NaN  \n",
       "Rating                     0.478062     1.0   2.875    3.25     3.5     5.0  \n",
       "Bean_Type                       NaN     NaN     NaN     NaN     NaN     NaN  \n",
       "Broad_Bean_Origin               NaN     NaN     NaN     NaN     NaN     NaN  "
      ]
     },
     "execution_count": 7,
     "metadata": {},
     "output_type": "execute_result"
    }
   ],
   "source": [
    "df_chocolate.describe(include='all').T"
   ]
  },
  {
   "cell_type": "code",
   "execution_count": 8,
   "id": "798f27a1",
   "metadata": {},
   "outputs": [
    {
     "data": {
      "text/plain": [
       "Company                    0\n",
       "Bean_Origin_or_Bar_Name    0\n",
       "REF                        0\n",
       "Review_Date                0\n",
       "Cocoa_Percent              0\n",
       "Company_Location           0\n",
       "Rating                     0\n",
       "Bean_Type                  1\n",
       "Broad_Bean_Origin          1\n",
       "dtype: int64"
      ]
     },
     "execution_count": 8,
     "metadata": {},
     "output_type": "execute_result"
    }
   ],
   "source": [
    "df_chocolate.isnull().sum()"
   ]
  },
  {
   "cell_type": "code",
   "execution_count": 9,
   "id": "6bb50ba7",
   "metadata": {},
   "outputs": [
    {
     "data": {
      "text/plain": [
       "Company                     416\n",
       "Bean_Origin_or_Bar_Name    1039\n",
       "REF                         440\n",
       "Review_Date                  12\n",
       "Cocoa_Percent                45\n",
       "Company_Location             60\n",
       "Rating                       13\n",
       "Bean_Type                    41\n",
       "Broad_Bean_Origin           100\n",
       "dtype: int64"
      ]
     },
     "execution_count": 9,
     "metadata": {},
     "output_type": "execute_result"
    }
   ],
   "source": [
    "# Determine the number of unique values in each column.\n",
    "df_chocolate.nunique()"
   ]
  },
  {
   "cell_type": "code",
   "execution_count": 10,
   "id": "e48d796f",
   "metadata": {},
   "outputs": [],
   "source": [
    "# Drop null values\n",
    "df_chocolate.dropna(axis=0, how='any', inplace=True)"
   ]
  },
  {
   "cell_type": "code",
   "execution_count": 11,
   "id": "9ff715f6",
   "metadata": {},
   "outputs": [
    {
     "data": {
      "text/plain": [
       "                            887\n",
       "Trinitario                  418\n",
       "Criollo                     153\n",
       "Forastero                    87\n",
       "Forastero (Nacional)         52\n",
       "Blend                        41\n",
       "Criollo, Trinitario          39\n",
       "Forastero (Arriba)           37\n",
       "Criollo (Porcelana)          10\n",
       "Trinitario, Criollo           9\n",
       "Forastero (Parazinho)         8\n",
       "Forastero (Arriba) ASS        6\n",
       "Beniano                       3\n",
       "EET                           3\n",
       "Matina                        3\n",
       "Nacional (Arriba)             3\n",
       "Criollo, Forastero            2\n",
       "Amazon, ICS                   2\n",
       "Trinitario (85% Criollo)      2\n",
       "Forastero (Catongo)           2\n",
       "Nacional                      2\n",
       "Criollo (Amarru)              2\n",
       "Trinitario, Forastero         2\n",
       "Amazon mix                    2\n",
       "Criollo (Ocumare 61)          2\n",
       "Forastero (Amelonado)         1\n",
       "CCN51                         1\n",
       "Forastero (Arriba) ASSS       1\n",
       "Blend-Forastero,Criollo       1\n",
       "Trinitario (Amelonado)        1\n",
       "Forastero, Trinitario         1\n",
       "Forastero(Arriba, CCN)        1\n",
       "Criollo, +                    1\n",
       "Criollo (Ocumare)             1\n",
       "Trinitario (Scavina)          1\n",
       "Trinitario, TCGA              1\n",
       "Criollo (Wild)                1\n",
       "Amazon                        1\n",
       "Criollo (Ocumare 77)          1\n",
       "Trinitario, Nacional          1\n",
       "Criollo (Ocumare 67)          1\n",
       "Name: Bean_Type, dtype: int64"
      ]
     },
     "execution_count": 11,
     "metadata": {},
     "output_type": "execute_result"
    }
   ],
   "source": [
    "df_chocolate['Bean_Type'].value_counts()"
   ]
  },
  {
   "cell_type": "code",
   "execution_count": 12,
   "id": "e2b55029",
   "metadata": {},
   "outputs": [],
   "source": [
    "#replace the values in the bean_type column\n",
    "def replace_beans (bean_type):\n",
    "    #order of criollo, trinitario, and forastero was decided by seeing the number of times it appears\n",
    "    if 'Criollo' in bean_type:\n",
    "        return 'Criollo'\n",
    "    elif 'Trinitario' in bean_type:\n",
    "        return 'Trinitario'\n",
    "    elif 'Forastero' in bean_type:\n",
    "        return 'Forastero'\n",
    "    else:\n",
    "        return bean_type\n",
    "    \n",
    "df_chocolate['Bean_Type'] = df_chocolate['Bean_Type'].map(lambda bean_type: replace_beans(bean_type))"
   ]
  },
  {
   "cell_type": "code",
   "execution_count": 13,
   "id": "4d70fa67",
   "metadata": {},
   "outputs": [
    {
     "data": {
      "text/plain": [
       "                     887\n",
       "Trinitario           425\n",
       "Criollo              225\n",
       "Forastero            195\n",
       "Blend                 41\n",
       "Matina                 3\n",
       "Beniano                3\n",
       "Nacional (Arriba)      3\n",
       "EET                    3\n",
       "Amazon, ICS            2\n",
       "Amazon mix             2\n",
       "Nacional               2\n",
       "CCN51                  1\n",
       "Amazon                 1\n",
       "Name: Bean_Type, dtype: int64"
      ]
     },
     "execution_count": 13,
     "metadata": {},
     "output_type": "execute_result"
    }
   ],
   "source": [
    "df_chocolate['Bean_Type'].value_counts()"
   ]
  },
  {
   "cell_type": "code",
   "execution_count": 14,
   "id": "941730d8",
   "metadata": {},
   "outputs": [
    {
     "data": {
      "text/plain": [
       "['\\xa0', '\\xa0', '\\xa0', '\\xa0', '\\xa0']"
      ]
     },
     "execution_count": 14,
     "metadata": {},
     "output_type": "execute_result"
    }
   ],
   "source": [
    "list(df_chocolate['Bean_Type'][0:5])"
   ]
  },
  {
   "cell_type": "code",
   "execution_count": 15,
   "id": "cbfcc2f0",
   "metadata": {},
   "outputs": [
    {
     "data": {
      "text/plain": [
       "Venezuela                        214\n",
       "Ecuador                          193\n",
       "Peru                             165\n",
       "Madagascar                       145\n",
       "Dominican Republic               141\n",
       "                                ... \n",
       "Trinidad-Tobago                    1\n",
       "Burma                              1\n",
       "Peru(SMartin,Pangoa,nacional)      1\n",
       "Mad., Java, PNG                    1\n",
       "Trinidad, Ecuador                  1\n",
       "Name: Broad_Bean_Origin, Length: 99, dtype: int64"
      ]
     },
     "execution_count": 15,
     "metadata": {},
     "output_type": "execute_result"
    }
   ],
   "source": [
    "# Look at Broad Bean Origin value counts for binning\n",
    "Broad_Bean_Origin_counts=df_chocolate['Broad_Bean_Origin'].value_counts()\n",
    "Broad_Bean_Origin_counts\n"
   ]
  },
  {
   "cell_type": "code",
   "execution_count": 16,
   "id": "50660d11",
   "metadata": {},
   "outputs": [
    {
     "data": {
      "text/plain": [
       "<AxesSubplot:ylabel='Density'>"
      ]
     },
     "execution_count": 16,
     "metadata": {},
     "output_type": "execute_result"
    },
    {
     "data": {
      "image/png": "[encoded data removed]",
      "text/plain": [
       "<Figure size 432x288 with 1 Axes>"
      ]
     },
     "metadata": {
      "needs_background": "light"
     },
     "output_type": "display_data"
    }
   ],
   "source": [
    "# Visualize the value counts of Broad Bean Origin\n",
    "Broad_Bean_Origin_counts.plot.density()"
   ]
  },
  {
   "cell_type": "code",
   "execution_count": 17,
   "id": "7b0d3218",
   "metadata": {},
   "outputs": [
    {
     "data": {
      "text/plain": [
       "Madagascar                  56\n",
       "Peru                        45\n",
       "Ecuador                     42\n",
       "Dominican Republic          37\n",
       "Venezuela                   21\n",
       "                            ..\n",
       "Brooklyn Blend               1\n",
       "Roberto                      1\n",
       "Crudo                        1\n",
       "Antigua, Special Reserve     1\n",
       "Citrus-beta                  1\n",
       "Name: Bean_Origin_or_Bar_Name, Length: 1038, dtype: int64"
      ]
     },
     "execution_count": 17,
     "metadata": {},
     "output_type": "execute_result"
    }
   ],
   "source": [
    "# Look at Broad Bean Origin value counts for binning\n",
    "Bean_Origin_counts=df_chocolate['Bean_Origin_or_Bar_Name'].value_counts()\n",
    "Bean_Origin_counts"
   ]
  },
  {
   "cell_type": "code",
   "execution_count": 18,
   "id": "554e531a",
   "metadata": {},
   "outputs": [
    {
     "data": {
      "text/plain": [
       "False    1793\n",
       "Name: Bean_Origin_or_Bar_Name, dtype: int64"
      ]
     },
     "execution_count": 18,
     "metadata": {},
     "output_type": "execute_result"
    }
   ],
   "source": [
    "# check any N/A values in  \n",
    "df_chocolate['Bean_Origin_or_Bar_Name'].isnull().value_counts()"
   ]
  },
  {
   "cell_type": "code",
   "execution_count": 19,
   "id": "6ba478b1",
   "metadata": {},
   "outputs": [
    {
     "data": {
      "text/plain": [
       "Soma                              46\n",
       "Bonnat                            27\n",
       "Fresco                            26\n",
       "Pralus                            25\n",
       "A. Morin                          23\n",
       "                                  ..\n",
       "Malagos                            1\n",
       "Two Ravens                         1\n",
       "Chocolats Privilege                1\n",
       "Rococo (Grenada Chocolate Co.)     1\n",
       "Santome                            1\n",
       "Name: Company, Length: 416, dtype: int64"
      ]
     },
     "execution_count": 19,
     "metadata": {},
     "output_type": "execute_result"
    }
   ],
   "source": [
    "# Look at Broad Bean Origin value counts for binning\n",
    "Company_counts=df_chocolate['Company'].value_counts()\n",
    "Company_counts"
   ]
  },
  {
   "cell_type": "code",
   "execution_count": 20,
   "id": "2a79c3fa",
   "metadata": {},
   "outputs": [
    {
     "data": {
      "text/plain": [
       "3.50    392\n",
       "3.00    341\n",
       "3.25    303\n",
       "2.75    259\n",
       "3.75    210\n",
       "2.50    126\n",
       "4.00     97\n",
       "2.00     32\n",
       "2.25     14\n",
       "1.50     10\n",
       "1.00      4\n",
       "1.75      3\n",
       "5.00      2\n",
       "Name: Rating, dtype: int64"
      ]
     },
     "execution_count": 20,
     "metadata": {},
     "output_type": "execute_result"
    }
   ],
   "source": [
    "Rating_counts=df_chocolate['Rating'].value_counts()\n",
    "Rating_counts"
   ]
  },
  {
   "cell_type": "code",
   "execution_count": 21,
   "id": "5018e5ca",
   "metadata": {},
   "outputs": [
    {
     "data": {
      "text/plain": [
       "<AxesSubplot:ylabel='Density'>"
      ]
     },
     "execution_count": 21,
     "metadata": {},
     "output_type": "execute_result"
    },
    {
     "data": {
      "image/png": "[encoded data removed]",
      "text/plain": [
       "<Figure size 432x288 with 1 Axes>"
      ]
     },
     "metadata": {
      "needs_background": "light"
     },
     "output_type": "display_data"
    }
   ],
   "source": [
    "# Visualize the value counts of Broad Bean Origin\n",
    "Rating_counts.plot.density()"
   ]
  },
  {
   "cell_type": "code",
   "execution_count": 22,
   "id": "5cb4b9d6",
   "metadata": {},
   "outputs": [
    {
     "data": {
      "text/plain": [
       "3.5      392\n",
       "3.0      341\n",
       "3.25     303\n",
       "2.75     259\n",
       "3.75     210\n",
       "2.5      126\n",
       "4.0       97\n",
       "Other     65\n",
       "Name: Rating, dtype: int64"
      ]
     },
     "execution_count": 22,
     "metadata": {},
     "output_type": "execute_result"
    }
   ],
   "source": [
    "# Determine which values to replace if counts are less than ...?\n",
    "replace_Rating= list(Rating_counts[Rating_counts < 90].index)\n",
    "\n",
    "# Replace in dataframe\n",
    "for Rat in replace_Rating:\n",
    "    df_chocolate.Rating = df_chocolate.Rating.replace(Rat,\"Other\")\n",
    "    \n",
    "# Check to make sure binning was successful\n",
    "df_chocolate.Rating.value_counts()"
   ]
  },
  {
   "cell_type": "code",
   "execution_count": 23,
   "id": "45bc097f",
   "metadata": {},
   "outputs": [
    {
     "data": {
      "text/plain": [
       "0.70    671\n",
       "0.75    222\n",
       "0.72    188\n",
       "0.65     78\n",
       "0.80     72\n",
       "0.74     50\n",
       "0.68     47\n",
       "0.60     43\n",
       "0.73     40\n",
       "0.85     36\n",
       "0.64     34\n",
       "0.77     33\n",
       "0.71     31\n",
       "0.67     27\n",
       "0.66     23\n",
       "0.76     23\n",
       "1.00     20\n",
       "0.78     17\n",
       "0.82     17\n",
       "0.55     16\n",
       "0.62     14\n",
       "0.63     12\n",
       "0.69     10\n",
       "0.88      8\n",
       "0.61      8\n",
       "0.58      8\n",
       "0.90      8\n",
       "0.81      5\n",
       "7.25      4\n",
       "0.83      4\n",
       "0.84      4\n",
       "0.91      3\n",
       "0.99      2\n",
       "0.89      2\n",
       "7.35      2\n",
       "0.56      2\n",
       "0.87      1\n",
       "0.46      1\n",
       "6.05      1\n",
       "0.53      1\n",
       "0.50      1\n",
       "0.86      1\n",
       "0.57      1\n",
       "0.42      1\n",
       "0.79      1\n",
       "Name: Cocoa_Percent, dtype: int64"
      ]
     },
     "execution_count": 23,
     "metadata": {},
     "output_type": "execute_result"
    }
   ],
   "source": [
    "Cocoa_Percentage_counts=df_chocolate['Cocoa_Percent'].value_counts()\n",
    "Cocoa_Percentage_counts"
   ]
  },
  {
   "cell_type": "code",
   "execution_count": 24,
   "id": "e732ee9c",
   "metadata": {},
   "outputs": [
    {
     "data": {
      "text/plain": [
       "2015    285\n",
       "2014    247\n",
       "2016    219\n",
       "2012    194\n",
       "2013    184\n",
       "2011    164\n",
       "2009    123\n",
       "2010    111\n",
       "2008     93\n",
       "2007     77\n",
       "2006     72\n",
       "2017     24\n",
       "Name: Review_Date, dtype: int64"
      ]
     },
     "execution_count": 24,
     "metadata": {},
     "output_type": "execute_result"
    }
   ],
   "source": [
    "Review_Date_counts=df_chocolate['Review_Date'].value_counts()\n",
    "Review_Date_counts"
   ]
  },
  {
   "cell_type": "code",
   "execution_count": 25,
   "id": "f9968ba4",
   "metadata": {},
   "outputs": [
    {
     "data": {
      "text/plain": [
       "<AxesSubplot:ylabel='Density'>"
      ]
     },
     "execution_count": 25,
     "metadata": {},
     "output_type": "execute_result"
    },
    {
     "data": {
      "image/png": "[encoded data removed]",
      "text/plain": [
       "<Figure size 432x288 with 1 Axes>"
      ]
     },
     "metadata": {
      "needs_background": "light"
     },
     "output_type": "display_data"
    }
   ],
   "source": [
    "# Visualize the value counts of Broad Bean Origin\n",
    "Review_Date_counts.plot.density()"
   ]
  },
  {
   "cell_type": "code",
   "execution_count": 26,
   "id": "a1149465",
   "metadata": {},
   "outputs": [
    {
     "data": {
      "text/plain": [
       "2015     285\n",
       "Other    266\n",
       "2014     247\n",
       "2016     219\n",
       "2012     194\n",
       "2013     184\n",
       "2011     164\n",
       "2009     123\n",
       "2010     111\n",
       "Name: Review_Date, dtype: int64"
      ]
     },
     "execution_count": 26,
     "metadata": {},
     "output_type": "execute_result"
    }
   ],
   "source": [
    "# Determine which values to replace if counts are less than ...?\n",
    "replace_Review_Date= list(Review_Date_counts[Review_Date_counts < 100].index)\n",
    "\n",
    "# Replace in dataframe\n",
    "for RD in replace_Review_Date:\n",
    "    df_chocolate['Review_Date'] = df_chocolate['Review_Date'].replace(RD,\"Other\")\n",
    "    \n",
    "# Check to make sure binning was successful\n",
    "df_chocolate['Review_Date'].value_counts()"
   ]
  },
  {
   "cell_type": "code",
   "execution_count": 27,
   "id": "30f3f2e1",
   "metadata": {},
   "outputs": [
    {
     "data": {
      "text/plain": [
       "array(['A. Morin', 'AMMA', 'Acalli', 'Adi', 'Aequare (Gianduja)',\n",
       "       'Ah Cacao', \"Akesson's (Pralus)\", 'Alain Ducasse', 'Alexandre',\n",
       "       'Altus aka Cao Artisan', 'Amano', 'Amatller (Simon Coll)',\n",
       "       'Amazona', 'Ambrosia', 'Amedei', 'Anahata', 'Animas', 'Ara',\n",
       "       'Arete', 'Artisan du Chocolat', 'Artisan du Chocolat (Casa Luker)',\n",
       "       'Askinosie', 'Bahen & Co.', 'Bakau', 'Bar Au Chocolat',\n",
       "       \"Baravelli's\", 'Batch', 'Beau Cacao', 'Beehive', 'Belcolade',\n",
       "       'Bellflower', 'Belyzium', 'Benoit Nihant', 'Bernachon',\n",
       "       'Beschle (Felchlin)', 'Bisou', 'Bittersweet Origins',\n",
       "       'Black Mountain', 'Black River (A. Morin)', 'Blanxart',\n",
       "       'Blue Bandana', 'Bonnat', 'Bouga Cacao (Tulicorp)', 'Bowler Man',\n",
       "       \"Brasstown aka It's Chocolate\", 'Brazen', 'Breeze Mill', 'Bright',\n",
       "       'Britarev', 'Bronx Grrl Chocolate', 'Burnt Fork Bend', 'C-Amaro',\n",
       "       'Cacao Arabuco', 'Cacao Atlanta', 'Cacao Barry', 'Cacao Hunters',\n",
       "       'Cacao Market', 'Cacao Prieto', 'Cacao Sampaka', 'Cacao Store',\n",
       "       'Cacao de Origen', 'Cacao de Origin',\n",
       "       'Cacaosuyo (Theobroma Inversiones)', 'Cacaoyere (Ecuatoriana)',\n",
       "       'Callebaut', 'Cao', 'Caoni (Tulicorp)', 'Captain Pembleton',\n",
       "       'Caribeans', 'Carlotta Chocolat', 'Castronovo', 'Cello', 'Cemoi',\n",
       "       'Chaleur B', 'Charm School', 'Chchukululu (Tulicorp)',\n",
       "       'Chequessett', 'Chloe Chocolat', 'Chocablog', 'Choco Del Sol',\n",
       "       'Choco Dong', 'ChocoReko', \"Chocola'te\", 'Chocolarder',\n",
       "       'Chocolate Alchemist-Philly', 'Chocolate Con Amor',\n",
       "       'Chocolate Conspiracy', 'Chocolate Makers', 'Chocolate Tree, The',\n",
       "       'Chocolats Privilege', 'Chocosol', 'Chocovic', 'Chocovivo',\n",
       "       'Choklat', 'Chokolat Elot (Girard)', 'Choocsol',\n",
       "       'Christopher Morel (Felchlin)', 'Chuao Chocolatier',\n",
       "       'Chuao Chocolatier (Pralus)', 'Claudio Corallo', 'Cloudforest',\n",
       "       'Coleman & Davis', 'Compania de Chocolate (Salgado)', 'Condor',\n",
       "       'Confluence', 'Coppeneur', \"Cote d' Or (Kraft)\", 'Cravve', 'Creo',\n",
       "       'DAR', 'Daintree', 'Dalloway', 'Damson', 'Dandelion', 'Danta',\n",
       "       'Dark Forest', 'Davis', 'De Mendes', 'De Villiers', 'DeVries',\n",
       "       'Dean and Deluca (Belcolade)',\n",
       "       'Debauve & Gallais (Michel Cluizel)', 'Desbarres', 'Dick Taylor',\n",
       "       'Doble & Bignall', 'Dole (Guittard)', 'Dolfin (Belcolade)',\n",
       "       'Domori', 'Dormouse', \"Duffy's\", 'Dulcinea', 'Durand', 'Durci',\n",
       "       'ENNA', 'East Van Roasters', 'Eau de Rose', 'Eclat (Felchlin)',\n",
       "       'Edelmond', 'El Ceibo', 'El Rey', 'Emerald Estate', \"Emily's\",\n",
       "       'Enric Rovira (Claudio Corallo)', 'Erithaj (A. Morin)', 'Escazu',\n",
       "       \"Ethel's Artisan (Mars)\", 'Ethereal', 'Fearless (AMMA)',\n",
       "       'Feitoria Cacao', 'Felchlin', 'Finca', 'Forever Cacao',\n",
       "       'Forteza (Cortes)', 'Fossa', 'Franceschi', 'Frederic Blondeel',\n",
       "       'French Broad', 'Fresco', 'Friis Holm', 'Friis Holm (Bonnat)',\n",
       "       'Fruition', 'Garden Island', 'Georgia Ramon', 'Glennmade',\n",
       "       'Goodnow Farms', 'Grand Place', \"Green & Black's (ICAM)\",\n",
       "       'Green Bean to Bar', 'Grenada Chocolate Co.', 'Guido Castagna',\n",
       "       'Guittard', 'Habitual', 'Hachez', 'Hacienda El Castillo', 'Haigh',\n",
       "       'Harper Macaw', 'Heilemann',\n",
       "       'Heirloom Cacao Preservation (Brasstown)',\n",
       "       'Heirloom Cacao Preservation (Fruition)',\n",
       "       'Heirloom Cacao Preservation (Guittard)',\n",
       "       'Heirloom Cacao Preservation (Manoa)',\n",
       "       'Heirloom Cacao Preservation (Millcreek)',\n",
       "       'Heirloom Cacao Preservation (Mindo)',\n",
       "       'Heirloom Cacao Preservation (Zokoko)', 'Hogarth',\n",
       "       'Hoja Verde (Tulicorp)', 'Holy Cacao', 'Honest', 'Hotel Chocolat',\n",
       "       'Hotel Chocolat (Coppeneur)', 'Hummingbird', 'Idilio (Felchlin)',\n",
       "       'Indah', 'Indaphoria', 'Indi', 'Isidro', 'Izard', 'Jacque Torres',\n",
       "       'Jordis', 'Just Good Chocolate', \"K'ul\", 'Kah Kow', 'Kakao',\n",
       "       'Kallari (Ecuatoriana)', 'Kaoka (Cemoi)', 'Kerchner',\n",
       "       \"Ki' Xocolatl\", 'Kiskadee', 'Kto', 'Kyya', \"L'Amourette\",\n",
       "       'L.A. Burdick (Felchlin)', 'La Chocolaterie Nanairo',\n",
       "       'La Maison du Chocolat (Valrhona)', 'La Oroquidea',\n",
       "       'La Pepa de Oro', 'Laia aka Chat-Noir', 'Lajedo do Ouro',\n",
       "       'Lake Champlain (Callebaut)', 'Letterpress', 'Levy', 'Lilla',\n",
       "       'Lillie Belle', 'Lindt & Sprungli', 'Loiza', 'Lonohana',\n",
       "       'Love Bar', 'Luker', 'Machu Picchu Trading Co.',\n",
       "       'Madecasse (Cinagra)', 'Madre', 'Maglio', 'Majani',\n",
       "       'Malagasy (Chocolaterie Robert)', 'Malagos',\n",
       "       'Malie Kai (Guittard)', 'Malmo', 'Mana', 'Manifesto Cacao',\n",
       "       'Manoa', 'Manufaktura Czekolady', 'Map Chocolate', 'Marana',\n",
       "       \"Marigold's Finest\", 'Marou', 'Mars', 'Marsatta', 'Martin Mayer',\n",
       "       'Mast Brothers', 'Matale', 'Maverick', 'Mayacama', 'Meadowlands',\n",
       "       'Menakao (aka Cinagra)', 'Mesocacao', 'Metiisto', 'Metropolitan',\n",
       "       'Michel Cluizel', 'Middlebury', 'Millcreek Cacao Roasters',\n",
       "       'Mindo', 'Minimal', 'Mission', 'Mita', 'Moho', 'Molucca',\n",
       "       'Momotombo', 'Monarque', 'Monsieur Truffe', 'Montecristi',\n",
       "       'Muchomas (Mesocacao)', 'Mutari', 'Nahua', 'Naive', 'Nanea',\n",
       "       'Nathan Miller', 'Na�ve', 'Neuhaus (Callebaut)', 'Nibble',\n",
       "       'Night Owl', 'Noble Bean aka Jerjobo', \"Noir d' Ebine\",\n",
       "       'Nova Monda', 'Nuance', 'Nugali', 'Oakland Chocolate Co.', 'Obolo',\n",
       "       'Ocelot', 'Ocho', 'Ohiyo', 'Oialla by Bojessen (Malmo)',\n",
       "       'Olive and Sinclair', 'Olivia', 'Omanhene', 'Omnom',\n",
       "       'Original Beans (Felchlin)', 'Original Hawaiin Chocolate Factory',\n",
       "       'Orquidea', 'Pacari', 'Palette de Bine', 'Pangea', 'Park 75',\n",
       "       'Parliament', 'Pascha', 'Patric', 'Paul Young', 'Peppalo',\n",
       "       'Pierre Marcolini', 'Pinellas', 'Pitch Dark',\n",
       "       'Pomm (aka Dead Dog)', 'Potomac', 'Pralus', 'Pump Street Bakery',\n",
       "       'Pura Delizia', 'Q Chocolate', 'Quetzalli (Wolter)', 'Raaka',\n",
       "       'Rain Republic', 'Rancho San Jacinto', 'Ranger', 'Raoul Boulanger',\n",
       "       'Raw Cocoa', 'Republica del Cacao (aka Confecta)', 'Ritual',\n",
       "       'Roasting Masters', 'Robert (aka Chocolaterie Robert)',\n",
       "       'Rococo (Grenada Chocolate Co.)', 'Rogue', 'Rozsavolgyi',\n",
       "       'S.A.I.D.', 'SRSLY', 'Sacred', 'Salgado',\n",
       "       'Santander (Compania Nacional)', 'Santome', 'Scharffen Berger',\n",
       "       'Seaforth', 'Shark Mountain', \"Shark's\", 'Shattel', 'Shattell',\n",
       "       'Sibu', 'Sibu Sura', 'Silvio Bessone', 'Sirene', 'Sjolinds',\n",
       "       'Smooth Chocolator, The', 'Snake & Butterfly', 'Sol Cacao',\n",
       "       'Solkiki', 'Solomons Gold', 'Solstice', 'Soma', 'Somerville',\n",
       "       'Soul', 'Spagnvola', 'Spencer', 'Sprungli (Felchlin)',\n",
       "       'StRita Supreme', 'Starchild', 'Stella (aka Bernrain)',\n",
       "       'Stone Grindz', 'Sublime Origins', 'Summerbird',\n",
       "       'Suruca Chocolate', 'Svenska Kakaobolaget', 'Szanto Tibor', 'TCHO',\n",
       "       'Tabal', 'Tablette (aka Vanillabeans)', 'Tan Ban Skrati', 'Taza',\n",
       "       'Tejas', 'Terroir', 'The Barn', 'Theo', 'Theobroma',\n",
       "       'Timo A. Meyer', \"To'ak (Ecuatoriana)\", 'Tobago Estate (Pralus)',\n",
       "       'Tocoti', 'Treehouse', 'Tsara (Cinagra)', 'Two Ravens',\n",
       "       'Un Dimanche A Paris', 'Undone', 'Upchurch', 'Urzi', 'Valrhona',\n",
       "       'Vanleer (Barry Callebaut)', 'Vao Vao (Chocolaterie Robert)',\n",
       "       'Vicuna', 'Videri', 'Vietcacao (A. Morin)', 'Vintage Plantations',\n",
       "       'Vintage Plantations (Tulicorp)', 'Violet Sky', 'Vivra',\n",
       "       'Wellington Chocolate Factory', 'Whittakers', \"Wilkie's Organic\",\n",
       "       \"Willie's Cacao\", 'Wm', 'Woodblock', 'Xocolat', 'Xocolla', \"Zak's\",\n",
       "       'Zart Pralinen', 'Zokoko', 'Zotter', 'hello cocoa', 'hexx',\n",
       "       'iQ Chocolate', 'organicfair', 'twenty-four blackbirds'],\n",
       "      dtype=object)"
      ]
     },
     "execution_count": 27,
     "metadata": {},
     "output_type": "execute_result"
    }
   ],
   "source": [
    "df_chocolate['Company'].sort_values().unique()"
   ]
  },
  {
   "cell_type": "code",
   "execution_count": 28,
   "id": "b0aad141",
   "metadata": {},
   "outputs": [
    {
     "data": {
      "text/plain": [
       "array(['Amsterdam', 'Argentina', 'Australia', 'Austria', 'Belgium',\n",
       "       'Bolivia', 'Brazil', 'Canada', 'Chile', 'Colombia', 'Costa Rica',\n",
       "       'Czech Republic', 'Denmark', 'Domincan Republic', 'Ecuador',\n",
       "       'Eucador', 'Fiji', 'Finland', 'France', 'Germany', 'Ghana',\n",
       "       'Grenada', 'Guatemala', 'Honduras', 'Hungary', 'Iceland', 'India',\n",
       "       'Ireland', 'Israel', 'Italy', 'Japan', 'Lithuania', 'Madagascar',\n",
       "       'Martinique', 'Mexico', 'Netherlands', 'New Zealand', 'Niacragua',\n",
       "       'Nicaragua', 'Peru', 'Philippines', 'Poland', 'Portugal',\n",
       "       'Puerto Rico', 'Russia', 'Sao Tome', 'Scotland', 'Singapore',\n",
       "       'South Africa', 'South Korea', 'Spain', 'St. Lucia', 'Suriname',\n",
       "       'Sweden', 'Switzerland', 'U.K.', 'U.S.A.', 'Venezuela', 'Vietnam',\n",
       "       'Wales'], dtype=object)"
      ]
     },
     "execution_count": 28,
     "metadata": {},
     "output_type": "execute_result"
    }
   ],
   "source": [
    "#Check spelling for Company Location values.\n",
    "df_chocolate['Company_Location'].sort_values().unique()"
   ]
  },
  {
   "cell_type": "code",
   "execution_count": 29,
   "id": "4ab2cb6b",
   "metadata": {},
   "outputs": [
    {
     "data": {
      "text/plain": [
       "array(['Argentina', 'Australia', 'Austria', 'Belgium', 'Bolivia',\n",
       "       'Brazil', 'Canada', 'Chile', 'Colombia', 'Costa Rica',\n",
       "       'Czech Republic', 'Denmark', 'Dominican Republic', 'Ecuador',\n",
       "       'Fiji', 'Finland', 'France', 'Germany', 'Ghana', 'Grenada',\n",
       "       'Guatemala', 'Honduras', 'Hungary', 'Iceland', 'India', 'Ireland',\n",
       "       'Israel', 'Italy', 'Japan', 'Lithuania', 'Madagascar',\n",
       "       'Martinique', 'Mexico', 'Netherlands', 'New Zealand', 'Nicaragua',\n",
       "       'Peru', 'Philippines', 'Poland', 'Portugal', 'Puerto Rico',\n",
       "       'Russia', 'Sao Tome', 'Scotland', 'Singapore', 'South Africa',\n",
       "       'South Korea', 'Spain', 'St. Lucia', 'Suriname', 'Sweden',\n",
       "       'Switzerland', 'U.K.', 'U.S.A.', 'Venezuela', 'Vietnam', 'Wales'],\n",
       "      dtype=object)"
      ]
     },
     "execution_count": 29,
     "metadata": {},
     "output_type": "execute_result"
    }
   ],
   "source": [
    "df_chocolate['Company_Location'] = df_chocolate['Company_Location'].str.replace('Domincan Republic', 'Dominican Republic')\\\n",
    ".str.replace('Eucador', 'Ecuador')\\\n",
    ".str.replace('Amsterdam','Netherlands')\\\n",
    ".str.replace('Niacragua', 'Nicaragua')\\\n",
    "\n",
    "\n",
    "df_chocolate['Company_Location'].sort_values().unique()"
   ]
  },
  {
   "cell_type": "code",
   "execution_count": 30,
   "id": "8bebdaab",
   "metadata": {},
   "outputs": [],
   "source": [
    "\n",
    "\n",
    "## Text preparation (correction) function\n",
    "def txt_prep(text):\n",
    "    replacements = [\n",
    "        ['-', ', '], ['/ ', ', '], ['/', ', '], ['\\(', ', '], [' and', ', '], [' &', ', '], ['\\)', ''],\n",
    "        ['Dom Rep|DR|Domin Rep|Dominican Rep,|Domincan Republic', 'Dominican Republic'],\n",
    "        ['Mad,|Mad$ ,|Madagascar,Java,Papua New Guinea', 'Madagascar, '],\n",
    "        ['PNG,|PNG$', 'Papua New Guinea,'],\n",
    "        ['Guat,|Guat$', 'Guatemala, '],\n",
    "        ['Ven,|Ven$|Venez,|Venez$', 'Venezuela, '],\n",
    "        ['Ecu,|Ecu$|Ecuad,|Ecuad$, |Ecuador,Madagascar,Papua New Guinea', 'Ecuador, '],\n",
    "        ['Nic,|Nic$', 'Nicaragua, '],\n",
    "        ['Cost Rica', 'Costa Rica'],\n",
    "        ['Mex,|Mex$', 'Mexico, '],\n",
    "        ['Jam,|Jam$', 'Jamaica, '],\n",
    "        ['Haw,|Haw$', 'Hawaii, '],\n",
    "        ['Gre,|Gre$', 'Grenada, '],\n",
    "        ['Tri,|Tri$', 'Trinidad, '],\n",
    "        ['C Am', 'Central America'],\n",
    "        ['S America', 'South America'],\n",
    "        [', $', ''], [',  ', ', '], [', ,', ', '],[',\\s+', ','],\n",
    "        [' Bali', ',Bali']\n",
    "    ]\n",
    "    for i, j in replacements:\n",
    "        text = re.sub(i, j, str(text))\n",
    "    return text\n",
    "\n"
   ]
  },
  {
   "cell_type": "code",
   "execution_count": 31,
   "id": "81401168",
   "metadata": {},
   "outputs": [
    {
     "data": {
      "text/html": [
       "<div>\n",
       "<style scoped>\n",
       "    .dataframe tbody tr th:only-of-type {\n",
       "        vertical-align: middle;\n",
       "    }\n",
       "\n",
       "    .dataframe tbody tr th {\n",
       "        vertical-align: top;\n",
       "    }\n",
       "\n",
       "    .dataframe thead th {\n",
       "        text-align: right;\n",
       "    }\n",
       "</style>\n",
       "<table border=\"1\" class=\"dataframe\">\n",
       "  <thead>\n",
       "    <tr style=\"text-align: right;\">\n",
       "      <th></th>\n",
       "      <th>Review_Date</th>\n",
       "      <th>Cocoa_Percent</th>\n",
       "      <th>Company_Location</th>\n",
       "      <th>Rating</th>\n",
       "      <th>Bean_Type</th>\n",
       "      <th>Broad_Bean_Origin</th>\n",
       "    </tr>\n",
       "  </thead>\n",
       "  <tbody>\n",
       "    <tr>\n",
       "      <th>0</th>\n",
       "      <td>2016</td>\n",
       "      <td>0.63</td>\n",
       "      <td>France</td>\n",
       "      <td>3.75</td>\n",
       "      <td></td>\n",
       "      <td>Sao Tome</td>\n",
       "    </tr>\n",
       "    <tr>\n",
       "      <th>1</th>\n",
       "      <td>2015</td>\n",
       "      <td>0.70</td>\n",
       "      <td>France</td>\n",
       "      <td>2.75</td>\n",
       "      <td></td>\n",
       "      <td>Togo</td>\n",
       "    </tr>\n",
       "    <tr>\n",
       "      <th>2</th>\n",
       "      <td>2015</td>\n",
       "      <td>0.70</td>\n",
       "      <td>France</td>\n",
       "      <td>3.0</td>\n",
       "      <td></td>\n",
       "      <td>Togo</td>\n",
       "    </tr>\n",
       "    <tr>\n",
       "      <th>3</th>\n",
       "      <td>2015</td>\n",
       "      <td>0.70</td>\n",
       "      <td>France</td>\n",
       "      <td>3.5</td>\n",
       "      <td></td>\n",
       "      <td>Togo</td>\n",
       "    </tr>\n",
       "    <tr>\n",
       "      <th>4</th>\n",
       "      <td>2015</td>\n",
       "      <td>0.70</td>\n",
       "      <td>France</td>\n",
       "      <td>3.5</td>\n",
       "      <td></td>\n",
       "      <td>Peru</td>\n",
       "    </tr>\n",
       "  </tbody>\n",
       "</table>\n",
       "</div>"
      ],
      "text/plain": [
       "  Review_Date  Cocoa_Percent Company_Location Rating Bean_Type  \\\n",
       "0        2016           0.63           France   3.75             \n",
       "1        2015           0.70           France   2.75             \n",
       "2        2015           0.70           France    3.0             \n",
       "3        2015           0.70           France    3.5             \n",
       "4        2015           0.70           France    3.5             \n",
       "\n",
       "  Broad_Bean_Origin  \n",
       "0          Sao Tome  \n",
       "1              Togo  \n",
       "2              Togo  \n",
       "3              Togo  \n",
       "4              Peru  "
      ]
     },
     "execution_count": 31,
     "metadata": {},
     "output_type": "execute_result"
    }
   ],
   "source": [
    "# Drop the non-beneficial ID columns, 'EIN' and 'NAME'.\n",
    "df_chocolate= df_chocolate.drop(columns=[\"Company\", \"REF\",\"Bean_Origin_or_Bar_Name\" ], axis=1)\n",
    "df_chocolate.head()"
   ]
  },
  {
   "cell_type": "code",
   "execution_count": 32,
   "id": "0d69117a",
   "metadata": {},
   "outputs": [],
   "source": [
    "def to_string(value):\n",
    "    other = f\"_{value}_\"\n",
    "    return other"
   ]
  },
  {
   "cell_type": "code",
   "execution_count": 33,
   "id": "76eb3b45",
   "metadata": {},
   "outputs": [],
   "source": [
    "def reduce_count_vals(df, colname, threshold):\n",
    "    counts = df[colname].value_counts()\n",
    "    replace_list = list(counts[counts < threshold].index)\n",
    "\n",
    "    # Replace in dataframe\n",
    "    for item in replace_list:\n",
    "       df[colname] = df[colname].replace(item,\"Other\")"
   ]
  },
  {
   "cell_type": "code",
   "execution_count": 34,
   "id": "f6b34ea4",
   "metadata": {},
   "outputs": [],
   "source": [
    "df_chocolate['Review_Date']= df_chocolate['Review_Date'].apply(to_string)\n",
    "reduce_count_vals(df_chocolate, 'Review_Date', 100)"
   ]
  },
  {
   "cell_type": "code",
   "execution_count": 35,
   "id": "57cc3ac3",
   "metadata": {},
   "outputs": [
    {
     "data": {
      "text/plain": [
       "Review_Date           object\n",
       "Cocoa_Percent        float64\n",
       "Company_Location      object\n",
       "Rating                object\n",
       "Bean_Type             object\n",
       "Broad_Bean_Origin     object\n",
       "dtype: object"
      ]
     },
     "execution_count": 35,
     "metadata": {},
     "output_type": "execute_result"
    }
   ],
   "source": [
    "df_chocolate.dtypes"
   ]
  },
  {
   "cell_type": "code",
   "execution_count": 36,
   "id": "16b99fd7",
   "metadata": {},
   "outputs": [
    {
     "data": {
      "text/plain": [
       "['Review_Date', 'Company_Location', 'Rating', 'Bean_Type', 'Broad_Bean_Origin']"
      ]
     },
     "execution_count": 36,
     "metadata": {},
     "output_type": "execute_result"
    }
   ],
   "source": [
    "# Generate our categorical variable lists\n",
    "chocolate_cat = df_chocolate.dtypes[df_chocolate.dtypes == 'object'].index.tolist()\n",
    "chocolate_cat"
   ]
  },
  {
   "cell_type": "code",
   "execution_count": 37,
   "id": "bc763aa3",
   "metadata": {},
   "outputs": [
    {
     "data": {
      "text/plain": [
       "Review_Date          object\n",
       "Company_Location     object\n",
       "Rating               object\n",
       "Bean_Type            object\n",
       "Broad_Bean_Origin    object\n",
       "dtype: object"
      ]
     },
     "execution_count": 37,
     "metadata": {},
     "output_type": "execute_result"
    }
   ],
   "source": [
    "df_chocolate[chocolate_cat].dtypes"
   ]
  },
  {
   "cell_type": "code",
   "execution_count": 38,
   "id": "decf3512",
   "metadata": {},
   "outputs": [
    {
     "ename": "TypeError",
     "evalue": "Encoders require their input to be uniformly strings or numbers. Got ['float', 'str']",
     "output_type": "error",
     "traceback": [
      "\u001b[1;31m---------------------------------------------------------------------------\u001b[0m",
      "\u001b[1;31mTypeError\u001b[0m                                 Traceback (most recent call last)",
      "\u001b[1;32m~\\anaconda3\\envs\\mlenv\\lib\\site-packages\\sklearn\\utils\\_encode.py\u001b[0m in \u001b[0;36m_unique_python\u001b[1;34m(values, return_inverse)\u001b[0m\n\u001b[0;32m    131\u001b[0m \u001b[1;33m\u001b[0m\u001b[0m\n\u001b[1;32m--> 132\u001b[1;33m         \u001b[0muniques\u001b[0m \u001b[1;33m=\u001b[0m \u001b[0msorted\u001b[0m\u001b[1;33m(\u001b[0m\u001b[0muniques_set\u001b[0m\u001b[1;33m)\u001b[0m\u001b[1;33m\u001b[0m\u001b[1;33m\u001b[0m\u001b[0m\n\u001b[0m\u001b[0;32m    133\u001b[0m         \u001b[0muniques\u001b[0m\u001b[1;33m.\u001b[0m\u001b[0mextend\u001b[0m\u001b[1;33m(\u001b[0m\u001b[0mmissing_values\u001b[0m\u001b[1;33m.\u001b[0m\u001b[0mto_list\u001b[0m\u001b[1;33m(\u001b[0m\u001b[1;33m)\u001b[0m\u001b[1;33m)\u001b[0m\u001b[1;33m\u001b[0m\u001b[1;33m\u001b[0m\u001b[0m\n",
      "\u001b[1;31mTypeError\u001b[0m: '<' not supported between instances of 'str' and 'float'",
      "\nDuring handling of the above exception, another exception occurred:\n",
      "\u001b[1;31mTypeError\u001b[0m                                 Traceback (most recent call last)",
      "\u001b[1;32m<ipython-input-38-1fa2a2ed3dc6>\u001b[0m in \u001b[0;36m<module>\u001b[1;34m\u001b[0m\n\u001b[0;32m      3\u001b[0m \u001b[1;33m\u001b[0m\u001b[0m\n\u001b[0;32m      4\u001b[0m \u001b[1;31m# Fit and transform the OneHotEncoder using the categorical variable list\u001b[0m\u001b[1;33m\u001b[0m\u001b[1;33m\u001b[0m\u001b[1;33m\u001b[0m\u001b[0m\n\u001b[1;32m----> 5\u001b[1;33m \u001b[0mencode_df\u001b[0m \u001b[1;33m=\u001b[0m \u001b[0mpd\u001b[0m\u001b[1;33m.\u001b[0m\u001b[0mDataFrame\u001b[0m\u001b[1;33m(\u001b[0m\u001b[0menc\u001b[0m\u001b[1;33m.\u001b[0m\u001b[0mfit_transform\u001b[0m\u001b[1;33m(\u001b[0m\u001b[0mdf_chocolate\u001b[0m\u001b[1;33m[\u001b[0m\u001b[0mchocolate_cat\u001b[0m\u001b[1;33m]\u001b[0m\u001b[1;33m)\u001b[0m\u001b[1;33m)\u001b[0m\u001b[1;33m\u001b[0m\u001b[1;33m\u001b[0m\u001b[0m\n\u001b[0m\u001b[0;32m      6\u001b[0m \u001b[1;33m\u001b[0m\u001b[0m\n\u001b[0;32m      7\u001b[0m \u001b[1;31m# Add the encoded variable names to the dataframe\u001b[0m\u001b[1;33m\u001b[0m\u001b[1;33m\u001b[0m\u001b[1;33m\u001b[0m\u001b[0m\n",
      "\u001b[1;32m~\\anaconda3\\envs\\mlenv\\lib\\site-packages\\sklearn\\preprocessing\\_encoders.py\u001b[0m in \u001b[0;36mfit_transform\u001b[1;34m(self, X, y)\u001b[0m\n\u001b[0;32m    441\u001b[0m         \"\"\"\n\u001b[0;32m    442\u001b[0m         \u001b[0mself\u001b[0m\u001b[1;33m.\u001b[0m\u001b[0m_validate_keywords\u001b[0m\u001b[1;33m(\u001b[0m\u001b[1;33m)\u001b[0m\u001b[1;33m\u001b[0m\u001b[1;33m\u001b[0m\u001b[0m\n\u001b[1;32m--> 443\u001b[1;33m         \u001b[1;32mreturn\u001b[0m \u001b[0msuper\u001b[0m\u001b[1;33m(\u001b[0m\u001b[1;33m)\u001b[0m\u001b[1;33m.\u001b[0m\u001b[0mfit_transform\u001b[0m\u001b[1;33m(\u001b[0m\u001b[0mX\u001b[0m\u001b[1;33m,\u001b[0m \u001b[0my\u001b[0m\u001b[1;33m)\u001b[0m\u001b[1;33m\u001b[0m\u001b[1;33m\u001b[0m\u001b[0m\n\u001b[0m\u001b[0;32m    444\u001b[0m \u001b[1;33m\u001b[0m\u001b[0m\n\u001b[0;32m    445\u001b[0m     \u001b[1;32mdef\u001b[0m \u001b[0mtransform\u001b[0m\u001b[1;33m(\u001b[0m\u001b[0mself\u001b[0m\u001b[1;33m,\u001b[0m \u001b[0mX\u001b[0m\u001b[1;33m)\u001b[0m\u001b[1;33m:\u001b[0m\u001b[1;33m\u001b[0m\u001b[1;33m\u001b[0m\u001b[0m\n",
      "\u001b[1;32m~\\anaconda3\\envs\\mlenv\\lib\\site-packages\\sklearn\\base.py\u001b[0m in \u001b[0;36mfit_transform\u001b[1;34m(self, X, y, **fit_params)\u001b[0m\n\u001b[0;32m    697\u001b[0m         \u001b[1;32mif\u001b[0m \u001b[0my\u001b[0m \u001b[1;32mis\u001b[0m \u001b[1;32mNone\u001b[0m\u001b[1;33m:\u001b[0m\u001b[1;33m\u001b[0m\u001b[1;33m\u001b[0m\u001b[0m\n\u001b[0;32m    698\u001b[0m             \u001b[1;31m# fit method of arity 1 (unsupervised transformation)\u001b[0m\u001b[1;33m\u001b[0m\u001b[1;33m\u001b[0m\u001b[1;33m\u001b[0m\u001b[0m\n\u001b[1;32m--> 699\u001b[1;33m             \u001b[1;32mreturn\u001b[0m \u001b[0mself\u001b[0m\u001b[1;33m.\u001b[0m\u001b[0mfit\u001b[0m\u001b[1;33m(\u001b[0m\u001b[0mX\u001b[0m\u001b[1;33m,\u001b[0m \u001b[1;33m**\u001b[0m\u001b[0mfit_params\u001b[0m\u001b[1;33m)\u001b[0m\u001b[1;33m.\u001b[0m\u001b[0mtransform\u001b[0m\u001b[1;33m(\u001b[0m\u001b[0mX\u001b[0m\u001b[1;33m)\u001b[0m\u001b[1;33m\u001b[0m\u001b[1;33m\u001b[0m\u001b[0m\n\u001b[0m\u001b[0;32m    700\u001b[0m         \u001b[1;32melse\u001b[0m\u001b[1;33m:\u001b[0m\u001b[1;33m\u001b[0m\u001b[1;33m\u001b[0m\u001b[0m\n\u001b[0;32m    701\u001b[0m             \u001b[1;31m# fit method of arity 2 (supervised transformation)\u001b[0m\u001b[1;33m\u001b[0m\u001b[1;33m\u001b[0m\u001b[1;33m\u001b[0m\u001b[0m\n",
      "\u001b[1;32m~\\anaconda3\\envs\\mlenv\\lib\\site-packages\\sklearn\\preprocessing\\_encoders.py\u001b[0m in \u001b[0;36mfit\u001b[1;34m(self, X, y)\u001b[0m\n\u001b[0;32m    416\u001b[0m         \u001b[0mself\u001b[0m\u001b[1;33m.\u001b[0m\u001b[0m_validate_keywords\u001b[0m\u001b[1;33m(\u001b[0m\u001b[1;33m)\u001b[0m\u001b[1;33m\u001b[0m\u001b[1;33m\u001b[0m\u001b[0m\n\u001b[0;32m    417\u001b[0m         self._fit(X, handle_unknown=self.handle_unknown,\n\u001b[1;32m--> 418\u001b[1;33m                   force_all_finite='allow-nan')\n\u001b[0m\u001b[0;32m    419\u001b[0m         \u001b[0mself\u001b[0m\u001b[1;33m.\u001b[0m\u001b[0mdrop_idx_\u001b[0m \u001b[1;33m=\u001b[0m \u001b[0mself\u001b[0m\u001b[1;33m.\u001b[0m\u001b[0m_compute_drop_idx\u001b[0m\u001b[1;33m(\u001b[0m\u001b[1;33m)\u001b[0m\u001b[1;33m\u001b[0m\u001b[1;33m\u001b[0m\u001b[0m\n\u001b[0;32m    420\u001b[0m         \u001b[1;32mreturn\u001b[0m \u001b[0mself\u001b[0m\u001b[1;33m\u001b[0m\u001b[1;33m\u001b[0m\u001b[0m\n",
      "\u001b[1;32m~\\anaconda3\\envs\\mlenv\\lib\\site-packages\\sklearn\\preprocessing\\_encoders.py\u001b[0m in \u001b[0;36m_fit\u001b[1;34m(self, X, handle_unknown, force_all_finite)\u001b[0m\n\u001b[0;32m     88\u001b[0m             \u001b[0mXi\u001b[0m \u001b[1;33m=\u001b[0m \u001b[0mX_list\u001b[0m\u001b[1;33m[\u001b[0m\u001b[0mi\u001b[0m\u001b[1;33m]\u001b[0m\u001b[1;33m\u001b[0m\u001b[1;33m\u001b[0m\u001b[0m\n\u001b[0;32m     89\u001b[0m             \u001b[1;32mif\u001b[0m \u001b[0mself\u001b[0m\u001b[1;33m.\u001b[0m\u001b[0mcategories\u001b[0m \u001b[1;33m==\u001b[0m \u001b[1;34m'auto'\u001b[0m\u001b[1;33m:\u001b[0m\u001b[1;33m\u001b[0m\u001b[1;33m\u001b[0m\u001b[0m\n\u001b[1;32m---> 90\u001b[1;33m                 \u001b[0mcats\u001b[0m \u001b[1;33m=\u001b[0m \u001b[0m_unique\u001b[0m\u001b[1;33m(\u001b[0m\u001b[0mXi\u001b[0m\u001b[1;33m)\u001b[0m\u001b[1;33m\u001b[0m\u001b[1;33m\u001b[0m\u001b[0m\n\u001b[0m\u001b[0;32m     91\u001b[0m             \u001b[1;32melse\u001b[0m\u001b[1;33m:\u001b[0m\u001b[1;33m\u001b[0m\u001b[1;33m\u001b[0m\u001b[0m\n\u001b[0;32m     92\u001b[0m                 \u001b[0mcats\u001b[0m \u001b[1;33m=\u001b[0m \u001b[0mnp\u001b[0m\u001b[1;33m.\u001b[0m\u001b[0marray\u001b[0m\u001b[1;33m(\u001b[0m\u001b[0mself\u001b[0m\u001b[1;33m.\u001b[0m\u001b[0mcategories\u001b[0m\u001b[1;33m[\u001b[0m\u001b[0mi\u001b[0m\u001b[1;33m]\u001b[0m\u001b[1;33m,\u001b[0m \u001b[0mdtype\u001b[0m\u001b[1;33m=\u001b[0m\u001b[0mXi\u001b[0m\u001b[1;33m.\u001b[0m\u001b[0mdtype\u001b[0m\u001b[1;33m)\u001b[0m\u001b[1;33m\u001b[0m\u001b[1;33m\u001b[0m\u001b[0m\n",
      "\u001b[1;32m~\\anaconda3\\envs\\mlenv\\lib\\site-packages\\sklearn\\utils\\_encode.py\u001b[0m in \u001b[0;36m_unique\u001b[1;34m(values, return_inverse)\u001b[0m\n\u001b[0;32m     29\u001b[0m     \"\"\"\n\u001b[0;32m     30\u001b[0m     \u001b[1;32mif\u001b[0m \u001b[0mvalues\u001b[0m\u001b[1;33m.\u001b[0m\u001b[0mdtype\u001b[0m \u001b[1;33m==\u001b[0m \u001b[0mobject\u001b[0m\u001b[1;33m:\u001b[0m\u001b[1;33m\u001b[0m\u001b[1;33m\u001b[0m\u001b[0m\n\u001b[1;32m---> 31\u001b[1;33m         \u001b[1;32mreturn\u001b[0m \u001b[0m_unique_python\u001b[0m\u001b[1;33m(\u001b[0m\u001b[0mvalues\u001b[0m\u001b[1;33m,\u001b[0m \u001b[0mreturn_inverse\u001b[0m\u001b[1;33m=\u001b[0m\u001b[0mreturn_inverse\u001b[0m\u001b[1;33m)\u001b[0m\u001b[1;33m\u001b[0m\u001b[1;33m\u001b[0m\u001b[0m\n\u001b[0m\u001b[0;32m     32\u001b[0m     \u001b[1;31m# numerical\u001b[0m\u001b[1;33m\u001b[0m\u001b[1;33m\u001b[0m\u001b[1;33m\u001b[0m\u001b[0m\n\u001b[0;32m     33\u001b[0m     \u001b[0mout\u001b[0m \u001b[1;33m=\u001b[0m \u001b[0mnp\u001b[0m\u001b[1;33m.\u001b[0m\u001b[0munique\u001b[0m\u001b[1;33m(\u001b[0m\u001b[0mvalues\u001b[0m\u001b[1;33m,\u001b[0m \u001b[0mreturn_inverse\u001b[0m\u001b[1;33m=\u001b[0m\u001b[0mreturn_inverse\u001b[0m\u001b[1;33m)\u001b[0m\u001b[1;33m\u001b[0m\u001b[1;33m\u001b[0m\u001b[0m\n",
      "\u001b[1;32m~\\anaconda3\\envs\\mlenv\\lib\\site-packages\\sklearn\\utils\\_encode.py\u001b[0m in \u001b[0;36m_unique_python\u001b[1;34m(values, return_inverse)\u001b[0m\n\u001b[0;32m    136\u001b[0m         types = sorted(t.__qualname__\n\u001b[0;32m    137\u001b[0m                        for t in set(type(v) for v in values))\n\u001b[1;32m--> 138\u001b[1;33m         raise TypeError(\"Encoders require their input to be uniformly \"\n\u001b[0m\u001b[0;32m    139\u001b[0m                         f\"strings or numbers. Got {types}\")\n\u001b[0;32m    140\u001b[0m \u001b[1;33m\u001b[0m\u001b[0m\n",
      "\u001b[1;31mTypeError\u001b[0m: Encoders require their input to be uniformly strings or numbers. Got ['float', 'str']"
     ]
    }
   ],
   "source": [
    "\n",
    "\n",
    "# Create a OneHotEncoder instance\n",
    "enc = OneHotEncoder(sparse=False)\n",
    "\n",
    "# Fit and transform the OneHotEncoder using the categorical variable list\n",
    "encode_df = pd.DataFrame(enc.fit_transform(df_chocolate[chocolate_cat]))\n",
    "\n",
    "# Add the encoded variable names to the dataframe\n",
    "encode_df.columns = enc.get_feature_names(chocolate_cat)\n",
    "encode_df.head()\n",
    "\n"
   ]
  },
  {
   "cell_type": "code",
   "execution_count": null,
   "id": "869e99da",
   "metadata": {},
   "outputs": [],
   "source": []
  },
  {
   "cell_type": "code",
   "execution_count": null,
   "id": "2fa83eda",
   "metadata": {},
   "outputs": [],
   "source": []
  }
 ],
 "metadata": {
  "kernelspec": {
   "display_name": "mlenv",
   "language": "python",
   "name": "mlenv"
  },
  "language_info": {
   "codemirror_mode": {
    "name": "ipython",
    "version": 3
   },
   "file_extension": ".py",
   "mimetype": "text/x-python",
   "name": "python",
   "nbconvert_exporter": "python",
   "pygments_lexer": "ipython3",
   "version": "3.7.10"
  }
 },
 "nbformat": 4,
 "nbformat_minor": 5
}
