{
 "cells": [
  {
   "cell_type": "code",
   "execution_count": 1,
   "id": "d978ae31",
   "metadata": {},
   "outputs": [],
   "source": [
    "import numpy as np\n",
    "import pandas as pd\n",
    "from pathlib import Path\n",
    "from collections import Counter"
   ]
  },
  {
   "cell_type": "code",
   "execution_count": 2,
   "id": "50fec49d",
   "metadata": {},
   "outputs": [],
   "source": [
    "from sklearn.metrics import balanced_accuracy_score\n",
    "from sklearn.metrics import confusion_matrix\n",
    "from imblearn.metrics import classification_report_imbalanced"
   ]
  },
  {
   "cell_type": "code",
   "execution_count": 3,
   "id": "d68b6865",
   "metadata": {},
   "outputs": [
    {
     "data": {
      "text/html": [
       "<div>\n",
       "<style scoped>\n",
       "    .dataframe tbody tr th:only-of-type {\n",
       "        vertical-align: middle;\n",
       "    }\n",
       "\n",
       "    .dataframe tbody tr th {\n",
       "        vertical-align: top;\n",
       "    }\n",
       "\n",
       "    .dataframe thead th {\n",
       "        text-align: right;\n",
       "    }\n",
       "</style>\n",
       "<table border=\"1\" class=\"dataframe\">\n",
       "  <thead>\n",
       "    <tr style=\"text-align: right;\">\n",
       "      <th></th>\n",
       "      <th>Company</th>\n",
       "      <th>Bean_Origin_or_Bar_Name</th>\n",
       "      <th>REF</th>\n",
       "      <th>Review_Date</th>\n",
       "      <th>Cocoa_Percent</th>\n",
       "      <th>Company_Location</th>\n",
       "      <th>Rating</th>\n",
       "      <th>Bean_Type</th>\n",
       "      <th>Broad_Bean_Origin</th>\n",
       "    </tr>\n",
       "  </thead>\n",
       "  <tbody>\n",
       "    <tr>\n",
       "      <th>0</th>\n",
       "      <td>A. Morin</td>\n",
       "      <td>Agua Grande</td>\n",
       "      <td>1876</td>\n",
       "      <td>2016</td>\n",
       "      <td>63.0</td>\n",
       "      <td>France</td>\n",
       "      <td>3.75</td>\n",
       "      <td>missing</td>\n",
       "      <td>Sao Tome &amp; Principe</td>\n",
       "    </tr>\n",
       "    <tr>\n",
       "      <th>1</th>\n",
       "      <td>A. Morin</td>\n",
       "      <td>Kpime</td>\n",
       "      <td>1676</td>\n",
       "      <td>2015</td>\n",
       "      <td>70.0</td>\n",
       "      <td>France</td>\n",
       "      <td>2.75</td>\n",
       "      <td>missing</td>\n",
       "      <td>Togo</td>\n",
       "    </tr>\n",
       "    <tr>\n",
       "      <th>2</th>\n",
       "      <td>A. Morin</td>\n",
       "      <td>Atsane</td>\n",
       "      <td>1676</td>\n",
       "      <td>2015</td>\n",
       "      <td>70.0</td>\n",
       "      <td>France</td>\n",
       "      <td>3.00</td>\n",
       "      <td>missing</td>\n",
       "      <td>Togo</td>\n",
       "    </tr>\n",
       "    <tr>\n",
       "      <th>3</th>\n",
       "      <td>A. Morin</td>\n",
       "      <td>Akata</td>\n",
       "      <td>1680</td>\n",
       "      <td>2015</td>\n",
       "      <td>70.0</td>\n",
       "      <td>France</td>\n",
       "      <td>3.50</td>\n",
       "      <td>missing</td>\n",
       "      <td>Togo</td>\n",
       "    </tr>\n",
       "    <tr>\n",
       "      <th>4</th>\n",
       "      <td>A. Morin</td>\n",
       "      <td>Quilla</td>\n",
       "      <td>1704</td>\n",
       "      <td>2015</td>\n",
       "      <td>70.0</td>\n",
       "      <td>France</td>\n",
       "      <td>3.50</td>\n",
       "      <td>missing</td>\n",
       "      <td>Peru</td>\n",
       "    </tr>\n",
       "  </tbody>\n",
       "</table>\n",
       "</div>"
      ],
      "text/plain": [
       "    Company Bean_Origin_or_Bar_Name   REF  Review_Date  Cocoa_Percent  \\\n",
       "0  A. Morin             Agua Grande  1876         2016           63.0   \n",
       "1  A. Morin                   Kpime  1676         2015           70.0   \n",
       "2  A. Morin                  Atsane  1676         2015           70.0   \n",
       "3  A. Morin                   Akata  1680         2015           70.0   \n",
       "4  A. Morin                  Quilla  1704         2015           70.0   \n",
       "\n",
       "  Company_Location  Rating Bean_Type    Broad_Bean_Origin  \n",
       "0           France    3.75   missing  Sao Tome & Principe  \n",
       "1           France    2.75   missing                 Togo  \n",
       "2           France    3.00   missing                 Togo  \n",
       "3           France    3.50   missing                 Togo  \n",
       "4           France    3.50   missing                 Peru  "
      ]
     },
     "execution_count": 3,
     "metadata": {},
     "output_type": "execute_result"
    }
   ],
   "source": [
    "# Load the data\n",
    "file_path = Path('clean_flavors_of_cacao.csv')\n",
    "df = pd.read_csv(file_path)\n",
    "df.head()\n"
   ]
  },
  {
   "cell_type": "code",
   "execution_count": 4,
   "id": "571635fd",
   "metadata": {},
   "outputs": [
    {
     "data": {
      "text/html": [
       "<div>\n",
       "<style scoped>\n",
       "    .dataframe tbody tr th:only-of-type {\n",
       "        vertical-align: middle;\n",
       "    }\n",
       "\n",
       "    .dataframe tbody tr th {\n",
       "        vertical-align: top;\n",
       "    }\n",
       "\n",
       "    .dataframe thead th {\n",
       "        text-align: right;\n",
       "    }\n",
       "</style>\n",
       "<table border=\"1\" class=\"dataframe\">\n",
       "  <thead>\n",
       "    <tr style=\"text-align: right;\">\n",
       "      <th></th>\n",
       "      <th>Review_Date</th>\n",
       "      <th>Cocoa_Percent</th>\n",
       "      <th>Company_Location</th>\n",
       "      <th>Rating</th>\n",
       "      <th>Bean_Type</th>\n",
       "      <th>Broad_Bean_Origin</th>\n",
       "    </tr>\n",
       "  </thead>\n",
       "  <tbody>\n",
       "    <tr>\n",
       "      <th>0</th>\n",
       "      <td>2016</td>\n",
       "      <td>63.0</td>\n",
       "      <td>France</td>\n",
       "      <td>3.75</td>\n",
       "      <td>missing</td>\n",
       "      <td>Sao Tome &amp; Principe</td>\n",
       "    </tr>\n",
       "    <tr>\n",
       "      <th>1</th>\n",
       "      <td>2015</td>\n",
       "      <td>70.0</td>\n",
       "      <td>France</td>\n",
       "      <td>2.75</td>\n",
       "      <td>missing</td>\n",
       "      <td>Togo</td>\n",
       "    </tr>\n",
       "    <tr>\n",
       "      <th>2</th>\n",
       "      <td>2015</td>\n",
       "      <td>70.0</td>\n",
       "      <td>France</td>\n",
       "      <td>3.00</td>\n",
       "      <td>missing</td>\n",
       "      <td>Togo</td>\n",
       "    </tr>\n",
       "    <tr>\n",
       "      <th>3</th>\n",
       "      <td>2015</td>\n",
       "      <td>70.0</td>\n",
       "      <td>France</td>\n",
       "      <td>3.50</td>\n",
       "      <td>missing</td>\n",
       "      <td>Togo</td>\n",
       "    </tr>\n",
       "    <tr>\n",
       "      <th>4</th>\n",
       "      <td>2015</td>\n",
       "      <td>70.0</td>\n",
       "      <td>France</td>\n",
       "      <td>3.50</td>\n",
       "      <td>missing</td>\n",
       "      <td>Peru</td>\n",
       "    </tr>\n",
       "  </tbody>\n",
       "</table>\n",
       "</div>"
      ],
      "text/plain": [
       "   Review_Date  Cocoa_Percent Company_Location  Rating Bean_Type  \\\n",
       "0         2016           63.0           France    3.75   missing   \n",
       "1         2015           70.0           France    2.75   missing   \n",
       "2         2015           70.0           France    3.00   missing   \n",
       "3         2015           70.0           France    3.50   missing   \n",
       "4         2015           70.0           France    3.50   missing   \n",
       "\n",
       "     Broad_Bean_Origin  \n",
       "0  Sao Tome & Principe  \n",
       "1                 Togo  \n",
       "2                 Togo  \n",
       "3                 Togo  \n",
       "4                 Peru  "
      ]
     },
     "execution_count": 4,
     "metadata": {},
     "output_type": "execute_result"
    }
   ],
   "source": [
    "df= df.drop(columns=[\"Company\", \"REF\",\"Bean_Origin_or_Bar_Name\"], axis=1)\n",
    "df.head()"
   ]
  },
  {
   "cell_type": "code",
   "execution_count": 5,
   "id": "c58bceec",
   "metadata": {},
   "outputs": [],
   "source": [
    "def bin_ratings(rating):\n",
    "    if rating == 5.75: return 1\n",
    "    if rating == 5.50: return 1\n",
    "    if rating == 5.25: return 1\n",
    "    if rating == 5.00: return 1\n",
    "    \n",
    "    if rating == 4.75: return 1\n",
    "    if rating == 4.50: return 1\n",
    "    if rating == 4.25: return 1\n",
    "    if rating == 4.00: return 1\n",
    "    \n",
    "    if rating == 3.75: return 1\n",
    "    if rating == 3.50: return 1\n",
    "    if rating == 3.25: return 0\n",
    "    if rating == 3.00: return 0\n",
    "\n",
    "    if rating == 2.75: return 0\n",
    "    if rating == 2.50: return 0\n",
    "    if rating == 2.25: return 0\n",
    "    if rating == 2.00: return 0\n",
    "    \n",
    "    if rating == 1.75: return 0\n",
    "    if rating == 1.50: return 0\n",
    "    if rating == 1.25: return 0\n",
    "    if rating == 1.00: return 0\n",
    "    \n",
    "    #print( f\"error: rating={rating} type={type(rating)}\" )\n",
    "    return \"2\"\n",
    "\n",
    "df['Rating'] = df['Rating'].apply(bin_ratings)"
   ]
  },
  {
   "cell_type": "markdown",
   "id": "21815274",
   "metadata": {},
   "source": [
    "# Split the Data into Training and Testing\n"
   ]
  },
  {
   "cell_type": "code",
   "execution_count": 6,
   "id": "ea6871b7",
   "metadata": {},
   "outputs": [],
   "source": [
    "y = df['Rating']\n",
    "X = df.drop(columns=\"Rating\", axis=1)\n",
    "X = pd.get_dummies(X)"
   ]
  },
  {
   "cell_type": "code",
   "execution_count": 7,
   "id": "ad6db001",
   "metadata": {},
   "outputs": [
    {
     "data": {
      "text/plain": [
       "0    1087\n",
       "1     700\n",
       "Name: Rating, dtype: int64"
      ]
     },
     "execution_count": 7,
     "metadata": {},
     "output_type": "execute_result"
    }
   ],
   "source": [
    "# Check the balance of our target values\n",
    "y.value_counts()"
   ]
  },
  {
   "cell_type": "code",
   "execution_count": 8,
   "id": "6e6ac59c",
   "metadata": {},
   "outputs": [],
   "source": [
    "from sklearn.model_selection import train_test_split\n",
    "X_train, X_test, y_train, y_test = train_test_split(X,\n",
    "   y,test_size= 0.40,train_size=0.60 , random_state=1, stratify=y)"
   ]
  },
  {
   "cell_type": "code",
   "execution_count": 9,
   "id": "61c58e65",
   "metadata": {},
   "outputs": [],
   "source": [
    "from sklearn.preprocessing import StandardScaler\n",
    "\n",
    "# Create a StandardScaler instance\n",
    "scaler = StandardScaler()\n",
    "\n",
    "# Fit the StandardScaler\n",
    "X_scaler = scaler.fit(X_train)\n",
    "\n",
    "# Scale the data\n",
    "X_train_scaled = X_scaler.transform(X_train)\n",
    "X_test_scaled = X_scaler.transform(X_test)"
   ]
  },
  {
   "cell_type": "markdown",
   "id": "04fce0d0",
   "metadata": {},
   "source": [
    "# Ensemble Learners"
   ]
  },
  {
   "cell_type": "markdown",
   "id": "08660952",
   "metadata": {},
   "source": [
    "## Balanced Random Forest Classifier"
   ]
  },
  {
   "cell_type": "code",
   "execution_count": 10,
   "id": "5623107a",
   "metadata": {},
   "outputs": [
    {
     "data": {
      "text/plain": [
       "BalancedRandomForestClassifier(n_estimators=500, random_state=1)"
      ]
     },
     "execution_count": 10,
     "metadata": {},
     "output_type": "execute_result"
    }
   ],
   "source": [
    "\n",
    "\n",
    "# Resample the training data with the BalancedRandomForestClassifier\n",
    "from imblearn.ensemble import BalancedRandomForestClassifier\n",
    "\n",
    "brfc = BalancedRandomForestClassifier(n_estimators=500, random_state=1)\n",
    "\n",
    "# train\n",
    "brfc.fit(X_train_scaled, y_train)\n",
    "\n"
   ]
  },
  {
   "cell_type": "code",
   "execution_count": 11,
   "id": "9eebb4e7",
   "metadata": {},
   "outputs": [
    {
     "data": {
      "text/plain": [
       "0.5804802955665025"
      ]
     },
     "execution_count": 11,
     "metadata": {},
     "output_type": "execute_result"
    }
   ],
   "source": [
    "# Calculated the balanced accuracy score\n",
    "from sklearn.metrics import balanced_accuracy_score\n",
    "y_pred = brfc.predict(X_test_scaled)\n",
    "balanced_accuracy_score(y_test, y_pred)"
   ]
  },
  {
   "cell_type": "code",
   "execution_count": 12,
   "id": "b3212cd1",
   "metadata": {},
   "outputs": [
    {
     "data": {
      "text/html": [
       "<div>\n",
       "<style scoped>\n",
       "    .dataframe tbody tr th:only-of-type {\n",
       "        vertical-align: middle;\n",
       "    }\n",
       "\n",
       "    .dataframe tbody tr th {\n",
       "        vertical-align: top;\n",
       "    }\n",
       "\n",
       "    .dataframe thead th {\n",
       "        text-align: right;\n",
       "    }\n",
       "</style>\n",
       "<table border=\"1\" class=\"dataframe\">\n",
       "  <thead>\n",
       "    <tr style=\"text-align: right;\">\n",
       "      <th></th>\n",
       "      <th>Predicted high_risk</th>\n",
       "      <th>Predicted low_risk</th>\n",
       "    </tr>\n",
       "  </thead>\n",
       "  <tbody>\n",
       "    <tr>\n",
       "      <th>Actual high_risk</th>\n",
       "      <td>258</td>\n",
       "      <td>177</td>\n",
       "    </tr>\n",
       "    <tr>\n",
       "      <th>Actual low_risk</th>\n",
       "      <td>121</td>\n",
       "      <td>159</td>\n",
       "    </tr>\n",
       "  </tbody>\n",
       "</table>\n",
       "</div>"
      ],
      "text/plain": [
       "                  Predicted high_risk  Predicted low_risk\n",
       "Actual high_risk                  258                 177\n",
       "Actual low_risk                   121                 159"
      ]
     },
     "execution_count": 12,
     "metadata": {},
     "output_type": "execute_result"
    }
   ],
   "source": [
    "# Display the confusion matrix\n",
    "from sklearn.metrics import confusion_matrix\n",
    "cm = confusion_matrix(y_test, y_pred)\n",
    "\n",
    "# Create a DataFrame from the confusion matrix.\n",
    "cm_df = pd.DataFrame(\n",
    "    cm, index=[\"Actual high_risk\", \"Actual low_risk\"], columns=[\"Predicted high_risk\", \"Predicted low_risk\"])\n",
    "cm_df"
   ]
  },
  {
   "cell_type": "code",
   "execution_count": 13,
   "id": "fd058041",
   "metadata": {},
   "outputs": [
    {
     "name": "stdout",
     "output_type": "stream",
     "text": [
      "                   pre       rec       spe        f1       geo       iba       sup\n",
      "\n",
      "          0       0.68      0.59      0.57      0.63      0.58      0.34       435\n",
      "          1       0.47      0.57      0.59      0.52      0.58      0.34       280\n",
      "\n",
      "avg / total       0.60      0.58      0.58      0.59      0.58      0.34       715\n",
      "\n"
     ]
    }
   ],
   "source": [
    "# Print the imbalanced classification report\n",
    "from imblearn.metrics import classification_report_imbalanced\n",
    "print(classification_report_imbalanced(y_test, y_pred))"
   ]
  },
  {
   "cell_type": "code",
   "execution_count": 14,
   "id": "7b58eedf",
   "metadata": {},
   "outputs": [
    {
     "name": "stdout",
     "output_type": "stream",
     "text": [
      "Cocoa_Percent: (0.2148622807254748)\n",
      "Review_Date: (0.2041400820593054)\n",
      "Company_Location_United States of America: (0.02962480774939886)\n",
      "Bean_Type_missing: (0.024735422038490162)\n",
      "Broad_Bean_Origin_Venezuela: (0.020333999459708325)\n",
      "Broad_Bean_Origin_Ecuador: (0.01967335535582589)\n",
      "Broad_Bean_Origin_Dominican Republic: (0.018841086047878382)\n",
      "Company_Location_France: (0.017710419511947826)\n",
      "Broad_Bean_Origin_Peru: (0.017211486554491638)\n",
      "Bean_Type_Trinitario: (0.0170072859176071)\n",
      "Company_Location_Canada: (0.016141401564468683)\n",
      "Broad_Bean_Origin_Madagascar: (0.014580097532880393)\n",
      "Bean_Type_Criollo: (0.014110190295096895)\n",
      "Company_Location_England: (0.013710921978579432)\n",
      "Bean_Type_Forastero: (0.013269264957048481)\n",
      "Broad_Bean_Origin_Unknown: (0.011466996754231249)\n",
      "Broad_Bean_Origin_Brazil: (0.011083330029679471)\n",
      "Broad_Bean_Origin_Papua New Guinea: (0.011029981467895708)\n",
      "Broad_Bean_Origin_Bolivia: (0.009913230017002965)\n",
      "Company_Location_Italy: (0.009665945643974072)\n",
      "Broad_Bean_Origin_Nicaragua: (0.009569195993810634)\n",
      "Company_Location_Australia: (0.009332163856453307)\n",
      "Broad_Bean_Origin_Costa Rica: (0.009153150718007704)\n",
      "Broad_Bean_Origin_Guatemala: (0.009055396102888105)\n",
      "Company_Location_Belgium: (0.008834484610426364)\n",
      "Broad_Bean_Origin_Colombia: (0.008310423233753797)\n",
      "Broad_Bean_Origin_Belize: (0.007974390650570456)\n",
      "Bean_Type_Blend: (0.007705158619941965)\n",
      "Broad_Bean_Origin_Trinidad Tobago: (0.0075012410965551515)\n",
      "Broad_Bean_Origin_Hawaii: (0.007116035186338871)\n",
      "Broad_Bean_Origin_Tanzania: (0.006623649886182313)\n",
      "Broad_Bean_Origin_Other: (0.006584893740683741)\n",
      "Company_Location_Ecuador: (0.006525687438102245)\n",
      "Broad_Bean_Origin_Mexico: (0.006458508266445922)\n",
      "Company_Location_Austria: (0.006377119442400388)\n",
      "Broad_Bean_Origin_Ghana: (0.006294581477917129)\n",
      "Company_Location_Switzerland: (0.0061209908599352955)\n",
      "Broad_Bean_Origin_Vietnam: (0.005966336107431154)\n",
      "Company_Location_Germany: (0.005917660468848506)\n",
      "Company_Location_Venezuela: (0.005227984157744831)\n",
      "Company_Location_Israel: (0.004983373440495913)\n",
      "Broad_Bean_Origin_Grenada: (0.004894883720150012)\n",
      "Company_Location_Hungary: (0.004859835819200019)\n",
      "Broad_Bean_Origin_Sao Tome & Principe: (0.004670435996572141)\n",
      "Broad_Bean_Origin_Honduras: (0.004537488977188694)\n",
      "Broad_Bean_Origin_Indonesia: (0.004368918950843936)\n",
      "Company_Location_Brazil: (0.004253088120832038)\n",
      "Company_Location_New Zealand: (0.004207031927635787)\n",
      "Company_Location_Denmark: (0.00414622536323964)\n",
      "Broad_Bean_Origin_Jamaica: (0.0036641498538836866)\n",
      "Company_Location_Vietnam: (0.003645411667290438)\n",
      "Company_Location_Spain: (0.003537983362989675)\n",
      "Company_Location_Colombia: (0.0033955566825804116)\n",
      "Company_Location_Peru: (0.0032585570110030106)\n",
      "Company_Location_Madagascar: (0.003252770061157378)\n",
      "Company_Location_Argentina: (0.0031164001365954095)\n",
      "Company_Location_Lithuania: (0.0030046580302131366)\n",
      "Company_Location_Japan: (0.002944015084468271)\n",
      "Broad_Bean_Origin_Cuba: (0.002869635732908357)\n",
      "Broad_Bean_Origin_Haiti: (0.002786128393527402)\n",
      "Company_Location_Poland: (0.0027640802954769523)\n",
      "Company_Location_Scotland: (0.0027177336348761304)\n",
      "Company_Location_South Korea: (0.0026583231109491593)\n",
      "Company_Location_Guatemala: (0.0024743493409247917)\n",
      "Broad_Bean_Origin_Panama: (0.002470675630844471)\n",
      "Broad_Bean_Origin_Uganda: (0.0023700339738182857)\n",
      "Company_Location_Costa Rica: (0.0021690870382525384)\n",
      "Broad_Bean_Origin_Saint Lucia: (0.002143239039569654)\n",
      "Broad_Bean_Origin_Republic of Congo: (0.0021155933712334414)\n",
      "Broad_Bean_Origin_Cote d'Ivorie: (0.0019761039598670976)\n",
      "Company_Location_Dominican Republic: (0.0018787773514154142)\n",
      "Broad_Bean_Origin_Solomon Islands: (0.0017852964314278147)\n",
      "Company_Location_Netherlands: (0.0016262435271573287)\n",
      "Company_Location_Honduras: (0.0015999150306945382)\n",
      "Company_Location_Iceland: (0.0014765471747201773)\n",
      "Broad_Bean_Origin_Fiji: (0.001448921693144275)\n",
      "Company_Location_South Africa: (0.0014382438285588965)\n",
      "Company_Location_Sweden: (0.0014000822653056268)\n",
      "Broad_Bean_Origin_Australia: (0.0013959702650528667)\n",
      "Broad_Bean_Origin_Philippines: (0.0013842233360923347)\n",
      "Bean_Type_Amazon mix: (0.0013361193375373294)\n",
      "Bean_Type_Matina: (0.0013293783366149531)\n",
      "Broad_Bean_Origin_Puerto Rico: (0.0013060329695125047)\n",
      "Bean_Type_Amazon, ICS: (0.0013020579927949464)\n",
      "Company_Location_Bolivia: (0.0012521195779730235)\n",
      "Company_Location_Nicaragua: (0.0012439373453730382)\n",
      "Company_Location_Portugal: (0.001177458699569144)\n",
      "Bean_Type_Nacional (Arriba): (0.0011082617378732112)\n",
      "Company_Location_Singapore: (0.0009885807617463706)\n",
      "Bean_Type_EET: (0.0009066923780891122)\n",
      "Company_Location_Sao Tome: (0.0008945606341898738)\n",
      "Broad_Bean_Origin_Liberia: (0.0008732748230771788)\n",
      "Broad_Bean_Origin_Cameroon: (0.0008530345612568996)\n",
      "Bean_Type_CCN51: (0.0008284838862455765)\n",
      "Company_Location_Czech Republic: (0.000791185995584093)\n",
      "Broad_Bean_Origin_Togo: (0.0007848758161877843)\n",
      "Bean_Type_Beniano: (0.0007803522373678279)\n",
      "Bean_Type_Nacional: (0.0007424611687884702)\n",
      "Company_Location_Suriname: (0.0006880049086207293)\n",
      "Company_Location_St. Lucia: (0.0006320774259135966)\n",
      "Company_Location_Puerto Rico: (0.0006285106393938702)\n",
      "Broad_Bean_Origin_Other(DR/Jam/Tri): (0.0006226560881282542)\n",
      "Broad_Bean_Origin_Myanmar: (0.0006174384179337457)\n",
      "Company_Location_Ireland: (0.000595382445970023)\n",
      "Broad_Bean_Origin_Suriname: (0.0005878152609727522)\n",
      "Broad_Bean_Origin_Gabon: (0.0005483430607249742)\n",
      "Company_Location_Chile: (0.0005335228667195225)\n",
      "Broad_Bean_Origin_Samoa: (0.0005211710580550391)\n",
      "Company_Location_Grenada: (0.00045774195350467594)\n",
      "Company_Location_Finland: (0.0004491152438418496)\n",
      "Broad_Bean_Origin_Malaysia: (0.0004382395563384108)\n",
      "Broad_Bean_Origin_Nigeria: (0.00042478486193700326)\n",
      "Company_Location_Mexico: (0.0003459534256629248)\n",
      "Broad_Bean_Origin_Vanuatu: (0.00031684664837412806)\n",
      "Broad_Bean_Origin_India: (0.00030743466859834193)\n",
      "Company_Location_India: (0.00030393949560016326)\n",
      "Company_Location_Ghana: (0.00026795800762875245)\n",
      "Company_Location_Fiji: (0.00022599908696680447)\n",
      "Broad_Bean_Origin_Martinique: (0.0002115341464836785)\n",
      "Company_Location_Wales: (0.00018273945002334093)\n",
      "Company_Location_Martinique: (0.00014329681524528372)\n",
      "Company_Location_Russia: (0.0)\n",
      "Company_Location_Philippines: (0.0)\n",
      "Broad_Bean_Origin_Sri Lanka: (0.0)\n",
      "Broad_Bean_Origin_Peru(SMartin,Pangoa,nacional): (0.0)\n",
      "Broad_Bean_Origin_El Salvador: (0.0)\n",
      "Bean_Type_Amazon: (0.0)\n"
     ]
    }
   ],
   "source": [
    "# List the features sorted in descending order by feature importance\n",
    "importances = brfc.feature_importances_ \n",
    "\n",
    "features_importance = sorted(zip(brfc.feature_importances_, X.columns), reverse=True)\n",
    "for feature in features_importance:\n",
    "    print(f\"{feature[1]}: ({feature[0]})\")"
   ]
  },
  {
   "cell_type": "markdown",
   "id": "4148a4a5",
   "metadata": {},
   "source": [
    "# Easy Ensemble AdaBoost Classifier\n"
   ]
  },
  {
   "cell_type": "code",
   "execution_count": 15,
   "id": "6efcfa71",
   "metadata": {},
   "outputs": [
    {
     "data": {
      "text/plain": [
       "EasyEnsembleClassifier(n_estimators=100, random_state=1)"
      ]
     },
     "execution_count": 15,
     "metadata": {},
     "output_type": "execute_result"
    }
   ],
   "source": [
    "\n",
    "\n",
    "# Train the EasyEnsembleClassifier\n",
    "from imblearn.ensemble import EasyEnsembleClassifier\n",
    "eec = EasyEnsembleClassifier(n_estimators=100, random_state=1)\n",
    "eec.fit(X_train_scaled, y_train)\n",
    "\n"
   ]
  },
  {
   "cell_type": "code",
   "execution_count": 16,
   "id": "61257730",
   "metadata": {},
   "outputs": [
    {
     "data": {
      "text/plain": [
       "0.6073686371100164"
      ]
     },
     "execution_count": 16,
     "metadata": {},
     "output_type": "execute_result"
    }
   ],
   "source": [
    "# Calculated the balanced accuracy score\n",
    "from sklearn.metrics import balanced_accuracy_score\n",
    "y_pred = eec.predict(X_test_scaled)\n",
    "balanced_accuracy_score(y_test, y_pred)"
   ]
  },
  {
   "cell_type": "code",
   "execution_count": 17,
   "id": "588b48dd",
   "metadata": {},
   "outputs": [
    {
     "data": {
      "text/html": [
       "<div>\n",
       "<style scoped>\n",
       "    .dataframe tbody tr th:only-of-type {\n",
       "        vertical-align: middle;\n",
       "    }\n",
       "\n",
       "    .dataframe tbody tr th {\n",
       "        vertical-align: top;\n",
       "    }\n",
       "\n",
       "    .dataframe thead th {\n",
       "        text-align: right;\n",
       "    }\n",
       "</style>\n",
       "<table border=\"1\" class=\"dataframe\">\n",
       "  <thead>\n",
       "    <tr style=\"text-align: right;\">\n",
       "      <th></th>\n",
       "      <th>Predicted high_risk</th>\n",
       "      <th>Predicted low_risk</th>\n",
       "    </tr>\n",
       "  </thead>\n",
       "  <tbody>\n",
       "    <tr>\n",
       "      <th>Actual high_risk</th>\n",
       "      <td>241</td>\n",
       "      <td>194</td>\n",
       "    </tr>\n",
       "    <tr>\n",
       "      <th>Actual low_risk</th>\n",
       "      <td>95</td>\n",
       "      <td>185</td>\n",
       "    </tr>\n",
       "  </tbody>\n",
       "</table>\n",
       "</div>"
      ],
      "text/plain": [
       "                  Predicted high_risk  Predicted low_risk\n",
       "Actual high_risk                  241                 194\n",
       "Actual low_risk                    95                 185"
      ]
     },
     "execution_count": 17,
     "metadata": {},
     "output_type": "execute_result"
    }
   ],
   "source": [
    "# Display the confusion matrix\n",
    "from sklearn.metrics import confusion_matrix\n",
    "cm = confusion_matrix(y_test, y_pred)\n",
    "\n",
    "# Create a DataFrame from the confusion matrix.\n",
    "cm_df = pd.DataFrame(\n",
    "    cm, index=[\"Actual high_risk\", \"Actual low_risk\"], columns=[\"Predicted high_risk\", \"Predicted low_risk\"])\n",
    "cm_df"
   ]
  },
  {
   "cell_type": "code",
   "execution_count": 18,
   "id": "7859acb4",
   "metadata": {},
   "outputs": [
    {
     "name": "stdout",
     "output_type": "stream",
     "text": [
      "                   pre       rec       spe        f1       geo       iba       sup\n",
      "\n",
      "          0       0.72      0.55      0.66      0.63      0.61      0.36       435\n",
      "          1       0.49      0.66      0.55      0.56      0.61      0.37       280\n",
      "\n",
      "avg / total       0.63      0.60      0.62      0.60      0.61      0.37       715\n",
      "\n"
     ]
    }
   ],
   "source": [
    "# Print the imbalanced classification report\n",
    "from imblearn.metrics import classification_report_imbalanced\n",
    "print(classification_report_imbalanced(y_test, y_pred))"
   ]
  },
  {
   "cell_type": "code",
   "execution_count": null,
   "id": "7913bb27",
   "metadata": {},
   "outputs": [],
   "source": []
  },
  {
   "cell_type": "code",
   "execution_count": null,
   "id": "1b44ad52",
   "metadata": {},
   "outputs": [],
   "source": []
  },
  {
   "cell_type": "code",
   "execution_count": null,
   "id": "00abf7ff",
   "metadata": {},
   "outputs": [],
   "source": []
  }
 ],
 "metadata": {
  "kernelspec": {
   "display_name": "mlenv",
   "language": "python",
   "name": "mlenv"
  },
  "language_info": {
   "codemirror_mode": {
    "name": "ipython",
    "version": 3
   },
   "file_extension": ".py",
   "mimetype": "text/x-python",
   "name": "python",
   "nbconvert_exporter": "python",
   "pygments_lexer": "ipython3",
   "version": "3.7.10"
  }
 },
 "nbformat": 4,
 "nbformat_minor": 5
}
