{
 "cells": [
  {
   "cell_type": "code",
   "execution_count": 1,
   "id": "7b10d78f",
   "metadata": {},
   "outputs": [],
   "source": [
    "import numpy as np\n",
    "import pandas as pd\n",
    "from pathlib import Path\n",
    "from collections import Counter"
   ]
  },
  {
   "cell_type": "code",
   "execution_count": 2,
   "id": "012fd140",
   "metadata": {},
   "outputs": [],
   "source": [
    "from sklearn.metrics import balanced_accuracy_score\n",
    "from sklearn.metrics import confusion_matrix\n",
    "from imblearn.metrics import classification_report_imbalanced"
   ]
  },
  {
   "cell_type": "code",
   "execution_count": 3,
   "id": "487faaf3",
   "metadata": {},
   "outputs": [
    {
     "data": {
      "text/html": [
       "<div>\n",
       "<style scoped>\n",
       "    .dataframe tbody tr th:only-of-type {\n",
       "        vertical-align: middle;\n",
       "    }\n",
       "\n",
       "    .dataframe tbody tr th {\n",
       "        vertical-align: top;\n",
       "    }\n",
       "\n",
       "    .dataframe thead th {\n",
       "        text-align: right;\n",
       "    }\n",
       "</style>\n",
       "<table border=\"1\" class=\"dataframe\">\n",
       "  <thead>\n",
       "    <tr style=\"text-align: right;\">\n",
       "      <th></th>\n",
       "      <th>Company</th>\n",
       "      <th>Bean_Origin_or_Bar_Name</th>\n",
       "      <th>REF</th>\n",
       "      <th>Review_Date</th>\n",
       "      <th>Cocoa_Percent</th>\n",
       "      <th>Company_Location</th>\n",
       "      <th>Rating</th>\n",
       "      <th>Bean_Type</th>\n",
       "      <th>Broad_Bean_Origin</th>\n",
       "    </tr>\n",
       "  </thead>\n",
       "  <tbody>\n",
       "    <tr>\n",
       "      <th>0</th>\n",
       "      <td>A. Morin</td>\n",
       "      <td>Agua Grande</td>\n",
       "      <td>1876</td>\n",
       "      <td>2016</td>\n",
       "      <td>63.0</td>\n",
       "      <td>France</td>\n",
       "      <td>3.75</td>\n",
       "      <td>None</td>\n",
       "      <td>Sao Tome &amp; Principe</td>\n",
       "    </tr>\n",
       "    <tr>\n",
       "      <th>1</th>\n",
       "      <td>A. Morin</td>\n",
       "      <td>Kpime</td>\n",
       "      <td>1676</td>\n",
       "      <td>2015</td>\n",
       "      <td>70.0</td>\n",
       "      <td>France</td>\n",
       "      <td>2.75</td>\n",
       "      <td>None</td>\n",
       "      <td>Togo</td>\n",
       "    </tr>\n",
       "    <tr>\n",
       "      <th>2</th>\n",
       "      <td>A. Morin</td>\n",
       "      <td>Atsane</td>\n",
       "      <td>1676</td>\n",
       "      <td>2015</td>\n",
       "      <td>70.0</td>\n",
       "      <td>France</td>\n",
       "      <td>3.00</td>\n",
       "      <td>None</td>\n",
       "      <td>Togo</td>\n",
       "    </tr>\n",
       "    <tr>\n",
       "      <th>3</th>\n",
       "      <td>A. Morin</td>\n",
       "      <td>Akata</td>\n",
       "      <td>1680</td>\n",
       "      <td>2015</td>\n",
       "      <td>70.0</td>\n",
       "      <td>France</td>\n",
       "      <td>3.50</td>\n",
       "      <td>None</td>\n",
       "      <td>Togo</td>\n",
       "    </tr>\n",
       "    <tr>\n",
       "      <th>4</th>\n",
       "      <td>A. Morin</td>\n",
       "      <td>Quilla</td>\n",
       "      <td>1704</td>\n",
       "      <td>2015</td>\n",
       "      <td>70.0</td>\n",
       "      <td>France</td>\n",
       "      <td>3.50</td>\n",
       "      <td>None</td>\n",
       "      <td>Peru</td>\n",
       "    </tr>\n",
       "  </tbody>\n",
       "</table>\n",
       "</div>"
      ],
      "text/plain": [
       "    Company Bean_Origin_or_Bar_Name   REF  Review_Date  Cocoa_Percent  \\\n",
       "0  A. Morin             Agua Grande  1876         2016           63.0   \n",
       "1  A. Morin                   Kpime  1676         2015           70.0   \n",
       "2  A. Morin                  Atsane  1676         2015           70.0   \n",
       "3  A. Morin                   Akata  1680         2015           70.0   \n",
       "4  A. Morin                  Quilla  1704         2015           70.0   \n",
       "\n",
       "  Company_Location  Rating Bean_Type    Broad_Bean_Origin  \n",
       "0           France    3.75      None  Sao Tome & Principe  \n",
       "1           France    2.75      None                 Togo  \n",
       "2           France    3.00      None                 Togo  \n",
       "3           France    3.50      None                 Togo  \n",
       "4           France    3.50      None                 Peru  "
      ]
     },
     "execution_count": 3,
     "metadata": {},
     "output_type": "execute_result"
    }
   ],
   "source": [
    "# Load the data\n",
    "file_path = Path('clean_flavors_of_cacao.csv')\n",
    "df = pd.read_csv(file_path)\n",
    "df.head()\n"
   ]
  },
  {
   "cell_type": "code",
   "execution_count": 4,
   "id": "9f0189a6",
   "metadata": {},
   "outputs": [],
   "source": [
    "#df['Rating'] = df['Rating'].replace(1.0, 'A')\\\n",
    "#.replace( 1.5, 'B')\\\n",
    "#.replace(1.75,'C')\\\n",
    "#.replace(2.0, 'D')\\\n",
    "#.replace(2.25, 'E')\\\n",
    "#.replace(2.5, 'F')\\\n",
    "#.replace(2.75, 'G')\\\n",
    "#.replace(3.0,'H')\\\n",
    "#.replace(3.25, 'I')\\\n",
    "#.replace(3.5, 'J')\\\n",
    "#.replace(3.75, 'K')\\\n",
    "#.replace(4.0, 'L')\\\n",
    "#.replace(5.0, 'M')\n",
    "\n",
    "#df['Rating']"
   ]
  },
  {
   "cell_type": "code",
   "execution_count": 5,
   "id": "8cf34f4d",
   "metadata": {},
   "outputs": [
    {
     "data": {
      "text/html": [
       "<div>\n",
       "<style scoped>\n",
       "    .dataframe tbody tr th:only-of-type {\n",
       "        vertical-align: middle;\n",
       "    }\n",
       "\n",
       "    .dataframe tbody tr th {\n",
       "        vertical-align: top;\n",
       "    }\n",
       "\n",
       "    .dataframe thead th {\n",
       "        text-align: right;\n",
       "    }\n",
       "</style>\n",
       "<table border=\"1\" class=\"dataframe\">\n",
       "  <thead>\n",
       "    <tr style=\"text-align: right;\">\n",
       "      <th></th>\n",
       "      <th>Review_Date</th>\n",
       "      <th>Cocoa_Percent</th>\n",
       "      <th>Company_Location</th>\n",
       "      <th>Rating</th>\n",
       "      <th>Bean_Type</th>\n",
       "      <th>Broad_Bean_Origin</th>\n",
       "    </tr>\n",
       "  </thead>\n",
       "  <tbody>\n",
       "    <tr>\n",
       "      <th>0</th>\n",
       "      <td>2016</td>\n",
       "      <td>63.0</td>\n",
       "      <td>France</td>\n",
       "      <td>3.75</td>\n",
       "      <td>None</td>\n",
       "      <td>Sao Tome &amp; Principe</td>\n",
       "    </tr>\n",
       "    <tr>\n",
       "      <th>1</th>\n",
       "      <td>2015</td>\n",
       "      <td>70.0</td>\n",
       "      <td>France</td>\n",
       "      <td>2.75</td>\n",
       "      <td>None</td>\n",
       "      <td>Togo</td>\n",
       "    </tr>\n",
       "    <tr>\n",
       "      <th>2</th>\n",
       "      <td>2015</td>\n",
       "      <td>70.0</td>\n",
       "      <td>France</td>\n",
       "      <td>3.00</td>\n",
       "      <td>None</td>\n",
       "      <td>Togo</td>\n",
       "    </tr>\n",
       "    <tr>\n",
       "      <th>3</th>\n",
       "      <td>2015</td>\n",
       "      <td>70.0</td>\n",
       "      <td>France</td>\n",
       "      <td>3.50</td>\n",
       "      <td>None</td>\n",
       "      <td>Togo</td>\n",
       "    </tr>\n",
       "    <tr>\n",
       "      <th>4</th>\n",
       "      <td>2015</td>\n",
       "      <td>70.0</td>\n",
       "      <td>France</td>\n",
       "      <td>3.50</td>\n",
       "      <td>None</td>\n",
       "      <td>Peru</td>\n",
       "    </tr>\n",
       "  </tbody>\n",
       "</table>\n",
       "</div>"
      ],
      "text/plain": [
       "   Review_Date  Cocoa_Percent Company_Location  Rating Bean_Type  \\\n",
       "0         2016           63.0           France    3.75      None   \n",
       "1         2015           70.0           France    2.75      None   \n",
       "2         2015           70.0           France    3.00      None   \n",
       "3         2015           70.0           France    3.50      None   \n",
       "4         2015           70.0           France    3.50      None   \n",
       "\n",
       "     Broad_Bean_Origin  \n",
       "0  Sao Tome & Principe  \n",
       "1                 Togo  \n",
       "2                 Togo  \n",
       "3                 Togo  \n",
       "4                 Peru  "
      ]
     },
     "execution_count": 5,
     "metadata": {},
     "output_type": "execute_result"
    }
   ],
   "source": [
    "df= df.drop(columns=[\"Company\", \"REF\",\"Bean_Origin_or_Bar_Name\"], axis=1)\n",
    "df.head()"
   ]
  },
  {
   "cell_type": "code",
   "execution_count": 6,
   "id": "012470dd",
   "metadata": {},
   "outputs": [],
   "source": [
    "def bin_ratings(rating):\n",
    "    if rating == 5.75: return 1\n",
    "    if rating == 5.50: return 1\n",
    "    if rating == 5.25: return 1\n",
    "    if rating == 5.00: return 1\n",
    "    \n",
    "    if rating == 4.75: return 1\n",
    "    if rating == 4.50: return 1\n",
    "    if rating == 4.25: return 1\n",
    "    if rating == 4.00: return 1\n",
    "    \n",
    "    if rating == 3.75: return 0\n",
    "    if rating == 3.50: return 0\n",
    "    if rating == 3.25: return 0\n",
    "    if rating == 3.00: return 0\n",
    "\n",
    "    if rating == 2.75: return 0\n",
    "    if rating == 2.50: return 0\n",
    "    if rating == 2.25: return 0\n",
    "    if rating == 2.00: return 0\n",
    "    \n",
    "    if rating == 1.75: return 0\n",
    "    if rating == 1.50: return 0\n",
    "    if rating == 1.25: return 0\n",
    "    if rating == 1.00: return 0\n",
    "    \n",
    "    #print( f\"error: rating={rating} type={type(rating)}\" )\n",
    "    return \"2\"\n",
    "\n",
    "df['Rating'] = df['Rating'].apply(bin_ratings)"
   ]
  },
  {
   "cell_type": "markdown",
   "id": "019bf14d",
   "metadata": {},
   "source": [
    "# Split the Data into Training and Testing\n"
   ]
  },
  {
   "cell_type": "code",
   "execution_count": 7,
   "id": "b9b7ce7a",
   "metadata": {},
   "outputs": [],
   "source": [
    "y = df['Rating']\n",
    "X = df.drop(columns=\"Rating\", axis=1)\n",
    "X = pd.get_dummies(X)"
   ]
  },
  {
   "cell_type": "code",
   "execution_count": 8,
   "id": "e69f5d69",
   "metadata": {},
   "outputs": [
    {
     "data": {
      "text/plain": [
       "0    1688\n",
       "1      99\n",
       "Name: Rating, dtype: int64"
      ]
     },
     "execution_count": 8,
     "metadata": {},
     "output_type": "execute_result"
    }
   ],
   "source": [
    "# Check the balance of our target values\n",
    "y.value_counts()"
   ]
  },
  {
   "cell_type": "code",
   "execution_count": 9,
   "id": "51d6a9a2",
   "metadata": {},
   "outputs": [],
   "source": [
    "from sklearn.model_selection import train_test_split\n",
    "X_train, X_test, y_train, y_test = train_test_split(X, y, random_state=1)"
   ]
  },
  {
   "cell_type": "markdown",
   "id": "6544cafb",
   "metadata": {},
   "source": [
    "# Ensemble Learners"
   ]
  },
  {
   "cell_type": "markdown",
   "id": "99bcdbff",
   "metadata": {},
   "source": [
    "## Balanced Random Forest Classifier"
   ]
  },
  {
   "cell_type": "code",
   "execution_count": 10,
   "id": "b6a264d7",
   "metadata": {},
   "outputs": [
    {
     "data": {
      "text/plain": [
       "BalancedRandomForestClassifier(random_state=1)"
      ]
     },
     "execution_count": 10,
     "metadata": {},
     "output_type": "execute_result"
    }
   ],
   "source": [
    "\n",
    "\n",
    "# Resample the training data with the BalancedRandomForestClassifier\n",
    "from imblearn.ensemble import BalancedRandomForestClassifier\n",
    "\n",
    "brfc = BalancedRandomForestClassifier(n_estimators=100, random_state=1)\n",
    "\n",
    "# train\n",
    "brfc.fit(X_train, y_train)\n",
    "\n"
   ]
  },
  {
   "cell_type": "code",
   "execution_count": 11,
   "id": "e1d47f41",
   "metadata": {},
   "outputs": [
    {
     "data": {
      "text/plain": [
       "0.6267945036915504"
      ]
     },
     "execution_count": 11,
     "metadata": {},
     "output_type": "execute_result"
    }
   ],
   "source": [
    "# Calculated the balanced accuracy score\n",
    "from sklearn.metrics import balanced_accuracy_score\n",
    "y_pred = brfc.predict(X_test)\n",
    "balanced_accuracy_score(y_test, y_pred)"
   ]
  },
  {
   "cell_type": "code",
   "execution_count": 12,
   "id": "af045c5d",
   "metadata": {},
   "outputs": [
    {
     "data": {
      "text/html": [
       "<div>\n",
       "<style scoped>\n",
       "    .dataframe tbody tr th:only-of-type {\n",
       "        vertical-align: middle;\n",
       "    }\n",
       "\n",
       "    .dataframe tbody tr th {\n",
       "        vertical-align: top;\n",
       "    }\n",
       "\n",
       "    .dataframe thead th {\n",
       "        text-align: right;\n",
       "    }\n",
       "</style>\n",
       "<table border=\"1\" class=\"dataframe\">\n",
       "  <thead>\n",
       "    <tr style=\"text-align: right;\">\n",
       "      <th></th>\n",
       "      <th>Predicted high_risk</th>\n",
       "      <th>Predicted low_risk</th>\n",
       "    </tr>\n",
       "  </thead>\n",
       "  <tbody>\n",
       "    <tr>\n",
       "      <th>Actual high_risk</th>\n",
       "      <td>255</td>\n",
       "      <td>169</td>\n",
       "    </tr>\n",
       "    <tr>\n",
       "      <th>Actual low_risk</th>\n",
       "      <td>8</td>\n",
       "      <td>15</td>\n",
       "    </tr>\n",
       "  </tbody>\n",
       "</table>\n",
       "</div>"
      ],
      "text/plain": [
       "                  Predicted high_risk  Predicted low_risk\n",
       "Actual high_risk                  255                 169\n",
       "Actual low_risk                     8                  15"
      ]
     },
     "execution_count": 12,
     "metadata": {},
     "output_type": "execute_result"
    }
   ],
   "source": [
    "# Display the confusion matrix\n",
    "from sklearn.metrics import confusion_matrix\n",
    "cm = confusion_matrix(y_test, y_pred)\n",
    "\n",
    "# Create a DataFrame from the confusion matrix.\n",
    "cm_df = pd.DataFrame(\n",
    "    cm, index=[\"Actual high_risk\", \"Actual low_risk\"], columns=[\"Predicted high_risk\", \"Predicted low_risk\"])\n",
    "cm_df"
   ]
  },
  {
   "cell_type": "code",
   "execution_count": 13,
   "id": "bf200487",
   "metadata": {},
   "outputs": [
    {
     "name": "stdout",
     "output_type": "stream",
     "text": [
      "                   pre       rec       spe        f1       geo       iba       sup\n",
      "\n",
      "          0       0.97      0.60      0.65      0.74      0.63      0.39       424\n",
      "          1       0.08      0.65      0.60      0.14      0.63      0.39        23\n",
      "\n",
      "avg / total       0.92      0.60      0.65      0.71      0.63      0.39       447\n",
      "\n"
     ]
    }
   ],
   "source": [
    "# Print the imbalanced classification report\n",
    "from imblearn.metrics import classification_report_imbalanced\n",
    "print(classification_report_imbalanced(y_test, y_pred))"
   ]
  },
  {
   "cell_type": "code",
   "execution_count": 14,
   "id": "a0d3ec89",
   "metadata": {},
   "outputs": [
    {
     "name": "stdout",
     "output_type": "stream",
     "text": [
      "Review_Date: (0.18994937695810069)\n",
      "Cocoa_Percent: (0.15636604876131738)\n",
      "Bean_Type_None: (0.05545403368337234)\n",
      "Company_Location_United States of America: (0.042962950729592754)\n",
      "Company_Location_France: (0.0423516215540763)\n",
      "Broad_Bean_Origin_Peru: (0.035396303238735494)\n",
      "Broad_Bean_Origin_Venezuela: (0.030358005379409136)\n",
      "Company_Location_Canada: (0.024326957161187365)\n",
      "Broad_Bean_Origin_Ecuador: (0.02336878444976178)\n",
      "Broad_Bean_Origin_Dominican Republic: (0.02063753482617546)\n",
      "Company_Location_Italy: (0.020296177542090725)\n",
      "Broad_Bean_Origin_Papua New Guinea: (0.018870056938019724)\n",
      "Broad_Bean_Origin_Madagascar: (0.01719845730516794)\n",
      "Company_Location_Ecuador: (0.01580790027309902)\n",
      "Broad_Bean_Origin_Brazil: (0.015235677439758474)\n",
      "Broad_Bean_Origin_Unknown: (0.013812688919573657)\n",
      "Broad_Bean_Origin_Guatemala: (0.012416656918067925)\n",
      "Broad_Bean_Origin_Ghana: (0.011031905606013543)\n",
      "Company_Location_England: (0.010475062873625223)\n",
      "Broad_Bean_Origin_Colombia: (0.010429931193636372)\n",
      "Company_Location_Spain: (0.010369130742471852)\n",
      "Company_Location_Australia: (0.010311438843770141)\n",
      "Company_Location_Belgium: (0.010172519826255551)\n",
      "Broad_Bean_Origin_Nicaragua: (0.010066000977914791)\n",
      "Broad_Bean_Origin_Bolivia: (0.009975824360361405)\n",
      "Broad_Bean_Origin_Trinidad Tobago: (0.009869170765676427)\n",
      "Company_Location_Switzerland: (0.009169346845027276)\n",
      "Broad_Bean_Origin_Mexico: (0.008554568202626489)\n",
      "Broad_Bean_Origin_Belize: (0.008424106149908737)\n",
      "Broad_Bean_Origin_Jamaica: (0.007982932454707619)\n",
      "Broad_Bean_Origin_Costa Rica: (0.007851725492419588)\n",
      "Broad_Bean_Origin_Vietnam: (0.007508634161603286)\n",
      "Company_Location_Germany: (0.007334116085264877)\n",
      "Broad_Bean_Origin_Haiti: (0.006558829157305855)\n",
      "Broad_Bean_Origin_Grenada: (0.006216958126732731)\n",
      "Broad_Bean_Origin_Tanzania: (0.006155755662085044)\n",
      "Broad_Bean_Origin_Indonesia: (0.006060018474569092)\n",
      "Company_Location_Scotland: (0.004868769811998814)\n",
      "Broad_Bean_Origin_Sao Tome & Principe: (0.0048305521481623636)\n",
      "Broad_Bean_Origin_Saint Lucia: (0.004255139622772939)\n",
      "Broad_Bean_Origin_Hawaii: (0.004214932922886509)\n",
      "Company_Location_Hungary: (0.004087362766070804)\n",
      "Company_Location_Japan: (0.0036479440763335516)\n",
      "Company_Location_Peru: (0.0035805094813012844)\n",
      "Company_Location_Guatemala: (0.0032742745341276555)\n",
      "Company_Location_Venezuela: (0.003117740474054251)\n",
      "Company_Location_Madagascar: (0.0030852570588407874)\n",
      "Company_Location_New Zealand: (0.003073530311691473)\n",
      "Broad_Bean_Origin_Cuba: (0.0027237627077371356)\n",
      "Broad_Bean_Origin_Other: (0.002662985505715844)\n",
      "Company_Location_Colombia: (0.0026172490331545966)\n",
      "Company_Location_Sweden: (0.0025754754114605243)\n",
      "Broad_Bean_Origin_Honduras: (0.002330765479604563)\n",
      "Company_Location_Austria: (0.002324732896759284)\n",
      "Company_Location_Denmark: (0.002205190758874835)\n",
      "Broad_Bean_Origin_Cote d'Ivorie: (0.0020277866471802982)\n",
      "Company_Location_Brazil: (0.001996873470786721)\n",
      "Broad_Bean_Origin_Fiji: (0.0017070364604899742)\n",
      "Company_Location_Israel: (0.0013990307780019317)\n",
      "Company_Location_Ireland: (0.0013566560988530964)\n",
      "Broad_Bean_Origin_Republic of Congo: (0.001320204888490393)\n",
      "Broad_Bean_Origin_Liberia: (0.001282092285645053)\n",
      "Broad_Bean_Origin_Vanuatu: (0.00105469060048201)\n",
      "Company_Location_Vietnam: (0.0010059305389190562)\n",
      "Broad_Bean_Origin_Australia: (0.0009751189891982532)\n",
      "Company_Location_Mexico: (0.000958924879531637)\n",
      "Broad_Bean_Origin_Puerto Rico: (0.00093273829084597)\n",
      "Company_Location_Grenada: (0.0008921309520773312)\n",
      "Company_Location_Nicaragua: (0.000876331939256397)\n",
      "Company_Location_Argentina: (0.000784837175419324)\n",
      "Company_Location_South Korea: (0.0007267674892511791)\n",
      "Broad_Bean_Origin_Gabon: (0.0006945793051196432)\n",
      "Company_Location_Poland: (0.0006740384513081367)\n",
      "Company_Location_Costa Rica: (0.0006717345777817829)\n",
      "Company_Location_South Africa: (0.0006713837170183764)\n",
      "Broad_Bean_Origin_Panama: (0.0006625946184243048)\n",
      "Company_Location_Suriname: (0.0006549933453889429)\n",
      "Company_Location_Lithuania: (0.0006538637802630047)\n",
      "Broad_Bean_Origin_India: (0.0005818756792186923)\n",
      "Broad_Bean_Origin_Philippines: (0.0005038369550303786)\n",
      "Company_Location_Iceland: (0.00042979788118200865)\n",
      "Broad_Bean_Origin_Other(DR/Jam/Tri): (0.0004272420104876476)\n",
      "Broad_Bean_Origin_Uganda: (0.00041728781788308956)\n",
      "Broad_Bean_Origin_Sri Lanka: (0.00040686997211760524)\n",
      "Company_Location_Portugal: (0.0003919958648857936)\n",
      "Company_Location_Puerto Rico: (0.00038243251198687736)\n",
      "Company_Location_Honduras: (0.0003406227213403596)\n",
      "Company_Location_Chile: (0.0003371253650986062)\n",
      "Company_Location_Fiji: (0.00031742386049146676)\n",
      "Company_Location_Dominican Republic: (0.0003165660730022919)\n",
      "Broad_Bean_Origin_Solomon Islands: (0.00028507214965890965)\n",
      "Company_Location_Czech Republic: (0.00028487947406866235)\n",
      "Broad_Bean_Origin_Myanmar: (0.0002787258591407706)\n",
      "Broad_Bean_Origin_Togo: (0.00024735369205957405)\n",
      "Broad_Bean_Origin_Suriname: (0.0002443504543288664)\n",
      "Company_Location_Netherlands: (0.00020473025134657149)\n",
      "Company_Location_Martinique: (0.00015290331795777222)\n",
      "Broad_Bean_Origin_El Salvador: (0.00011991207917076567)\n",
      "Company_Location_Ghana: (0.00010939200378519142)\n",
      "Broad_Bean_Origin_Samoa: (0.00010434490230507698)\n",
      "Broad_Bean_Origin_Cameroon: (0.00010271230826786421)\n",
      "Company_Location_Singapore: (7.251000131099556e-05)\n",
      "Company_Location_Wales: (6.518504410346874e-05)\n",
      "Broad_Bean_Origin_Nigeria: (4.668795913665976e-05)\n",
      "Company_Location_Bolivia: (4.444142987207227e-05)\n",
      "Company_Location_St. Lucia: (0.0)\n",
      "Company_Location_Sao Tome: (0.0)\n",
      "Company_Location_Russia: (0.0)\n",
      "Company_Location_Philippines: (0.0)\n",
      "Company_Location_India: (0.0)\n",
      "Company_Location_Finland: (0.0)\n",
      "Broad_Bean_Origin_Peru(SMartin,Pangoa,nacional): (0.0)\n",
      "Broad_Bean_Origin_Martinique: (0.0)\n",
      "Broad_Bean_Origin_Malaysia: (0.0)\n"
     ]
    }
   ],
   "source": [
    "# List the features sorted in descending order by feature importance\n",
    "importances = brfc.feature_importances_ \n",
    "\n",
    "features_importance = sorted(zip(brfc.feature_importances_, X.columns), reverse=True)\n",
    "for feature in features_importance:\n",
    "    print(f\"{feature[1]}: ({feature[0]})\")"
   ]
  },
  {
   "cell_type": "markdown",
   "id": "266bee7a",
   "metadata": {},
   "source": [
    "# Easy Ensemble AdaBoost Classifier\n"
   ]
  },
  {
   "cell_type": "code",
   "execution_count": 15,
   "id": "72ae7f8b",
   "metadata": {},
   "outputs": [
    {
     "data": {
      "text/plain": [
       "EasyEnsembleClassifier(n_estimators=100, random_state=1)"
      ]
     },
     "execution_count": 15,
     "metadata": {},
     "output_type": "execute_result"
    }
   ],
   "source": [
    "\n",
    "\n",
    "# Train the EasyEnsembleClassifier\n",
    "from imblearn.ensemble import EasyEnsembleClassifier\n",
    "eec = EasyEnsembleClassifier(n_estimators=100, random_state=1)\n",
    "eec.fit(X_train, y_train)\n",
    "\n"
   ]
  },
  {
   "cell_type": "code",
   "execution_count": 16,
   "id": "206d671e",
   "metadata": {},
   "outputs": [
    {
     "data": {
      "text/plain": [
       "0.6618642329778507"
      ]
     },
     "execution_count": 16,
     "metadata": {},
     "output_type": "execute_result"
    }
   ],
   "source": [
    "# Calculated the balanced accuracy score\n",
    "from sklearn.metrics import balanced_accuracy_score\n",
    "y_pred = eec.predict(X_test)\n",
    "balanced_accuracy_score(y_test, y_pred)"
   ]
  },
  {
   "cell_type": "code",
   "execution_count": 17,
   "id": "3ce3b8fd",
   "metadata": {},
   "outputs": [
    {
     "data": {
      "text/html": [
       "<div>\n",
       "<style scoped>\n",
       "    .dataframe tbody tr th:only-of-type {\n",
       "        vertical-align: middle;\n",
       "    }\n",
       "\n",
       "    .dataframe tbody tr th {\n",
       "        vertical-align: top;\n",
       "    }\n",
       "\n",
       "    .dataframe thead th {\n",
       "        text-align: right;\n",
       "    }\n",
       "</style>\n",
       "<table border=\"1\" class=\"dataframe\">\n",
       "  <thead>\n",
       "    <tr style=\"text-align: right;\">\n",
       "      <th></th>\n",
       "      <th>Predicted high_risk</th>\n",
       "      <th>Predicted low_risk</th>\n",
       "    </tr>\n",
       "  </thead>\n",
       "  <tbody>\n",
       "    <tr>\n",
       "      <th>Actual high_risk</th>\n",
       "      <td>211</td>\n",
       "      <td>213</td>\n",
       "    </tr>\n",
       "    <tr>\n",
       "      <th>Actual low_risk</th>\n",
       "      <td>4</td>\n",
       "      <td>19</td>\n",
       "    </tr>\n",
       "  </tbody>\n",
       "</table>\n",
       "</div>"
      ],
      "text/plain": [
       "                  Predicted high_risk  Predicted low_risk\n",
       "Actual high_risk                  211                 213\n",
       "Actual low_risk                     4                  19"
      ]
     },
     "execution_count": 17,
     "metadata": {},
     "output_type": "execute_result"
    }
   ],
   "source": [
    "# Display the confusion matrix\n",
    "from sklearn.metrics import confusion_matrix\n",
    "cm = confusion_matrix(y_test, y_pred)\n",
    "\n",
    "# Create a DataFrame from the confusion matrix.\n",
    "cm_df = pd.DataFrame(\n",
    "    cm, index=[\"Actual high_risk\", \"Actual low_risk\"], columns=[\"Predicted high_risk\", \"Predicted low_risk\"])\n",
    "cm_df"
   ]
  },
  {
   "cell_type": "code",
   "execution_count": 18,
   "id": "b7dca7af",
   "metadata": {},
   "outputs": [
    {
     "name": "stdout",
     "output_type": "stream",
     "text": [
      "                   pre       rec       spe        f1       geo       iba       sup\n",
      "\n",
      "          0       0.98      0.50      0.83      0.66      0.64      0.40       424\n",
      "          1       0.08      0.83      0.50      0.15      0.64      0.42        23\n",
      "\n",
      "avg / total       0.94      0.51      0.81      0.63      0.64      0.40       447\n",
      "\n"
     ]
    }
   ],
   "source": [
    "# Print the imbalanced classification report\n",
    "from imblearn.metrics import classification_report_imbalanced\n",
    "print(classification_report_imbalanced(y_test, y_pred))"
   ]
  },
  {
   "cell_type": "code",
   "execution_count": null,
   "id": "38f59244",
   "metadata": {},
   "outputs": [],
   "source": []
  }
 ],
 "metadata": {
  "kernelspec": {
   "display_name": "mlenv",
   "language": "python",
   "name": "mlenv"
  },
  "language_info": {
   "codemirror_mode": {
    "name": "ipython",
    "version": 3
   },
   "file_extension": ".py",
   "mimetype": "text/x-python",
   "name": "python",
   "nbconvert_exporter": "python",
   "pygments_lexer": "ipython3",
   "version": "3.7.10"
  }
 },
 "nbformat": 4,
 "nbformat_minor": 5
}
