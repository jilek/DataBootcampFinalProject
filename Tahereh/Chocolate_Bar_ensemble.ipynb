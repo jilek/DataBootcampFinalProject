{
 "cells": [
  {
   "cell_type": "code",
   "execution_count": 1,
   "id": "fb234cfd",
   "metadata": {},
   "outputs": [],
   "source": [
    "import numpy as np\n",
    "import pandas as pd\n",
    "from pathlib import Path\n",
    "from collections import Counter"
   ]
  },
  {
   "cell_type": "code",
   "execution_count": 2,
   "id": "c5c19815",
   "metadata": {},
   "outputs": [],
   "source": [
    "from sklearn.metrics import balanced_accuracy_score\n",
    "from sklearn.metrics import confusion_matrix\n",
    "from imblearn.metrics import classification_report_imbalanced"
   ]
  },
  {
   "cell_type": "code",
   "execution_count": 3,
   "id": "8ef0094e",
   "metadata": {},
   "outputs": [
    {
     "data": {
      "text/html": [
       "<div>\n",
       "<style scoped>\n",
       "    .dataframe tbody tr th:only-of-type {\n",
       "        vertical-align: middle;\n",
       "    }\n",
       "\n",
       "    .dataframe tbody tr th {\n",
       "        vertical-align: top;\n",
       "    }\n",
       "\n",
       "    .dataframe thead th {\n",
       "        text-align: right;\n",
       "    }\n",
       "</style>\n",
       "<table border=\"1\" class=\"dataframe\">\n",
       "  <thead>\n",
       "    <tr style=\"text-align: right;\">\n",
       "      <th></th>\n",
       "      <th>Company</th>\n",
       "      <th>Bean_Origin_or_Bar_Name</th>\n",
       "      <th>REF</th>\n",
       "      <th>Review_Date</th>\n",
       "      <th>Cocoa_Percent</th>\n",
       "      <th>Company_Location</th>\n",
       "      <th>Rating</th>\n",
       "      <th>Bean_Type</th>\n",
       "      <th>Broad_Bean_Origin</th>\n",
       "    </tr>\n",
       "  </thead>\n",
       "  <tbody>\n",
       "    <tr>\n",
       "      <th>0</th>\n",
       "      <td>A. Morin</td>\n",
       "      <td>Agua Grande</td>\n",
       "      <td>1876</td>\n",
       "      <td>2016</td>\n",
       "      <td>63.0</td>\n",
       "      <td>France</td>\n",
       "      <td>3.75</td>\n",
       "      <td>missing</td>\n",
       "      <td>Sao Tome &amp; Principe</td>\n",
       "    </tr>\n",
       "    <tr>\n",
       "      <th>1</th>\n",
       "      <td>A. Morin</td>\n",
       "      <td>Kpime</td>\n",
       "      <td>1676</td>\n",
       "      <td>2015</td>\n",
       "      <td>70.0</td>\n",
       "      <td>France</td>\n",
       "      <td>2.75</td>\n",
       "      <td>missing</td>\n",
       "      <td>Togo</td>\n",
       "    </tr>\n",
       "    <tr>\n",
       "      <th>2</th>\n",
       "      <td>A. Morin</td>\n",
       "      <td>Atsane</td>\n",
       "      <td>1676</td>\n",
       "      <td>2015</td>\n",
       "      <td>70.0</td>\n",
       "      <td>France</td>\n",
       "      <td>3.00</td>\n",
       "      <td>missing</td>\n",
       "      <td>Togo</td>\n",
       "    </tr>\n",
       "    <tr>\n",
       "      <th>3</th>\n",
       "      <td>A. Morin</td>\n",
       "      <td>Akata</td>\n",
       "      <td>1680</td>\n",
       "      <td>2015</td>\n",
       "      <td>70.0</td>\n",
       "      <td>France</td>\n",
       "      <td>3.50</td>\n",
       "      <td>missing</td>\n",
       "      <td>Togo</td>\n",
       "    </tr>\n",
       "    <tr>\n",
       "      <th>4</th>\n",
       "      <td>A. Morin</td>\n",
       "      <td>Quilla</td>\n",
       "      <td>1704</td>\n",
       "      <td>2015</td>\n",
       "      <td>70.0</td>\n",
       "      <td>France</td>\n",
       "      <td>3.50</td>\n",
       "      <td>missing</td>\n",
       "      <td>Peru</td>\n",
       "    </tr>\n",
       "  </tbody>\n",
       "</table>\n",
       "</div>"
      ],
      "text/plain": [
       "    Company Bean_Origin_or_Bar_Name   REF  Review_Date  Cocoa_Percent  \\\n",
       "0  A. Morin             Agua Grande  1876         2016           63.0   \n",
       "1  A. Morin                   Kpime  1676         2015           70.0   \n",
       "2  A. Morin                  Atsane  1676         2015           70.0   \n",
       "3  A. Morin                   Akata  1680         2015           70.0   \n",
       "4  A. Morin                  Quilla  1704         2015           70.0   \n",
       "\n",
       "  Company_Location  Rating Bean_Type    Broad_Bean_Origin  \n",
       "0           France    3.75   missing  Sao Tome & Principe  \n",
       "1           France    2.75   missing                 Togo  \n",
       "2           France    3.00   missing                 Togo  \n",
       "3           France    3.50   missing                 Togo  \n",
       "4           France    3.50   missing                 Peru  "
      ]
     },
     "execution_count": 3,
     "metadata": {},
     "output_type": "execute_result"
    }
   ],
   "source": [
    "# Load the data\n",
    "file_path = Path('clean_flavors_of_cacao.csv')\n",
    "df = pd.read_csv(file_path)\n",
    "df.head()\n"
   ]
  },
  {
   "cell_type": "code",
   "execution_count": 4,
   "id": "6a06a095",
   "metadata": {},
   "outputs": [],
   "source": [
    "#df['Rating'] = df['Rating'].replace(1.0, 'A')\\\n",
    "#.replace( 1.5, 'B')\\\n",
    "#.replace(1.75,'C')\\\n",
    "#.replace(2.0, 'D')\\\n",
    "#.replace(2.25, 'E')\\\n",
    "#.replace(2.5, 'F')\\\n",
    "#.replace(2.75, 'G')\\\n",
    "#.replace(3.0,'H')\\\n",
    "#.replace(3.25, 'I')\\\n",
    "#.replace(3.5, 'J')\\\n",
    "#.replace(3.75, 'K')\\\n",
    "#.replace(4.0, 'L')\\\n",
    "#.replace(5.0, 'M')\n",
    "\n",
    "#df['Rating']"
   ]
  },
  {
   "cell_type": "code",
   "execution_count": 5,
   "id": "9c8938fa",
   "metadata": {},
   "outputs": [
    {
     "data": {
      "text/html": [
       "<div>\n",
       "<style scoped>\n",
       "    .dataframe tbody tr th:only-of-type {\n",
       "        vertical-align: middle;\n",
       "    }\n",
       "\n",
       "    .dataframe tbody tr th {\n",
       "        vertical-align: top;\n",
       "    }\n",
       "\n",
       "    .dataframe thead th {\n",
       "        text-align: right;\n",
       "    }\n",
       "</style>\n",
       "<table border=\"1\" class=\"dataframe\">\n",
       "  <thead>\n",
       "    <tr style=\"text-align: right;\">\n",
       "      <th></th>\n",
       "      <th>Review_Date</th>\n",
       "      <th>Cocoa_Percent</th>\n",
       "      <th>Company_Location</th>\n",
       "      <th>Rating</th>\n",
       "      <th>Bean_Type</th>\n",
       "      <th>Broad_Bean_Origin</th>\n",
       "    </tr>\n",
       "  </thead>\n",
       "  <tbody>\n",
       "    <tr>\n",
       "      <th>0</th>\n",
       "      <td>2016</td>\n",
       "      <td>63.0</td>\n",
       "      <td>France</td>\n",
       "      <td>3.75</td>\n",
       "      <td>missing</td>\n",
       "      <td>Sao Tome &amp; Principe</td>\n",
       "    </tr>\n",
       "    <tr>\n",
       "      <th>1</th>\n",
       "      <td>2015</td>\n",
       "      <td>70.0</td>\n",
       "      <td>France</td>\n",
       "      <td>2.75</td>\n",
       "      <td>missing</td>\n",
       "      <td>Togo</td>\n",
       "    </tr>\n",
       "    <tr>\n",
       "      <th>2</th>\n",
       "      <td>2015</td>\n",
       "      <td>70.0</td>\n",
       "      <td>France</td>\n",
       "      <td>3.00</td>\n",
       "      <td>missing</td>\n",
       "      <td>Togo</td>\n",
       "    </tr>\n",
       "    <tr>\n",
       "      <th>3</th>\n",
       "      <td>2015</td>\n",
       "      <td>70.0</td>\n",
       "      <td>France</td>\n",
       "      <td>3.50</td>\n",
       "      <td>missing</td>\n",
       "      <td>Togo</td>\n",
       "    </tr>\n",
       "    <tr>\n",
       "      <th>4</th>\n",
       "      <td>2015</td>\n",
       "      <td>70.0</td>\n",
       "      <td>France</td>\n",
       "      <td>3.50</td>\n",
       "      <td>missing</td>\n",
       "      <td>Peru</td>\n",
       "    </tr>\n",
       "  </tbody>\n",
       "</table>\n",
       "</div>"
      ],
      "text/plain": [
       "   Review_Date  Cocoa_Percent Company_Location  Rating Bean_Type  \\\n",
       "0         2016           63.0           France    3.75   missing   \n",
       "1         2015           70.0           France    2.75   missing   \n",
       "2         2015           70.0           France    3.00   missing   \n",
       "3         2015           70.0           France    3.50   missing   \n",
       "4         2015           70.0           France    3.50   missing   \n",
       "\n",
       "     Broad_Bean_Origin  \n",
       "0  Sao Tome & Principe  \n",
       "1                 Togo  \n",
       "2                 Togo  \n",
       "3                 Togo  \n",
       "4                 Peru  "
      ]
     },
     "execution_count": 5,
     "metadata": {},
     "output_type": "execute_result"
    }
   ],
   "source": [
    "df= df.drop(columns=[\"Company\", \"REF\",\"Bean_Origin_or_Bar_Name\"], axis=1)\n",
    "df.head()"
   ]
  },
  {
   "cell_type": "code",
   "execution_count": 6,
   "id": "b8c67e17",
   "metadata": {},
   "outputs": [],
   "source": [
    "def bin_ratings(rating):\n",
    "    if rating == 5.75: return 1\n",
    "    if rating == 5.50: return 1\n",
    "    if rating == 5.25: return 1\n",
    "    if rating == 5.00: return 1\n",
    "    \n",
    "    if rating == 4.75: return 1\n",
    "    if rating == 4.50: return 1\n",
    "    if rating == 4.25: return 1\n",
    "    if rating == 4.00: return 1\n",
    "    \n",
    "    if rating == 3.75: return 0\n",
    "    if rating == 3.50: return 0\n",
    "    if rating == 3.25: return 0\n",
    "    if rating == 3.00: return 0\n",
    "\n",
    "    if rating == 2.75: return 0\n",
    "    if rating == 2.50: return 0\n",
    "    if rating == 2.25: return 0\n",
    "    if rating == 2.00: return 0\n",
    "    \n",
    "    if rating == 1.75: return 0\n",
    "    if rating == 1.50: return 0\n",
    "    if rating == 1.25: return 0\n",
    "    if rating == 1.00: return 0\n",
    "    \n",
    "    #print( f\"error: rating={rating} type={type(rating)}\" )\n",
    "    return \"2\"\n",
    "\n",
    "df['Rating'] = df['Rating'].apply(bin_ratings)"
   ]
  },
  {
   "cell_type": "markdown",
   "id": "5539a0c7",
   "metadata": {},
   "source": [
    "# Split the Data into Training and Testing\n"
   ]
  },
  {
   "cell_type": "code",
   "execution_count": 7,
   "id": "447c527b",
   "metadata": {},
   "outputs": [],
   "source": [
    "y = df['Rating']\n",
    "X = df.drop(columns=\"Rating\", axis=1)\n",
    "X = pd.get_dummies(X)"
   ]
  },
  {
   "cell_type": "code",
   "execution_count": 8,
   "id": "d0d1e84a",
   "metadata": {},
   "outputs": [
    {
     "data": {
      "text/plain": [
       "0    1688\n",
       "1      99\n",
       "Name: Rating, dtype: int64"
      ]
     },
     "execution_count": 8,
     "metadata": {},
     "output_type": "execute_result"
    }
   ],
   "source": [
    "# Check the balance of our target values\n",
    "y.value_counts()"
   ]
  },
  {
   "cell_type": "code",
   "execution_count": 9,
   "id": "54584be0",
   "metadata": {},
   "outputs": [],
   "source": [
    "from sklearn.model_selection import train_test_split\n",
    "X_train, X_test, y_train, y_test = train_test_split(X,\n",
    "   y,test_size= 0.3,train_size=0.7 , random_state=1, stratify=y)"
   ]
  },
  {
   "cell_type": "markdown",
   "id": "ce1e9359",
   "metadata": {},
   "source": [
    "# Ensemble Learners"
   ]
  },
  {
   "cell_type": "markdown",
   "id": "f7ce3ce5",
   "metadata": {},
   "source": [
    "## Balanced Random Forest Classifier"
   ]
  },
  {
   "cell_type": "code",
   "execution_count": 10,
   "id": "9aaf6f01",
   "metadata": {},
   "outputs": [
    {
     "data": {
      "text/plain": [
       "BalancedRandomForestClassifier(random_state=1)"
      ]
     },
     "execution_count": 10,
     "metadata": {},
     "output_type": "execute_result"
    }
   ],
   "source": [
    "\n",
    "\n",
    "# Resample the training data with the BalancedRandomForestClassifier\n",
    "from imblearn.ensemble import BalancedRandomForestClassifier\n",
    "\n",
    "brfc = BalancedRandomForestClassifier(n_estimators=100, random_state=1)\n",
    "\n",
    "# train\n",
    "brfc.fit(X_train, y_train)\n",
    "\n"
   ]
  },
  {
   "cell_type": "code",
   "execution_count": 11,
   "id": "f3d95653",
   "metadata": {},
   "outputs": [
    {
     "data": {
      "text/plain": [
       "0.6309664694280079"
      ]
     },
     "execution_count": 11,
     "metadata": {},
     "output_type": "execute_result"
    }
   ],
   "source": [
    "# Calculated the balanced accuracy score\n",
    "from sklearn.metrics import balanced_accuracy_score\n",
    "y_pred = brfc.predict(X_test)\n",
    "balanced_accuracy_score(y_test, y_pred)"
   ]
  },
  {
   "cell_type": "code",
   "execution_count": 12,
   "id": "ab670c1c",
   "metadata": {},
   "outputs": [
    {
     "data": {
      "text/html": [
       "<div>\n",
       "<style scoped>\n",
       "    .dataframe tbody tr th:only-of-type {\n",
       "        vertical-align: middle;\n",
       "    }\n",
       "\n",
       "    .dataframe tbody tr th {\n",
       "        vertical-align: top;\n",
       "    }\n",
       "\n",
       "    .dataframe thead th {\n",
       "        text-align: right;\n",
       "    }\n",
       "</style>\n",
       "<table border=\"1\" class=\"dataframe\">\n",
       "  <thead>\n",
       "    <tr style=\"text-align: right;\">\n",
       "      <th></th>\n",
       "      <th>Predicted high_risk</th>\n",
       "      <th>Predicted low_risk</th>\n",
       "    </tr>\n",
       "  </thead>\n",
       "  <tbody>\n",
       "    <tr>\n",
       "      <th>Actual high_risk</th>\n",
       "      <td>268</td>\n",
       "      <td>239</td>\n",
       "    </tr>\n",
       "    <tr>\n",
       "      <th>Actual low_risk</th>\n",
       "      <td>8</td>\n",
       "      <td>22</td>\n",
       "    </tr>\n",
       "  </tbody>\n",
       "</table>\n",
       "</div>"
      ],
      "text/plain": [
       "                  Predicted high_risk  Predicted low_risk\n",
       "Actual high_risk                  268                 239\n",
       "Actual low_risk                     8                  22"
      ]
     },
     "execution_count": 12,
     "metadata": {},
     "output_type": "execute_result"
    }
   ],
   "source": [
    "# Display the confusion matrix\n",
    "from sklearn.metrics import confusion_matrix\n",
    "cm = confusion_matrix(y_test, y_pred)\n",
    "\n",
    "# Create a DataFrame from the confusion matrix.\n",
    "cm_df = pd.DataFrame(\n",
    "    cm, index=[\"Actual high_risk\", \"Actual low_risk\"], columns=[\"Predicted high_risk\", \"Predicted low_risk\"])\n",
    "cm_df"
   ]
  },
  {
   "cell_type": "code",
   "execution_count": 13,
   "id": "3053d675",
   "metadata": {},
   "outputs": [
    {
     "name": "stdout",
     "output_type": "stream",
     "text": [
      "                   pre       rec       spe        f1       geo       iba       sup\n",
      "\n",
      "          0       0.97      0.53      0.73      0.68      0.62      0.38       507\n",
      "          1       0.08      0.73      0.53      0.15      0.62      0.40        30\n",
      "\n",
      "avg / total       0.92      0.54      0.72      0.65      0.62      0.38       537\n",
      "\n"
     ]
    }
   ],
   "source": [
    "# Print the imbalanced classification report\n",
    "from imblearn.metrics import classification_report_imbalanced\n",
    "print(classification_report_imbalanced(y_test, y_pred))"
   ]
  },
  {
   "cell_type": "code",
   "execution_count": 14,
   "id": "7fb038c0",
   "metadata": {},
   "outputs": [
    {
     "name": "stdout",
     "output_type": "stream",
     "text": [
      "Review_Date: (0.1860679289908285)\n",
      "Cocoa_Percent: (0.15501704956480908)\n",
      "Company_Location_United States of America: (0.032209278870024366)\n",
      "Broad_Bean_Origin_Dominican Republic: (0.03199133618108755)\n",
      "Broad_Bean_Origin_Peru: (0.03148744636496944)\n",
      "Bean_Type_missing: (0.02964063426739646)\n",
      "Company_Location_France: (0.02886557352899661)\n",
      "Bean_Type_Criollo: (0.027574163846396712)\n",
      "Bean_Type_Trinitario: (0.021396617461518656)\n",
      "Company_Location_Canada: (0.02129143741722441)\n",
      "Broad_Bean_Origin_Venezuela: (0.021090069626658728)\n",
      "Broad_Bean_Origin_Ecuador: (0.020782327727494845)\n",
      "Broad_Bean_Origin_Papua New Guinea: (0.020288753004611994)\n",
      "Company_Location_Italy: (0.018080180825062207)\n",
      "Broad_Bean_Origin_Madagascar: (0.016063264224976656)\n",
      "Bean_Type_Forastero: (0.016037078776300572)\n",
      "Company_Location_Ecuador: (0.01474186775581037)\n",
      "Company_Location_Belgium: (0.012532912417808382)\n",
      "Company_Location_Australia: (0.012218808750890504)\n",
      "Broad_Bean_Origin_Brazil: (0.010461537837019788)\n",
      "Company_Location_England: (0.01045960190876233)\n",
      "Broad_Bean_Origin_Bolivia: (0.010422098279982873)\n",
      "Broad_Bean_Origin_Nicaragua: (0.010296374509166562)\n",
      "Broad_Bean_Origin_Jamaica: (0.010285227682529164)\n",
      "Broad_Bean_Origin_Trinidad Tobago: (0.010205082763492896)\n",
      "Broad_Bean_Origin_Costa Rica: (0.010127377938961173)\n",
      "Broad_Bean_Origin_Unknown: (0.010016463748570221)\n",
      "Broad_Bean_Origin_Colombia: (0.009941294004531748)\n",
      "Broad_Bean_Origin_Guatemala: (0.009912939343595913)\n",
      "Company_Location_Spain: (0.00951295138771049)\n",
      "Broad_Bean_Origin_Mexico: (0.009214810187825722)\n",
      "Company_Location_Germany: (0.00880504888802587)\n",
      "Bean_Type_Blend: (0.008225969634107407)\n",
      "Broad_Bean_Origin_Sao Tome & Principe: (0.00684512884740322)\n",
      "Broad_Bean_Origin_Belize: (0.006795485598748519)\n",
      "Company_Location_Peru: (0.006706480509478054)\n",
      "Broad_Bean_Origin_Vietnam: (0.006519591082686202)\n",
      "Broad_Bean_Origin_Ghana: (0.006214461854590833)\n",
      "Company_Location_Switzerland: (0.00616067990359241)\n",
      "Broad_Bean_Origin_Tanzania: (0.005917059450566503)\n",
      "Broad_Bean_Origin_Hawaii: (0.004869424897534516)\n",
      "Broad_Bean_Origin_Indonesia: (0.00450784656843418)\n",
      "Broad_Bean_Origin_Grenada: (0.004325127896503202)\n",
      "Company_Location_Hungary: (0.004281267638153851)\n",
      "Bean_Type_Beniano: (0.0039883974560136716)\n",
      "Company_Location_Venezuela: (0.00387600157762039)\n",
      "Broad_Bean_Origin_Haiti: (0.003862332291673605)\n",
      "Bean_Type_Amazon mix: (0.003748081509231993)\n",
      "Company_Location_Brazil: (0.0036857388269666857)\n",
      "Broad_Bean_Origin_Saint Lucia: (0.003329280400283468)\n",
      "Company_Location_Austria: (0.0032162936406327286)\n",
      "Broad_Bean_Origin_Other: (0.003028380725354495)\n",
      "Company_Location_Madagascar: (0.0028971620571342383)\n",
      "Company_Location_Colombia: (0.0027593876978551737)\n",
      "Company_Location_Japan: (0.002716021506767861)\n",
      "Broad_Bean_Origin_Honduras: (0.0026901798613492528)\n",
      "Company_Location_Guatemala: (0.002453475317204467)\n",
      "Company_Location_Sao Tome: (0.0023230527792415714)\n",
      "Company_Location_Denmark: (0.0022032223812526444)\n",
      "Company_Location_Israel: (0.0021859437524976246)\n",
      "Company_Location_New Zealand: (0.002028203920151795)\n",
      "Company_Location_Scotland: (0.0019604661727408096)\n",
      "Company_Location_Vietnam: (0.0019233928759283898)\n",
      "Company_Location_Poland: (0.0016733859211981426)\n",
      "Broad_Bean_Origin_Vanuatu: (0.001626790752269044)\n",
      "Broad_Bean_Origin_Panama: (0.0016004525123182415)\n",
      "Broad_Bean_Origin_Cuba: (0.0012907370303617202)\n",
      "Company_Location_Dominican Republic: (0.0012299698245630713)\n",
      "Company_Location_Argentina: (0.00115362280729627)\n",
      "Company_Location_Nicaragua: (0.0010307424403416536)\n",
      "Broad_Bean_Origin_Togo: (0.0009184720798306482)\n",
      "Company_Location_Netherlands: (0.000867245436797162)\n",
      "Company_Location_South Korea: (0.0008446064996709615)\n",
      "Broad_Bean_Origin_Sri Lanka: (0.0007914500835859249)\n",
      "Broad_Bean_Origin_Cote d'Ivorie: (0.0007819892013588016)\n",
      "Broad_Bean_Origin_Fiji: (0.0007566735453514644)\n",
      "Company_Location_Costa Rica: (0.0007294311136103556)\n",
      "Bean_Type_EET: (0.0006947650460254094)\n",
      "Broad_Bean_Origin_Liberia: (0.0006907961549128837)\n",
      "Company_Location_South Africa: (0.000659812446654382)\n",
      "Company_Location_Sweden: (0.0006552531843293355)\n",
      "Company_Location_Bolivia: (0.000650245391414718)\n",
      "Broad_Bean_Origin_Philippines: (0.0006401215959590819)\n",
      "Company_Location_Czech Republic: (0.0006009261243695186)\n",
      "Company_Location_Grenada: (0.0005130417296866619)\n",
      "Company_Location_Chile: (0.000510598156472944)\n",
      "Company_Location_Puerto Rico: (0.00048548689348428323)\n",
      "Company_Location_Honduras: (0.0004389509656894437)\n",
      "Company_Location_Philippines: (0.0004172101177351029)\n",
      "Bean_Type_Nacional: (0.00040139331638735745)\n",
      "Broad_Bean_Origin_Uganda: (0.00039778541841685406)\n",
      "Company_Location_Portugal: (0.00036881659256483656)\n",
      "Broad_Bean_Origin_Republic of Congo: (0.00034644009529604715)\n",
      "Broad_Bean_Origin_Cameroon: (0.00031317837771594126)\n",
      "Broad_Bean_Origin_Solomon Islands: (0.00030490379632747936)\n",
      "Company_Location_Mexico: (0.0002867440136310593)\n",
      "Broad_Bean_Origin_Australia: (0.00024767145153965883)\n",
      "Broad_Bean_Origin_India: (0.00023246667690107368)\n",
      "Broad_Bean_Origin_Other(DR/Jam/Tri): (0.000217436974789916)\n",
      "Broad_Bean_Origin_Myanmar: (0.00020075085856557646)\n",
      "Company_Location_St. Lucia: (0.00017195053247246928)\n",
      "Broad_Bean_Origin_Malaysia: (0.0001660713725070836)\n",
      "Bean_Type_Amazon, ICS: (0.00016293228751347466)\n",
      "Company_Location_Fiji: (0.0001576719784971185)\n",
      "Company_Location_Finland: (0.00014447971781305106)\n",
      "Broad_Bean_Origin_Samoa: (8.394415888561093e-05)\n",
      "Broad_Bean_Origin_Suriname: (6.898494781094446e-05)\n",
      "Company_Location_Singapore: (6.209494686529348e-05)\n",
      "Company_Location_Lithuania: (5.1058376772104596e-05)\n",
      "Bean_Type_Matina: (4.66963357588356e-05)\n",
      "Broad_Bean_Origin_Puerto Rico: (1.769230769230784e-05)\n",
      "Company_Location_Iceland: (1.1920300982801012e-05)\n",
      "Broad_Bean_Origin_El Salvador: (3.0613942654319596e-06)\n",
      "Company_Location_Wales: (0.0)\n",
      "Company_Location_Suriname: (0.0)\n",
      "Company_Location_Russia: (0.0)\n",
      "Company_Location_Martinique: (0.0)\n",
      "Company_Location_Ireland: (0.0)\n",
      "Company_Location_India: (0.0)\n",
      "Company_Location_Ghana: (0.0)\n",
      "Broad_Bean_Origin_Peru(SMartin,Pangoa,nacional): (0.0)\n",
      "Broad_Bean_Origin_Nigeria: (0.0)\n",
      "Broad_Bean_Origin_Martinique: (0.0)\n",
      "Broad_Bean_Origin_Gabon: (0.0)\n",
      "Bean_Type_Nacional (Arriba): (0.0)\n",
      "Bean_Type_CCN51: (0.0)\n",
      "Bean_Type_Amazon: (0.0)\n"
     ]
    }
   ],
   "source": [
    "# List the features sorted in descending order by feature importance\n",
    "importances = brfc.feature_importances_ \n",
    "\n",
    "features_importance = sorted(zip(brfc.feature_importances_, X.columns), reverse=True)\n",
    "for feature in features_importance:\n",
    "    print(f\"{feature[1]}: ({feature[0]})\")"
   ]
  },
  {
   "cell_type": "markdown",
   "id": "51b1d63b",
   "metadata": {},
   "source": [
    "# Easy Ensemble AdaBoost Classifier\n"
   ]
  },
  {
   "cell_type": "code",
   "execution_count": 15,
   "id": "f3605de6",
   "metadata": {},
   "outputs": [
    {
     "data": {
      "text/plain": [
       "EasyEnsembleClassifier(n_estimators=100, random_state=1)"
      ]
     },
     "execution_count": 15,
     "metadata": {},
     "output_type": "execute_result"
    }
   ],
   "source": [
    "\n",
    "\n",
    "# Train the EasyEnsembleClassifier\n",
    "from imblearn.ensemble import EasyEnsembleClassifier\n",
    "eec = EasyEnsembleClassifier(n_estimators=100, random_state=1)\n",
    "eec.fit(X_train, y_train)\n",
    "\n"
   ]
  },
  {
   "cell_type": "code",
   "execution_count": 16,
   "id": "700ce305",
   "metadata": {},
   "outputs": [
    {
     "data": {
      "text/plain": [
       "0.6269230769230769"
      ]
     },
     "execution_count": 16,
     "metadata": {},
     "output_type": "execute_result"
    }
   ],
   "source": [
    "# Calculated the balanced accuracy score\n",
    "from sklearn.metrics import balanced_accuracy_score\n",
    "y_pred = eec.predict(X_test)\n",
    "balanced_accuracy_score(y_test, y_pred)"
   ]
  },
  {
   "cell_type": "code",
   "execution_count": 17,
   "id": "4680acde",
   "metadata": {},
   "outputs": [
    {
     "data": {
      "text/html": [
       "<div>\n",
       "<style scoped>\n",
       "    .dataframe tbody tr th:only-of-type {\n",
       "        vertical-align: middle;\n",
       "    }\n",
       "\n",
       "    .dataframe tbody tr th {\n",
       "        vertical-align: top;\n",
       "    }\n",
       "\n",
       "    .dataframe thead th {\n",
       "        text-align: right;\n",
       "    }\n",
       "</style>\n",
       "<table border=\"1\" class=\"dataframe\">\n",
       "  <thead>\n",
       "    <tr style=\"text-align: right;\">\n",
       "      <th></th>\n",
       "      <th>Predicted high_risk</th>\n",
       "      <th>Predicted low_risk</th>\n",
       "    </tr>\n",
       "  </thead>\n",
       "  <tbody>\n",
       "    <tr>\n",
       "      <th>Actual high_risk</th>\n",
       "      <td>247</td>\n",
       "      <td>260</td>\n",
       "    </tr>\n",
       "    <tr>\n",
       "      <th>Actual low_risk</th>\n",
       "      <td>7</td>\n",
       "      <td>23</td>\n",
       "    </tr>\n",
       "  </tbody>\n",
       "</table>\n",
       "</div>"
      ],
      "text/plain": [
       "                  Predicted high_risk  Predicted low_risk\n",
       "Actual high_risk                  247                 260\n",
       "Actual low_risk                     7                  23"
      ]
     },
     "execution_count": 17,
     "metadata": {},
     "output_type": "execute_result"
    }
   ],
   "source": [
    "# Display the confusion matrix\n",
    "from sklearn.metrics import confusion_matrix\n",
    "cm = confusion_matrix(y_test, y_pred)\n",
    "\n",
    "# Create a DataFrame from the confusion matrix.\n",
    "cm_df = pd.DataFrame(\n",
    "    cm, index=[\"Actual high_risk\", \"Actual low_risk\"], columns=[\"Predicted high_risk\", \"Predicted low_risk\"])\n",
    "cm_df"
   ]
  },
  {
   "cell_type": "code",
   "execution_count": 18,
   "id": "7ba693ad",
   "metadata": {},
   "outputs": [
    {
     "name": "stdout",
     "output_type": "stream",
     "text": [
      "                   pre       rec       spe        f1       geo       iba       sup\n",
      "\n",
      "          0       0.97      0.49      0.77      0.65      0.61      0.36       507\n",
      "          1       0.08      0.77      0.49      0.15      0.61      0.38        30\n",
      "\n",
      "avg / total       0.92      0.50      0.75      0.62      0.61      0.36       537\n",
      "\n"
     ]
    }
   ],
   "source": [
    "# Print the imbalanced classification report\n",
    "from imblearn.metrics import classification_report_imbalanced\n",
    "print(classification_report_imbalanced(y_test, y_pred))"
   ]
  },
  {
   "cell_type": "code",
   "execution_count": null,
   "id": "60d23d3f",
   "metadata": {},
   "outputs": [],
   "source": []
  },
  {
   "cell_type": "code",
   "execution_count": null,
   "id": "9ef45539",
   "metadata": {},
   "outputs": [],
   "source": []
  }
 ],
 "metadata": {
  "kernelspec": {
   "display_name": "mlenv",
   "language": "python",
   "name": "mlenv"
  },
  "language_info": {
   "codemirror_mode": {
    "name": "ipython",
    "version": 3
   },
   "file_extension": ".py",
   "mimetype": "text/x-python",
   "name": "python",
   "nbconvert_exporter": "python",
   "pygments_lexer": "ipython3",
   "version": "3.7.10"
  }
 },
 "nbformat": 4,
 "nbformat_minor": 5
}
