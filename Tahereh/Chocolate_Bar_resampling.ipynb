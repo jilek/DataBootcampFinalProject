{
 "cells": [
  {
   "cell_type": "code",
   "execution_count": 1,
   "id": "fdd9dd98",
   "metadata": {},
   "outputs": [],
   "source": [
    "\n",
    "import numpy as np\n",
    "import pandas as pd\n",
    "from pathlib import Path\n",
    "from collections import Counter\n",
    "\n"
   ]
  },
  {
   "cell_type": "markdown",
   "id": "26255bd8",
   "metadata": {},
   "source": [
    "# Read the clean_flavors_of_cacao.csv"
   ]
  },
  {
   "cell_type": "code",
   "execution_count": 2,
   "id": "7c44c73c",
   "metadata": {},
   "outputs": [
    {
     "data": {
      "text/html": [
       "<div>\n",
       "<style scoped>\n",
       "    .dataframe tbody tr th:only-of-type {\n",
       "        vertical-align: middle;\n",
       "    }\n",
       "\n",
       "    .dataframe tbody tr th {\n",
       "        vertical-align: top;\n",
       "    }\n",
       "\n",
       "    .dataframe thead th {\n",
       "        text-align: right;\n",
       "    }\n",
       "</style>\n",
       "<table border=\"1\" class=\"dataframe\">\n",
       "  <thead>\n",
       "    <tr style=\"text-align: right;\">\n",
       "      <th></th>\n",
       "      <th>Company</th>\n",
       "      <th>Bean_Origin_or_Bar_Name</th>\n",
       "      <th>REF</th>\n",
       "      <th>Review_Date</th>\n",
       "      <th>Cocoa_Percent</th>\n",
       "      <th>Company_Location</th>\n",
       "      <th>Rating</th>\n",
       "      <th>Bean_Type</th>\n",
       "      <th>Broad_Bean_Origin</th>\n",
       "    </tr>\n",
       "  </thead>\n",
       "  <tbody>\n",
       "    <tr>\n",
       "      <th>0</th>\n",
       "      <td>A. Morin</td>\n",
       "      <td>Agua Grande</td>\n",
       "      <td>1876</td>\n",
       "      <td>2016</td>\n",
       "      <td>63.0</td>\n",
       "      <td>France</td>\n",
       "      <td>3.75</td>\n",
       "      <td>missing</td>\n",
       "      <td>Sao Tome &amp; Principe</td>\n",
       "    </tr>\n",
       "    <tr>\n",
       "      <th>1</th>\n",
       "      <td>A. Morin</td>\n",
       "      <td>Kpime</td>\n",
       "      <td>1676</td>\n",
       "      <td>2015</td>\n",
       "      <td>70.0</td>\n",
       "      <td>France</td>\n",
       "      <td>2.75</td>\n",
       "      <td>missing</td>\n",
       "      <td>Togo</td>\n",
       "    </tr>\n",
       "    <tr>\n",
       "      <th>2</th>\n",
       "      <td>A. Morin</td>\n",
       "      <td>Atsane</td>\n",
       "      <td>1676</td>\n",
       "      <td>2015</td>\n",
       "      <td>70.0</td>\n",
       "      <td>France</td>\n",
       "      <td>3.00</td>\n",
       "      <td>missing</td>\n",
       "      <td>Togo</td>\n",
       "    </tr>\n",
       "    <tr>\n",
       "      <th>3</th>\n",
       "      <td>A. Morin</td>\n",
       "      <td>Akata</td>\n",
       "      <td>1680</td>\n",
       "      <td>2015</td>\n",
       "      <td>70.0</td>\n",
       "      <td>France</td>\n",
       "      <td>3.50</td>\n",
       "      <td>missing</td>\n",
       "      <td>Togo</td>\n",
       "    </tr>\n",
       "    <tr>\n",
       "      <th>4</th>\n",
       "      <td>A. Morin</td>\n",
       "      <td>Quilla</td>\n",
       "      <td>1704</td>\n",
       "      <td>2015</td>\n",
       "      <td>70.0</td>\n",
       "      <td>France</td>\n",
       "      <td>3.50</td>\n",
       "      <td>missing</td>\n",
       "      <td>Peru</td>\n",
       "    </tr>\n",
       "  </tbody>\n",
       "</table>\n",
       "</div>"
      ],
      "text/plain": [
       "    Company Bean_Origin_or_Bar_Name   REF  Review_Date  Cocoa_Percent  \\\n",
       "0  A. Morin             Agua Grande  1876         2016           63.0   \n",
       "1  A. Morin                   Kpime  1676         2015           70.0   \n",
       "2  A. Morin                  Atsane  1676         2015           70.0   \n",
       "3  A. Morin                   Akata  1680         2015           70.0   \n",
       "4  A. Morin                  Quilla  1704         2015           70.0   \n",
       "\n",
       "  Company_Location  Rating Bean_Type    Broad_Bean_Origin  \n",
       "0           France    3.75   missing  Sao Tome & Principe  \n",
       "1           France    2.75   missing                 Togo  \n",
       "2           France    3.00   missing                 Togo  \n",
       "3           France    3.50   missing                 Togo  \n",
       "4           France    3.50   missing                 Peru  "
      ]
     },
     "execution_count": 2,
     "metadata": {},
     "output_type": "execute_result"
    }
   ],
   "source": [
    "# Load the data\n",
    "file_path = Path('clean_flavors_of_cacao.csv')\n",
    "df = pd.read_csv(file_path)\n",
    "df.head()\n"
   ]
  },
  {
   "cell_type": "code",
   "execution_count": 3,
   "id": "4b2b30fd",
   "metadata": {},
   "outputs": [
    {
     "data": {
      "text/html": [
       "<div>\n",
       "<style scoped>\n",
       "    .dataframe tbody tr th:only-of-type {\n",
       "        vertical-align: middle;\n",
       "    }\n",
       "\n",
       "    .dataframe tbody tr th {\n",
       "        vertical-align: top;\n",
       "    }\n",
       "\n",
       "    .dataframe thead th {\n",
       "        text-align: right;\n",
       "    }\n",
       "</style>\n",
       "<table border=\"1\" class=\"dataframe\">\n",
       "  <thead>\n",
       "    <tr style=\"text-align: right;\">\n",
       "      <th></th>\n",
       "      <th>Company</th>\n",
       "      <th>Review_Date</th>\n",
       "      <th>Cocoa_Percent</th>\n",
       "      <th>Company_Location</th>\n",
       "      <th>Rating</th>\n",
       "      <th>Bean_Type</th>\n",
       "      <th>Broad_Bean_Origin</th>\n",
       "    </tr>\n",
       "  </thead>\n",
       "  <tbody>\n",
       "    <tr>\n",
       "      <th>0</th>\n",
       "      <td>A. Morin</td>\n",
       "      <td>2016</td>\n",
       "      <td>63.0</td>\n",
       "      <td>France</td>\n",
       "      <td>3.75</td>\n",
       "      <td>missing</td>\n",
       "      <td>Sao Tome &amp; Principe</td>\n",
       "    </tr>\n",
       "    <tr>\n",
       "      <th>1</th>\n",
       "      <td>A. Morin</td>\n",
       "      <td>2015</td>\n",
       "      <td>70.0</td>\n",
       "      <td>France</td>\n",
       "      <td>2.75</td>\n",
       "      <td>missing</td>\n",
       "      <td>Togo</td>\n",
       "    </tr>\n",
       "    <tr>\n",
       "      <th>2</th>\n",
       "      <td>A. Morin</td>\n",
       "      <td>2015</td>\n",
       "      <td>70.0</td>\n",
       "      <td>France</td>\n",
       "      <td>3.00</td>\n",
       "      <td>missing</td>\n",
       "      <td>Togo</td>\n",
       "    </tr>\n",
       "    <tr>\n",
       "      <th>3</th>\n",
       "      <td>A. Morin</td>\n",
       "      <td>2015</td>\n",
       "      <td>70.0</td>\n",
       "      <td>France</td>\n",
       "      <td>3.50</td>\n",
       "      <td>missing</td>\n",
       "      <td>Togo</td>\n",
       "    </tr>\n",
       "    <tr>\n",
       "      <th>4</th>\n",
       "      <td>A. Morin</td>\n",
       "      <td>2015</td>\n",
       "      <td>70.0</td>\n",
       "      <td>France</td>\n",
       "      <td>3.50</td>\n",
       "      <td>missing</td>\n",
       "      <td>Peru</td>\n",
       "    </tr>\n",
       "  </tbody>\n",
       "</table>\n",
       "</div>"
      ],
      "text/plain": [
       "    Company  Review_Date  Cocoa_Percent Company_Location  Rating Bean_Type  \\\n",
       "0  A. Morin         2016           63.0           France    3.75   missing   \n",
       "1  A. Morin         2015           70.0           France    2.75   missing   \n",
       "2  A. Morin         2015           70.0           France    3.00   missing   \n",
       "3  A. Morin         2015           70.0           France    3.50   missing   \n",
       "4  A. Morin         2015           70.0           France    3.50   missing   \n",
       "\n",
       "     Broad_Bean_Origin  \n",
       "0  Sao Tome & Principe  \n",
       "1                 Togo  \n",
       "2                 Togo  \n",
       "3                 Togo  \n",
       "4                 Peru  "
      ]
     },
     "execution_count": 3,
     "metadata": {},
     "output_type": "execute_result"
    }
   ],
   "source": [
    "df= df.drop(columns=[\"REF\",\"Bean_Origin_or_Bar_Name\"], axis=1)\n",
    "df.head()"
   ]
  },
  {
   "cell_type": "code",
   "execution_count": 4,
   "id": "7d13e0fd",
   "metadata": {},
   "outputs": [
    {
     "data": {
      "text/plain": [
       "count    1787.000000\n",
       "mean        3.186766\n",
       "std         0.477579\n",
       "min         1.000000\n",
       "25%         3.000000\n",
       "50%         3.250000\n",
       "75%         3.500000\n",
       "max         5.000000\n",
       "Name: Rating, dtype: float64"
      ]
     },
     "execution_count": 4,
     "metadata": {},
     "output_type": "execute_result"
    }
   ],
   "source": [
    "df['Rating'].describe()\n"
   ]
  },
  {
   "cell_type": "code",
   "execution_count": 5,
   "id": "c627ec3d",
   "metadata": {},
   "outputs": [],
   "source": [
    "def bin_ratings(rating):\n",
    "    if rating == 5.75: return 1\n",
    "    if rating == 5.50: return 1\n",
    "    if rating == 5.25: return 1\n",
    "    if rating == 5.00: return 1\n",
    "    \n",
    "    if rating == 4.75: return 1\n",
    "    if rating == 4.50: return 1\n",
    "    if rating == 4.25: return 1\n",
    "    if rating == 4.00: return 1\n",
    "    \n",
    "    if rating == 3.75: return 1\n",
    "    if rating == 3.50: return 1\n",
    "    if rating == 3.25: return 0\n",
    "    if rating == 3.00: return 0\n",
    "\n",
    "    if rating == 2.75: return 0\n",
    "    if rating == 2.50: return 0\n",
    "    if rating == 2.25: return 0\n",
    "    if rating == 2.00: return 0\n",
    "    \n",
    "    if rating == 1.75: return 0\n",
    "    if rating == 1.50: return 0\n",
    "    if rating == 1.25: return 0\n",
    "    if rating == 1.00: return 0\n",
    "    \n",
    "    #print( f\"error: rating={rating} type={type(rating)}\" )\n",
    "    return \"2\""
   ]
  },
  {
   "cell_type": "code",
   "execution_count": 6,
   "id": "76e763c8",
   "metadata": {},
   "outputs": [],
   "source": [
    "df['Rating'] = df['Rating'].apply(bin_ratings)"
   ]
  },
  {
   "cell_type": "markdown",
   "id": "91a35796",
   "metadata": {},
   "source": [
    "# Split the Data into Training and Testing\n"
   ]
  },
  {
   "cell_type": "code",
   "execution_count": 7,
   "id": "a2867bea",
   "metadata": {},
   "outputs": [],
   "source": [
    "y = df[\"Rating\"]\n",
    "X = df.drop(columns=\"Rating\")\n",
    "X = pd.get_dummies(X)"
   ]
  },
  {
   "cell_type": "code",
   "execution_count": 8,
   "id": "b5a450c2",
   "metadata": {},
   "outputs": [
    {
     "data": {
      "text/html": [
       "<div>\n",
       "<style scoped>\n",
       "    .dataframe tbody tr th:only-of-type {\n",
       "        vertical-align: middle;\n",
       "    }\n",
       "\n",
       "    .dataframe tbody tr th {\n",
       "        vertical-align: top;\n",
       "    }\n",
       "\n",
       "    .dataframe thead th {\n",
       "        text-align: right;\n",
       "    }\n",
       "</style>\n",
       "<table border=\"1\" class=\"dataframe\">\n",
       "  <thead>\n",
       "    <tr style=\"text-align: right;\">\n",
       "      <th></th>\n",
       "      <th>Review_Date</th>\n",
       "      <th>Cocoa_Percent</th>\n",
       "      <th>Company_A. Morin</th>\n",
       "      <th>Company_AMMA</th>\n",
       "      <th>Company_Acalli</th>\n",
       "      <th>Company_Adi</th>\n",
       "      <th>Company_Aequare (Gianduja)</th>\n",
       "      <th>Company_Ah Cacao</th>\n",
       "      <th>Company_Akesson's (Pralus)</th>\n",
       "      <th>Company_Alain Ducasse</th>\n",
       "      <th>...</th>\n",
       "      <th>Broad_Bean_Origin_Sri Lanka</th>\n",
       "      <th>Broad_Bean_Origin_Suriname</th>\n",
       "      <th>Broad_Bean_Origin_Tanzania</th>\n",
       "      <th>Broad_Bean_Origin_Togo</th>\n",
       "      <th>Broad_Bean_Origin_Trinidad Tobago</th>\n",
       "      <th>Broad_Bean_Origin_Uganda</th>\n",
       "      <th>Broad_Bean_Origin_Unknown</th>\n",
       "      <th>Broad_Bean_Origin_Vanuatu</th>\n",
       "      <th>Broad_Bean_Origin_Venezuela</th>\n",
       "      <th>Broad_Bean_Origin_Vietnam</th>\n",
       "    </tr>\n",
       "  </thead>\n",
       "  <tbody>\n",
       "    <tr>\n",
       "      <th>count</th>\n",
       "      <td>1787.000000</td>\n",
       "      <td>1787.000000</td>\n",
       "      <td>1787.000000</td>\n",
       "      <td>1787.000000</td>\n",
       "      <td>1787.000000</td>\n",
       "      <td>1787.000000</td>\n",
       "      <td>1787.000000</td>\n",
       "      <td>1787.000000</td>\n",
       "      <td>1787.000000</td>\n",
       "      <td>1787.000000</td>\n",
       "      <td>...</td>\n",
       "      <td>1787.000000</td>\n",
       "      <td>1787.000000</td>\n",
       "      <td>1787.000000</td>\n",
       "      <td>1787.000000</td>\n",
       "      <td>1787.000000</td>\n",
       "      <td>1787.000000</td>\n",
       "      <td>1787.000000</td>\n",
       "      <td>1787.000000</td>\n",
       "      <td>1787.000000</td>\n",
       "      <td>1787.000000</td>\n",
       "    </tr>\n",
       "    <tr>\n",
       "      <th>mean</th>\n",
       "      <td>2012.324566</td>\n",
       "      <td>71.701735</td>\n",
       "      <td>0.012871</td>\n",
       "      <td>0.002798</td>\n",
       "      <td>0.001119</td>\n",
       "      <td>0.002238</td>\n",
       "      <td>0.001119</td>\n",
       "      <td>0.000560</td>\n",
       "      <td>0.001679</td>\n",
       "      <td>0.002798</td>\n",
       "      <td>...</td>\n",
       "      <td>0.001119</td>\n",
       "      <td>0.000560</td>\n",
       "      <td>0.019026</td>\n",
       "      <td>0.001679</td>\n",
       "      <td>0.021824</td>\n",
       "      <td>0.003917</td>\n",
       "      <td>0.040851</td>\n",
       "      <td>0.003917</td>\n",
       "      <td>0.125350</td>\n",
       "      <td>0.021265</td>\n",
       "    </tr>\n",
       "    <tr>\n",
       "      <th>std</th>\n",
       "      <td>2.930680</td>\n",
       "      <td>6.331193</td>\n",
       "      <td>0.112748</td>\n",
       "      <td>0.052837</td>\n",
       "      <td>0.033445</td>\n",
       "      <td>0.047272</td>\n",
       "      <td>0.033445</td>\n",
       "      <td>0.023656</td>\n",
       "      <td>0.040950</td>\n",
       "      <td>0.052837</td>\n",
       "      <td>...</td>\n",
       "      <td>0.033445</td>\n",
       "      <td>0.023656</td>\n",
       "      <td>0.136656</td>\n",
       "      <td>0.040950</td>\n",
       "      <td>0.146150</td>\n",
       "      <td>0.062482</td>\n",
       "      <td>0.197999</td>\n",
       "      <td>0.062482</td>\n",
       "      <td>0.331208</td>\n",
       "      <td>0.144306</td>\n",
       "    </tr>\n",
       "    <tr>\n",
       "      <th>min</th>\n",
       "      <td>2006.000000</td>\n",
       "      <td>42.000000</td>\n",
       "      <td>0.000000</td>\n",
       "      <td>0.000000</td>\n",
       "      <td>0.000000</td>\n",
       "      <td>0.000000</td>\n",
       "      <td>0.000000</td>\n",
       "      <td>0.000000</td>\n",
       "      <td>0.000000</td>\n",
       "      <td>0.000000</td>\n",
       "      <td>...</td>\n",
       "      <td>0.000000</td>\n",
       "      <td>0.000000</td>\n",
       "      <td>0.000000</td>\n",
       "      <td>0.000000</td>\n",
       "      <td>0.000000</td>\n",
       "      <td>0.000000</td>\n",
       "      <td>0.000000</td>\n",
       "      <td>0.000000</td>\n",
       "      <td>0.000000</td>\n",
       "      <td>0.000000</td>\n",
       "    </tr>\n",
       "    <tr>\n",
       "      <th>25%</th>\n",
       "      <td>2010.000000</td>\n",
       "      <td>70.000000</td>\n",
       "      <td>0.000000</td>\n",
       "      <td>0.000000</td>\n",
       "      <td>0.000000</td>\n",
       "      <td>0.000000</td>\n",
       "      <td>0.000000</td>\n",
       "      <td>0.000000</td>\n",
       "      <td>0.000000</td>\n",
       "      <td>0.000000</td>\n",
       "      <td>...</td>\n",
       "      <td>0.000000</td>\n",
       "      <td>0.000000</td>\n",
       "      <td>0.000000</td>\n",
       "      <td>0.000000</td>\n",
       "      <td>0.000000</td>\n",
       "      <td>0.000000</td>\n",
       "      <td>0.000000</td>\n",
       "      <td>0.000000</td>\n",
       "      <td>0.000000</td>\n",
       "      <td>0.000000</td>\n",
       "    </tr>\n",
       "    <tr>\n",
       "      <th>50%</th>\n",
       "      <td>2013.000000</td>\n",
       "      <td>70.000000</td>\n",
       "      <td>0.000000</td>\n",
       "      <td>0.000000</td>\n",
       "      <td>0.000000</td>\n",
       "      <td>0.000000</td>\n",
       "      <td>0.000000</td>\n",
       "      <td>0.000000</td>\n",
       "      <td>0.000000</td>\n",
       "      <td>0.000000</td>\n",
       "      <td>...</td>\n",
       "      <td>0.000000</td>\n",
       "      <td>0.000000</td>\n",
       "      <td>0.000000</td>\n",
       "      <td>0.000000</td>\n",
       "      <td>0.000000</td>\n",
       "      <td>0.000000</td>\n",
       "      <td>0.000000</td>\n",
       "      <td>0.000000</td>\n",
       "      <td>0.000000</td>\n",
       "      <td>0.000000</td>\n",
       "    </tr>\n",
       "    <tr>\n",
       "      <th>75%</th>\n",
       "      <td>2015.000000</td>\n",
       "      <td>75.000000</td>\n",
       "      <td>0.000000</td>\n",
       "      <td>0.000000</td>\n",
       "      <td>0.000000</td>\n",
       "      <td>0.000000</td>\n",
       "      <td>0.000000</td>\n",
       "      <td>0.000000</td>\n",
       "      <td>0.000000</td>\n",
       "      <td>0.000000</td>\n",
       "      <td>...</td>\n",
       "      <td>0.000000</td>\n",
       "      <td>0.000000</td>\n",
       "      <td>0.000000</td>\n",
       "      <td>0.000000</td>\n",
       "      <td>0.000000</td>\n",
       "      <td>0.000000</td>\n",
       "      <td>0.000000</td>\n",
       "      <td>0.000000</td>\n",
       "      <td>0.000000</td>\n",
       "      <td>0.000000</td>\n",
       "    </tr>\n",
       "    <tr>\n",
       "      <th>max</th>\n",
       "      <td>2017.000000</td>\n",
       "      <td>100.000000</td>\n",
       "      <td>1.000000</td>\n",
       "      <td>1.000000</td>\n",
       "      <td>1.000000</td>\n",
       "      <td>1.000000</td>\n",
       "      <td>1.000000</td>\n",
       "      <td>1.000000</td>\n",
       "      <td>1.000000</td>\n",
       "      <td>1.000000</td>\n",
       "      <td>...</td>\n",
       "      <td>1.000000</td>\n",
       "      <td>1.000000</td>\n",
       "      <td>1.000000</td>\n",
       "      <td>1.000000</td>\n",
       "      <td>1.000000</td>\n",
       "      <td>1.000000</td>\n",
       "      <td>1.000000</td>\n",
       "      <td>1.000000</td>\n",
       "      <td>1.000000</td>\n",
       "      <td>1.000000</td>\n",
       "    </tr>\n",
       "  </tbody>\n",
       "</table>\n",
       "<p>8 rows × 542 columns</p>\n",
       "</div>"
      ],
      "text/plain": [
       "       Review_Date  Cocoa_Percent  Company_A. Morin  Company_AMMA  \\\n",
       "count  1787.000000    1787.000000       1787.000000   1787.000000   \n",
       "mean   2012.324566      71.701735          0.012871      0.002798   \n",
       "std       2.930680       6.331193          0.112748      0.052837   \n",
       "min    2006.000000      42.000000          0.000000      0.000000   \n",
       "25%    2010.000000      70.000000          0.000000      0.000000   \n",
       "50%    2013.000000      70.000000          0.000000      0.000000   \n",
       "75%    2015.000000      75.000000          0.000000      0.000000   \n",
       "max    2017.000000     100.000000          1.000000      1.000000   \n",
       "\n",
       "       Company_Acalli  Company_Adi  Company_Aequare (Gianduja)  \\\n",
       "count     1787.000000  1787.000000                 1787.000000   \n",
       "mean         0.001119     0.002238                    0.001119   \n",
       "std          0.033445     0.047272                    0.033445   \n",
       "min          0.000000     0.000000                    0.000000   \n",
       "25%          0.000000     0.000000                    0.000000   \n",
       "50%          0.000000     0.000000                    0.000000   \n",
       "75%          0.000000     0.000000                    0.000000   \n",
       "max          1.000000     1.000000                    1.000000   \n",
       "\n",
       "       Company_Ah Cacao  Company_Akesson's (Pralus)  Company_Alain Ducasse  \\\n",
       "count       1787.000000                 1787.000000            1787.000000   \n",
       "mean           0.000560                    0.001679               0.002798   \n",
       "std            0.023656                    0.040950               0.052837   \n",
       "min            0.000000                    0.000000               0.000000   \n",
       "25%            0.000000                    0.000000               0.000000   \n",
       "50%            0.000000                    0.000000               0.000000   \n",
       "75%            0.000000                    0.000000               0.000000   \n",
       "max            1.000000                    1.000000               1.000000   \n",
       "\n",
       "       ...  Broad_Bean_Origin_Sri Lanka  Broad_Bean_Origin_Suriname  \\\n",
       "count  ...                  1787.000000                 1787.000000   \n",
       "mean   ...                     0.001119                    0.000560   \n",
       "std    ...                     0.033445                    0.023656   \n",
       "min    ...                     0.000000                    0.000000   \n",
       "25%    ...                     0.000000                    0.000000   \n",
       "50%    ...                     0.000000                    0.000000   \n",
       "75%    ...                     0.000000                    0.000000   \n",
       "max    ...                     1.000000                    1.000000   \n",
       "\n",
       "       Broad_Bean_Origin_Tanzania  Broad_Bean_Origin_Togo  \\\n",
       "count                 1787.000000             1787.000000   \n",
       "mean                     0.019026                0.001679   \n",
       "std                      0.136656                0.040950   \n",
       "min                      0.000000                0.000000   \n",
       "25%                      0.000000                0.000000   \n",
       "50%                      0.000000                0.000000   \n",
       "75%                      0.000000                0.000000   \n",
       "max                      1.000000                1.000000   \n",
       "\n",
       "       Broad_Bean_Origin_Trinidad Tobago  Broad_Bean_Origin_Uganda  \\\n",
       "count                        1787.000000               1787.000000   \n",
       "mean                            0.021824                  0.003917   \n",
       "std                             0.146150                  0.062482   \n",
       "min                             0.000000                  0.000000   \n",
       "25%                             0.000000                  0.000000   \n",
       "50%                             0.000000                  0.000000   \n",
       "75%                             0.000000                  0.000000   \n",
       "max                             1.000000                  1.000000   \n",
       "\n",
       "       Broad_Bean_Origin_Unknown  Broad_Bean_Origin_Vanuatu  \\\n",
       "count                1787.000000                1787.000000   \n",
       "mean                    0.040851                   0.003917   \n",
       "std                     0.197999                   0.062482   \n",
       "min                     0.000000                   0.000000   \n",
       "25%                     0.000000                   0.000000   \n",
       "50%                     0.000000                   0.000000   \n",
       "75%                     0.000000                   0.000000   \n",
       "max                     1.000000                   1.000000   \n",
       "\n",
       "       Broad_Bean_Origin_Venezuela  Broad_Bean_Origin_Vietnam  \n",
       "count                  1787.000000                1787.000000  \n",
       "mean                      0.125350                   0.021265  \n",
       "std                       0.331208                   0.144306  \n",
       "min                       0.000000                   0.000000  \n",
       "25%                       0.000000                   0.000000  \n",
       "50%                       0.000000                   0.000000  \n",
       "75%                       0.000000                   0.000000  \n",
       "max                       1.000000                   1.000000  \n",
       "\n",
       "[8 rows x 542 columns]"
      ]
     },
     "execution_count": 8,
     "metadata": {},
     "output_type": "execute_result"
    }
   ],
   "source": [
    "X.describe()"
   ]
  },
  {
   "cell_type": "code",
   "execution_count": 9,
   "id": "e62ffdfd",
   "metadata": {},
   "outputs": [
    {
     "data": {
      "text/plain": [
       "0    1087\n",
       "1     700\n",
       "Name: Rating, dtype: int64"
      ]
     },
     "execution_count": 9,
     "metadata": {},
     "output_type": "execute_result"
    }
   ],
   "source": [
    "# Check the balance of our target values\n",
    "y.value_counts()"
   ]
  },
  {
   "cell_type": "code",
   "execution_count": 10,
   "id": "b20d8024",
   "metadata": {},
   "outputs": [],
   "source": [
    "from sklearn.model_selection import train_test_split\n",
    "X_train, X_test, y_train, y_test = train_test_split(X,\n",
    "   y,test_size= 0.4,train_size=0.6 , random_state=1, stratify=y)"
   ]
  },
  {
   "cell_type": "code",
   "execution_count": 11,
   "id": "fa0063b7",
   "metadata": {},
   "outputs": [
    {
     "data": {
      "text/plain": [
       "Counter({0: 652, 1: 420})"
      ]
     },
     "execution_count": 11,
     "metadata": {},
     "output_type": "execute_result"
    }
   ],
   "source": [
    "\n",
    "Counter(y_train)"
   ]
  },
  {
   "cell_type": "code",
   "execution_count": 12,
   "id": "20dbdf68",
   "metadata": {},
   "outputs": [],
   "source": [
    "from sklearn.preprocessing import StandardScaler\n",
    "\n",
    "# Create a StandardScaler instance\n",
    "scaler = StandardScaler()\n",
    "\n",
    "# Fit the StandardScaler\n",
    "X_scaler = scaler.fit(X_train)\n",
    "\n",
    "# Scale the data\n",
    "X_train_scaled = X_scaler.transform(X_train)\n",
    "X_test_scaled = X_scaler.transform(X_test)"
   ]
  },
  {
   "cell_type": "markdown",
   "id": "37144663",
   "metadata": {},
   "source": [
    "# Oversampling"
   ]
  },
  {
   "cell_type": "code",
   "execution_count": 13,
   "id": "65ea1507",
   "metadata": {},
   "outputs": [
    {
     "data": {
      "text/plain": [
       "Counter({0: 652, 1: 652})"
      ]
     },
     "execution_count": 13,
     "metadata": {},
     "output_type": "execute_result"
    }
   ],
   "source": [
    "#Naive Random Oversampling\n",
    "\n",
    "# Resample the training data with the RandomOversampler\n",
    "from imblearn.over_sampling import RandomOverSampler\n",
    "# Instantiate the model\n",
    "ros = RandomOverSampler(random_state=1)\n",
    "# Resample the targets\n",
    "X_resampled, y_resampled = ros.fit_resample(X_train_scaled, y_train)\n",
    "Counter(y_resampled)\n",
    "\n"
   ]
  },
  {
   "cell_type": "code",
   "execution_count": 14,
   "id": "2c88108c",
   "metadata": {},
   "outputs": [],
   "source": [
    "# from sklearn.linear_model import LogisticRegression\n",
    "from sklearn.linear_model import LogisticRegression\n",
    "\n",
    "model = LogisticRegression(solver='lbfgs', random_state=1)\n",
    "model.fit(X_resampled, y_resampled)\n",
    "# Calculate predictions\n",
    "y_pred = model.predict(X_test_scaled)\n"
   ]
  },
  {
   "cell_type": "code",
   "execution_count": 15,
   "id": "a9c99574",
   "metadata": {},
   "outputs": [
    {
     "data": {
      "text/plain": [
       "0.6575738916256157"
      ]
     },
     "execution_count": 15,
     "metadata": {},
     "output_type": "execute_result"
    }
   ],
   "source": [
    "# Calculated the balanced accuracy score\n",
    "from sklearn.metrics import balanced_accuracy_score\n",
    "balanced_accuracy_score(y_test, y_pred)"
   ]
  },
  {
   "cell_type": "code",
   "execution_count": 16,
   "id": "00b7d34f",
   "metadata": {},
   "outputs": [
    {
     "data": {
      "text/html": [
       "<div>\n",
       "<style scoped>\n",
       "    .dataframe tbody tr th:only-of-type {\n",
       "        vertical-align: middle;\n",
       "    }\n",
       "\n",
       "    .dataframe tbody tr th {\n",
       "        vertical-align: top;\n",
       "    }\n",
       "\n",
       "    .dataframe thead th {\n",
       "        text-align: right;\n",
       "    }\n",
       "</style>\n",
       "<table border=\"1\" class=\"dataframe\">\n",
       "  <thead>\n",
       "    <tr style=\"text-align: right;\">\n",
       "      <th></th>\n",
       "      <th>Predicted high_risk</th>\n",
       "      <th>Predicted low_risk</th>\n",
       "    </tr>\n",
       "  </thead>\n",
       "  <tbody>\n",
       "    <tr>\n",
       "      <th>Actual high_risk</th>\n",
       "      <td>294</td>\n",
       "      <td>141</td>\n",
       "    </tr>\n",
       "    <tr>\n",
       "      <th>Actual low_risk</th>\n",
       "      <td>101</td>\n",
       "      <td>179</td>\n",
       "    </tr>\n",
       "  </tbody>\n",
       "</table>\n",
       "</div>"
      ],
      "text/plain": [
       "                  Predicted high_risk  Predicted low_risk\n",
       "Actual high_risk                  294                 141\n",
       "Actual low_risk                   101                 179"
      ]
     },
     "execution_count": 16,
     "metadata": {},
     "output_type": "execute_result"
    }
   ],
   "source": [
    "# Display the confusion matrix\n",
    "from sklearn.metrics import confusion_matrix\n",
    "\n",
    "cm = confusion_matrix(y_test, y_pred)\n",
    "\n",
    "# Create a DataFrame from the confusion matrix.\n",
    "cm_df = pd.DataFrame(\n",
    "    cm, index=[\"Actual high_risk\", \"Actual low_risk\"], columns=[\"Predicted high_risk\", \"Predicted low_risk\"])\n",
    "cm_df"
   ]
  },
  {
   "cell_type": "code",
   "execution_count": 17,
   "id": "6f59afb5",
   "metadata": {},
   "outputs": [
    {
     "name": "stdout",
     "output_type": "stream",
     "text": [
      "                   pre       rec       spe        f1       geo       iba       sup\n",
      "\n",
      "          0       0.74      0.68      0.64      0.71      0.66      0.43       435\n",
      "          1       0.56      0.64      0.68      0.60      0.66      0.43       280\n",
      "\n",
      "avg / total       0.67      0.66      0.65      0.66      0.66      0.43       715\n",
      "\n"
     ]
    }
   ],
   "source": [
    "# Print the imbalanced classification report\n",
    "from imblearn.metrics import classification_report_imbalanced\n",
    "print(classification_report_imbalanced(y_test, y_pred))"
   ]
  },
  {
   "cell_type": "markdown",
   "id": "6c032eff",
   "metadata": {},
   "source": [
    "# SMOTE Oversampling\n"
   ]
  },
  {
   "cell_type": "code",
   "execution_count": 18,
   "id": "e891f2a4",
   "metadata": {},
   "outputs": [
    {
     "data": {
      "text/plain": [
       "Counter({0: 652, 1: 652})"
      ]
     },
     "execution_count": 18,
     "metadata": {},
     "output_type": "execute_result"
    }
   ],
   "source": [
    "\n",
    "\n",
    "# Resample the training data with SMOTE\n",
    "from imblearn.over_sampling import SMOTE\n",
    "X_resampled, y_resampled = SMOTE(random_state=1,sampling_strategy='auto').fit_resample(X_train_scaled, y_train)\n",
    "\n",
    "Counter(y_resampled)\n",
    "\n"
   ]
  },
  {
   "cell_type": "code",
   "execution_count": 19,
   "id": "b1eee4e2",
   "metadata": {},
   "outputs": [
    {
     "data": {
      "text/plain": [
       "LogisticRegression(random_state=1)"
      ]
     },
     "execution_count": 19,
     "metadata": {},
     "output_type": "execute_result"
    }
   ],
   "source": [
    "# Train the Logistic Regression model using the resampled data\n",
    "model = LogisticRegression(solver='lbfgs', random_state=1)\n",
    "model.fit(X_resampled, y_resampled)"
   ]
  },
  {
   "cell_type": "code",
   "execution_count": 20,
   "id": "b665e664",
   "metadata": {},
   "outputs": [
    {
     "data": {
      "text/plain": [
       "0.6574507389162562"
      ]
     },
     "execution_count": 20,
     "metadata": {},
     "output_type": "execute_result"
    }
   ],
   "source": [
    "# Calculated the balanced accuracy score\n",
    "y_pred = model.predict(X_test_scaled)\n",
    "balanced_accuracy_score(y_test, y_pred)"
   ]
  },
  {
   "cell_type": "code",
   "execution_count": 21,
   "id": "558ceb98",
   "metadata": {},
   "outputs": [
    {
     "data": {
      "text/plain": [
       "array([[297, 138],\n",
       "       [103, 177]], dtype=int64)"
      ]
     },
     "execution_count": 21,
     "metadata": {},
     "output_type": "execute_result"
    }
   ],
   "source": [
    "# Display the confusion matrix\n",
    "confusion_matrix(y_test, y_pred)"
   ]
  },
  {
   "cell_type": "code",
   "execution_count": 22,
   "id": "8507d884",
   "metadata": {},
   "outputs": [
    {
     "name": "stdout",
     "output_type": "stream",
     "text": [
      "                   pre       rec       spe        f1       geo       iba       sup\n",
      "\n",
      "          0       0.74      0.68      0.63      0.71      0.66      0.43       435\n",
      "          1       0.56      0.63      0.68      0.59      0.66      0.43       280\n",
      "\n",
      "avg / total       0.67      0.66      0.65      0.67      0.66      0.43       715\n",
      "\n"
     ]
    }
   ],
   "source": [
    "# Print the imbalanced classification report\n",
    "print(classification_report_imbalanced(y_test, y_pred))"
   ]
  },
  {
   "cell_type": "markdown",
   "id": "688e8170",
   "metadata": {},
   "source": [
    "# Undersampling"
   ]
  },
  {
   "cell_type": "code",
   "execution_count": 23,
   "id": "1ef34441",
   "metadata": {},
   "outputs": [
    {
     "data": {
      "text/plain": [
       "Counter({0: 420, 1: 420})"
      ]
     },
     "execution_count": 23,
     "metadata": {},
     "output_type": "execute_result"
    }
   ],
   "source": [
    "# Resample the data using the ClusterCentroids resampler\n",
    "\n",
    "from imblearn.under_sampling import ClusterCentroids\n",
    "# Instantiate\n",
    "cc = ClusterCentroids(random_state=1)\n",
    "X_resampled, y_resampled = cc.fit_resample(X_train_scaled, y_train)\n",
    "Counter(y_resampled)"
   ]
  },
  {
   "cell_type": "code",
   "execution_count": 24,
   "id": "fe506307",
   "metadata": {},
   "outputs": [
    {
     "data": {
      "text/plain": [
       "LogisticRegression(random_state=1)"
      ]
     },
     "execution_count": 24,
     "metadata": {},
     "output_type": "execute_result"
    }
   ],
   "source": [
    "# Train the Logistic Regression model using the resampled data\n",
    "from sklearn.linear_model import LogisticRegression\n",
    "model = LogisticRegression(solver='lbfgs', random_state=1)\n",
    "model.fit(X_resampled, y_resampled)"
   ]
  },
  {
   "cell_type": "code",
   "execution_count": 25,
   "id": "44f62d15",
   "metadata": {},
   "outputs": [
    {
     "data": {
      "text/plain": [
       "0.6626642036124795"
      ]
     },
     "execution_count": 25,
     "metadata": {},
     "output_type": "execute_result"
    }
   ],
   "source": [
    "# Calculated the balanced accuracy score\n",
    "y_pred = model.predict(X_test_scaled)\n",
    "balanced_accuracy_score(y_test, y_pred)"
   ]
  },
  {
   "cell_type": "code",
   "execution_count": 26,
   "id": "6dc548da",
   "metadata": {},
   "outputs": [
    {
     "data": {
      "text/html": [
       "<div>\n",
       "<style scoped>\n",
       "    .dataframe tbody tr th:only-of-type {\n",
       "        vertical-align: middle;\n",
       "    }\n",
       "\n",
       "    .dataframe tbody tr th {\n",
       "        vertical-align: top;\n",
       "    }\n",
       "\n",
       "    .dataframe thead th {\n",
       "        text-align: right;\n",
       "    }\n",
       "</style>\n",
       "<table border=\"1\" class=\"dataframe\">\n",
       "  <thead>\n",
       "    <tr style=\"text-align: right;\">\n",
       "      <th></th>\n",
       "      <th>Predicted high_risk</th>\n",
       "      <th>Predicted low_risk</th>\n",
       "    </tr>\n",
       "  </thead>\n",
       "  <tbody>\n",
       "    <tr>\n",
       "      <th>Actual high_risk</th>\n",
       "      <td>286</td>\n",
       "      <td>149</td>\n",
       "    </tr>\n",
       "    <tr>\n",
       "      <th>Actual low_risk</th>\n",
       "      <td>93</td>\n",
       "      <td>187</td>\n",
       "    </tr>\n",
       "  </tbody>\n",
       "</table>\n",
       "</div>"
      ],
      "text/plain": [
       "                  Predicted high_risk  Predicted low_risk\n",
       "Actual high_risk                  286                 149\n",
       "Actual low_risk                    93                 187"
      ]
     },
     "execution_count": 26,
     "metadata": {},
     "output_type": "execute_result"
    }
   ],
   "source": [
    "# Display the confusion matrix\n",
    "from sklearn.metrics import confusion_matrix\n",
    "cm = confusion_matrix(y_test, y_pred)\n",
    "\n",
    "# Create a DataFrame from the confusion matrix.\n",
    "cm_df = pd.DataFrame(\n",
    "    cm, index=[\"Actual high_risk\", \"Actual low_risk\"], columns=[\"Predicted high_risk\", \"Predicted low_risk\"])\n",
    "cm_df"
   ]
  },
  {
   "cell_type": "code",
   "execution_count": 27,
   "id": "9d7baa26",
   "metadata": {},
   "outputs": [
    {
     "name": "stdout",
     "output_type": "stream",
     "text": [
      "                   pre       rec       spe        f1       geo       iba       sup\n",
      "\n",
      "          0       0.75      0.66      0.67      0.70      0.66      0.44       435\n",
      "          1       0.56      0.67      0.66      0.61      0.66      0.44       280\n",
      "\n",
      "avg / total       0.68      0.66      0.66      0.67      0.66      0.44       715\n",
      "\n"
     ]
    }
   ],
   "source": [
    "\n",
    "\n",
    "# Print the imbalanced classification report\n",
    "print(classification_report_imbalanced(y_test, y_pred))\n",
    "\n"
   ]
  },
  {
   "cell_type": "markdown",
   "id": "f6eadcd1",
   "metadata": {},
   "source": [
    "# Combination (Over and Under) Sampling "
   ]
  },
  {
   "cell_type": "code",
   "execution_count": 28,
   "id": "0f2fb703",
   "metadata": {},
   "outputs": [
    {
     "data": {
      "text/plain": [
       "Counter({0: 109, 1: 327})"
      ]
     },
     "execution_count": 28,
     "metadata": {},
     "output_type": "execute_result"
    }
   ],
   "source": [
    "# Resample the training data with SMOTEENN\n",
    "# Warning: This is a large dataset, and this step may take some time to complete\n",
    "from imblearn.combine import SMOTEENN\n",
    "smote_enn = SMOTEENN(random_state=1)\n",
    "X_resampled, y_resampled = smote_enn.fit_resample(X_train_scaled, y_train)\n",
    "Counter(y_resampled)"
   ]
  },
  {
   "cell_type": "code",
   "execution_count": 29,
   "id": "54bb7b80",
   "metadata": {},
   "outputs": [
    {
     "data": {
      "text/plain": [
       "LogisticRegression(random_state=1)"
      ]
     },
     "execution_count": 29,
     "metadata": {},
     "output_type": "execute_result"
    }
   ],
   "source": [
    "# Train the Logistic Regression model using the resampled data\n",
    "model = LogisticRegression(solver='lbfgs', random_state=1)\n",
    "model.fit(X_resampled, y_resampled)"
   ]
  },
  {
   "cell_type": "code",
   "execution_count": 30,
   "id": "361675c0",
   "metadata": {},
   "outputs": [
    {
     "data": {
      "text/plain": [
       "0.5300697865353038"
      ]
     },
     "execution_count": 30,
     "metadata": {},
     "output_type": "execute_result"
    }
   ],
   "source": [
    "# Calculated the balanced accuracy score\n",
    "y_pred = model.predict(X_test_scaled)\n",
    "balanced_accuracy_score(y_test, y_pred)"
   ]
  },
  {
   "cell_type": "code",
   "execution_count": 31,
   "id": "c912c76d",
   "metadata": {},
   "outputs": [
    {
     "data": {
      "text/html": [
       "<div>\n",
       "<style scoped>\n",
       "    .dataframe tbody tr th:only-of-type {\n",
       "        vertical-align: middle;\n",
       "    }\n",
       "\n",
       "    .dataframe tbody tr th {\n",
       "        vertical-align: top;\n",
       "    }\n",
       "\n",
       "    .dataframe thead th {\n",
       "        text-align: right;\n",
       "    }\n",
       "</style>\n",
       "<table border=\"1\" class=\"dataframe\">\n",
       "  <thead>\n",
       "    <tr style=\"text-align: right;\">\n",
       "      <th></th>\n",
       "      <th>Predicted high_risk</th>\n",
       "      <th>Predicted low_risk</th>\n",
       "    </tr>\n",
       "  </thead>\n",
       "  <tbody>\n",
       "    <tr>\n",
       "      <th>Actual high_risk</th>\n",
       "      <td>65</td>\n",
       "      <td>370</td>\n",
       "    </tr>\n",
       "    <tr>\n",
       "      <th>Actual low_risk</th>\n",
       "      <td>25</td>\n",
       "      <td>255</td>\n",
       "    </tr>\n",
       "  </tbody>\n",
       "</table>\n",
       "</div>"
      ],
      "text/plain": [
       "                  Predicted high_risk  Predicted low_risk\n",
       "Actual high_risk                   65                 370\n",
       "Actual low_risk                    25                 255"
      ]
     },
     "execution_count": 31,
     "metadata": {},
     "output_type": "execute_result"
    }
   ],
   "source": [
    "# Display the confusion matrix\n",
    "from sklearn.metrics import confusion_matrix\n",
    "\n",
    "\n",
    "cm = confusion_matrix(y_test, y_pred)\n",
    "\n",
    "# Create a DataFrame from the confusion matrix.\n",
    "cm_df = pd.DataFrame(\n",
    "    cm, index=[\"Actual high_risk\", \"Actual low_risk\"], columns=[\"Predicted high_risk\", \"Predicted low_risk\"])\n",
    "cm_df"
   ]
  },
  {
   "cell_type": "code",
   "execution_count": 32,
   "id": "59cc0400",
   "metadata": {},
   "outputs": [
    {
     "name": "stdout",
     "output_type": "stream",
     "text": [
      "                   pre       rec       spe        f1       geo       iba       sup\n",
      "\n",
      "          0       0.72      0.15      0.91      0.25      0.37      0.13       435\n",
      "          1       0.41      0.91      0.15      0.56      0.37      0.15       280\n",
      "\n",
      "avg / total       0.60      0.45      0.61      0.37      0.37      0.13       715\n",
      "\n"
     ]
    }
   ],
   "source": [
    "# Print the imbalanced classification report\n",
    "print(classification_report_imbalanced(y_test, y_pred))"
   ]
  },
  {
   "cell_type": "code",
   "execution_count": null,
   "id": "82e6cd52",
   "metadata": {},
   "outputs": [],
   "source": []
  },
  {
   "cell_type": "code",
   "execution_count": null,
   "id": "322bd89c",
   "metadata": {},
   "outputs": [],
   "source": []
  },
  {
   "cell_type": "code",
   "execution_count": null,
   "id": "e1f5017c",
   "metadata": {},
   "outputs": [],
   "source": []
  }
 ],
 "metadata": {
  "kernelspec": {
   "display_name": "Python 3",
   "language": "python",
   "name": "python3"
  },
  "language_info": {
   "codemirror_mode": {
    "name": "ipython",
    "version": 3
   },
   "file_extension": ".py",
   "mimetype": "text/x-python",
   "name": "python",
   "nbconvert_exporter": "python",
   "pygments_lexer": "ipython3",
   "version": "3.7.10"
  }
 },
 "nbformat": 4,
 "nbformat_minor": 5
}
