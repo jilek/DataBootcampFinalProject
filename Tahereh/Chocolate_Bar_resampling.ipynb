{
 "cells": [
  {
   "cell_type": "code",
   "execution_count": 1,
   "id": "fdd9dd98",
   "metadata": {},
   "outputs": [],
   "source": [
    "\n",
    "import numpy as np\n",
    "import pandas as pd\n",
    "from pathlib import Path\n",
    "from collections import Counter\n",
    "\n"
   ]
  },
  {
   "cell_type": "markdown",
   "id": "26255bd8",
   "metadata": {},
   "source": [
    "# Read the clean_flavors_of_cacao.csv"
   ]
  },
  {
   "cell_type": "code",
   "execution_count": 2,
   "id": "7c44c73c",
   "metadata": {},
   "outputs": [
    {
     "data": {
      "text/html": [
       "<div>\n",
       "<style scoped>\n",
       "    .dataframe tbody tr th:only-of-type {\n",
       "        vertical-align: middle;\n",
       "    }\n",
       "\n",
       "    .dataframe tbody tr th {\n",
       "        vertical-align: top;\n",
       "    }\n",
       "\n",
       "    .dataframe thead th {\n",
       "        text-align: right;\n",
       "    }\n",
       "</style>\n",
       "<table border=\"1\" class=\"dataframe\">\n",
       "  <thead>\n",
       "    <tr style=\"text-align: right;\">\n",
       "      <th></th>\n",
       "      <th>Company</th>\n",
       "      <th>Bean_Origin_or_Bar_Name</th>\n",
       "      <th>REF</th>\n",
       "      <th>Review_Date</th>\n",
       "      <th>Cocoa_Percent</th>\n",
       "      <th>Company_Location</th>\n",
       "      <th>Rating</th>\n",
       "      <th>Bean_Type</th>\n",
       "      <th>Broad_Bean_Origin</th>\n",
       "      <th>Ingredients</th>\n",
       "      <th>Most_Memorable_Characteristics</th>\n",
       "      <th>country_code</th>\n",
       "      <th>latitude</th>\n",
       "      <th>longitude</th>\n",
       "      <th>continent</th>\n",
       "    </tr>\n",
       "  </thead>\n",
       "  <tbody>\n",
       "    <tr>\n",
       "      <th>0</th>\n",
       "      <td>A. Morin</td>\n",
       "      <td>Agua Grande</td>\n",
       "      <td>1876</td>\n",
       "      <td>2016</td>\n",
       "      <td>63.0</td>\n",
       "      <td>France</td>\n",
       "      <td>3.75</td>\n",
       "      <td>missing</td>\n",
       "      <td>Sao Tome &amp; Principe</td>\n",
       "      <td>4- B,S,C,L</td>\n",
       "      <td>sweet, chocolatey, vegetal</td>\n",
       "      <td>ST</td>\n",
       "      <td>0.186360</td>\n",
       "      <td>6.613081</td>\n",
       "      <td>Africa</td>\n",
       "    </tr>\n",
       "    <tr>\n",
       "      <th>1</th>\n",
       "      <td>A. Morin</td>\n",
       "      <td>Kpime</td>\n",
       "      <td>1676</td>\n",
       "      <td>2015</td>\n",
       "      <td>70.0</td>\n",
       "      <td>France</td>\n",
       "      <td>2.75</td>\n",
       "      <td>missing</td>\n",
       "      <td>Togo</td>\n",
       "      <td>4- B,S,C,L</td>\n",
       "      <td>burnt wood, earthy, choco</td>\n",
       "      <td>TG</td>\n",
       "      <td>8.619543</td>\n",
       "      <td>0.824782</td>\n",
       "      <td>Africa</td>\n",
       "    </tr>\n",
       "    <tr>\n",
       "      <th>2</th>\n",
       "      <td>A. Morin</td>\n",
       "      <td>Atsane</td>\n",
       "      <td>1676</td>\n",
       "      <td>2015</td>\n",
       "      <td>70.0</td>\n",
       "      <td>France</td>\n",
       "      <td>3.00</td>\n",
       "      <td>missing</td>\n",
       "      <td>Togo</td>\n",
       "      <td>4- B,S,C,L</td>\n",
       "      <td>roasty, acidic, nutty</td>\n",
       "      <td>TG</td>\n",
       "      <td>8.619543</td>\n",
       "      <td>0.824782</td>\n",
       "      <td>Africa</td>\n",
       "    </tr>\n",
       "    <tr>\n",
       "      <th>3</th>\n",
       "      <td>A. Morin</td>\n",
       "      <td>Akata</td>\n",
       "      <td>1680</td>\n",
       "      <td>2015</td>\n",
       "      <td>70.0</td>\n",
       "      <td>France</td>\n",
       "      <td>3.50</td>\n",
       "      <td>missing</td>\n",
       "      <td>Togo</td>\n",
       "      <td>4- B,S,C,L</td>\n",
       "      <td>mild profile, chocolaty, spice</td>\n",
       "      <td>TG</td>\n",
       "      <td>8.619543</td>\n",
       "      <td>0.824782</td>\n",
       "      <td>Africa</td>\n",
       "    </tr>\n",
       "    <tr>\n",
       "      <th>4</th>\n",
       "      <td>A. Morin</td>\n",
       "      <td>Quilla</td>\n",
       "      <td>1704</td>\n",
       "      <td>2015</td>\n",
       "      <td>70.0</td>\n",
       "      <td>France</td>\n",
       "      <td>3.50</td>\n",
       "      <td>missing</td>\n",
       "      <td>Peru</td>\n",
       "      <td>4- B,S,C,L</td>\n",
       "      <td>grainy texture, cocoa, sweet</td>\n",
       "      <td>PE</td>\n",
       "      <td>-9.189967</td>\n",
       "      <td>-75.015152</td>\n",
       "      <td>South America</td>\n",
       "    </tr>\n",
       "  </tbody>\n",
       "</table>\n",
       "</div>"
      ],
      "text/plain": [
       "    Company Bean_Origin_or_Bar_Name   REF  Review_Date  Cocoa_Percent  \\\n",
       "0  A. Morin             Agua Grande  1876         2016           63.0   \n",
       "1  A. Morin                   Kpime  1676         2015           70.0   \n",
       "2  A. Morin                  Atsane  1676         2015           70.0   \n",
       "3  A. Morin                   Akata  1680         2015           70.0   \n",
       "4  A. Morin                  Quilla  1704         2015           70.0   \n",
       "\n",
       "  Company_Location  Rating Bean_Type    Broad_Bean_Origin Ingredients  \\\n",
       "0           France    3.75   missing  Sao Tome & Principe  4- B,S,C,L   \n",
       "1           France    2.75   missing                 Togo  4- B,S,C,L   \n",
       "2           France    3.00   missing                 Togo  4- B,S,C,L   \n",
       "3           France    3.50   missing                 Togo  4- B,S,C,L   \n",
       "4           France    3.50   missing                 Peru  4- B,S,C,L   \n",
       "\n",
       "   Most_Memorable_Characteristics country_code  latitude  longitude  \\\n",
       "0      sweet, chocolatey, vegetal           ST  0.186360   6.613081   \n",
       "1       burnt wood, earthy, choco           TG  8.619543   0.824782   \n",
       "2           roasty, acidic, nutty           TG  8.619543   0.824782   \n",
       "3  mild profile, chocolaty, spice           TG  8.619543   0.824782   \n",
       "4    grainy texture, cocoa, sweet           PE -9.189967 -75.015152   \n",
       "\n",
       "       continent  \n",
       "0         Africa  \n",
       "1         Africa  \n",
       "2         Africa  \n",
       "3         Africa  \n",
       "4  South America  "
      ]
     },
     "execution_count": 2,
     "metadata": {},
     "output_type": "execute_result"
    }
   ],
   "source": [
    "# Load the data\n",
    "file_path = Path('clean_flavors_of_cacao.csv')\n",
    "df = pd.read_csv(file_path)\n",
    "df.head()\n"
   ]
  },
  {
   "cell_type": "code",
   "execution_count": 3,
   "id": "4b2b30fd",
   "metadata": {},
   "outputs": [
    {
     "data": {
      "text/html": [
       "<div>\n",
       "<style scoped>\n",
       "    .dataframe tbody tr th:only-of-type {\n",
       "        vertical-align: middle;\n",
       "    }\n",
       "\n",
       "    .dataframe tbody tr th {\n",
       "        vertical-align: top;\n",
       "    }\n",
       "\n",
       "    .dataframe thead th {\n",
       "        text-align: right;\n",
       "    }\n",
       "</style>\n",
       "<table border=\"1\" class=\"dataframe\">\n",
       "  <thead>\n",
       "    <tr style=\"text-align: right;\">\n",
       "      <th></th>\n",
       "      <th>Review_Date</th>\n",
       "      <th>Cocoa_Percent</th>\n",
       "      <th>Company_Location</th>\n",
       "      <th>Rating</th>\n",
       "      <th>Bean_Type</th>\n",
       "      <th>Broad_Bean_Origin</th>\n",
       "      <th>Ingredients</th>\n",
       "      <th>country_code</th>\n",
       "      <th>latitude</th>\n",
       "      <th>longitude</th>\n",
       "    </tr>\n",
       "  </thead>\n",
       "  <tbody>\n",
       "    <tr>\n",
       "      <th>0</th>\n",
       "      <td>2016</td>\n",
       "      <td>63.0</td>\n",
       "      <td>France</td>\n",
       "      <td>3.75</td>\n",
       "      <td>missing</td>\n",
       "      <td>Sao Tome &amp; Principe</td>\n",
       "      <td>4- B,S,C,L</td>\n",
       "      <td>ST</td>\n",
       "      <td>0.186360</td>\n",
       "      <td>6.613081</td>\n",
       "    </tr>\n",
       "    <tr>\n",
       "      <th>1</th>\n",
       "      <td>2015</td>\n",
       "      <td>70.0</td>\n",
       "      <td>France</td>\n",
       "      <td>2.75</td>\n",
       "      <td>missing</td>\n",
       "      <td>Togo</td>\n",
       "      <td>4- B,S,C,L</td>\n",
       "      <td>TG</td>\n",
       "      <td>8.619543</td>\n",
       "      <td>0.824782</td>\n",
       "    </tr>\n",
       "    <tr>\n",
       "      <th>2</th>\n",
       "      <td>2015</td>\n",
       "      <td>70.0</td>\n",
       "      <td>France</td>\n",
       "      <td>3.00</td>\n",
       "      <td>missing</td>\n",
       "      <td>Togo</td>\n",
       "      <td>4- B,S,C,L</td>\n",
       "      <td>TG</td>\n",
       "      <td>8.619543</td>\n",
       "      <td>0.824782</td>\n",
       "    </tr>\n",
       "    <tr>\n",
       "      <th>3</th>\n",
       "      <td>2015</td>\n",
       "      <td>70.0</td>\n",
       "      <td>France</td>\n",
       "      <td>3.50</td>\n",
       "      <td>missing</td>\n",
       "      <td>Togo</td>\n",
       "      <td>4- B,S,C,L</td>\n",
       "      <td>TG</td>\n",
       "      <td>8.619543</td>\n",
       "      <td>0.824782</td>\n",
       "    </tr>\n",
       "    <tr>\n",
       "      <th>4</th>\n",
       "      <td>2015</td>\n",
       "      <td>70.0</td>\n",
       "      <td>France</td>\n",
       "      <td>3.50</td>\n",
       "      <td>missing</td>\n",
       "      <td>Peru</td>\n",
       "      <td>4- B,S,C,L</td>\n",
       "      <td>PE</td>\n",
       "      <td>-9.189967</td>\n",
       "      <td>-75.015152</td>\n",
       "    </tr>\n",
       "  </tbody>\n",
       "</table>\n",
       "</div>"
      ],
      "text/plain": [
       "   Review_Date  Cocoa_Percent Company_Location  Rating Bean_Type  \\\n",
       "0         2016           63.0           France    3.75   missing   \n",
       "1         2015           70.0           France    2.75   missing   \n",
       "2         2015           70.0           France    3.00   missing   \n",
       "3         2015           70.0           France    3.50   missing   \n",
       "4         2015           70.0           France    3.50   missing   \n",
       "\n",
       "     Broad_Bean_Origin Ingredients country_code  latitude  longitude  \n",
       "0  Sao Tome & Principe  4- B,S,C,L           ST  0.186360   6.613081  \n",
       "1                 Togo  4- B,S,C,L           TG  8.619543   0.824782  \n",
       "2                 Togo  4- B,S,C,L           TG  8.619543   0.824782  \n",
       "3                 Togo  4- B,S,C,L           TG  8.619543   0.824782  \n",
       "4                 Peru  4- B,S,C,L           PE -9.189967 -75.015152  "
      ]
     },
     "execution_count": 3,
     "metadata": {},
     "output_type": "execute_result"
    }
   ],
   "source": [
    "df= df.drop(columns=[\"Company\",\"REF\",\"Bean_Origin_or_Bar_Name\",\"Most_Memorable_Characteristics\",\"continent\"], axis=1)\n",
    "df.head()"
   ]
  },
  {
   "cell_type": "code",
   "execution_count": 4,
   "id": "7d13e0fd",
   "metadata": {},
   "outputs": [
    {
     "data": {
      "text/plain": [
       "count    1960.000000\n",
       "mean        3.175383\n",
       "std         0.478560\n",
       "min         1.000000\n",
       "25%         2.750000\n",
       "50%         3.250000\n",
       "75%         3.500000\n",
       "max         5.000000\n",
       "Name: Rating, dtype: float64"
      ]
     },
     "execution_count": 4,
     "metadata": {},
     "output_type": "execute_result"
    }
   ],
   "source": [
    "df['Rating'].describe()\n"
   ]
  },
  {
   "cell_type": "code",
   "execution_count": 5,
   "id": "c627ec3d",
   "metadata": {},
   "outputs": [],
   "source": [
    "def bin_ratings(rating):\n",
    "    if rating >= 4.0: \n",
    "        return 'Premium_Elite'\n",
    "    elif  rating >= 3.0 and rating < 4.0: \n",
    "        return 'Satisfactory'\n",
    "    elif  rating >= 2.0 and rating < 3.0:\n",
    "        return 'Unsatisfactory'\n",
    "    else:\n",
    "        return \"unpleasant\"\n",
    "\n"
   ]
  },
  {
   "cell_type": "code",
   "execution_count": 6,
   "id": "76e763c8",
   "metadata": {},
   "outputs": [],
   "source": [
    "df['Rating'] = df['Rating'].apply(bin_ratings)"
   ]
  },
  {
   "cell_type": "markdown",
   "id": "91a35796",
   "metadata": {},
   "source": [
    "# Split the Data into Training and Testing\n"
   ]
  },
  {
   "cell_type": "code",
   "execution_count": 7,
   "id": "a2867bea",
   "metadata": {},
   "outputs": [
    {
     "data": {
      "text/html": [
       "<div>\n",
       "<style scoped>\n",
       "    .dataframe tbody tr th:only-of-type {\n",
       "        vertical-align: middle;\n",
       "    }\n",
       "\n",
       "    .dataframe tbody tr th {\n",
       "        vertical-align: top;\n",
       "    }\n",
       "\n",
       "    .dataframe thead th {\n",
       "        text-align: right;\n",
       "    }\n",
       "</style>\n",
       "<table border=\"1\" class=\"dataframe\">\n",
       "  <thead>\n",
       "    <tr style=\"text-align: right;\">\n",
       "      <th></th>\n",
       "      <th>Review_Date</th>\n",
       "      <th>Cocoa_Percent</th>\n",
       "      <th>latitude</th>\n",
       "      <th>longitude</th>\n",
       "      <th>Company_Location_Argentina</th>\n",
       "      <th>Company_Location_Australia</th>\n",
       "      <th>Company_Location_Austria</th>\n",
       "      <th>Company_Location_Belgium</th>\n",
       "      <th>Company_Location_Bolivia</th>\n",
       "      <th>Company_Location_Brazil</th>\n",
       "      <th>...</th>\n",
       "      <th>country_code_TG</th>\n",
       "      <th>country_code_TT</th>\n",
       "      <th>country_code_TZ</th>\n",
       "      <th>country_code_UG</th>\n",
       "      <th>country_code_US</th>\n",
       "      <th>country_code_VE</th>\n",
       "      <th>country_code_VN</th>\n",
       "      <th>country_code_VU</th>\n",
       "      <th>country_code_WS</th>\n",
       "      <th>country_code_ZZ</th>\n",
       "    </tr>\n",
       "  </thead>\n",
       "  <tbody>\n",
       "    <tr>\n",
       "      <th>0</th>\n",
       "      <td>2016</td>\n",
       "      <td>63.0</td>\n",
       "      <td>0.186360</td>\n",
       "      <td>6.613081</td>\n",
       "      <td>0</td>\n",
       "      <td>0</td>\n",
       "      <td>0</td>\n",
       "      <td>0</td>\n",
       "      <td>0</td>\n",
       "      <td>0</td>\n",
       "      <td>...</td>\n",
       "      <td>0</td>\n",
       "      <td>0</td>\n",
       "      <td>0</td>\n",
       "      <td>0</td>\n",
       "      <td>0</td>\n",
       "      <td>0</td>\n",
       "      <td>0</td>\n",
       "      <td>0</td>\n",
       "      <td>0</td>\n",
       "      <td>0</td>\n",
       "    </tr>\n",
       "    <tr>\n",
       "      <th>1</th>\n",
       "      <td>2015</td>\n",
       "      <td>70.0</td>\n",
       "      <td>8.619543</td>\n",
       "      <td>0.824782</td>\n",
       "      <td>0</td>\n",
       "      <td>0</td>\n",
       "      <td>0</td>\n",
       "      <td>0</td>\n",
       "      <td>0</td>\n",
       "      <td>0</td>\n",
       "      <td>...</td>\n",
       "      <td>1</td>\n",
       "      <td>0</td>\n",
       "      <td>0</td>\n",
       "      <td>0</td>\n",
       "      <td>0</td>\n",
       "      <td>0</td>\n",
       "      <td>0</td>\n",
       "      <td>0</td>\n",
       "      <td>0</td>\n",
       "      <td>0</td>\n",
       "    </tr>\n",
       "    <tr>\n",
       "      <th>2</th>\n",
       "      <td>2015</td>\n",
       "      <td>70.0</td>\n",
       "      <td>8.619543</td>\n",
       "      <td>0.824782</td>\n",
       "      <td>0</td>\n",
       "      <td>0</td>\n",
       "      <td>0</td>\n",
       "      <td>0</td>\n",
       "      <td>0</td>\n",
       "      <td>0</td>\n",
       "      <td>...</td>\n",
       "      <td>1</td>\n",
       "      <td>0</td>\n",
       "      <td>0</td>\n",
       "      <td>0</td>\n",
       "      <td>0</td>\n",
       "      <td>0</td>\n",
       "      <td>0</td>\n",
       "      <td>0</td>\n",
       "      <td>0</td>\n",
       "      <td>0</td>\n",
       "    </tr>\n",
       "    <tr>\n",
       "      <th>3</th>\n",
       "      <td>2015</td>\n",
       "      <td>70.0</td>\n",
       "      <td>8.619543</td>\n",
       "      <td>0.824782</td>\n",
       "      <td>0</td>\n",
       "      <td>0</td>\n",
       "      <td>0</td>\n",
       "      <td>0</td>\n",
       "      <td>0</td>\n",
       "      <td>0</td>\n",
       "      <td>...</td>\n",
       "      <td>1</td>\n",
       "      <td>0</td>\n",
       "      <td>0</td>\n",
       "      <td>0</td>\n",
       "      <td>0</td>\n",
       "      <td>0</td>\n",
       "      <td>0</td>\n",
       "      <td>0</td>\n",
       "      <td>0</td>\n",
       "      <td>0</td>\n",
       "    </tr>\n",
       "    <tr>\n",
       "      <th>4</th>\n",
       "      <td>2015</td>\n",
       "      <td>70.0</td>\n",
       "      <td>-9.189967</td>\n",
       "      <td>-75.015152</td>\n",
       "      <td>0</td>\n",
       "      <td>0</td>\n",
       "      <td>0</td>\n",
       "      <td>0</td>\n",
       "      <td>0</td>\n",
       "      <td>0</td>\n",
       "      <td>...</td>\n",
       "      <td>0</td>\n",
       "      <td>0</td>\n",
       "      <td>0</td>\n",
       "      <td>0</td>\n",
       "      <td>0</td>\n",
       "      <td>0</td>\n",
       "      <td>0</td>\n",
       "      <td>0</td>\n",
       "      <td>0</td>\n",
       "      <td>0</td>\n",
       "    </tr>\n",
       "    <tr>\n",
       "      <th>...</th>\n",
       "      <td>...</td>\n",
       "      <td>...</td>\n",
       "      <td>...</td>\n",
       "      <td>...</td>\n",
       "      <td>...</td>\n",
       "      <td>...</td>\n",
       "      <td>...</td>\n",
       "      <td>...</td>\n",
       "      <td>...</td>\n",
       "      <td>...</td>\n",
       "      <td>...</td>\n",
       "      <td>...</td>\n",
       "      <td>...</td>\n",
       "      <td>...</td>\n",
       "      <td>...</td>\n",
       "      <td>...</td>\n",
       "      <td>...</td>\n",
       "      <td>...</td>\n",
       "      <td>...</td>\n",
       "      <td>...</td>\n",
       "      <td>...</td>\n",
       "    </tr>\n",
       "    <tr>\n",
       "      <th>1955</th>\n",
       "      <td>2011</td>\n",
       "      <td>70.0</td>\n",
       "      <td>-9.189967</td>\n",
       "      <td>-75.015152</td>\n",
       "      <td>0</td>\n",
       "      <td>0</td>\n",
       "      <td>1</td>\n",
       "      <td>0</td>\n",
       "      <td>0</td>\n",
       "      <td>0</td>\n",
       "      <td>...</td>\n",
       "      <td>0</td>\n",
       "      <td>0</td>\n",
       "      <td>0</td>\n",
       "      <td>0</td>\n",
       "      <td>0</td>\n",
       "      <td>0</td>\n",
       "      <td>0</td>\n",
       "      <td>0</td>\n",
       "      <td>0</td>\n",
       "      <td>0</td>\n",
       "    </tr>\n",
       "    <tr>\n",
       "      <th>1956</th>\n",
       "      <td>2011</td>\n",
       "      <td>65.0</td>\n",
       "      <td>-0.228021</td>\n",
       "      <td>15.827659</td>\n",
       "      <td>0</td>\n",
       "      <td>0</td>\n",
       "      <td>1</td>\n",
       "      <td>0</td>\n",
       "      <td>0</td>\n",
       "      <td>0</td>\n",
       "      <td>...</td>\n",
       "      <td>0</td>\n",
       "      <td>0</td>\n",
       "      <td>0</td>\n",
       "      <td>0</td>\n",
       "      <td>0</td>\n",
       "      <td>0</td>\n",
       "      <td>0</td>\n",
       "      <td>0</td>\n",
       "      <td>0</td>\n",
       "      <td>0</td>\n",
       "    </tr>\n",
       "    <tr>\n",
       "      <th>1957</th>\n",
       "      <td>2011</td>\n",
       "      <td>65.0</td>\n",
       "      <td>20.593684</td>\n",
       "      <td>78.962880</td>\n",
       "      <td>0</td>\n",
       "      <td>0</td>\n",
       "      <td>1</td>\n",
       "      <td>0</td>\n",
       "      <td>0</td>\n",
       "      <td>0</td>\n",
       "      <td>...</td>\n",
       "      <td>0</td>\n",
       "      <td>0</td>\n",
       "      <td>0</td>\n",
       "      <td>0</td>\n",
       "      <td>0</td>\n",
       "      <td>0</td>\n",
       "      <td>0</td>\n",
       "      <td>0</td>\n",
       "      <td>0</td>\n",
       "      <td>0</td>\n",
       "    </tr>\n",
       "    <tr>\n",
       "      <th>1958</th>\n",
       "      <td>2011</td>\n",
       "      <td>62.0</td>\n",
       "      <td>20.593684</td>\n",
       "      <td>78.962880</td>\n",
       "      <td>0</td>\n",
       "      <td>0</td>\n",
       "      <td>1</td>\n",
       "      <td>0</td>\n",
       "      <td>0</td>\n",
       "      <td>0</td>\n",
       "      <td>...</td>\n",
       "      <td>0</td>\n",
       "      <td>0</td>\n",
       "      <td>0</td>\n",
       "      <td>0</td>\n",
       "      <td>0</td>\n",
       "      <td>0</td>\n",
       "      <td>0</td>\n",
       "      <td>0</td>\n",
       "      <td>0</td>\n",
       "      <td>0</td>\n",
       "    </tr>\n",
       "    <tr>\n",
       "      <th>1959</th>\n",
       "      <td>2010</td>\n",
       "      <td>65.0</td>\n",
       "      <td>-14.235004</td>\n",
       "      <td>-51.925280</td>\n",
       "      <td>0</td>\n",
       "      <td>0</td>\n",
       "      <td>1</td>\n",
       "      <td>0</td>\n",
       "      <td>0</td>\n",
       "      <td>0</td>\n",
       "      <td>...</td>\n",
       "      <td>0</td>\n",
       "      <td>0</td>\n",
       "      <td>0</td>\n",
       "      <td>0</td>\n",
       "      <td>0</td>\n",
       "      <td>0</td>\n",
       "      <td>0</td>\n",
       "      <td>0</td>\n",
       "      <td>0</td>\n",
       "      <td>0</td>\n",
       "    </tr>\n",
       "  </tbody>\n",
       "</table>\n",
       "<p>1960 rows × 203 columns</p>\n",
       "</div>"
      ],
      "text/plain": [
       "      Review_Date  Cocoa_Percent   latitude  longitude  \\\n",
       "0            2016           63.0   0.186360   6.613081   \n",
       "1            2015           70.0   8.619543   0.824782   \n",
       "2            2015           70.0   8.619543   0.824782   \n",
       "3            2015           70.0   8.619543   0.824782   \n",
       "4            2015           70.0  -9.189967 -75.015152   \n",
       "...           ...            ...        ...        ...   \n",
       "1955         2011           70.0  -9.189967 -75.015152   \n",
       "1956         2011           65.0  -0.228021  15.827659   \n",
       "1957         2011           65.0  20.593684  78.962880   \n",
       "1958         2011           62.0  20.593684  78.962880   \n",
       "1959         2010           65.0 -14.235004 -51.925280   \n",
       "\n",
       "      Company_Location_Argentina  Company_Location_Australia  \\\n",
       "0                              0                           0   \n",
       "1                              0                           0   \n",
       "2                              0                           0   \n",
       "3                              0                           0   \n",
       "4                              0                           0   \n",
       "...                          ...                         ...   \n",
       "1955                           0                           0   \n",
       "1956                           0                           0   \n",
       "1957                           0                           0   \n",
       "1958                           0                           0   \n",
       "1959                           0                           0   \n",
       "\n",
       "      Company_Location_Austria  Company_Location_Belgium  \\\n",
       "0                            0                         0   \n",
       "1                            0                         0   \n",
       "2                            0                         0   \n",
       "3                            0                         0   \n",
       "4                            0                         0   \n",
       "...                        ...                       ...   \n",
       "1955                         1                         0   \n",
       "1956                         1                         0   \n",
       "1957                         1                         0   \n",
       "1958                         1                         0   \n",
       "1959                         1                         0   \n",
       "\n",
       "      Company_Location_Bolivia  Company_Location_Brazil  ...  country_code_TG  \\\n",
       "0                            0                        0  ...                0   \n",
       "1                            0                        0  ...                1   \n",
       "2                            0                        0  ...                1   \n",
       "3                            0                        0  ...                1   \n",
       "4                            0                        0  ...                0   \n",
       "...                        ...                      ...  ...              ...   \n",
       "1955                         0                        0  ...                0   \n",
       "1956                         0                        0  ...                0   \n",
       "1957                         0                        0  ...                0   \n",
       "1958                         0                        0  ...                0   \n",
       "1959                         0                        0  ...                0   \n",
       "\n",
       "      country_code_TT  country_code_TZ  country_code_UG  country_code_US  \\\n",
       "0                   0                0                0                0   \n",
       "1                   0                0                0                0   \n",
       "2                   0                0                0                0   \n",
       "3                   0                0                0                0   \n",
       "4                   0                0                0                0   \n",
       "...               ...              ...              ...              ...   \n",
       "1955                0                0                0                0   \n",
       "1956                0                0                0                0   \n",
       "1957                0                0                0                0   \n",
       "1958                0                0                0                0   \n",
       "1959                0                0                0                0   \n",
       "\n",
       "      country_code_VE  country_code_VN  country_code_VU  country_code_WS  \\\n",
       "0                   0                0                0                0   \n",
       "1                   0                0                0                0   \n",
       "2                   0                0                0                0   \n",
       "3                   0                0                0                0   \n",
       "4                   0                0                0                0   \n",
       "...               ...              ...              ...              ...   \n",
       "1955                0                0                0                0   \n",
       "1956                0                0                0                0   \n",
       "1957                0                0                0                0   \n",
       "1958                0                0                0                0   \n",
       "1959                0                0                0                0   \n",
       "\n",
       "      country_code_ZZ  \n",
       "0                   0  \n",
       "1                   0  \n",
       "2                   0  \n",
       "3                   0  \n",
       "4                   0  \n",
       "...               ...  \n",
       "1955                0  \n",
       "1956                0  \n",
       "1957                0  \n",
       "1958                0  \n",
       "1959                0  \n",
       "\n",
       "[1960 rows x 203 columns]"
      ]
     },
     "execution_count": 7,
     "metadata": {},
     "output_type": "execute_result"
    }
   ],
   "source": [
    "y = df[\"Rating\"]\n",
    "X = df.drop(columns=\"Rating\")\n",
    "X = pd.get_dummies(X)\n",
    "X"
   ]
  },
  {
   "cell_type": "code",
   "execution_count": 8,
   "id": "b5a450c2",
   "metadata": {},
   "outputs": [
    {
     "data": {
      "text/html": [
       "<div>\n",
       "<style scoped>\n",
       "    .dataframe tbody tr th:only-of-type {\n",
       "        vertical-align: middle;\n",
       "    }\n",
       "\n",
       "    .dataframe tbody tr th {\n",
       "        vertical-align: top;\n",
       "    }\n",
       "\n",
       "    .dataframe thead th {\n",
       "        text-align: right;\n",
       "    }\n",
       "</style>\n",
       "<table border=\"1\" class=\"dataframe\">\n",
       "  <thead>\n",
       "    <tr style=\"text-align: right;\">\n",
       "      <th></th>\n",
       "      <th>Review_Date</th>\n",
       "      <th>Cocoa_Percent</th>\n",
       "      <th>latitude</th>\n",
       "      <th>longitude</th>\n",
       "      <th>Company_Location_Argentina</th>\n",
       "      <th>Company_Location_Australia</th>\n",
       "      <th>Company_Location_Austria</th>\n",
       "      <th>Company_Location_Belgium</th>\n",
       "      <th>Company_Location_Bolivia</th>\n",
       "      <th>Company_Location_Brazil</th>\n",
       "      <th>...</th>\n",
       "      <th>country_code_TG</th>\n",
       "      <th>country_code_TT</th>\n",
       "      <th>country_code_TZ</th>\n",
       "      <th>country_code_UG</th>\n",
       "      <th>country_code_US</th>\n",
       "      <th>country_code_VE</th>\n",
       "      <th>country_code_VN</th>\n",
       "      <th>country_code_VU</th>\n",
       "      <th>country_code_WS</th>\n",
       "      <th>country_code_ZZ</th>\n",
       "    </tr>\n",
       "  </thead>\n",
       "  <tbody>\n",
       "    <tr>\n",
       "      <th>count</th>\n",
       "      <td>1960.000000</td>\n",
       "      <td>1960.000000</td>\n",
       "      <td>1960.000000</td>\n",
       "      <td>1960.000000</td>\n",
       "      <td>1960.000000</td>\n",
       "      <td>1960.000000</td>\n",
       "      <td>1960.000000</td>\n",
       "      <td>1960.000000</td>\n",
       "      <td>1960.000000</td>\n",
       "      <td>1960.000000</td>\n",
       "      <td>...</td>\n",
       "      <td>1960.000000</td>\n",
       "      <td>1960.000000</td>\n",
       "      <td>1960.000000</td>\n",
       "      <td>1960.000000</td>\n",
       "      <td>1960.000000</td>\n",
       "      <td>1960.000000</td>\n",
       "      <td>1960.000000</td>\n",
       "      <td>1960.000000</td>\n",
       "      <td>1960.000000</td>\n",
       "      <td>1960.000000</td>\n",
       "    </tr>\n",
       "    <tr>\n",
       "      <th>mean</th>\n",
       "      <td>2012.264796</td>\n",
       "      <td>71.760204</td>\n",
       "      <td>2.287706</td>\n",
       "      <td>-38.732759</td>\n",
       "      <td>0.004592</td>\n",
       "      <td>0.025510</td>\n",
       "      <td>0.014286</td>\n",
       "      <td>0.020918</td>\n",
       "      <td>0.001020</td>\n",
       "      <td>0.017857</td>\n",
       "      <td>...</td>\n",
       "      <td>0.001531</td>\n",
       "      <td>0.019898</td>\n",
       "      <td>0.018367</td>\n",
       "      <td>0.003571</td>\n",
       "      <td>0.014286</td>\n",
       "      <td>0.119388</td>\n",
       "      <td>0.020408</td>\n",
       "      <td>0.003571</td>\n",
       "      <td>0.002041</td>\n",
       "      <td>0.052041</td>\n",
       "    </tr>\n",
       "    <tr>\n",
       "      <th>std</th>\n",
       "      <td>2.918282</td>\n",
       "      <td>6.657419</td>\n",
       "      <td>13.001691</td>\n",
       "      <td>63.416232</td>\n",
       "      <td>0.067625</td>\n",
       "      <td>0.157709</td>\n",
       "      <td>0.118696</td>\n",
       "      <td>0.143148</td>\n",
       "      <td>0.031936</td>\n",
       "      <td>0.132466</td>\n",
       "      <td>...</td>\n",
       "      <td>0.039103</td>\n",
       "      <td>0.139685</td>\n",
       "      <td>0.134310</td>\n",
       "      <td>0.059670</td>\n",
       "      <td>0.118696</td>\n",
       "      <td>0.324327</td>\n",
       "      <td>0.141428</td>\n",
       "      <td>0.059670</td>\n",
       "      <td>0.045141</td>\n",
       "      <td>0.222166</td>\n",
       "    </tr>\n",
       "    <tr>\n",
       "      <th>min</th>\n",
       "      <td>2006.000000</td>\n",
       "      <td>42.000000</td>\n",
       "      <td>-25.274398</td>\n",
       "      <td>-172.104629</td>\n",
       "      <td>0.000000</td>\n",
       "      <td>0.000000</td>\n",
       "      <td>0.000000</td>\n",
       "      <td>0.000000</td>\n",
       "      <td>0.000000</td>\n",
       "      <td>0.000000</td>\n",
       "      <td>...</td>\n",
       "      <td>0.000000</td>\n",
       "      <td>0.000000</td>\n",
       "      <td>0.000000</td>\n",
       "      <td>0.000000</td>\n",
       "      <td>0.000000</td>\n",
       "      <td>0.000000</td>\n",
       "      <td>0.000000</td>\n",
       "      <td>0.000000</td>\n",
       "      <td>0.000000</td>\n",
       "      <td>0.000000</td>\n",
       "    </tr>\n",
       "    <tr>\n",
       "      <th>25%</th>\n",
       "      <td>2010.000000</td>\n",
       "      <td>70.000000</td>\n",
       "      <td>-9.189967</td>\n",
       "      <td>-78.183406</td>\n",
       "      <td>0.000000</td>\n",
       "      <td>0.000000</td>\n",
       "      <td>0.000000</td>\n",
       "      <td>0.000000</td>\n",
       "      <td>0.000000</td>\n",
       "      <td>0.000000</td>\n",
       "      <td>...</td>\n",
       "      <td>0.000000</td>\n",
       "      <td>0.000000</td>\n",
       "      <td>0.000000</td>\n",
       "      <td>0.000000</td>\n",
       "      <td>0.000000</td>\n",
       "      <td>0.000000</td>\n",
       "      <td>0.000000</td>\n",
       "      <td>0.000000</td>\n",
       "      <td>0.000000</td>\n",
       "      <td>0.000000</td>\n",
       "    </tr>\n",
       "    <tr>\n",
       "      <th>50%</th>\n",
       "      <td>2013.000000</td>\n",
       "      <td>70.000000</td>\n",
       "      <td>1.373333</td>\n",
       "      <td>-66.589730</td>\n",
       "      <td>0.000000</td>\n",
       "      <td>0.000000</td>\n",
       "      <td>0.000000</td>\n",
       "      <td>0.000000</td>\n",
       "      <td>0.000000</td>\n",
       "      <td>0.000000</td>\n",
       "      <td>...</td>\n",
       "      <td>0.000000</td>\n",
       "      <td>0.000000</td>\n",
       "      <td>0.000000</td>\n",
       "      <td>0.000000</td>\n",
       "      <td>0.000000</td>\n",
       "      <td>0.000000</td>\n",
       "      <td>0.000000</td>\n",
       "      <td>0.000000</td>\n",
       "      <td>0.000000</td>\n",
       "      <td>0.000000</td>\n",
       "    </tr>\n",
       "    <tr>\n",
       "      <th>75%</th>\n",
       "      <td>2015.000000</td>\n",
       "      <td>75.000000</td>\n",
       "      <td>12.865416</td>\n",
       "      <td>0.000000</td>\n",
       "      <td>0.000000</td>\n",
       "      <td>0.000000</td>\n",
       "      <td>0.000000</td>\n",
       "      <td>0.000000</td>\n",
       "      <td>0.000000</td>\n",
       "      <td>0.000000</td>\n",
       "      <td>...</td>\n",
       "      <td>0.000000</td>\n",
       "      <td>0.000000</td>\n",
       "      <td>0.000000</td>\n",
       "      <td>0.000000</td>\n",
       "      <td>0.000000</td>\n",
       "      <td>0.000000</td>\n",
       "      <td>0.000000</td>\n",
       "      <td>0.000000</td>\n",
       "      <td>0.000000</td>\n",
       "      <td>0.000000</td>\n",
       "    </tr>\n",
       "    <tr>\n",
       "      <th>max</th>\n",
       "      <td>2017.000000</td>\n",
       "      <td>100.000000</td>\n",
       "      <td>37.090240</td>\n",
       "      <td>179.414413</td>\n",
       "      <td>1.000000</td>\n",
       "      <td>1.000000</td>\n",
       "      <td>1.000000</td>\n",
       "      <td>1.000000</td>\n",
       "      <td>1.000000</td>\n",
       "      <td>1.000000</td>\n",
       "      <td>...</td>\n",
       "      <td>1.000000</td>\n",
       "      <td>1.000000</td>\n",
       "      <td>1.000000</td>\n",
       "      <td>1.000000</td>\n",
       "      <td>1.000000</td>\n",
       "      <td>1.000000</td>\n",
       "      <td>1.000000</td>\n",
       "      <td>1.000000</td>\n",
       "      <td>1.000000</td>\n",
       "      <td>1.000000</td>\n",
       "    </tr>\n",
       "  </tbody>\n",
       "</table>\n",
       "<p>8 rows × 203 columns</p>\n",
       "</div>"
      ],
      "text/plain": [
       "       Review_Date  Cocoa_Percent     latitude    longitude  \\\n",
       "count  1960.000000    1960.000000  1960.000000  1960.000000   \n",
       "mean   2012.264796      71.760204     2.287706   -38.732759   \n",
       "std       2.918282       6.657419    13.001691    63.416232   \n",
       "min    2006.000000      42.000000   -25.274398  -172.104629   \n",
       "25%    2010.000000      70.000000    -9.189967   -78.183406   \n",
       "50%    2013.000000      70.000000     1.373333   -66.589730   \n",
       "75%    2015.000000      75.000000    12.865416     0.000000   \n",
       "max    2017.000000     100.000000    37.090240   179.414413   \n",
       "\n",
       "       Company_Location_Argentina  Company_Location_Australia  \\\n",
       "count                 1960.000000                 1960.000000   \n",
       "mean                     0.004592                    0.025510   \n",
       "std                      0.067625                    0.157709   \n",
       "min                      0.000000                    0.000000   \n",
       "25%                      0.000000                    0.000000   \n",
       "50%                      0.000000                    0.000000   \n",
       "75%                      0.000000                    0.000000   \n",
       "max                      1.000000                    1.000000   \n",
       "\n",
       "       Company_Location_Austria  Company_Location_Belgium  \\\n",
       "count               1960.000000               1960.000000   \n",
       "mean                   0.014286                  0.020918   \n",
       "std                    0.118696                  0.143148   \n",
       "min                    0.000000                  0.000000   \n",
       "25%                    0.000000                  0.000000   \n",
       "50%                    0.000000                  0.000000   \n",
       "75%                    0.000000                  0.000000   \n",
       "max                    1.000000                  1.000000   \n",
       "\n",
       "       Company_Location_Bolivia  Company_Location_Brazil  ...  \\\n",
       "count               1960.000000              1960.000000  ...   \n",
       "mean                   0.001020                 0.017857  ...   \n",
       "std                    0.031936                 0.132466  ...   \n",
       "min                    0.000000                 0.000000  ...   \n",
       "25%                    0.000000                 0.000000  ...   \n",
       "50%                    0.000000                 0.000000  ...   \n",
       "75%                    0.000000                 0.000000  ...   \n",
       "max                    1.000000                 1.000000  ...   \n",
       "\n",
       "       country_code_TG  country_code_TT  country_code_TZ  country_code_UG  \\\n",
       "count      1960.000000      1960.000000      1960.000000      1960.000000   \n",
       "mean          0.001531         0.019898         0.018367         0.003571   \n",
       "std           0.039103         0.139685         0.134310         0.059670   \n",
       "min           0.000000         0.000000         0.000000         0.000000   \n",
       "25%           0.000000         0.000000         0.000000         0.000000   \n",
       "50%           0.000000         0.000000         0.000000         0.000000   \n",
       "75%           0.000000         0.000000         0.000000         0.000000   \n",
       "max           1.000000         1.000000         1.000000         1.000000   \n",
       "\n",
       "       country_code_US  country_code_VE  country_code_VN  country_code_VU  \\\n",
       "count      1960.000000      1960.000000      1960.000000      1960.000000   \n",
       "mean          0.014286         0.119388         0.020408         0.003571   \n",
       "std           0.118696         0.324327         0.141428         0.059670   \n",
       "min           0.000000         0.000000         0.000000         0.000000   \n",
       "25%           0.000000         0.000000         0.000000         0.000000   \n",
       "50%           0.000000         0.000000         0.000000         0.000000   \n",
       "75%           0.000000         0.000000         0.000000         0.000000   \n",
       "max           1.000000         1.000000         1.000000         1.000000   \n",
       "\n",
       "       country_code_WS  country_code_ZZ  \n",
       "count      1960.000000      1960.000000  \n",
       "mean          0.002041         0.052041  \n",
       "std           0.045141         0.222166  \n",
       "min           0.000000         0.000000  \n",
       "25%           0.000000         0.000000  \n",
       "50%           0.000000         0.000000  \n",
       "75%           0.000000         0.000000  \n",
       "max           1.000000         1.000000  \n",
       "\n",
       "[8 rows x 203 columns]"
      ]
     },
     "execution_count": 8,
     "metadata": {},
     "output_type": "execute_result"
    }
   ],
   "source": [
    "X.describe()"
   ]
  },
  {
   "cell_type": "code",
   "execution_count": 9,
   "id": "e62ffdfd",
   "metadata": {},
   "outputs": [
    {
     "data": {
      "text/plain": [
       "Satisfactory      1353\n",
       "Unsatisfactory     484\n",
       "Premium_Elite      105\n",
       "unpleasant          18\n",
       "Name: Rating, dtype: int64"
      ]
     },
     "execution_count": 9,
     "metadata": {},
     "output_type": "execute_result"
    }
   ],
   "source": [
    "# Check the balance of our target values\n",
    "y.value_counts()"
   ]
  },
  {
   "cell_type": "code",
   "execution_count": 10,
   "id": "b20d8024",
   "metadata": {},
   "outputs": [],
   "source": [
    "from sklearn.model_selection import train_test_split\n",
    "X_train, X_test, y_train, y_test = train_test_split(X,\n",
    "   y,test_size= 0.4,train_size=0.6 , random_state=1, stratify=y)"
   ]
  },
  {
   "cell_type": "code",
   "execution_count": 11,
   "id": "fa0063b7",
   "metadata": {},
   "outputs": [
    {
     "data": {
      "text/plain": [
       "Counter({'Satisfactory': 812,\n",
       "         'Unsatisfactory': 290,\n",
       "         'Premium_Elite': 63,\n",
       "         'unpleasant': 11})"
      ]
     },
     "execution_count": 11,
     "metadata": {},
     "output_type": "execute_result"
    }
   ],
   "source": [
    "\n",
    "Counter(y_train)"
   ]
  },
  {
   "cell_type": "code",
   "execution_count": 12,
   "id": "ed39f6dc",
   "metadata": {},
   "outputs": [],
   "source": [
    "from sklearn.preprocessing import StandardScaler\n",
    "\n",
    "# Create a StandardScaler instance\n",
    "scaler = StandardScaler()\n",
    "\n",
    "# Fit the StandardScaler\n",
    "X_scaler = scaler.fit(X_train)\n",
    "\n",
    "# Scale the data\n",
    "X_train_scaled = X_scaler.transform(X_train)\n",
    "X_test_scaled = X_scaler.transform(X_test)"
   ]
  },
  {
   "cell_type": "markdown",
   "id": "37144663",
   "metadata": {},
   "source": [
    "# Oversampling"
   ]
  },
  {
   "cell_type": "code",
   "execution_count": 13,
   "id": "65ea1507",
   "metadata": {},
   "outputs": [
    {
     "data": {
      "text/plain": [
       "Counter({'Satisfactory': 812,\n",
       "         'Unsatisfactory': 812,\n",
       "         'Premium_Elite': 812,\n",
       "         'unpleasant': 812})"
      ]
     },
     "execution_count": 13,
     "metadata": {},
     "output_type": "execute_result"
    }
   ],
   "source": [
    "#Naive Random Oversampling\n",
    "\n",
    "# Resample the training data with the RandomOversampler\n",
    "from imblearn.over_sampling import RandomOverSampler\n",
    "# Instantiate the model\n",
    "ros = RandomOverSampler(random_state=1)\n",
    "# Resample the targets\n",
    "X_resampled, y_resampled = ros.fit_resample(X_train_scaled, y_train)\n",
    "Counter(y_resampled)\n",
    "\n"
   ]
  },
  {
   "cell_type": "markdown",
   "id": "34fcb93b",
   "metadata": {},
   "source": [
    "## LogisticRegression"
   ]
  },
  {
   "cell_type": "code",
   "execution_count": 14,
   "id": "2c88108c",
   "metadata": {},
   "outputs": [
    {
     "name": "stderr",
     "output_type": "stream",
     "text": [
      "C:\\Users\\Tata\\anaconda3\\envs\\mlenv\\lib\\site-packages\\sklearn\\linear_model\\_logistic.py:765: ConvergenceWarning: lbfgs failed to converge (status=1):\n",
      "STOP: TOTAL NO. of ITERATIONS REACHED LIMIT.\n",
      "\n",
      "Increase the number of iterations (max_iter) or scale the data as shown in:\n",
      "    https://scikit-learn.org/stable/modules/preprocessing.html\n",
      "Please also refer to the documentation for alternative solver options:\n",
      "    https://scikit-learn.org/stable/modules/linear_model.html#logistic-regression\n",
      "  extra_warning_msg=_LOGISTIC_SOLVER_CONVERGENCE_MSG)\n"
     ]
    }
   ],
   "source": [
    "# from sklearn.linear_model import LogisticRegression\n",
    "from sklearn.linear_model import LogisticRegression\n",
    "\n",
    "model = LogisticRegression(solver='lbfgs', random_state=1)\n",
    "model.fit(X_resampled, y_resampled)\n",
    "# Calculate predictions\n",
    "y_pred = model.predict(X_test_scaled)\n"
   ]
  },
  {
   "cell_type": "code",
   "execution_count": 15,
   "id": "a9c99574",
   "metadata": {},
   "outputs": [
    {
     "data": {
      "text/plain": [
       "0.48007868753385835"
      ]
     },
     "execution_count": 15,
     "metadata": {},
     "output_type": "execute_result"
    }
   ],
   "source": [
    "# Calculated the balanced accuracy score\n",
    "from sklearn.metrics import balanced_accuracy_score\n",
    "balanced_accuracy_score(y_test, y_pred)"
   ]
  },
  {
   "cell_type": "code",
   "execution_count": 16,
   "id": "00b7d34f",
   "metadata": {},
   "outputs": [
    {
     "name": "stdout",
     "output_type": "stream",
     "text": [
      "[[ 21  14   6   1]\n",
      " [144 225 164   8]\n",
      " [ 38  68  84   4]\n",
      " [  1   1   1   4]]\n"
     ]
    }
   ],
   "source": [
    "# Display the confusion matrix\n",
    "from sklearn.metrics import confusion_matrix\n",
    "\n",
    "cm = confusion_matrix(y_test, y_pred)\n",
    "\n",
    "# Create a DataFrame from the confusion matrix.\n",
    "print(cm)"
   ]
  },
  {
   "cell_type": "code",
   "execution_count": 17,
   "id": "6f59afb5",
   "metadata": {},
   "outputs": [
    {
     "name": "stdout",
     "output_type": "stream",
     "text": [
      "                      pre       rec       spe        f1       geo       iba       sup\n",
      "\n",
      " Premium_Elite       0.10      0.50      0.75      0.17      0.61      0.37        42\n",
      "  Satisfactory       0.73      0.42      0.66      0.53      0.52      0.27       541\n",
      "Unsatisfactory       0.33      0.43      0.71      0.37      0.55      0.30       194\n",
      "    unpleasant       0.24      0.57      0.98      0.33      0.75      0.54         7\n",
      "\n",
      "   avg / total       0.59      0.43      0.68      0.47      0.54      0.28       784\n",
      "\n"
     ]
    }
   ],
   "source": [
    "# Print the imbalanced classification report\n",
    "from imblearn.metrics import classification_report_imbalanced\n",
    "print(classification_report_imbalanced(y_test, y_pred))"
   ]
  },
  {
   "cell_type": "markdown",
   "id": "6c032eff",
   "metadata": {},
   "source": [
    "# SMOTE Oversampling\n"
   ]
  },
  {
   "cell_type": "code",
   "execution_count": 18,
   "id": "e891f2a4",
   "metadata": {},
   "outputs": [
    {
     "data": {
      "text/plain": [
       "Counter({'Satisfactory': 812,\n",
       "         'Unsatisfactory': 812,\n",
       "         'Premium_Elite': 812,\n",
       "         'unpleasant': 812})"
      ]
     },
     "execution_count": 18,
     "metadata": {},
     "output_type": "execute_result"
    }
   ],
   "source": [
    "\n",
    "\n",
    "# Resample the training data with SMOTE\n",
    "from imblearn.over_sampling import SMOTE\n",
    "X_resampled, y_resampled = SMOTE(random_state=1,sampling_strategy='auto').fit_resample(X_train_scaled, y_train)\n",
    "\n",
    "Counter(y_resampled)\n",
    "\n"
   ]
  },
  {
   "cell_type": "code",
   "execution_count": 19,
   "id": "b1eee4e2",
   "metadata": {},
   "outputs": [
    {
     "name": "stderr",
     "output_type": "stream",
     "text": [
      "C:\\Users\\Tata\\anaconda3\\envs\\mlenv\\lib\\site-packages\\sklearn\\linear_model\\_logistic.py:765: ConvergenceWarning: lbfgs failed to converge (status=1):\n",
      "STOP: TOTAL NO. of ITERATIONS REACHED LIMIT.\n",
      "\n",
      "Increase the number of iterations (max_iter) or scale the data as shown in:\n",
      "    https://scikit-learn.org/stable/modules/preprocessing.html\n",
      "Please also refer to the documentation for alternative solver options:\n",
      "    https://scikit-learn.org/stable/modules/linear_model.html#logistic-regression\n",
      "  extra_warning_msg=_LOGISTIC_SOLVER_CONVERGENCE_MSG)\n"
     ]
    },
    {
     "data": {
      "text/plain": [
       "LogisticRegression(random_state=1)"
      ]
     },
     "execution_count": 19,
     "metadata": {},
     "output_type": "execute_result"
    }
   ],
   "source": [
    "# Train the Logistic Regression model using the resampled data\n",
    "model = LogisticRegression(solver='lbfgs', random_state=1)\n",
    "model.fit(X_resampled, y_resampled)"
   ]
  },
  {
   "cell_type": "code",
   "execution_count": 20,
   "id": "b665e664",
   "metadata": {},
   "outputs": [
    {
     "data": {
      "text/plain": [
       "0.4202880944667823"
      ]
     },
     "execution_count": 20,
     "metadata": {},
     "output_type": "execute_result"
    }
   ],
   "source": [
    "# Calculated the balanced accuracy score\n",
    "y_pred = model.predict(X_test_scaled)\n",
    "balanced_accuracy_score(y_test, y_pred)"
   ]
  },
  {
   "cell_type": "code",
   "execution_count": 21,
   "id": "558ceb98",
   "metadata": {},
   "outputs": [
    {
     "data": {
      "text/plain": [
       "array([[ 17,  18,   6,   1],\n",
       "       [123, 230, 179,   9],\n",
       "       [ 39,  71,  82,   2],\n",
       "       [  0,   2,   2,   3]], dtype=int64)"
      ]
     },
     "execution_count": 21,
     "metadata": {},
     "output_type": "execute_result"
    }
   ],
   "source": [
    "# Display the confusion matrix\n",
    "confusion_matrix(y_test, y_pred)"
   ]
  },
  {
   "cell_type": "code",
   "execution_count": 22,
   "id": "8507d884",
   "metadata": {},
   "outputs": [
    {
     "name": "stdout",
     "output_type": "stream",
     "text": [
      "                      pre       rec       spe        f1       geo       iba       sup\n",
      "\n",
      " Premium_Elite       0.09      0.40      0.78      0.15      0.56      0.30        42\n",
      "  Satisfactory       0.72      0.43      0.63      0.53      0.52      0.26       541\n",
      "Unsatisfactory       0.30      0.42      0.68      0.35      0.54      0.28       194\n",
      "    unpleasant       0.20      0.43      0.98      0.27      0.65      0.40         7\n",
      "\n",
      "   avg / total       0.58      0.42      0.65      0.47      0.52      0.27       784\n",
      "\n"
     ]
    }
   ],
   "source": [
    "# Print the imbalanced classification report\n",
    "print(classification_report_imbalanced(y_test, y_pred))"
   ]
  },
  {
   "cell_type": "markdown",
   "id": "688e8170",
   "metadata": {},
   "source": [
    "# Undersampling"
   ]
  },
  {
   "cell_type": "code",
   "execution_count": 23,
   "id": "1ef34441",
   "metadata": {},
   "outputs": [
    {
     "data": {
      "text/plain": [
       "Counter({'Premium_Elite': 11,\n",
       "         'Satisfactory': 11,\n",
       "         'Unsatisfactory': 11,\n",
       "         'unpleasant': 11})"
      ]
     },
     "execution_count": 23,
     "metadata": {},
     "output_type": "execute_result"
    }
   ],
   "source": [
    "# Resample the data using the ClusterCentroids resampler\n",
    "\n",
    "from imblearn.under_sampling import ClusterCentroids\n",
    "# Instantiate\n",
    "cc = ClusterCentroids(random_state=1)\n",
    "X_resampled, y_resampled = cc.fit_resample(X_train, y_train)\n",
    "Counter(y_resampled)"
   ]
  },
  {
   "cell_type": "code",
   "execution_count": 24,
   "id": "fe506307",
   "metadata": {},
   "outputs": [
    {
     "name": "stderr",
     "output_type": "stream",
     "text": [
      "C:\\Users\\Tata\\anaconda3\\envs\\mlenv\\lib\\site-packages\\sklearn\\linear_model\\_logistic.py:765: ConvergenceWarning: lbfgs failed to converge (status=1):\n",
      "STOP: TOTAL NO. of ITERATIONS REACHED LIMIT.\n",
      "\n",
      "Increase the number of iterations (max_iter) or scale the data as shown in:\n",
      "    https://scikit-learn.org/stable/modules/preprocessing.html\n",
      "Please also refer to the documentation for alternative solver options:\n",
      "    https://scikit-learn.org/stable/modules/linear_model.html#logistic-regression\n",
      "  extra_warning_msg=_LOGISTIC_SOLVER_CONVERGENCE_MSG)\n"
     ]
    },
    {
     "data": {
      "text/plain": [
       "LogisticRegression(random_state=1)"
      ]
     },
     "execution_count": 24,
     "metadata": {},
     "output_type": "execute_result"
    }
   ],
   "source": [
    "# Train the Logistic Regression model using the resampled data\n",
    "from sklearn.linear_model import LogisticRegression\n",
    "model = LogisticRegression(solver='lbfgs', random_state=1)\n",
    "model.fit(X_resampled, y_resampled)"
   ]
  },
  {
   "cell_type": "code",
   "execution_count": 25,
   "id": "44f62d15",
   "metadata": {},
   "outputs": [
    {
     "data": {
      "text/plain": [
       "0.3213855820735978"
      ]
     },
     "execution_count": 25,
     "metadata": {},
     "output_type": "execute_result"
    }
   ],
   "source": [
    "# Calculated the balanced accuracy score\n",
    "y_pred = model.predict(X_test_scaled)\n",
    "balanced_accuracy_score(y_test, y_pred)"
   ]
  },
  {
   "cell_type": "code",
   "execution_count": 26,
   "id": "6dc548da",
   "metadata": {},
   "outputs": [
    {
     "name": "stdout",
     "output_type": "stream",
     "text": [
      "[[ 20   4   5  13]\n",
      " [268  59  45 169]\n",
      " [ 63  19  25  87]\n",
      " [  1   1   1   4]]\n"
     ]
    }
   ],
   "source": [
    "# Display the confusion matrix\n",
    "from sklearn.metrics import confusion_matrix\n",
    "cm = confusion_matrix(y_test, y_pred)\n",
    "\n",
    "# Create a DataFrame from the confusion matrix.\n",
    "print(cm)"
   ]
  },
  {
   "cell_type": "code",
   "execution_count": 27,
   "id": "9d7baa26",
   "metadata": {},
   "outputs": [
    {
     "name": "stdout",
     "output_type": "stream",
     "text": [
      "                      pre       rec       spe        f1       geo       iba       sup\n",
      "\n",
      " Premium_Elite       0.06      0.48      0.55      0.10      0.51      0.26        42\n",
      "  Satisfactory       0.71      0.11      0.90      0.19      0.31      0.09       541\n",
      "Unsatisfactory       0.33      0.13      0.91      0.19      0.34      0.11       194\n",
      "    unpleasant       0.01      0.57      0.65      0.03      0.61      0.37         7\n",
      "\n",
      "   avg / total       0.58      0.14      0.88      0.18      0.33      0.11       784\n",
      "\n"
     ]
    }
   ],
   "source": [
    "\n",
    "\n",
    "# Print the imbalanced classification report\n",
    "print(classification_report_imbalanced(y_test, y_pred))\n",
    "\n"
   ]
  },
  {
   "cell_type": "markdown",
   "id": "f6eadcd1",
   "metadata": {},
   "source": [
    "# Combination (Over and Under) Sampling "
   ]
  },
  {
   "cell_type": "code",
   "execution_count": 28,
   "id": "0f2fb703",
   "metadata": {},
   "outputs": [
    {
     "data": {
      "text/plain": [
       "Counter({'Premium_Elite': 1234,\n",
       "         'Satisfactory': 432,\n",
       "         'Unsatisfactory': 827,\n",
       "         'unpleasant': 1345})"
      ]
     },
     "execution_count": 28,
     "metadata": {},
     "output_type": "execute_result"
    }
   ],
   "source": [
    "# Resample the training data with SMOTEENN\n",
    "# Warning: This is a large dataset, and this step may take some time to complete\n",
    "from imblearn.combine import SMOTEENN\n",
    "smote_enn = SMOTEENN(random_state=1)\n",
    "X_resampled, y_resampled = smote_enn.fit_resample(X, y)\n",
    "Counter(y_resampled)"
   ]
  },
  {
   "cell_type": "code",
   "execution_count": 29,
   "id": "54bb7b80",
   "metadata": {},
   "outputs": [
    {
     "name": "stderr",
     "output_type": "stream",
     "text": [
      "C:\\Users\\Tata\\anaconda3\\envs\\mlenv\\lib\\site-packages\\sklearn\\linear_model\\_logistic.py:765: ConvergenceWarning: lbfgs failed to converge (status=1):\n",
      "STOP: TOTAL NO. of ITERATIONS REACHED LIMIT.\n",
      "\n",
      "Increase the number of iterations (max_iter) or scale the data as shown in:\n",
      "    https://scikit-learn.org/stable/modules/preprocessing.html\n",
      "Please also refer to the documentation for alternative solver options:\n",
      "    https://scikit-learn.org/stable/modules/linear_model.html#logistic-regression\n",
      "  extra_warning_msg=_LOGISTIC_SOLVER_CONVERGENCE_MSG)\n"
     ]
    },
    {
     "data": {
      "text/plain": [
       "LogisticRegression(random_state=1)"
      ]
     },
     "execution_count": 29,
     "metadata": {},
     "output_type": "execute_result"
    }
   ],
   "source": [
    "# Train the Logistic Regression model using the resampled data\n",
    "model = LogisticRegression(solver='lbfgs', random_state=1)\n",
    "model.fit(X_resampled, y_resampled)"
   ]
  },
  {
   "cell_type": "code",
   "execution_count": 30,
   "id": "361675c0",
   "metadata": {},
   "outputs": [
    {
     "data": {
      "text/plain": [
       "0.38198219718933557"
      ]
     },
     "execution_count": 30,
     "metadata": {},
     "output_type": "execute_result"
    }
   ],
   "source": [
    "# Calculated the balanced accuracy score\n",
    "y_pred = model.predict(X_test_scaled)\n",
    "balanced_accuracy_score(y_test, y_pred)"
   ]
  },
  {
   "cell_type": "code",
   "execution_count": 31,
   "id": "c912c76d",
   "metadata": {},
   "outputs": [
    {
     "name": "stdout",
     "output_type": "stream",
     "text": [
      "[[ 20   6   4  12]\n",
      " [220 124  37 160]\n",
      " [ 56  34  21  83]\n",
      " [  2   0   0   5]]\n"
     ]
    }
   ],
   "source": [
    "# Display the confusion matrix\n",
    "from sklearn.metrics import confusion_matrix\n",
    "\n",
    "\n",
    "cm = confusion_matrix(y_test, y_pred)\n",
    "\n",
    "# Create a DataFrame from the confusion matrix.\n",
    "print(cm)"
   ]
  },
  {
   "cell_type": "code",
   "execution_count": 32,
   "id": "59cc0400",
   "metadata": {},
   "outputs": [
    {
     "name": "stdout",
     "output_type": "stream",
     "text": [
      "                      pre       rec       spe        f1       geo       iba       sup\n",
      "\n",
      " Premium_Elite       0.07      0.48      0.63      0.12      0.55      0.29        42\n",
      "  Satisfactory       0.76      0.23      0.84      0.35      0.44      0.18       541\n",
      "Unsatisfactory       0.34      0.11      0.93      0.16      0.32      0.09       194\n",
      "    unpleasant       0.02      0.71      0.67      0.04      0.69      0.48         7\n",
      "\n",
      "   avg / total       0.61      0.22      0.85      0.29      0.42      0.17       784\n",
      "\n"
     ]
    }
   ],
   "source": [
    "# Print the imbalanced classification report\n",
    "print(classification_report_imbalanced(y_test, y_pred))"
   ]
  },
  {
   "cell_type": "code",
   "execution_count": null,
   "id": "82e6cd52",
   "metadata": {},
   "outputs": [],
   "source": []
  },
  {
   "cell_type": "code",
   "execution_count": null,
   "id": "322bd89c",
   "metadata": {},
   "outputs": [],
   "source": []
  },
  {
   "cell_type": "code",
   "execution_count": null,
   "id": "e1f5017c",
   "metadata": {},
   "outputs": [],
   "source": []
  }
 ],
 "metadata": {
  "kernelspec": {
   "display_name": "Python 3",
   "language": "python",
   "name": "python3"
  },
  "language_info": {
   "codemirror_mode": {
    "name": "ipython",
    "version": 3
   },
   "file_extension": ".py",
   "mimetype": "text/x-python",
   "name": "python",
   "nbconvert_exporter": "python",
   "pygments_lexer": "ipython3",
   "version": "3.7.10"
  }
 },
 "nbformat": 4,
 "nbformat_minor": 5
}
