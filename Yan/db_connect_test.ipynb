{
 "cells": [
  {
   "cell_type": "code",
   "execution_count": 67,
   "id": "68bffe16",
   "metadata": {},
   "outputs": [],
   "source": [
    "import pandas as pd\n",
    "from sklearn.preprocessing import StandardScaler,OneHotEncoder\n",
    "import tensorflow as tf\n",
    "from sklearn.model_selection import train_test_split\n",
    "from sklearn.metrics import accuracy_score\n",
    "from sklearn.svm import SVC\n",
    "from sklearn.ensemble import RandomForestClassifier\n",
    "\n",
    "import numpy as np\n",
    "import re\n",
    "import plotly as pl \n",
    "import matplotlib.pyplot as plt\n",
    "from pathlib import Path\n",
    "\n",
    "# Import db related librarys\n",
    "import psycopg2\n",
    "import sys\n",
    "import boto3\n",
    "import os\n",
    "import sqlalchemy"
   ]
  },
  {
   "cell_type": "code",
   "execution_count": 68,
   "id": "34e88e19",
   "metadata": {},
   "outputs": [],
   "source": [
    "# Loading csv from S3 Bucket.\n",
    "lat_long_data = \"https://chocolate-final-project-21.s3.us-east-2.amazonaws.com/country_and_usa_states_lat_long.csv\"\n",
    "lat_long_df = pd.read_csv(lat_long_data)\n",
    "\n",
    "#file_path = Path('country_and_usa_states_lat_long.csv')\n",
    "#df = pd.read_csv(file_path)\n",
    "lat_long_df.head()\n",
    "\n",
    "lat_long_csv = lat_long_df.to_csv()"
   ]
  },
  {
   "cell_type": "code",
   "execution_count": 62,
   "id": "1a5a0f29",
   "metadata": {},
   "outputs": [
    {
     "data": {
      "text/html": [
       "<div>\n",
       "<style scoped>\n",
       "    .dataframe tbody tr th:only-of-type {\n",
       "        vertical-align: middle;\n",
       "    }\n",
       "\n",
       "    .dataframe tbody tr th {\n",
       "        vertical-align: top;\n",
       "    }\n",
       "\n",
       "    .dataframe thead th {\n",
       "        text-align: right;\n",
       "    }\n",
       "</style>\n",
       "<table border=\"1\" class=\"dataframe\">\n",
       "  <thead>\n",
       "    <tr style=\"text-align: right;\">\n",
       "      <th></th>\n",
       "      <th>Company</th>\n",
       "      <th>Bean_Origin_or_Bar_Name</th>\n",
       "      <th>REF</th>\n",
       "      <th>Review_Date</th>\n",
       "      <th>Cocoa_Percent</th>\n",
       "      <th>Company_Location</th>\n",
       "      <th>Rating</th>\n",
       "      <th>Bean_Type</th>\n",
       "      <th>Broad_Bean_Origin</th>\n",
       "      <th>Ingredients</th>\n",
       "      <th>Most_Memorable_Characteristics</th>\n",
       "      <th>country_code</th>\n",
       "      <th>latitude</th>\n",
       "      <th>longitude</th>\n",
       "      <th>continent</th>\n",
       "    </tr>\n",
       "  </thead>\n",
       "  <tbody>\n",
       "    <tr>\n",
       "      <th>0</th>\n",
       "      <td>A. Morin</td>\n",
       "      <td>Agua Grande</td>\n",
       "      <td>1876</td>\n",
       "      <td>2016</td>\n",
       "      <td>63.0</td>\n",
       "      <td>France</td>\n",
       "      <td>3.75</td>\n",
       "      <td>missing</td>\n",
       "      <td>Sao Tome &amp; Principe</td>\n",
       "      <td>4- B,S,C,L</td>\n",
       "      <td>sweet, chocolatey, vegetal</td>\n",
       "      <td>ST</td>\n",
       "      <td>0.186360</td>\n",
       "      <td>6.613081</td>\n",
       "      <td>Africa</td>\n",
       "    </tr>\n",
       "    <tr>\n",
       "      <th>1</th>\n",
       "      <td>A. Morin</td>\n",
       "      <td>Kpime</td>\n",
       "      <td>1676</td>\n",
       "      <td>2015</td>\n",
       "      <td>70.0</td>\n",
       "      <td>France</td>\n",
       "      <td>2.75</td>\n",
       "      <td>missing</td>\n",
       "      <td>Togo</td>\n",
       "      <td>4- B,S,C,L</td>\n",
       "      <td>burnt wood, earthy, choco</td>\n",
       "      <td>TG</td>\n",
       "      <td>8.619543</td>\n",
       "      <td>0.824782</td>\n",
       "      <td>Africa</td>\n",
       "    </tr>\n",
       "    <tr>\n",
       "      <th>2</th>\n",
       "      <td>A. Morin</td>\n",
       "      <td>Atsane</td>\n",
       "      <td>1676</td>\n",
       "      <td>2015</td>\n",
       "      <td>70.0</td>\n",
       "      <td>France</td>\n",
       "      <td>3.00</td>\n",
       "      <td>missing</td>\n",
       "      <td>Togo</td>\n",
       "      <td>4- B,S,C,L</td>\n",
       "      <td>roasty, acidic, nutty</td>\n",
       "      <td>TG</td>\n",
       "      <td>8.619543</td>\n",
       "      <td>0.824782</td>\n",
       "      <td>Africa</td>\n",
       "    </tr>\n",
       "    <tr>\n",
       "      <th>3</th>\n",
       "      <td>A. Morin</td>\n",
       "      <td>Akata</td>\n",
       "      <td>1680</td>\n",
       "      <td>2015</td>\n",
       "      <td>70.0</td>\n",
       "      <td>France</td>\n",
       "      <td>3.50</td>\n",
       "      <td>missing</td>\n",
       "      <td>Togo</td>\n",
       "      <td>4- B,S,C,L</td>\n",
       "      <td>mild profile, chocolaty, spice</td>\n",
       "      <td>TG</td>\n",
       "      <td>8.619543</td>\n",
       "      <td>0.824782</td>\n",
       "      <td>Africa</td>\n",
       "    </tr>\n",
       "    <tr>\n",
       "      <th>4</th>\n",
       "      <td>A. Morin</td>\n",
       "      <td>Quilla</td>\n",
       "      <td>1704</td>\n",
       "      <td>2015</td>\n",
       "      <td>70.0</td>\n",
       "      <td>France</td>\n",
       "      <td>3.50</td>\n",
       "      <td>missing</td>\n",
       "      <td>Peru</td>\n",
       "      <td>4- B,S,C,L</td>\n",
       "      <td>grainy texture, cocoa, sweet</td>\n",
       "      <td>PE</td>\n",
       "      <td>-9.189967</td>\n",
       "      <td>-75.015152</td>\n",
       "      <td>South America</td>\n",
       "    </tr>\n",
       "  </tbody>\n",
       "</table>\n",
       "</div>"
      ],
      "text/plain": [
       "    Company Bean_Origin_or_Bar_Name   REF  Review_Date  Cocoa_Percent  \\\n",
       "0  A. Morin             Agua Grande  1876         2016           63.0   \n",
       "1  A. Morin                   Kpime  1676         2015           70.0   \n",
       "2  A. Morin                  Atsane  1676         2015           70.0   \n",
       "3  A. Morin                   Akata  1680         2015           70.0   \n",
       "4  A. Morin                  Quilla  1704         2015           70.0   \n",
       "\n",
       "  Company_Location  Rating Bean_Type    Broad_Bean_Origin Ingredients  \\\n",
       "0           France    3.75   missing  Sao Tome & Principe  4- B,S,C,L   \n",
       "1           France    2.75   missing                 Togo  4- B,S,C,L   \n",
       "2           France    3.00   missing                 Togo  4- B,S,C,L   \n",
       "3           France    3.50   missing                 Togo  4- B,S,C,L   \n",
       "4           France    3.50   missing                 Peru  4- B,S,C,L   \n",
       "\n",
       "   Most_Memorable_Characteristics country_code  latitude  longitude  \\\n",
       "0      sweet, chocolatey, vegetal           ST  0.186360   6.613081   \n",
       "1       burnt wood, earthy, choco           TG  8.619543   0.824782   \n",
       "2           roasty, acidic, nutty           TG  8.619543   0.824782   \n",
       "3  mild profile, chocolaty, spice           TG  8.619543   0.824782   \n",
       "4    grainy texture, cocoa, sweet           PE -9.189967 -75.015152   \n",
       "\n",
       "       continent  \n",
       "0         Africa  \n",
       "1         Africa  \n",
       "2         Africa  \n",
       "3         Africa  \n",
       "4  South America  "
      ]
     },
     "execution_count": 62,
     "metadata": {},
     "output_type": "execute_result"
    }
   ],
   "source": [
    "# Load csv of cleaned version\n",
    "clean_flavors_data = \"https://chocolate-final-project-21.s3.us-east-2.amazonaws.com/clean_flavors_of_cacao.csv\"\n",
    "clean_flavors_df = pd.read_csv(clean_flavors_data)\n",
    "\n",
    "clean_flavors_df.head()"
   ]
  },
  {
   "cell_type": "code",
   "execution_count": 82,
   "id": "2ffc06d6",
   "metadata": {},
   "outputs": [],
   "source": [
    "# Store environmental variable\n",
    "from getpass import getpass\n",
    "\n",
    "\n",
    "def connect_to_db():\n",
    "    \n",
    "    connection = None\n",
    "    #enter_password = getpass('Enter database password')\n",
    "    \n",
    "    try:\n",
    "        print('Connecting to the PostgreSQL database...')\n",
    "        connection = psycopg2.connect(\n",
    "            host = \"database-chocolate.cafzzay3t2tr.us-east-2.rds.amazonaws.com\",\n",
    "            port = 5432,\n",
    "            user = 'postgres',\n",
    "            password = getpass('Enter database password'),\n",
    "            database = 'postgres'\n",
    "            )\n",
    "    except (Exception, psycopg2.DatabaseError) as error:\n",
    "        print(error)\n",
    "        sys.exit(1) \n",
    "    return connection\n",
    "\n"
   ]
  },
  {
   "cell_type": "code",
   "execution_count": 84,
   "id": "4a79256d",
   "metadata": {},
   "outputs": [
    {
     "name": "stdout",
     "output_type": "stream",
     "text": [
      "Connecting to the PostgreSQL database...\n",
      "Enter database password········\n"
     ]
    }
   ],
   "source": [
    "connection = connect_to_db()\n",
    "\n"
   ]
  },
  {
   "cell_type": "code",
   "execution_count": 85,
   "id": "24c6d374",
   "metadata": {},
   "outputs": [
    {
     "data": {
      "text/plain": [
       "<cursor object at 0x7fe0b738e550; closed: 0>"
      ]
     },
     "execution_count": 85,
     "metadata": {},
     "output_type": "execute_result"
    }
   ],
   "source": [
    "\n",
    "# If curser object = 0, then connection was successfully established\n",
    "cursor = connection.cursor()\n",
    "cursor"
   ]
  },
  {
   "cell_type": "code",
   "execution_count": 74,
   "id": "3457ecf1",
   "metadata": {},
   "outputs": [],
   "source": [
    "# Create location table - this table has been set up (already exists)\n",
    "\n",
    "cursor.execute(\"\"\" CREATE TABLE IF NOT EXISTS location_table(\n",
    "country_code text,\n",
    "latitude float,\n",
    "longitude float,\n",
    "country text)\"\"\")\n",
    "\n",
    "connection.commit()"
   ]
  },
  {
   "cell_type": "code",
   "execution_count": 75,
   "id": "e5e2abeb",
   "metadata": {},
   "outputs": [],
   "source": [
    "# Create clean_flavors_of_cacao table on postgres.\n",
    "\n",
    "#country text)\"\"\")\n",
    "cursor.execute(\"\"\" CREATE TABLE IF NOT EXISTS clean_flavors_table(\n",
    "Company text NULL,\n",
    "Bean_Origin_or_Bar_Name text NULL,\n",
    "REF text NULL,\n",
    "Review_Date text NULL,\n",
    "Cocoa_Percent float NULL,\n",
    "Company_Location text NULL,\n",
    "Rating float NULL,\n",
    "Bean_Type text NULL,\n",
    "Broad_Bean_Origin text NULL,\n",
    "Ingredients text NULL,\n",
    "Most_Memorable_Characteristics text NULL,\n",
    "country_code text NULL,\n",
    "latitude float NULL,\n",
    "longitude float NULL,\n",
    "continent text NULL\n",
    ")\"\"\")\n",
    "\n",
    "connection.commit()\n"
   ]
  },
  {
   "cell_type": "code",
   "execution_count": null,
   "id": "5cc6252e",
   "metadata": {},
   "outputs": [],
   "source": [
    "#sql = \"\"\"\n",
    "#DROP TABLE clean_flavors_table\n",
    "#\"\"\"\n",
    "\n",
    "#cursor.execute(sql)"
   ]
  },
  {
   "cell_type": "code",
   "execution_count": 7,
   "id": "566e2efc",
   "metadata": {},
   "outputs": [],
   "source": [
    "#sql = \"\"\"\n",
    "#DROP TABLE location_table\n",
    "#\"\"\"\n",
    "\n",
    "#cursor.execute(sql)"
   ]
  },
  {
   "cell_type": "code",
   "execution_count": 76,
   "id": "15af88df",
   "metadata": {},
   "outputs": [
    {
     "data": {
      "text/plain": [
       "<cursor object at 0x7fe0b738e350; closed: 0>"
      ]
     },
     "execution_count": 76,
     "metadata": {},
     "output_type": "execute_result"
    }
   ],
   "source": [
    "cursor"
   ]
  },
  {
   "cell_type": "code",
   "execution_count": 17,
   "id": "3ae78846",
   "metadata": {},
   "outputs": [],
   "source": [
    "# Load data into postgres table from csv currently - have not figured out how to directly open from s3.\n",
    "# No need to re-run this cell as csv file has already been imported into table.\n",
    "\n",
    "with open ('country_and_usa_states_lat_long.csv', 'r') as row:\n",
    "           next(row) # skip the header row\n",
    "           cursor.copy_from(row, 'location_table', sep = ',')\n",
    "                   \n",
    "connection.commit()"
   ]
  },
  {
   "cell_type": "code",
   "execution_count": 89,
   "id": "0d74caa4",
   "metadata": {},
   "outputs": [
    {
     "ename": "BadCopyFileFormat",
     "evalue": "extra data after last expected column\nCONTEXT:  COPY clean_flavors_table, line 1: \"A. Morin,Agua Grande,1876,2016,63.0,France,3.75,missing,Sao Tome & Principe,\"4- B,S,C,L\",\"sweet, cho...\"\n",
     "output_type": "error",
     "traceback": [
      "\u001b[0;31m---------------------------------------------------------------------------\u001b[0m",
      "\u001b[0;31mBadCopyFileFormat\u001b[0m                         Traceback (most recent call last)",
      "\u001b[0;32m<ipython-input-89-c9fd02d4ef4c>\u001b[0m in \u001b[0;36m<module>\u001b[0;34m\u001b[0m\n\u001b[1;32m      3\u001b[0m \u001b[0;32mwith\u001b[0m \u001b[0mopen\u001b[0m \u001b[0;34m(\u001b[0m\u001b[0;34m'clean_flavors_of_cacao.csv'\u001b[0m\u001b[0;34m,\u001b[0m \u001b[0;34m'r'\u001b[0m\u001b[0;34m,\u001b[0m\u001b[0mencoding\u001b[0m\u001b[0;34m=\u001b[0m\u001b[0;34m'utf-8'\u001b[0m\u001b[0;34m)\u001b[0m \u001b[0;32mas\u001b[0m \u001b[0mrow\u001b[0m\u001b[0;34m:\u001b[0m\u001b[0;34m\u001b[0m\u001b[0;34m\u001b[0m\u001b[0m\n\u001b[1;32m      4\u001b[0m            \u001b[0mnext\u001b[0m\u001b[0;34m(\u001b[0m\u001b[0mrow\u001b[0m\u001b[0;34m)\u001b[0m \u001b[0;31m# skip the header row\u001b[0m\u001b[0;34m\u001b[0m\u001b[0;34m\u001b[0m\u001b[0m\n\u001b[0;32m----> 5\u001b[0;31m            \u001b[0mcursor\u001b[0m\u001b[0;34m.\u001b[0m\u001b[0mcopy_from\u001b[0m\u001b[0;34m(\u001b[0m\u001b[0mrow\u001b[0m\u001b[0;34m,\u001b[0m \u001b[0;34m'clean_flavors_table'\u001b[0m\u001b[0;34m,\u001b[0m \u001b[0msep\u001b[0m \u001b[0;34m=\u001b[0m \u001b[0;34m','\u001b[0m\u001b[0;34m)\u001b[0m\u001b[0;34m\u001b[0m\u001b[0;34m\u001b[0m\u001b[0m\n\u001b[0m\u001b[1;32m      6\u001b[0m \u001b[0;34m\u001b[0m\u001b[0m\n\u001b[1;32m      7\u001b[0m \u001b[0mconnection\u001b[0m\u001b[0;34m.\u001b[0m\u001b[0mcommit\u001b[0m\u001b[0;34m(\u001b[0m\u001b[0;34m)\u001b[0m\u001b[0;34m\u001b[0m\u001b[0;34m\u001b[0m\u001b[0m\n",
      "\u001b[0;31mBadCopyFileFormat\u001b[0m: extra data after last expected column\nCONTEXT:  COPY clean_flavors_table, line 1: \"A. Morin,Agua Grande,1876,2016,63.0,France,3.75,missing,Sao Tome & Principe,\"4- B,S,C,L\",\"sweet, cho...\"\n"
     ]
    }
   ],
   "source": [
    "# Load clean_flavors data into postgres table from csv currently - have not figured out how to directly open from s3.\n",
    "\n",
    "with open ('clean_flavors_of_cacao.csv', 'r',encoding='utf-8') as row:\n",
    "           next(row) # skip the header row\n",
    "           cursor.copy_from(row, 'clean_flavors_table', sep = ',')\n",
    "                   \n",
    "connection.commit()"
   ]
  },
  {
   "cell_type": "code",
   "execution_count": 26,
   "id": "9a14da1e",
   "metadata": {},
   "outputs": [],
   "source": [
    "# Query and view location_table from postgres.\n",
    "sql = \"\"\"\n",
    "SELECT * FROM location_table\n",
    "\"\"\"\n",
    "\n",
    "location_from_db = pd.read_sql(sql, con=connection)"
   ]
  },
  {
   "cell_type": "code",
   "execution_count": 88,
   "id": "040c3762",
   "metadata": {},
   "outputs": [],
   "source": [
    "# To end transaction\n",
    "connection.rollback()"
   ]
  },
  {
   "cell_type": "code",
   "execution_count": 27,
   "id": "f475f300",
   "metadata": {},
   "outputs": [
    {
     "data": {
      "text/html": [
       "<div>\n",
       "<style scoped>\n",
       "    .dataframe tbody tr th:only-of-type {\n",
       "        vertical-align: middle;\n",
       "    }\n",
       "\n",
       "    .dataframe tbody tr th {\n",
       "        vertical-align: top;\n",
       "    }\n",
       "\n",
       "    .dataframe thead th {\n",
       "        text-align: right;\n",
       "    }\n",
       "</style>\n",
       "<table border=\"1\" class=\"dataframe\">\n",
       "  <thead>\n",
       "    <tr style=\"text-align: right;\">\n",
       "      <th></th>\n",
       "      <th>country_code</th>\n",
       "      <th>latitude</th>\n",
       "      <th>longitude</th>\n",
       "      <th>country</th>\n",
       "    </tr>\n",
       "  </thead>\n",
       "  <tbody>\n",
       "    <tr>\n",
       "      <th>0</th>\n",
       "      <td>AD</td>\n",
       "      <td>42.546245</td>\n",
       "      <td>1.601554</td>\n",
       "      <td>Andorra</td>\n",
       "    </tr>\n",
       "    <tr>\n",
       "      <th>1</th>\n",
       "      <td>AE</td>\n",
       "      <td>23.424076</td>\n",
       "      <td>53.847818</td>\n",
       "      <td>United Arab Emirates</td>\n",
       "    </tr>\n",
       "    <tr>\n",
       "      <th>2</th>\n",
       "      <td>AF</td>\n",
       "      <td>33.939110</td>\n",
       "      <td>67.709953</td>\n",
       "      <td>Afghanistan</td>\n",
       "    </tr>\n",
       "    <tr>\n",
       "      <th>3</th>\n",
       "      <td>AG</td>\n",
       "      <td>17.060816</td>\n",
       "      <td>-61.796428</td>\n",
       "      <td>Antigua and Barbuda</td>\n",
       "    </tr>\n",
       "    <tr>\n",
       "      <th>4</th>\n",
       "      <td>AI</td>\n",
       "      <td>18.220554</td>\n",
       "      <td>-63.068615</td>\n",
       "      <td>Anguilla</td>\n",
       "    </tr>\n",
       "  </tbody>\n",
       "</table>\n",
       "</div>"
      ],
      "text/plain": [
       "  country_code   latitude  longitude               country\n",
       "0           AD  42.546245   1.601554               Andorra\n",
       "1           AE  23.424076  53.847818  United Arab Emirates\n",
       "2           AF  33.939110  67.709953           Afghanistan\n",
       "3           AG  17.060816 -61.796428   Antigua and Barbuda\n",
       "4           AI  18.220554 -63.068615              Anguilla"
      ]
     },
     "execution_count": 27,
     "metadata": {},
     "output_type": "execute_result"
    }
   ],
   "source": [
    "location_from_db.head(5)"
   ]
  },
  {
   "cell_type": "code",
   "execution_count": null,
   "id": "2bd9c2be",
   "metadata": {},
   "outputs": [],
   "source": [
    "# Query and view table clean_flavours_table\n",
    "sql = \"\"\"\n",
    "SELECT * FROM clean_flavors_table\n",
    "\"\"\"\n",
    "\n",
    "clean_flavors_from_db = pd.read_sql(sql, con=connection)"
   ]
  },
  {
   "cell_type": "code",
   "execution_count": null,
   "id": "d33725f4",
   "metadata": {},
   "outputs": [],
   "source": [
    "clean_flavors_from_db.head()"
   ]
  },
  {
   "cell_type": "code",
   "execution_count": 80,
   "id": "02bf9335",
   "metadata": {},
   "outputs": [],
   "source": [
    "# Close connection\n",
    "cursor.close()"
   ]
  },
  {
   "cell_type": "code",
   "execution_count": 81,
   "id": "120b7240",
   "metadata": {},
   "outputs": [
    {
     "data": {
      "text/plain": [
       "<cursor object at 0x7fe0b738e350; closed: -1>"
      ]
     },
     "execution_count": 81,
     "metadata": {},
     "output_type": "execute_result"
    }
   ],
   "source": [
    "# Make sure connection is closed. If object returns 1, then connection is closed.\n",
    "\n",
    "cursor"
   ]
  },
  {
   "cell_type": "code",
   "execution_count": null,
   "id": "3911e81b",
   "metadata": {},
   "outputs": [],
   "source": []
  }
 ],
 "metadata": {
  "kernelspec": {
   "display_name": "mlenv",
   "language": "python",
   "name": "mlenv"
  },
  "language_info": {
   "codemirror_mode": {
    "name": "ipython",
    "version": 3
   },
   "file_extension": ".py",
   "mimetype": "text/x-python",
   "name": "python",
   "nbconvert_exporter": "python",
   "pygments_lexer": "ipython3",
   "version": "3.7.7"
  }
 },
 "nbformat": 4,
 "nbformat_minor": 5
}
