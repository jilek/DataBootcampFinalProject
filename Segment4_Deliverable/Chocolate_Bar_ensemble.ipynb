{
 "cells": [
  {
   "cell_type": "code",
   "execution_count": 1,
   "id": "d978ae31",
   "metadata": {},
   "outputs": [],
   "source": [
    "import numpy as np\n",
    "import pandas as pd\n",
    "from pathlib import Path\n",
    "from collections import Counter"
   ]
  },
  {
   "cell_type": "code",
   "execution_count": 2,
   "id": "50fec49d",
   "metadata": {},
   "outputs": [],
   "source": [
    "from sklearn.metrics import balanced_accuracy_score\n",
    "from sklearn.metrics import confusion_matrix\n",
    "from imblearn.metrics import classification_report_imbalanced"
   ]
  },
  {
   "cell_type": "code",
   "execution_count": 3,
   "id": "d68b6865",
   "metadata": {},
   "outputs": [
    {
     "data": {
      "text/html": [
       "<div>\n",
       "<style scoped>\n",
       "    .dataframe tbody tr th:only-of-type {\n",
       "        vertical-align: middle;\n",
       "    }\n",
       "\n",
       "    .dataframe tbody tr th {\n",
       "        vertical-align: top;\n",
       "    }\n",
       "\n",
       "    .dataframe thead th {\n",
       "        text-align: right;\n",
       "    }\n",
       "</style>\n",
       "<table border=\"1\" class=\"dataframe\">\n",
       "  <thead>\n",
       "    <tr style=\"text-align: right;\">\n",
       "      <th></th>\n",
       "      <th>Company</th>\n",
       "      <th>Bean_Origin_or_Bar_Name</th>\n",
       "      <th>REF</th>\n",
       "      <th>Review_Date</th>\n",
       "      <th>Cocoa_Percent</th>\n",
       "      <th>Company_Location</th>\n",
       "      <th>Rating</th>\n",
       "      <th>Bean_Type</th>\n",
       "      <th>Broad_Bean_Origin_Country</th>\n",
       "      <th>Ingredients</th>\n",
       "      <th>Most_Memorable_Characteristics</th>\n",
       "      <th>continent</th>\n",
       "    </tr>\n",
       "  </thead>\n",
       "  <tbody>\n",
       "    <tr>\n",
       "      <th>0</th>\n",
       "      <td>A. Morin</td>\n",
       "      <td>Agua Grande</td>\n",
       "      <td>1876</td>\n",
       "      <td>2016</td>\n",
       "      <td>63.0</td>\n",
       "      <td>France</td>\n",
       "      <td>3.75</td>\n",
       "      <td>missing</td>\n",
       "      <td>Sao Tome &amp; Principe</td>\n",
       "      <td>4- B,S,C,L</td>\n",
       "      <td>sweet, chocolatey, vegetal</td>\n",
       "      <td>Africa</td>\n",
       "    </tr>\n",
       "    <tr>\n",
       "      <th>1</th>\n",
       "      <td>A. Morin</td>\n",
       "      <td>Kpime</td>\n",
       "      <td>1676</td>\n",
       "      <td>2015</td>\n",
       "      <td>70.0</td>\n",
       "      <td>France</td>\n",
       "      <td>2.75</td>\n",
       "      <td>missing</td>\n",
       "      <td>Togo</td>\n",
       "      <td>4- B,S,C,L</td>\n",
       "      <td>burnt wood, earthy, choco</td>\n",
       "      <td>Africa</td>\n",
       "    </tr>\n",
       "    <tr>\n",
       "      <th>2</th>\n",
       "      <td>A. Morin</td>\n",
       "      <td>Atsane</td>\n",
       "      <td>1676</td>\n",
       "      <td>2015</td>\n",
       "      <td>70.0</td>\n",
       "      <td>France</td>\n",
       "      <td>3.00</td>\n",
       "      <td>missing</td>\n",
       "      <td>Togo</td>\n",
       "      <td>4- B,S,C,L</td>\n",
       "      <td>roasty, acidic, nutty</td>\n",
       "      <td>Africa</td>\n",
       "    </tr>\n",
       "    <tr>\n",
       "      <th>3</th>\n",
       "      <td>A. Morin</td>\n",
       "      <td>Akata</td>\n",
       "      <td>1680</td>\n",
       "      <td>2015</td>\n",
       "      <td>70.0</td>\n",
       "      <td>France</td>\n",
       "      <td>3.50</td>\n",
       "      <td>missing</td>\n",
       "      <td>Togo</td>\n",
       "      <td>4- B,S,C,L</td>\n",
       "      <td>mild profile, chocolaty, spice</td>\n",
       "      <td>Africa</td>\n",
       "    </tr>\n",
       "    <tr>\n",
       "      <th>4</th>\n",
       "      <td>A. Morin</td>\n",
       "      <td>Quilla</td>\n",
       "      <td>1704</td>\n",
       "      <td>2015</td>\n",
       "      <td>70.0</td>\n",
       "      <td>France</td>\n",
       "      <td>3.50</td>\n",
       "      <td>missing</td>\n",
       "      <td>Peru</td>\n",
       "      <td>4- B,S,C,L</td>\n",
       "      <td>grainy texture, cocoa, sweet</td>\n",
       "      <td>South America</td>\n",
       "    </tr>\n",
       "  </tbody>\n",
       "</table>\n",
       "</div>"
      ],
      "text/plain": [
       "    Company Bean_Origin_or_Bar_Name   REF  Review_Date  Cocoa_Percent  \\\n",
       "0  A. Morin             Agua Grande  1876         2016           63.0   \n",
       "1  A. Morin                   Kpime  1676         2015           70.0   \n",
       "2  A. Morin                  Atsane  1676         2015           70.0   \n",
       "3  A. Morin                   Akata  1680         2015           70.0   \n",
       "4  A. Morin                  Quilla  1704         2015           70.0   \n",
       "\n",
       "  Company_Location  Rating Bean_Type Broad_Bean_Origin_Country Ingredients  \\\n",
       "0           France    3.75   missing       Sao Tome & Principe  4- B,S,C,L   \n",
       "1           France    2.75   missing                      Togo  4- B,S,C,L   \n",
       "2           France    3.00   missing                      Togo  4- B,S,C,L   \n",
       "3           France    3.50   missing                      Togo  4- B,S,C,L   \n",
       "4           France    3.50   missing                      Peru  4- B,S,C,L   \n",
       "\n",
       "   Most_Memorable_Characteristics      continent  \n",
       "0      sweet, chocolatey, vegetal         Africa  \n",
       "1       burnt wood, earthy, choco         Africa  \n",
       "2           roasty, acidic, nutty         Africa  \n",
       "3  mild profile, chocolaty, spice         Africa  \n",
       "4    grainy texture, cocoa, sweet  South America  "
      ]
     },
     "execution_count": 3,
     "metadata": {},
     "output_type": "execute_result"
    }
   ],
   "source": [
    "# Load the data\n",
    "file_path = Path('Resources/clean_flavors_of_cacao.csv')\n",
    "df = pd.read_csv(file_path)\n",
    "df.head()\n"
   ]
  },
  {
   "cell_type": "code",
   "execution_count": 4,
   "id": "571635fd",
   "metadata": {},
   "outputs": [
    {
     "data": {
      "text/html": [
       "<div>\n",
       "<style scoped>\n",
       "    .dataframe tbody tr th:only-of-type {\n",
       "        vertical-align: middle;\n",
       "    }\n",
       "\n",
       "    .dataframe tbody tr th {\n",
       "        vertical-align: top;\n",
       "    }\n",
       "\n",
       "    .dataframe thead th {\n",
       "        text-align: right;\n",
       "    }\n",
       "</style>\n",
       "<table border=\"1\" class=\"dataframe\">\n",
       "  <thead>\n",
       "    <tr style=\"text-align: right;\">\n",
       "      <th></th>\n",
       "      <th>Review_Date</th>\n",
       "      <th>Cocoa_Percent</th>\n",
       "      <th>Company_Location</th>\n",
       "      <th>Rating</th>\n",
       "      <th>Bean_Type</th>\n",
       "      <th>Broad_Bean_Origin_Country</th>\n",
       "      <th>Ingredients</th>\n",
       "    </tr>\n",
       "  </thead>\n",
       "  <tbody>\n",
       "    <tr>\n",
       "      <th>0</th>\n",
       "      <td>2016</td>\n",
       "      <td>63.0</td>\n",
       "      <td>France</td>\n",
       "      <td>3.75</td>\n",
       "      <td>missing</td>\n",
       "      <td>Sao Tome &amp; Principe</td>\n",
       "      <td>4- B,S,C,L</td>\n",
       "    </tr>\n",
       "    <tr>\n",
       "      <th>1</th>\n",
       "      <td>2015</td>\n",
       "      <td>70.0</td>\n",
       "      <td>France</td>\n",
       "      <td>2.75</td>\n",
       "      <td>missing</td>\n",
       "      <td>Togo</td>\n",
       "      <td>4- B,S,C,L</td>\n",
       "    </tr>\n",
       "    <tr>\n",
       "      <th>2</th>\n",
       "      <td>2015</td>\n",
       "      <td>70.0</td>\n",
       "      <td>France</td>\n",
       "      <td>3.00</td>\n",
       "      <td>missing</td>\n",
       "      <td>Togo</td>\n",
       "      <td>4- B,S,C,L</td>\n",
       "    </tr>\n",
       "    <tr>\n",
       "      <th>3</th>\n",
       "      <td>2015</td>\n",
       "      <td>70.0</td>\n",
       "      <td>France</td>\n",
       "      <td>3.50</td>\n",
       "      <td>missing</td>\n",
       "      <td>Togo</td>\n",
       "      <td>4- B,S,C,L</td>\n",
       "    </tr>\n",
       "    <tr>\n",
       "      <th>4</th>\n",
       "      <td>2015</td>\n",
       "      <td>70.0</td>\n",
       "      <td>France</td>\n",
       "      <td>3.50</td>\n",
       "      <td>missing</td>\n",
       "      <td>Peru</td>\n",
       "      <td>4- B,S,C,L</td>\n",
       "    </tr>\n",
       "  </tbody>\n",
       "</table>\n",
       "</div>"
      ],
      "text/plain": [
       "   Review_Date  Cocoa_Percent Company_Location  Rating Bean_Type  \\\n",
       "0         2016           63.0           France    3.75   missing   \n",
       "1         2015           70.0           France    2.75   missing   \n",
       "2         2015           70.0           France    3.00   missing   \n",
       "3         2015           70.0           France    3.50   missing   \n",
       "4         2015           70.0           France    3.50   missing   \n",
       "\n",
       "  Broad_Bean_Origin_Country Ingredients  \n",
       "0       Sao Tome & Principe  4- B,S,C,L  \n",
       "1                      Togo  4- B,S,C,L  \n",
       "2                      Togo  4- B,S,C,L  \n",
       "3                      Togo  4- B,S,C,L  \n",
       "4                      Peru  4- B,S,C,L  "
      ]
     },
     "execution_count": 4,
     "metadata": {},
     "output_type": "execute_result"
    }
   ],
   "source": [
    "df= df.drop(columns=[\"Company\",\"REF\",\"Bean_Origin_or_Bar_Name\",\"Most_Memorable_Characteristics\",\"continent\"], axis=1)\n",
    "df.head()"
   ]
  },
  {
   "cell_type": "code",
   "execution_count": 5,
   "id": "c58bceec",
   "metadata": {},
   "outputs": [],
   "source": [
    "def bin_ratings(rating):\n",
    "    if rating == 5.75: return 1\n",
    "    if rating == 5.50: return 1\n",
    "    if rating == 5.25: return 1\n",
    "    if rating == 5.00: return 1\n",
    "    \n",
    "    if rating == 4.75: return 1\n",
    "    if rating == 4.50: return 1\n",
    "    if rating == 4.25: return 1\n",
    "    if rating == 4.00: return 1\n",
    "    \n",
    "    if rating == 3.75: return 1\n",
    "    if rating == 3.50: return 0\n",
    "    if rating == 3.25: return 0\n",
    "    if rating == 3.00: return 0\n",
    "\n",
    "    if rating == 2.75: return 0\n",
    "    if rating == 2.50: return 0\n",
    "    if rating == 2.25: return 0\n",
    "    if rating == 2.00: return 0\n",
    "    \n",
    "    if rating == 1.75: return 0\n",
    "    if rating == 1.50: return 0\n",
    "    if rating == 1.25: return 0\n",
    "    if rating == 1.00: return 0\n",
    "    \n",
    "    #print( f\"error: rating={rating} type={type(rating)}\" )\n",
    "    return \"2\"\n",
    "\n",
    "df['Rating'] = df['Rating'].apply(bin_ratings)"
   ]
  },
  {
   "cell_type": "markdown",
   "id": "21815274",
   "metadata": {},
   "source": [
    "# Split the Data into Training and Testing\n"
   ]
  },
  {
   "cell_type": "code",
   "execution_count": 6,
   "id": "ea6871b7",
   "metadata": {},
   "outputs": [],
   "source": [
    "y = df['Rating']\n",
    "X = df.drop(columns=\"Rating\", axis=1)\n",
    "X = pd.get_dummies(X)"
   ]
  },
  {
   "cell_type": "code",
   "execution_count": 7,
   "id": "ad6db001",
   "metadata": {},
   "outputs": [
    {
     "data": {
      "text/plain": [
       "0    1634\n",
       "1     326\n",
       "Name: Rating, dtype: int64"
      ]
     },
     "execution_count": 7,
     "metadata": {},
     "output_type": "execute_result"
    }
   ],
   "source": [
    "# Check the balance of our target values\n",
    "y.value_counts()"
   ]
  },
  {
   "cell_type": "code",
   "execution_count": 8,
   "id": "6e6ac59c",
   "metadata": {},
   "outputs": [],
   "source": [
    "from sklearn.model_selection import train_test_split\n",
    "X_train, X_test, y_train, y_test = train_test_split(X,\n",
    "   y,test_size= 0.40,train_size=0.60 , random_state=1, stratify=y)"
   ]
  },
  {
   "cell_type": "code",
   "execution_count": 9,
   "id": "61c58e65",
   "metadata": {},
   "outputs": [],
   "source": [
    "from sklearn.preprocessing import StandardScaler\n",
    "\n",
    "# Create a StandardScaler instance\n",
    "scaler = StandardScaler()\n",
    "\n",
    "# Fit the StandardScaler\n",
    "X_scaler = scaler.fit(X_train)\n",
    "\n",
    "# Scale the data\n",
    "X_train_scaled = X_scaler.transform(X_train)\n",
    "X_test_scaled = X_scaler.transform(X_test)"
   ]
  },
  {
   "cell_type": "markdown",
   "id": "04fce0d0",
   "metadata": {},
   "source": [
    "# Ensemble Learners"
   ]
  },
  {
   "cell_type": "markdown",
   "id": "08660952",
   "metadata": {},
   "source": [
    "## Balanced Random Forest Classifier"
   ]
  },
  {
   "cell_type": "code",
   "execution_count": 10,
   "id": "5623107a",
   "metadata": {},
   "outputs": [
    {
     "data": {
      "text/plain": [
       "BalancedRandomForestClassifier(n_estimators=500, random_state=1)"
      ]
     },
     "execution_count": 10,
     "metadata": {},
     "output_type": "execute_result"
    }
   ],
   "source": [
    "\n",
    "\n",
    "# Resample the training data with the BalancedRandomForestClassifier\n",
    "from imblearn.ensemble import BalancedRandomForestClassifier\n",
    "\n",
    "brfc = BalancedRandomForestClassifier(n_estimators=500, random_state=1)\n",
    "\n",
    "# train\n",
    "brfc.fit(X_train_scaled, y_train)\n",
    "\n"
   ]
  },
  {
   "cell_type": "code",
   "execution_count": 11,
   "id": "9eebb4e7",
   "metadata": {},
   "outputs": [
    {
     "data": {
      "text/plain": [
       "0.606504351917196"
      ]
     },
     "execution_count": 11,
     "metadata": {},
     "output_type": "execute_result"
    }
   ],
   "source": [
    "# Calculated the balanced accuracy score\n",
    "from sklearn.metrics import balanced_accuracy_score\n",
    "y_pred = brfc.predict(X_test_scaled)\n",
    "balanced_accuracy_score(y_test, y_pred)"
   ]
  },
  {
   "cell_type": "code",
   "execution_count": 12,
   "id": "b3212cd1",
   "metadata": {},
   "outputs": [
    {
     "data": {
      "text/html": [
       "<div>\n",
       "<style scoped>\n",
       "    .dataframe tbody tr th:only-of-type {\n",
       "        vertical-align: middle;\n",
       "    }\n",
       "\n",
       "    .dataframe tbody tr th {\n",
       "        vertical-align: top;\n",
       "    }\n",
       "\n",
       "    .dataframe thead th {\n",
       "        text-align: right;\n",
       "    }\n",
       "</style>\n",
       "<table border=\"1\" class=\"dataframe\">\n",
       "  <thead>\n",
       "    <tr style=\"text-align: right;\">\n",
       "      <th></th>\n",
       "      <th>Predicted high_risk</th>\n",
       "      <th>Predicted low_risk</th>\n",
       "    </tr>\n",
       "  </thead>\n",
       "  <tbody>\n",
       "    <tr>\n",
       "      <th>Actual high_risk</th>\n",
       "      <td>416</td>\n",
       "      <td>238</td>\n",
       "    </tr>\n",
       "    <tr>\n",
       "      <th>Actual low_risk</th>\n",
       "      <td>55</td>\n",
       "      <td>75</td>\n",
       "    </tr>\n",
       "  </tbody>\n",
       "</table>\n",
       "</div>"
      ],
      "text/plain": [
       "                  Predicted high_risk  Predicted low_risk\n",
       "Actual high_risk                  416                 238\n",
       "Actual low_risk                    55                  75"
      ]
     },
     "execution_count": 12,
     "metadata": {},
     "output_type": "execute_result"
    }
   ],
   "source": [
    "# Display the confusion matrix\n",
    "from sklearn.metrics import confusion_matrix\n",
    "cm = confusion_matrix(y_test, y_pred)\n",
    "\n",
    "# Create a DataFrame from the confusion matrix.\n",
    "cm_df = pd.DataFrame(\n",
    "    cm, index=[\"Actual high_risk\", \"Actual low_risk\"], columns=[\"Predicted high_risk\", \"Predicted low_risk\"])\n",
    "cm_df"
   ]
  },
  {
   "cell_type": "code",
   "execution_count": 13,
   "id": "8261e5c7",
   "metadata": {},
   "outputs": [
    {
     "data": {
      "text/plain": [
       "array([[416, 238],\n",
       "       [ 55,  75]], dtype=int64)"
      ]
     },
     "execution_count": 13,
     "metadata": {},
     "output_type": "execute_result"
    }
   ],
   "source": [
    "confusion_matrix(y_test, y_pred)"
   ]
  },
  {
   "cell_type": "code",
   "execution_count": 14,
   "id": "fd058041",
   "metadata": {},
   "outputs": [
    {
     "name": "stdout",
     "output_type": "stream",
     "text": [
      "                   pre       rec       spe        f1       geo       iba       sup\n",
      "\n",
      "          0       0.88      0.64      0.58      0.74      0.61      0.37       654\n",
      "          1       0.24      0.58      0.64      0.34      0.61      0.36       130\n",
      "\n",
      "avg / total       0.78      0.63      0.59      0.67      0.61      0.37       784\n",
      "\n"
     ]
    }
   ],
   "source": [
    "# Print the imbalanced classification report\n",
    "from imblearn.metrics import classification_report_imbalanced\n",
    "print(classification_report_imbalanced(y_test, y_pred))"
   ]
  },
  {
   "cell_type": "code",
   "execution_count": 15,
   "id": "7b58eedf",
   "metadata": {},
   "outputs": [
    {
     "name": "stdout",
     "output_type": "stream",
     "text": [
      "Cocoa_Percent: (0.16315402094295392)\n",
      "Review_Date: (0.1441217996502986)\n",
      "Company_Location_United States of America: (0.028082357504149093)\n",
      "Bean_Type_missing: (0.027538156579082627)\n",
      "Ingredients_3- B,S,C: (0.02558223542282417)\n",
      "Ingredients_2- B,S: (0.023942842342376505)\n",
      "Broad_Bean_Origin_Country_Venezuela: (0.022399551509740736)\n",
      "Ingredients_Unknown: (0.021884300935419272)\n",
      "Bean_Type_Trinitario: (0.02069535661324876)\n",
      "Broad_Bean_Origin_Country_Dominican Republic: (0.01960944131687568)\n",
      "Company_Location_Canada: (0.019382605850541364)\n",
      "Broad_Bean_Origin_Country_Peru: (0.01913308493572276)\n",
      "Broad_Bean_Origin_Country_Ecuador: (0.018463629739712138)\n",
      "Broad_Bean_Origin_Country_Madagascar: (0.018062399763011164)\n",
      "Company_Location_France: (0.017435862608688922)\n",
      "Bean_Type_Criollo: (0.016127942678567205)\n",
      "Ingredients_4- B,S,C,L: (0.015437089492701159)\n",
      "Ingredients_5- B,S,C,V,L: (0.014350893993902108)\n",
      "Bean_Type_Forastero: (0.013748300018626383)\n",
      "Ingredients_4- B,S,C,V: (0.012597000835753715)\n",
      "Company_Location_Italy: (0.012419925105494856)\n",
      "Broad_Bean_Origin_Country_Brazil: (0.011302996584854166)\n",
      "Company_Location_England: (0.010753226462231842)\n",
      "Company_Location_Australia: (0.00973103701128664)\n",
      "Broad_Bean_Origin_Country_Bolivia: (0.009718780481204935)\n",
      "Broad_Bean_Origin_Country_Unknown: (0.009561234347982233)\n",
      "Company_Location_Brazil: (0.009309164262187287)\n",
      "Broad_Bean_Origin_Country_Nicaragua: (0.009115851124001532)\n",
      "Broad_Bean_Origin_Country_Papua New Guinea: (0.008989860824799516)\n",
      "Company_Location_Switzerland: (0.008968732586373325)\n",
      "Broad_Bean_Origin_Country_United States: (0.007955496882879567)\n",
      "Broad_Bean_Origin_Country_Trinidad Tobago: (0.007928636740397501)\n",
      "Company_Location_Ecuador: (0.007811668741144014)\n",
      "Broad_Bean_Origin_Country_Belize: (0.007745466448779171)\n",
      "Company_Location_Germany: (0.007645953451253333)\n",
      "Broad_Bean_Origin_Country_Guatemala: (0.007087060674420622)\n",
      "Broad_Bean_Origin_Country_Colombia: (0.006956065431139448)\n",
      "Broad_Bean_Origin_Country_Tanzania: (0.006662365289641388)\n",
      "Company_Location_Belgium: (0.00645146017053997)\n",
      "Broad_Bean_Origin_Country_Ghana: (0.00640399706324379)\n",
      "Broad_Bean_Origin_Country_Costa Rica: (0.006115167627792453)\n",
      "Bean_Type_Blend: (0.00584924858685475)\n",
      "Broad_Bean_Origin_Country_Mexico: (0.005770547274762849)\n",
      "Broad_Bean_Origin_Country_Jamaica: (0.005634175856717838)\n",
      "Broad_Bean_Origin_Country_Vietnam: (0.005586660011075245)\n",
      "Company_Location_Hungary: (0.005506949084094166)\n",
      "Company_Location_Venezuela: (0.00547641746398802)\n",
      "Broad_Bean_Origin_Country_Honduras: (0.00504161752289209)\n",
      "Broad_Bean_Origin_Country_Other: (0.00467610382987112)\n",
      "Company_Location_Madagascar: (0.00440692986114714)\n",
      "Company_Location_Austria: (0.004280174258241139)\n",
      "Broad_Bean_Origin_Country_Indonesia: (0.004156663624103465)\n",
      "Company_Location_Scotland: (0.0041069766273043005)\n",
      "Company_Location_Peru: (0.003947618017049617)\n",
      "Broad_Bean_Origin_Country_Haiti: (0.0038825043902396333)\n",
      "Broad_Bean_Origin_Country_Grenada: (0.0038280268469904296)\n",
      "Company_Location_Spain: (0.003633885326861113)\n",
      "Company_Location_Colombia: (0.0035079790824896146)\n",
      "Ingredients_4- B,Sw,C,Sa: (0.003443907713515862)\n",
      "Company_Location_Israel: (0.0033819432694001056)\n",
      "Company_Location_Japan: (0.00322969541018241)\n",
      "Company_Location_Guatemala: (0.0032296126783796604)\n",
      "Company_Location_New Zealand: (0.0030977856444819292)\n",
      "Broad_Bean_Origin_Country_Sao Tome & Principe: (0.0029049399958367386)\n",
      "Broad_Bean_Origin_Country_Vanuatu: (0.0027949724004859068)\n",
      "Company_Location_Netherlands: (0.002679632458597686)\n",
      "Company_Location_Denmark: (0.0025708166350456667)\n",
      "Ingredients_2- B,Sw: (0.002017112478155708)\n",
      "Company_Location_Lithuania: (0.0020133372656300445)\n",
      "Company_Location_Argentina: (0.0018430959848395286)\n",
      "Bean_Type_Nacional: (0.0017128018099460374)\n",
      "Company_Location_Honduras: (0.0016381197165860487)\n",
      "Broad_Bean_Origin_Country_Cuba: (0.0015737233847857286)\n",
      "Company_Location_Costa Rica: (0.0014674053974869565)\n",
      "Bean_Type_Beniano: (0.001454121169177273)\n",
      "Broad_Bean_Origin_Country_Republic of Congo: (0.0014284176755477924)\n",
      "Company_Location_Chile: (0.0013246903640378826)\n",
      "Broad_Bean_Origin_Country_Fiji: (0.0013158339844638394)\n",
      "Company_Location_Sao Tome: (0.0013041797076450057)\n",
      "Broad_Bean_Origin_Country_Saint Lucia: (0.0012724981061414278)\n",
      "Bean_Type_Amazon, ICS: (0.0011809309019225726)\n",
      "Bean_Type_Amazon mix: (0.0011695817210812826)\n",
      "Broad_Bean_Origin_Country_Togo: (0.0011134211076551292)\n",
      "Company_Location_Singapore: (0.0011030461210655388)\n",
      "Company_Location_South Korea: (0.0010567271033807165)\n",
      "Company_Location_Iceland: (0.0010159461733700202)\n",
      "Ingredients_4- B,Sw,C,V: (0.0010083526205626602)\n",
      "Company_Location_Sweden: (0.000975055416623725)\n",
      "Broad_Bean_Origin_Country_Côte d'Ivoire: (0.0009688921173788816)\n",
      "Company_Location_Dominican Republic: (0.0008529097100458333)\n",
      "Company_Location_Finland: (0.0008476943213669901)\n",
      "Broad_Bean_Origin_Country_Panama: (0.0008339803629911128)\n",
      "Ingredients_3- B,Sw,C: (0.0008059794732091863)\n",
      "Company_Location_Vietnam: (0.000784996442559515)\n",
      "Broad_Bean_Origin_Country_Malaysia: (0.0007660095202836296)\n",
      "Ingredients_5-B,S,C,V,Sa: (0.000763446223711248)\n",
      "Ingredients_3- B,S,L: (0.0007408067150239578)\n",
      "Company_Location_Poland: (0.0007294869139449223)\n",
      "Company_Location_Nicaragua: (0.0007253701531523163)\n",
      "Broad_Bean_Origin_Country_Sri Lanka: (0.0007233204211555553)\n",
      "Company_Location_Fiji: (0.0007108607344546165)\n",
      "Company_Location_Ireland: (0.0007003789713041659)\n",
      "Company_Location_Puerto Rico: (0.0006959842866124334)\n",
      "Broad_Bean_Origin_Country_India: (0.0006450510545506178)\n",
      "Ingredients_6-B,S,C,V,L,Sa: (0.0006356679964406991)\n",
      "Broad_Bean_Origin_Country_Solomon Islands: (0.0006040820192756342)\n",
      "Broad_Bean_Origin_Country_Australia: (0.0005928712303158128)\n",
      "Broad_Bean_Origin_Country_Philippines: (0.0005868797606384597)\n",
      "Broad_Bean_Origin_Country_Uganda: (0.0005866876894448814)\n",
      "Company_Location_South Africa: (0.0005819715330127364)\n",
      "Company_Location_Mexico: (0.0005654267223801932)\n",
      "Ingredients_4- B,S,C,Sa: (0.0005315978204299543)\n",
      "Broad_Bean_Origin_Country_El Salvador: (0.0004914595552040937)\n",
      "Company_Location_St. Lucia: (0.00047303392109440207)\n",
      "Broad_Bean_Origin_Country_Liberia: (0.0004008438705326476)\n",
      "Broad_Bean_Origin_Country_Suriname: (0.000392801739458086)\n",
      "Company_Location_Portugal: (0.00035868602749182017)\n",
      "Broad_Bean_Origin_Country_Myanmar: (0.0003540762370631268)\n",
      "Bean_Type_Amazon: (0.0003540585213250361)\n",
      "Broad_Bean_Origin_Country_Cameroon: (0.0002852576767974225)\n",
      "Ingredients_4- B,Sw,C,L: (0.00027796315862987204)\n",
      "Bean_Type_CCN51: (0.00027612269164058883)\n",
      "Ingredients_3- B,S,V: (0.0002634372537790263)\n",
      "Ingredients_3- B,Sw,Sa: (0.00025616353218942123)\n",
      "Ingredients_1- B: (0.00025260919609527066)\n",
      "Company_Location_Philippines: (0.0002501542906653325)\n",
      "Broad_Bean_Origin_Country_Samoa: (0.0002496758572996864)\n",
      "Company_Location_Suriname: (0.00024217882406822833)\n",
      "Bean_Type_Matina: (0.00023984558420140053)\n",
      "Ingredients_4- B,Sw,V,L: (0.00023221624660063728)\n",
      "Company_Location_Ghana: (0.00021361537395444218)\n",
      "Broad_Bean_Origin_Country_Nigeria: (0.00020391411328980432)\n",
      "Broad_Bean_Origin_Country_Gabon: (0.00018845015126380321)\n",
      "Ingredients_4- B,S,V,L: (0.0001881358553313389)\n",
      "Bean_Type_EET: (0.00014796963910784487)\n",
      "Company_Location_Grenada: (0.0001328289155273896)\n",
      "Company_Location_India: (0.0001270760254175438)\n",
      "Broad_Bean_Origin_Country_Puerto Rico: (9.86101801315498e-05)\n",
      "Ingredients_2- B,C: (7.126124159954113e-05)\n",
      "Ingredients_5- B,S,C,L,Sa: (0.0)\n",
      "Ingredients_3- B,Sw+H108,C: (0.0)\n",
      "Company_Location_Wales: (0.0)\n",
      "Company_Location_Russia: (0.0)\n",
      "Company_Location_Martinique: (0.0)\n",
      "Company_Location_Czech Republic: (0.0)\n",
      "Company_Location_Bolivia: (0.0)\n",
      "Broad_Bean_Origin_Country_Martinique: (0.0)\n"
     ]
    }
   ],
   "source": [
    "# List the features sorted in descending order by feature importance\n",
    "importances = brfc.feature_importances_ \n",
    "\n",
    "features_importance = sorted(zip(brfc.feature_importances_, X.columns), reverse=True)\n",
    "for feature in features_importance:\n",
    "    print(f\"{feature[1]}: ({feature[0]})\")"
   ]
  },
  {
   "cell_type": "markdown",
   "id": "4148a4a5",
   "metadata": {},
   "source": [
    "# Easy Ensemble AdaBoost Classifier\n"
   ]
  },
  {
   "cell_type": "code",
   "execution_count": 16,
   "id": "6efcfa71",
   "metadata": {},
   "outputs": [
    {
     "data": {
      "text/plain": [
       "EasyEnsembleClassifier(n_estimators=100, random_state=1)"
      ]
     },
     "execution_count": 16,
     "metadata": {},
     "output_type": "execute_result"
    }
   ],
   "source": [
    "\n",
    "\n",
    "# Train the EasyEnsembleClassifier\n",
    "from imblearn.ensemble import EasyEnsembleClassifier\n",
    "eec = EasyEnsembleClassifier(n_estimators=100, random_state=1)\n",
    "eec.fit(X_train_scaled, y_train)\n",
    "\n"
   ]
  },
  {
   "cell_type": "code",
   "execution_count": 17,
   "id": "61257730",
   "metadata": {},
   "outputs": [
    {
     "data": {
      "text/plain": [
       "0.5869560103505058"
      ]
     },
     "execution_count": 17,
     "metadata": {},
     "output_type": "execute_result"
    }
   ],
   "source": [
    "# Calculated the balanced accuracy score\n",
    "from sklearn.metrics import balanced_accuracy_score\n",
    "y_pred = eec.predict(X_test_scaled)\n",
    "balanced_accuracy_score(y_test, y_pred)"
   ]
  },
  {
   "cell_type": "code",
   "execution_count": 18,
   "id": "588b48dd",
   "metadata": {},
   "outputs": [
    {
     "data": {
      "text/html": [
       "<div>\n",
       "<style scoped>\n",
       "    .dataframe tbody tr th:only-of-type {\n",
       "        vertical-align: middle;\n",
       "    }\n",
       "\n",
       "    .dataframe tbody tr th {\n",
       "        vertical-align: top;\n",
       "    }\n",
       "\n",
       "    .dataframe thead th {\n",
       "        text-align: right;\n",
       "    }\n",
       "</style>\n",
       "<table border=\"1\" class=\"dataframe\">\n",
       "  <thead>\n",
       "    <tr style=\"text-align: right;\">\n",
       "      <th></th>\n",
       "      <th>Predicted high_risk</th>\n",
       "      <th>Predicted low_risk</th>\n",
       "    </tr>\n",
       "  </thead>\n",
       "  <tbody>\n",
       "    <tr>\n",
       "      <th>Actual high_risk</th>\n",
       "      <td>320</td>\n",
       "      <td>334</td>\n",
       "    </tr>\n",
       "    <tr>\n",
       "      <th>Actual low_risk</th>\n",
       "      <td>41</td>\n",
       "      <td>89</td>\n",
       "    </tr>\n",
       "  </tbody>\n",
       "</table>\n",
       "</div>"
      ],
      "text/plain": [
       "                  Predicted high_risk  Predicted low_risk\n",
       "Actual high_risk                  320                 334\n",
       "Actual low_risk                    41                  89"
      ]
     },
     "execution_count": 18,
     "metadata": {},
     "output_type": "execute_result"
    }
   ],
   "source": [
    "# Display the confusion matrix\n",
    "from sklearn.metrics import confusion_matrix\n",
    "cm = confusion_matrix(y_test, y_pred)\n",
    "\n",
    "# Create a DataFrame from the confusion matrix.\n",
    "cm_df = pd.DataFrame(\n",
    "    cm, index=[\"Actual high_risk\", \"Actual low_risk\"], columns=[\"Predicted high_risk\", \"Predicted low_risk\"])\n",
    "cm_df"
   ]
  },
  {
   "cell_type": "code",
   "execution_count": 20,
   "id": "aab72e12",
   "metadata": {},
   "outputs": [
    {
     "data": {
      "text/plain": [
       "array([[320, 334],\n",
       "       [ 41,  89]], dtype=int64)"
      ]
     },
     "execution_count": 20,
     "metadata": {},
     "output_type": "execute_result"
    }
   ],
   "source": [
    "confusion_matrix(y_test, y_pred)"
   ]
  },
  {
   "cell_type": "code",
   "execution_count": 19,
   "id": "7859acb4",
   "metadata": {},
   "outputs": [
    {
     "name": "stdout",
     "output_type": "stream",
     "text": [
      "                   pre       rec       spe        f1       geo       iba       sup\n",
      "\n",
      "          0       0.89      0.49      0.68      0.63      0.58      0.33       654\n",
      "          1       0.21      0.68      0.49      0.32      0.58      0.34       130\n",
      "\n",
      "avg / total       0.77      0.52      0.65      0.58      0.58      0.33       784\n",
      "\n"
     ]
    }
   ],
   "source": [
    "# Print the imbalanced classification report\n",
    "from imblearn.metrics import classification_report_imbalanced\n",
    "print(classification_report_imbalanced(y_test, y_pred))"
   ]
  },
  {
   "cell_type": "code",
   "execution_count": null,
   "id": "7913bb27",
   "metadata": {},
   "outputs": [],
   "source": []
  },
  {
   "cell_type": "code",
   "execution_count": null,
   "id": "1b44ad52",
   "metadata": {},
   "outputs": [],
   "source": []
  },
  {
   "cell_type": "code",
   "execution_count": null,
   "id": "00abf7ff",
   "metadata": {},
   "outputs": [],
   "source": []
  },
  {
   "cell_type": "code",
   "execution_count": null,
   "id": "a93074cc",
   "metadata": {},
   "outputs": [],
   "source": []
  }
 ],
 "metadata": {
  "kernelspec": {
   "display_name": "mlenv",
   "language": "python",
   "name": "mlenv"
  },
  "language_info": {
   "codemirror_mode": {
    "name": "ipython",
    "version": 3
   },
   "file_extension": ".py",
   "mimetype": "text/x-python",
   "name": "python",
   "nbconvert_exporter": "python",
   "pygments_lexer": "ipython3",
   "version": "3.7.10"
  }
 },
 "nbformat": 4,
 "nbformat_minor": 5
}
