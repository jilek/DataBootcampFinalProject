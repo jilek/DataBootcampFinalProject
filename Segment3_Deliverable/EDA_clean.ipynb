{
 "cells": [
  {
   "cell_type": "code",
   "execution_count": 1,
   "metadata": {},
   "outputs": [],
   "source": [
    "import pandas as pd\n",
    "from sklearn.preprocessing import StandardScaler,OneHotEncoder\n",
    "import tensorflow as tf\n",
    "from sklearn.model_selection import train_test_split\n",
    "from sklearn.metrics import accuracy_score\n",
    "from sklearn.svm import SVC\n",
    "from sklearn.ensemble import RandomForestClassifier\n",
    "\n",
    "import numpy as np\n",
    "import re\n",
    "import plotly as pl \n",
    "import matplotlib.pyplot as plt\n",
    "\n"
   ]
  },
  {
   "cell_type": "code",
   "execution_count": 2,
   "metadata": {},
   "outputs": [
    {
     "data": {
      "text/html": [
       "<div>\n",
       "<style scoped>\n",
       "    .dataframe tbody tr th:only-of-type {\n",
       "        vertical-align: middle;\n",
       "    }\n",
       "\n",
       "    .dataframe tbody tr th {\n",
       "        vertical-align: top;\n",
       "    }\n",
       "\n",
       "    .dataframe thead th {\n",
       "        text-align: right;\n",
       "    }\n",
       "</style>\n",
       "<table border=\"1\" class=\"dataframe\">\n",
       "  <thead>\n",
       "    <tr style=\"text-align: right;\">\n",
       "      <th></th>\n",
       "      <th>Company</th>\n",
       "      <th>Bean_Origin_or_Bar_Name</th>\n",
       "      <th>REF</th>\n",
       "      <th>Review_Date</th>\n",
       "      <th>Cocoa_Percent</th>\n",
       "      <th>Company_Location</th>\n",
       "      <th>Rating</th>\n",
       "      <th>Bean_Type</th>\n",
       "      <th>Broad_Bean_Origin</th>\n",
       "      <th>Ingredients</th>\n",
       "      <th>Most_Memorable_Characteristics</th>\n",
       "      <th>country_code</th>\n",
       "      <th>latitude</th>\n",
       "      <th>longitude</th>\n",
       "      <th>continent</th>\n",
       "    </tr>\n",
       "  </thead>\n",
       "  <tbody>\n",
       "    <tr>\n",
       "      <th>0</th>\n",
       "      <td>A. Morin</td>\n",
       "      <td>Agua Grande</td>\n",
       "      <td>1876</td>\n",
       "      <td>2016</td>\n",
       "      <td>63.0</td>\n",
       "      <td>France</td>\n",
       "      <td>3.75</td>\n",
       "      <td>missing</td>\n",
       "      <td>Sao Tome &amp; Principe</td>\n",
       "      <td>4- B,S,C,L</td>\n",
       "      <td>sweet, chocolatey, vegetal</td>\n",
       "      <td>ST</td>\n",
       "      <td>0.186360</td>\n",
       "      <td>6.613081</td>\n",
       "      <td>Africa</td>\n",
       "    </tr>\n",
       "    <tr>\n",
       "      <th>1</th>\n",
       "      <td>A. Morin</td>\n",
       "      <td>Kpime</td>\n",
       "      <td>1676</td>\n",
       "      <td>2015</td>\n",
       "      <td>70.0</td>\n",
       "      <td>France</td>\n",
       "      <td>2.75</td>\n",
       "      <td>missing</td>\n",
       "      <td>Togo</td>\n",
       "      <td>4- B,S,C,L</td>\n",
       "      <td>burnt wood, earthy, choco</td>\n",
       "      <td>TG</td>\n",
       "      <td>8.619543</td>\n",
       "      <td>0.824782</td>\n",
       "      <td>Africa</td>\n",
       "    </tr>\n",
       "    <tr>\n",
       "      <th>2</th>\n",
       "      <td>A. Morin</td>\n",
       "      <td>Atsane</td>\n",
       "      <td>1676</td>\n",
       "      <td>2015</td>\n",
       "      <td>70.0</td>\n",
       "      <td>France</td>\n",
       "      <td>3.00</td>\n",
       "      <td>missing</td>\n",
       "      <td>Togo</td>\n",
       "      <td>4- B,S,C,L</td>\n",
       "      <td>roasty, acidic, nutty</td>\n",
       "      <td>TG</td>\n",
       "      <td>8.619543</td>\n",
       "      <td>0.824782</td>\n",
       "      <td>Africa</td>\n",
       "    </tr>\n",
       "    <tr>\n",
       "      <th>3</th>\n",
       "      <td>A. Morin</td>\n",
       "      <td>Akata</td>\n",
       "      <td>1680</td>\n",
       "      <td>2015</td>\n",
       "      <td>70.0</td>\n",
       "      <td>France</td>\n",
       "      <td>3.50</td>\n",
       "      <td>missing</td>\n",
       "      <td>Togo</td>\n",
       "      <td>4- B,S,C,L</td>\n",
       "      <td>mild profile, chocolaty, spice</td>\n",
       "      <td>TG</td>\n",
       "      <td>8.619543</td>\n",
       "      <td>0.824782</td>\n",
       "      <td>Africa</td>\n",
       "    </tr>\n",
       "    <tr>\n",
       "      <th>4</th>\n",
       "      <td>A. Morin</td>\n",
       "      <td>Quilla</td>\n",
       "      <td>1704</td>\n",
       "      <td>2015</td>\n",
       "      <td>70.0</td>\n",
       "      <td>France</td>\n",
       "      <td>3.50</td>\n",
       "      <td>missing</td>\n",
       "      <td>Peru</td>\n",
       "      <td>4- B,S,C,L</td>\n",
       "      <td>grainy texture, cocoa, sweet</td>\n",
       "      <td>PE</td>\n",
       "      <td>-9.189967</td>\n",
       "      <td>-75.015152</td>\n",
       "      <td>South America</td>\n",
       "    </tr>\n",
       "  </tbody>\n",
       "</table>\n",
       "</div>"
      ],
      "text/plain": [
       "    Company Bean_Origin_or_Bar_Name   REF  Review_Date  Cocoa_Percent  \\\n",
       "0  A. Morin             Agua Grande  1876         2016           63.0   \n",
       "1  A. Morin                   Kpime  1676         2015           70.0   \n",
       "2  A. Morin                  Atsane  1676         2015           70.0   \n",
       "3  A. Morin                   Akata  1680         2015           70.0   \n",
       "4  A. Morin                  Quilla  1704         2015           70.0   \n",
       "\n",
       "  Company_Location  Rating Bean_Type    Broad_Bean_Origin Ingredients  \\\n",
       "0           France    3.75   missing  Sao Tome & Principe  4- B,S,C,L   \n",
       "1           France    2.75   missing                 Togo  4- B,S,C,L   \n",
       "2           France    3.00   missing                 Togo  4- B,S,C,L   \n",
       "3           France    3.50   missing                 Togo  4- B,S,C,L   \n",
       "4           France    3.50   missing                 Peru  4- B,S,C,L   \n",
       "\n",
       "   Most_Memorable_Characteristics country_code  latitude  longitude  \\\n",
       "0      sweet, chocolatey, vegetal           ST  0.186360   6.613081   \n",
       "1       burnt wood, earthy, choco           TG  8.619543   0.824782   \n",
       "2           roasty, acidic, nutty           TG  8.619543   0.824782   \n",
       "3  mild profile, chocolaty, spice           TG  8.619543   0.824782   \n",
       "4    grainy texture, cocoa, sweet           PE -9.189967 -75.015152   \n",
       "\n",
       "       continent  \n",
       "0         Africa  \n",
       "1         Africa  \n",
       "2         Africa  \n",
       "3         Africa  \n",
       "4  South America  "
      ]
     },
     "execution_count": 2,
     "metadata": {},
     "output_type": "execute_result"
    }
   ],
   "source": [
    "df_chocolate = pd.read_csv(\"clean_flavors_of_cacao.csv\", encoding='utf-8')\n",
    "df_chocolate.head()"
   ]
  },
  {
   "cell_type": "markdown",
   "metadata": {},
   "source": [
    "# Answering Questions"
   ]
  },
  {
   "cell_type": "markdown",
   "metadata": {},
   "source": [
    "## What is each country share of Cocoa Production?"
   ]
  },
  {
   "cell_type": "code",
   "execution_count": 5,
   "metadata": {},
   "outputs": [
    {
     "data": {
      "text/plain": [
       "['Venezuela', 'Ecuador', 'Dominican Republic', 'Madagascar', 'Peru']"
      ]
     },
     "execution_count": 5,
     "metadata": {},
     "output_type": "execute_result"
    }
   ],
   "source": [
    "countries=df_chocolate['Broad_Bean_Origin'].value_counts().index.tolist()[:5]\n",
    "countries"
   ]
  },
  {
   "cell_type": "code",
   "execution_count": 6,
   "metadata": {},
   "outputs": [
    {
     "data": {
      "application/vnd.plotly.v1+json": {
       "config": {
        "plotlyServerURL": "https://plot.ly"
       },
       "data": [
        {
         "domain": {
          "x": [
           0,
           1
          ],
          "y": [
           0,
           1
          ]
         },
         "hovertemplate": "Broad_Bean_Origin=%{label}<extra></extra>",
         "labels": [
          "Sao Tome & Principe",
          "Togo",
          "Togo",
          "Togo",
          "Peru",
          "Venezuela",
          "Cuba",
          "Venezuela",
          "Venezuela",
          "Peru",
          "Panama",
          "Madagascar",
          "Brazil",
          "Ecuador",
          "Colombia",
          "Myanmar",
          "Papua New Guinea",
          "Venezuela",
          "Peru",
          "Peru",
          "Peru",
          "Peru",
          "Peru",
          "Bolivia",
          "Peru",
          "Peru",
          "Peru",
          "Fiji",
          "Fiji",
          "Fiji",
          "Fiji",
          "Fiji",
          "Fiji",
          "Ecuador",
          "Ecuador",
          "Ecuador",
          "Ecuador",
          "Mexico",
          "Indonesia",
          "Madagascar",
          "Brazil",
          "Trinidad Tobago",
          "Vietnam",
          "Madagascar",
          "Venezuela",
          "Peru",
          "Ecuador",
          "Nicaragua",
          "Vietnam",
          "Tanzania",
          "Nicaragua",
          "Peru",
          "Bolivia",
          "Peru",
          "Ecuador",
          "Venezuela",
          "Dominican Republic",
          "Bolivia",
          "Bolivia",
          "Peru",
          "Papua New Guinea",
          "Dominican Republic",
          "Ecuador",
          "Venezuela",
          "Venezuela",
          "Indonesia",
          "Madagascar",
          "Venezuela",
          "Venezuela",
          "Ghana",
          "Ecuador",
          "Ecuador",
          "Ghana",
          "Peru",
          "Peru",
          "Belize",
          "Madagascar",
          "Dominican Republic",
          "Papua New Guinea",
          "Venezuela",
          "Peru",
          "Peru",
          "Venezuela",
          "Unknown",
          "Venezuela",
          "Ecuador",
          "Jamaica",
          "Grenada",
          "Venezuela",
          "Madagascar",
          "Trinidad Tobago",
          "Unknown",
          "Unknown",
          "Unknown",
          "Brazil",
          "Brazil",
          "Brazil",
          "Brazil",
          "Brazil",
          "Brazil",
          "Brazil",
          "Brazil",
          "Brazil",
          "Brazil",
          "Brazil",
          "Brazil",
          "Brazil",
          "Brazil",
          "Brazil",
          "Brazil",
          "Brazil",
          "Dominican Republic",
          "Bolivia",
          "Madagascar",
          "Madagascar",
          "Mexico",
          "Ecuador",
          "Venezuela",
          "Trinidad Tobago",
          "Tanzania",
          "Vietnam",
          "Ecuador",
          "Ecuador",
          "Guatemala",
          "Nicaragua",
          "Honduras",
          "Costa Rica",
          "Peru",
          "Dominican Republic",
          "Fiji",
          "Vietnam",
          "Brazil",
          "Peru",
          "Ecuador",
          "Dominican Republic",
          "Belize",
          "Nicaragua",
          "Brazil",
          "Guatemala",
          "Ecuador",
          "Trinidad Tobago",
          "Colombia",
          "Haiti",
          "Panama",
          "Venezuela",
          "Jamaica",
          "Costa Rica",
          "Vietnam",
          "Indonesia",
          "Venezuela",
          "Indonesia",
          "Brazil",
          "Madagascar",
          "Peru",
          "Dominican Republic",
          "Republic of Congo",
          "Colombia",
          "Tanzania",
          "Tanzania",
          "Honduras",
          "Philippines",
          "Mexico",
          "Ecuador",
          "Unknown",
          "Papua New Guinea",
          "Madagascar",
          "Brazil",
          "Unknown",
          "Peru",
          "Peru",
          "Brazil",
          "Peru",
          "Dominican Republic",
          "Mexico",
          "Madagascar",
          "Costa Rica",
          "Dominican Republic",
          "Brazil",
          "Ecuador",
          "Malaysia",
          "Malaysia",
          "Brazil",
          "Dominican Republic",
          "Ecuador",
          "Ecuador",
          "Costa Rica",
          "Papua New Guinea",
          "Peru",
          "Ecuador",
          "Tanzania",
          "Bolivia",
          "Dominican Republic",
          "Belize",
          "Belize",
          "Belize",
          "Belize",
          "Belize",
          "Cuba",
          "Venezuela",
          "Venezuela"
         ],
         "legendgroup": "",
         "name": "",
         "showlegend": true,
         "type": "pie"
        }
       ],
       "layout": {
        "legend": {
         "tracegroupgap": 0
        },
        "margin": {
         "t": 60
        },
        "template": {
         "data": {
          "bar": [
           {
            "error_x": {
             "color": "#2a3f5f"
            },
            "error_y": {
             "color": "#2a3f5f"
            },
            "marker": {
             "line": {
              "color": "#E5ECF6",
              "width": 0.5
             }
            },
            "type": "bar"
           }
          ],
          "barpolar": [
           {
            "marker": {
             "line": {
              "color": "#E5ECF6",
              "width": 0.5
             }
            },
            "type": "barpolar"
           }
          ],
          "carpet": [
           {
            "aaxis": {
             "endlinecolor": "#2a3f5f",
             "gridcolor": "white",
             "linecolor": "white",
             "minorgridcolor": "white",
             "startlinecolor": "#2a3f5f"
            },
            "baxis": {
             "endlinecolor": "#2a3f5f",
             "gridcolor": "white",
             "linecolor": "white",
             "minorgridcolor": "white",
             "startlinecolor": "#2a3f5f"
            },
            "type": "carpet"
           }
          ],
          "choropleth": [
           {
            "colorbar": {
             "outlinewidth": 0,
             "ticks": ""
            },
            "type": "choropleth"
           }
          ],
          "contour": [
           {
            "colorbar": {
             "outlinewidth": 0,
             "ticks": ""
            },
            "colorscale": [
             [
              0,
              "#0d0887"
             ],
             [
              0.1111111111111111,
              "#46039f"
             ],
             [
              0.2222222222222222,
              "#7201a8"
             ],
             [
              0.3333333333333333,
              "#9c179e"
             ],
             [
              0.4444444444444444,
              "#bd3786"
             ],
             [
              0.5555555555555556,
              "#d8576b"
             ],
             [
              0.6666666666666666,
              "#ed7953"
             ],
             [
              0.7777777777777778,
              "#fb9f3a"
             ],
             [
              0.8888888888888888,
              "#fdca26"
             ],
             [
              1,
              "#f0f921"
             ]
            ],
            "type": "contour"
           }
          ],
          "contourcarpet": [
           {
            "colorbar": {
             "outlinewidth": 0,
             "ticks": ""
            },
            "type": "contourcarpet"
           }
          ],
          "heatmap": [
           {
            "colorbar": {
             "outlinewidth": 0,
             "ticks": ""
            },
            "colorscale": [
             [
              0,
              "#0d0887"
             ],
             [
              0.1111111111111111,
              "#46039f"
             ],
             [
              0.2222222222222222,
              "#7201a8"
             ],
             [
              0.3333333333333333,
              "#9c179e"
             ],
             [
              0.4444444444444444,
              "#bd3786"
             ],
             [
              0.5555555555555556,
              "#d8576b"
             ],
             [
              0.6666666666666666,
              "#ed7953"
             ],
             [
              0.7777777777777778,
              "#fb9f3a"
             ],
             [
              0.8888888888888888,
              "#fdca26"
             ],
             [
              1,
              "#f0f921"
             ]
            ],
            "type": "heatmap"
           }
          ],
          "heatmapgl": [
           {
            "colorbar": {
             "outlinewidth": 0,
             "ticks": ""
            },
            "colorscale": [
             [
              0,
              "#0d0887"
             ],
             [
              0.1111111111111111,
              "#46039f"
             ],
             [
              0.2222222222222222,
              "#7201a8"
             ],
             [
              0.3333333333333333,
              "#9c179e"
             ],
             [
              0.4444444444444444,
              "#bd3786"
             ],
             [
              0.5555555555555556,
              "#d8576b"
             ],
             [
              0.6666666666666666,
              "#ed7953"
             ],
             [
              0.7777777777777778,
              "#fb9f3a"
             ],
             [
              0.8888888888888888,
              "#fdca26"
             ],
             [
              1,
              "#f0f921"
             ]
            ],
            "type": "heatmapgl"
           }
          ],
          "histogram": [
           {
            "marker": {
             "colorbar": {
              "outlinewidth": 0,
              "ticks": ""
             }
            },
            "type": "histogram"
           }
          ],
          "histogram2d": [
           {
            "colorbar": {
             "outlinewidth": 0,
             "ticks": ""
            },
            "colorscale": [
             [
              0,
              "#0d0887"
             ],
             [
              0.1111111111111111,
              "#46039f"
             ],
             [
              0.2222222222222222,
              "#7201a8"
             ],
             [
              0.3333333333333333,
              "#9c179e"
             ],
             [
              0.4444444444444444,
              "#bd3786"
             ],
             [
              0.5555555555555556,
              "#d8576b"
             ],
             [
              0.6666666666666666,
              "#ed7953"
             ],
             [
              0.7777777777777778,
              "#fb9f3a"
             ],
             [
              0.8888888888888888,
              "#fdca26"
             ],
             [
              1,
              "#f0f921"
             ]
            ],
            "type": "histogram2d"
           }
          ],
          "histogram2dcontour": [
           {
            "colorbar": {
             "outlinewidth": 0,
             "ticks": ""
            },
            "colorscale": [
             [
              0,
              "#0d0887"
             ],
             [
              0.1111111111111111,
              "#46039f"
             ],
             [
              0.2222222222222222,
              "#7201a8"
             ],
             [
              0.3333333333333333,
              "#9c179e"
             ],
             [
              0.4444444444444444,
              "#bd3786"
             ],
             [
              0.5555555555555556,
              "#d8576b"
             ],
             [
              0.6666666666666666,
              "#ed7953"
             ],
             [
              0.7777777777777778,
              "#fb9f3a"
             ],
             [
              0.8888888888888888,
              "#fdca26"
             ],
             [
              1,
              "#f0f921"
             ]
            ],
            "type": "histogram2dcontour"
           }
          ],
          "mesh3d": [
           {
            "colorbar": {
             "outlinewidth": 0,
             "ticks": ""
            },
            "type": "mesh3d"
           }
          ],
          "parcoords": [
           {
            "line": {
             "colorbar": {
              "outlinewidth": 0,
              "ticks": ""
             }
            },
            "type": "parcoords"
           }
          ],
          "pie": [
           {
            "automargin": true,
            "type": "pie"
           }
          ],
          "scatter": [
           {
            "marker": {
             "colorbar": {
              "outlinewidth": 0,
              "ticks": ""
             }
            },
            "type": "scatter"
           }
          ],
          "scatter3d": [
           {
            "line": {
             "colorbar": {
              "outlinewidth": 0,
              "ticks": ""
             }
            },
            "marker": {
             "colorbar": {
              "outlinewidth": 0,
              "ticks": ""
             }
            },
            "type": "scatter3d"
           }
          ],
          "scattercarpet": [
           {
            "marker": {
             "colorbar": {
              "outlinewidth": 0,
              "ticks": ""
             }
            },
            "type": "scattercarpet"
           }
          ],
          "scattergeo": [
           {
            "marker": {
             "colorbar": {
              "outlinewidth": 0,
              "ticks": ""
             }
            },
            "type": "scattergeo"
           }
          ],
          "scattergl": [
           {
            "marker": {
             "colorbar": {
              "outlinewidth": 0,
              "ticks": ""
             }
            },
            "type": "scattergl"
           }
          ],
          "scattermapbox": [
           {
            "marker": {
             "colorbar": {
              "outlinewidth": 0,
              "ticks": ""
             }
            },
            "type": "scattermapbox"
           }
          ],
          "scatterpolar": [
           {
            "marker": {
             "colorbar": {
              "outlinewidth": 0,
              "ticks": ""
             }
            },
            "type": "scatterpolar"
           }
          ],
          "scatterpolargl": [
           {
            "marker": {
             "colorbar": {
              "outlinewidth": 0,
              "ticks": ""
             }
            },
            "type": "scatterpolargl"
           }
          ],
          "scatterternary": [
           {
            "marker": {
             "colorbar": {
              "outlinewidth": 0,
              "ticks": ""
             }
            },
            "type": "scatterternary"
           }
          ],
          "surface": [
           {
            "colorbar": {
             "outlinewidth": 0,
             "ticks": ""
            },
            "colorscale": [
             [
              0,
              "#0d0887"
             ],
             [
              0.1111111111111111,
              "#46039f"
             ],
             [
              0.2222222222222222,
              "#7201a8"
             ],
             [
              0.3333333333333333,
              "#9c179e"
             ],
             [
              0.4444444444444444,
              "#bd3786"
             ],
             [
              0.5555555555555556,
              "#d8576b"
             ],
             [
              0.6666666666666666,
              "#ed7953"
             ],
             [
              0.7777777777777778,
              "#fb9f3a"
             ],
             [
              0.8888888888888888,
              "#fdca26"
             ],
             [
              1,
              "#f0f921"
             ]
            ],
            "type": "surface"
           }
          ],
          "table": [
           {
            "cells": {
             "fill": {
              "color": "#EBF0F8"
             },
             "line": {
              "color": "white"
             }
            },
            "header": {
             "fill": {
              "color": "#C8D4E3"
             },
             "line": {
              "color": "white"
             }
            },
            "type": "table"
           }
          ]
         },
         "layout": {
          "annotationdefaults": {
           "arrowcolor": "#2a3f5f",
           "arrowhead": 0,
           "arrowwidth": 1
          },
          "autotypenumbers": "strict",
          "coloraxis": {
           "colorbar": {
            "outlinewidth": 0,
            "ticks": ""
           }
          },
          "colorscale": {
           "diverging": [
            [
             0,
             "#8e0152"
            ],
            [
             0.1,
             "#c51b7d"
            ],
            [
             0.2,
             "#de77ae"
            ],
            [
             0.3,
             "#f1b6da"
            ],
            [
             0.4,
             "#fde0ef"
            ],
            [
             0.5,
             "#f7f7f7"
            ],
            [
             0.6,
             "#e6f5d0"
            ],
            [
             0.7,
             "#b8e186"
            ],
            [
             0.8,
             "#7fbc41"
            ],
            [
             0.9,
             "#4d9221"
            ],
            [
             1,
             "#276419"
            ]
           ],
           "sequential": [
            [
             0,
             "#0d0887"
            ],
            [
             0.1111111111111111,
             "#46039f"
            ],
            [
             0.2222222222222222,
             "#7201a8"
            ],
            [
             0.3333333333333333,
             "#9c179e"
            ],
            [
             0.4444444444444444,
             "#bd3786"
            ],
            [
             0.5555555555555556,
             "#d8576b"
            ],
            [
             0.6666666666666666,
             "#ed7953"
            ],
            [
             0.7777777777777778,
             "#fb9f3a"
            ],
            [
             0.8888888888888888,
             "#fdca26"
            ],
            [
             1,
             "#f0f921"
            ]
           ],
           "sequentialminus": [
            [
             0,
             "#0d0887"
            ],
            [
             0.1111111111111111,
             "#46039f"
            ],
            [
             0.2222222222222222,
             "#7201a8"
            ],
            [
             0.3333333333333333,
             "#9c179e"
            ],
            [
             0.4444444444444444,
             "#bd3786"
            ],
            [
             0.5555555555555556,
             "#d8576b"
            ],
            [
             0.6666666666666666,
             "#ed7953"
            ],
            [
             0.7777777777777778,
             "#fb9f3a"
            ],
            [
             0.8888888888888888,
             "#fdca26"
            ],
            [
             1,
             "#f0f921"
            ]
           ]
          },
          "colorway": [
           "#636efa",
           "#EF553B",
           "#00cc96",
           "#ab63fa",
           "#FFA15A",
           "#19d3f3",
           "#FF6692",
           "#B6E880",
           "#FF97FF",
           "#FECB52"
          ],
          "font": {
           "color": "#2a3f5f"
          },
          "geo": {
           "bgcolor": "white",
           "lakecolor": "white",
           "landcolor": "#E5ECF6",
           "showlakes": true,
           "showland": true,
           "subunitcolor": "white"
          },
          "hoverlabel": {
           "align": "left"
          },
          "hovermode": "closest",
          "mapbox": {
           "style": "light"
          },
          "paper_bgcolor": "white",
          "plot_bgcolor": "#E5ECF6",
          "polar": {
           "angularaxis": {
            "gridcolor": "white",
            "linecolor": "white",
            "ticks": ""
           },
           "bgcolor": "#E5ECF6",
           "radialaxis": {
            "gridcolor": "white",
            "linecolor": "white",
            "ticks": ""
           }
          },
          "scene": {
           "xaxis": {
            "backgroundcolor": "#E5ECF6",
            "gridcolor": "white",
            "gridwidth": 2,
            "linecolor": "white",
            "showbackground": true,
            "ticks": "",
            "zerolinecolor": "white"
           },
           "yaxis": {
            "backgroundcolor": "#E5ECF6",
            "gridcolor": "white",
            "gridwidth": 2,
            "linecolor": "white",
            "showbackground": true,
            "ticks": "",
            "zerolinecolor": "white"
           },
           "zaxis": {
            "backgroundcolor": "#E5ECF6",
            "gridcolor": "white",
            "gridwidth": 2,
            "linecolor": "white",
            "showbackground": true,
            "ticks": "",
            "zerolinecolor": "white"
           }
          },
          "shapedefaults": {
           "line": {
            "color": "#2a3f5f"
           }
          },
          "ternary": {
           "aaxis": {
            "gridcolor": "white",
            "linecolor": "white",
            "ticks": ""
           },
           "baxis": {
            "gridcolor": "white",
            "linecolor": "white",
            "ticks": ""
           },
           "bgcolor": "#E5ECF6",
           "caxis": {
            "gridcolor": "white",
            "linecolor": "white",
            "ticks": ""
           }
          },
          "title": {
           "x": 0.05
          },
          "xaxis": {
           "automargin": true,
           "gridcolor": "white",
           "linecolor": "white",
           "ticks": "",
           "title": {
            "standoff": 15
           },
           "zerolinecolor": "white",
           "zerolinewidth": 2
          },
          "yaxis": {
           "automargin": true,
           "gridcolor": "white",
           "linecolor": "white",
           "ticks": "",
           "title": {
            "standoff": 15
           },
           "zerolinecolor": "white",
           "zerolinewidth": 2
          }
         }
        }
       }
      },
      "text/html": [
       "<div>                            <div id=\"766589d0-e0d1-409a-9d32-94a07f2ff59e\" class=\"plotly-graph-div\" style=\"height:525px; width:100%;\"></div>            <script type=\"text/javascript\">                require([\"plotly\"], function(Plotly) {                    window.PLOTLYENV=window.PLOTLYENV || {};                                    if (document.getElementById(\"766589d0-e0d1-409a-9d32-94a07f2ff59e\")) {                    Plotly.newPlot(                        \"766589d0-e0d1-409a-9d32-94a07f2ff59e\",                        [{\"domain\": {\"x\": [0.0, 1.0], \"y\": [0.0, 1.0]}, \"hovertemplate\": \"Broad_Bean_Origin=%{label}<extra></extra>\", \"labels\": [\"Sao Tome & Principe\", \"Togo\", \"Togo\", \"Togo\", \"Peru\", \"Venezuela\", \"Cuba\", \"Venezuela\", \"Venezuela\", \"Peru\", \"Panama\", \"Madagascar\", \"Brazil\", \"Ecuador\", \"Colombia\", \"Myanmar\", \"Papua New Guinea\", \"Venezuela\", \"Peru\", \"Peru\", \"Peru\", \"Peru\", \"Peru\", \"Bolivia\", \"Peru\", \"Peru\", \"Peru\", \"Fiji\", \"Fiji\", \"Fiji\", \"Fiji\", \"Fiji\", \"Fiji\", \"Ecuador\", \"Ecuador\", \"Ecuador\", \"Ecuador\", \"Mexico\", \"Indonesia\", \"Madagascar\", \"Brazil\", \"Trinidad Tobago\", \"Vietnam\", \"Madagascar\", \"Venezuela\", \"Peru\", \"Ecuador\", \"Nicaragua\", \"Vietnam\", \"Tanzania\", \"Nicaragua\", \"Peru\", \"Bolivia\", \"Peru\", \"Ecuador\", \"Venezuela\", \"Dominican Republic\", \"Bolivia\", \"Bolivia\", \"Peru\", \"Papua New Guinea\", \"Dominican Republic\", \"Ecuador\", \"Venezuela\", \"Venezuela\", \"Indonesia\", \"Madagascar\", \"Venezuela\", \"Venezuela\", \"Ghana\", \"Ecuador\", \"Ecuador\", \"Ghana\", \"Peru\", \"Peru\", \"Belize\", \"Madagascar\", \"Dominican Republic\", \"Papua New Guinea\", \"Venezuela\", \"Peru\", \"Peru\", \"Venezuela\", \"Unknown\", \"Venezuela\", \"Ecuador\", \"Jamaica\", \"Grenada\", \"Venezuela\", \"Madagascar\", \"Trinidad Tobago\", \"Unknown\", \"Unknown\", \"Unknown\", \"Brazil\", \"Brazil\", \"Brazil\", \"Brazil\", \"Brazil\", \"Brazil\", \"Brazil\", \"Brazil\", \"Brazil\", \"Brazil\", \"Brazil\", \"Brazil\", \"Brazil\", \"Brazil\", \"Brazil\", \"Brazil\", \"Brazil\", \"Dominican Republic\", \"Bolivia\", \"Madagascar\", \"Madagascar\", \"Mexico\", \"Ecuador\", \"Venezuela\", \"Trinidad Tobago\", \"Tanzania\", \"Vietnam\", \"Ecuador\", \"Ecuador\", \"Guatemala\", \"Nicaragua\", \"Honduras\", \"Costa Rica\", \"Peru\", \"Dominican Republic\", \"Fiji\", \"Vietnam\", \"Brazil\", \"Peru\", \"Ecuador\", \"Dominican Republic\", \"Belize\", \"Nicaragua\", \"Brazil\", \"Guatemala\", \"Ecuador\", \"Trinidad Tobago\", \"Colombia\", \"Haiti\", \"Panama\", \"Venezuela\", \"Jamaica\", \"Costa Rica\", \"Vietnam\", \"Indonesia\", \"Venezuela\", \"Indonesia\", \"Brazil\", \"Madagascar\", \"Peru\", \"Dominican Republic\", \"Republic of Congo\", \"Colombia\", \"Tanzania\", \"Tanzania\", \"Honduras\", \"Philippines\", \"Mexico\", \"Ecuador\", \"Unknown\", \"Papua New Guinea\", \"Madagascar\", \"Brazil\", \"Unknown\", \"Peru\", \"Peru\", \"Brazil\", \"Peru\", \"Dominican Republic\", \"Mexico\", \"Madagascar\", \"Costa Rica\", \"Dominican Republic\", \"Brazil\", \"Ecuador\", \"Malaysia\", \"Malaysia\", \"Brazil\", \"Dominican Republic\", \"Ecuador\", \"Ecuador\", \"Costa Rica\", \"Papua New Guinea\", \"Peru\", \"Ecuador\", \"Tanzania\", \"Bolivia\", \"Dominican Republic\", \"Belize\", \"Belize\", \"Belize\", \"Belize\", \"Belize\", \"Cuba\", \"Venezuela\", \"Venezuela\"], \"legendgroup\": \"\", \"name\": \"\", \"showlegend\": true, \"type\": \"pie\"}],                        {\"legend\": {\"tracegroupgap\": 0}, \"margin\": {\"t\": 60}, \"template\": {\"data\": {\"bar\": [{\"error_x\": {\"color\": \"#2a3f5f\"}, \"error_y\": {\"color\": \"#2a3f5f\"}, \"marker\": {\"line\": {\"color\": \"#E5ECF6\", \"width\": 0.5}}, \"type\": \"bar\"}], \"barpolar\": [{\"marker\": {\"line\": {\"color\": \"#E5ECF6\", \"width\": 0.5}}, \"type\": \"barpolar\"}], \"carpet\": [{\"aaxis\": {\"endlinecolor\": \"#2a3f5f\", \"gridcolor\": \"white\", \"linecolor\": \"white\", \"minorgridcolor\": \"white\", \"startlinecolor\": \"#2a3f5f\"}, \"baxis\": {\"endlinecolor\": \"#2a3f5f\", \"gridcolor\": \"white\", \"linecolor\": \"white\", \"minorgridcolor\": \"white\", \"startlinecolor\": \"#2a3f5f\"}, \"type\": \"carpet\"}], \"choropleth\": [{\"colorbar\": {\"outlinewidth\": 0, \"ticks\": \"\"}, \"type\": \"choropleth\"}], \"contour\": [{\"colorbar\": {\"outlinewidth\": 0, \"ticks\": \"\"}, \"colorscale\": [[0.0, \"#0d0887\"], [0.1111111111111111, \"#46039f\"], [0.2222222222222222, \"#7201a8\"], [0.3333333333333333, \"#9c179e\"], [0.4444444444444444, \"#bd3786\"], [0.5555555555555556, \"#d8576b\"], [0.6666666666666666, \"#ed7953\"], [0.7777777777777778, \"#fb9f3a\"], [0.8888888888888888, \"#fdca26\"], [1.0, \"#f0f921\"]], \"type\": \"contour\"}], \"contourcarpet\": [{\"colorbar\": {\"outlinewidth\": 0, \"ticks\": \"\"}, \"type\": \"contourcarpet\"}], \"heatmap\": [{\"colorbar\": {\"outlinewidth\": 0, \"ticks\": \"\"}, \"colorscale\": [[0.0, \"#0d0887\"], [0.1111111111111111, \"#46039f\"], [0.2222222222222222, \"#7201a8\"], [0.3333333333333333, \"#9c179e\"], [0.4444444444444444, \"#bd3786\"], [0.5555555555555556, \"#d8576b\"], [0.6666666666666666, \"#ed7953\"], [0.7777777777777778, \"#fb9f3a\"], [0.8888888888888888, \"#fdca26\"], [1.0, \"#f0f921\"]], \"type\": \"heatmap\"}], \"heatmapgl\": [{\"colorbar\": {\"outlinewidth\": 0, \"ticks\": \"\"}, \"colorscale\": [[0.0, \"#0d0887\"], [0.1111111111111111, \"#46039f\"], [0.2222222222222222, \"#7201a8\"], [0.3333333333333333, \"#9c179e\"], [0.4444444444444444, \"#bd3786\"], [0.5555555555555556, \"#d8576b\"], [0.6666666666666666, \"#ed7953\"], [0.7777777777777778, \"#fb9f3a\"], [0.8888888888888888, \"#fdca26\"], [1.0, \"#f0f921\"]], \"type\": \"heatmapgl\"}], \"histogram\": [{\"marker\": {\"colorbar\": {\"outlinewidth\": 0, \"ticks\": \"\"}}, \"type\": \"histogram\"}], \"histogram2d\": [{\"colorbar\": {\"outlinewidth\": 0, \"ticks\": \"\"}, \"colorscale\": [[0.0, \"#0d0887\"], [0.1111111111111111, \"#46039f\"], [0.2222222222222222, \"#7201a8\"], [0.3333333333333333, \"#9c179e\"], [0.4444444444444444, \"#bd3786\"], [0.5555555555555556, \"#d8576b\"], [0.6666666666666666, \"#ed7953\"], [0.7777777777777778, \"#fb9f3a\"], [0.8888888888888888, \"#fdca26\"], [1.0, \"#f0f921\"]], \"type\": \"histogram2d\"}], \"histogram2dcontour\": [{\"colorbar\": {\"outlinewidth\": 0, \"ticks\": \"\"}, \"colorscale\": [[0.0, \"#0d0887\"], [0.1111111111111111, \"#46039f\"], [0.2222222222222222, \"#7201a8\"], [0.3333333333333333, \"#9c179e\"], [0.4444444444444444, \"#bd3786\"], [0.5555555555555556, \"#d8576b\"], [0.6666666666666666, \"#ed7953\"], [0.7777777777777778, \"#fb9f3a\"], [0.8888888888888888, \"#fdca26\"], [1.0, \"#f0f921\"]], \"type\": \"histogram2dcontour\"}], \"mesh3d\": [{\"colorbar\": {\"outlinewidth\": 0, \"ticks\": \"\"}, \"type\": \"mesh3d\"}], \"parcoords\": [{\"line\": {\"colorbar\": {\"outlinewidth\": 0, \"ticks\": \"\"}}, \"type\": \"parcoords\"}], \"pie\": [{\"automargin\": true, \"type\": \"pie\"}], \"scatter\": [{\"marker\": {\"colorbar\": {\"outlinewidth\": 0, \"ticks\": \"\"}}, \"type\": \"scatter\"}], \"scatter3d\": [{\"line\": {\"colorbar\": {\"outlinewidth\": 0, \"ticks\": \"\"}}, \"marker\": {\"colorbar\": {\"outlinewidth\": 0, \"ticks\": \"\"}}, \"type\": \"scatter3d\"}], \"scattercarpet\": [{\"marker\": {\"colorbar\": {\"outlinewidth\": 0, \"ticks\": \"\"}}, \"type\": \"scattercarpet\"}], \"scattergeo\": [{\"marker\": {\"colorbar\": {\"outlinewidth\": 0, \"ticks\": \"\"}}, \"type\": \"scattergeo\"}], \"scattergl\": [{\"marker\": {\"colorbar\": {\"outlinewidth\": 0, \"ticks\": \"\"}}, \"type\": \"scattergl\"}], \"scattermapbox\": [{\"marker\": {\"colorbar\": {\"outlinewidth\": 0, \"ticks\": \"\"}}, \"type\": \"scattermapbox\"}], \"scatterpolar\": [{\"marker\": {\"colorbar\": {\"outlinewidth\": 0, \"ticks\": \"\"}}, \"type\": \"scatterpolar\"}], \"scatterpolargl\": [{\"marker\": {\"colorbar\": {\"outlinewidth\": 0, \"ticks\": \"\"}}, \"type\": \"scatterpolargl\"}], \"scatterternary\": [{\"marker\": {\"colorbar\": {\"outlinewidth\": 0, \"ticks\": \"\"}}, \"type\": \"scatterternary\"}], \"surface\": [{\"colorbar\": {\"outlinewidth\": 0, \"ticks\": \"\"}, \"colorscale\": [[0.0, \"#0d0887\"], [0.1111111111111111, \"#46039f\"], [0.2222222222222222, \"#7201a8\"], [0.3333333333333333, \"#9c179e\"], [0.4444444444444444, \"#bd3786\"], [0.5555555555555556, \"#d8576b\"], [0.6666666666666666, \"#ed7953\"], [0.7777777777777778, \"#fb9f3a\"], [0.8888888888888888, \"#fdca26\"], [1.0, \"#f0f921\"]], \"type\": \"surface\"}], \"table\": [{\"cells\": {\"fill\": {\"color\": \"#EBF0F8\"}, \"line\": {\"color\": \"white\"}}, \"header\": {\"fill\": {\"color\": \"#C8D4E3\"}, \"line\": {\"color\": \"white\"}}, \"type\": \"table\"}]}, \"layout\": {\"annotationdefaults\": {\"arrowcolor\": \"#2a3f5f\", \"arrowhead\": 0, \"arrowwidth\": 1}, \"autotypenumbers\": \"strict\", \"coloraxis\": {\"colorbar\": {\"outlinewidth\": 0, \"ticks\": \"\"}}, \"colorscale\": {\"diverging\": [[0, \"#8e0152\"], [0.1, \"#c51b7d\"], [0.2, \"#de77ae\"], [0.3, \"#f1b6da\"], [0.4, \"#fde0ef\"], [0.5, \"#f7f7f7\"], [0.6, \"#e6f5d0\"], [0.7, \"#b8e186\"], [0.8, \"#7fbc41\"], [0.9, \"#4d9221\"], [1, \"#276419\"]], \"sequential\": [[0.0, \"#0d0887\"], [0.1111111111111111, \"#46039f\"], [0.2222222222222222, \"#7201a8\"], [0.3333333333333333, \"#9c179e\"], [0.4444444444444444, \"#bd3786\"], [0.5555555555555556, \"#d8576b\"], [0.6666666666666666, \"#ed7953\"], [0.7777777777777778, \"#fb9f3a\"], [0.8888888888888888, \"#fdca26\"], [1.0, \"#f0f921\"]], \"sequentialminus\": [[0.0, \"#0d0887\"], [0.1111111111111111, \"#46039f\"], [0.2222222222222222, \"#7201a8\"], [0.3333333333333333, \"#9c179e\"], [0.4444444444444444, \"#bd3786\"], [0.5555555555555556, \"#d8576b\"], [0.6666666666666666, \"#ed7953\"], [0.7777777777777778, \"#fb9f3a\"], [0.8888888888888888, \"#fdca26\"], [1.0, \"#f0f921\"]]}, \"colorway\": [\"#636efa\", \"#EF553B\", \"#00cc96\", \"#ab63fa\", \"#FFA15A\", \"#19d3f3\", \"#FF6692\", \"#B6E880\", \"#FF97FF\", \"#FECB52\"], \"font\": {\"color\": \"#2a3f5f\"}, \"geo\": {\"bgcolor\": \"white\", \"lakecolor\": \"white\", \"landcolor\": \"#E5ECF6\", \"showlakes\": true, \"showland\": true, \"subunitcolor\": \"white\"}, \"hoverlabel\": {\"align\": \"left\"}, \"hovermode\": \"closest\", \"mapbox\": {\"style\": \"light\"}, \"paper_bgcolor\": \"white\", \"plot_bgcolor\": \"#E5ECF6\", \"polar\": {\"angularaxis\": {\"gridcolor\": \"white\", \"linecolor\": \"white\", \"ticks\": \"\"}, \"bgcolor\": \"#E5ECF6\", \"radialaxis\": {\"gridcolor\": \"white\", \"linecolor\": \"white\", \"ticks\": \"\"}}, \"scene\": {\"xaxis\": {\"backgroundcolor\": \"#E5ECF6\", \"gridcolor\": \"white\", \"gridwidth\": 2, \"linecolor\": \"white\", \"showbackground\": true, \"ticks\": \"\", \"zerolinecolor\": \"white\"}, \"yaxis\": {\"backgroundcolor\": \"#E5ECF6\", \"gridcolor\": \"white\", \"gridwidth\": 2, \"linecolor\": \"white\", \"showbackground\": true, \"ticks\": \"\", \"zerolinecolor\": \"white\"}, \"zaxis\": {\"backgroundcolor\": \"#E5ECF6\", \"gridcolor\": \"white\", \"gridwidth\": 2, \"linecolor\": \"white\", \"showbackground\": true, \"ticks\": \"\", \"zerolinecolor\": \"white\"}}, \"shapedefaults\": {\"line\": {\"color\": \"#2a3f5f\"}}, \"ternary\": {\"aaxis\": {\"gridcolor\": \"white\", \"linecolor\": \"white\", \"ticks\": \"\"}, \"baxis\": {\"gridcolor\": \"white\", \"linecolor\": \"white\", \"ticks\": \"\"}, \"bgcolor\": \"#E5ECF6\", \"caxis\": {\"gridcolor\": \"white\", \"linecolor\": \"white\", \"ticks\": \"\"}}, \"title\": {\"x\": 0.05}, \"xaxis\": {\"automargin\": true, \"gridcolor\": \"white\", \"linecolor\": \"white\", \"ticks\": \"\", \"title\": {\"standoff\": 15}, \"zerolinecolor\": \"white\", \"zerolinewidth\": 2}, \"yaxis\": {\"automargin\": true, \"gridcolor\": \"white\", \"linecolor\": \"white\", \"ticks\": \"\", \"title\": {\"standoff\": 15}, \"zerolinecolor\": \"white\", \"zerolinewidth\": 2}}}},                        {\"responsive\": true}                    ).then(function(){\n",
       "                            \n",
       "var gd = document.getElementById('766589d0-e0d1-409a-9d32-94a07f2ff59e');\n",
       "var x = new MutationObserver(function (mutations, observer) {{\n",
       "        var display = window.getComputedStyle(gd).display;\n",
       "        if (!display || display === 'none') {{\n",
       "            console.log([gd, 'removed!']);\n",
       "            Plotly.purge(gd);\n",
       "            observer.disconnect();\n",
       "        }}\n",
       "}});\n",
       "\n",
       "// Listen for the removal of the full notebook cells\n",
       "var notebookContainer = gd.closest('#notebook-container');\n",
       "if (notebookContainer) {{\n",
       "    x.observe(notebookContainer, {childList: true});\n",
       "}}\n",
       "\n",
       "// Listen for the clearing of the current output cell\n",
       "var outputEl = gd.closest('.output');\n",
       "if (outputEl) {{\n",
       "    x.observe(outputEl, {childList: true});\n",
       "}}\n",
       "\n",
       "                        })                };                });            </script>        </div>"
      ]
     },
     "metadata": {},
     "output_type": "display_data"
    }
   ],
   "source": [
    "import plotly.express as px\n",
    "fig = px.pie(df_chocolate.head(200),names='Broad_Bean_Origin')\n",
    "fig.show()"
   ]
  },
  {
   "cell_type": "markdown",
   "metadata": {},
   "source": [
    "### We could see among the top 150 countries that produce chocolate, the top 5 positions are occupied by Peru, Venezuela, Ecuador, Madagascar and Brazil respectively."
   ]
  },
  {
   "cell_type": "markdown",
   "metadata": {},
   "source": [
    "## Where are the best cocoa beans grown?"
   ]
  },
  {
   "cell_type": "code",
   "execution_count": 7,
   "metadata": {},
   "outputs": [
    {
     "data": {
      "text/html": [
       "<div>\n",
       "<style scoped>\n",
       "    .dataframe tbody tr th:only-of-type {\n",
       "        vertical-align: middle;\n",
       "    }\n",
       "\n",
       "    .dataframe tbody tr th {\n",
       "        vertical-align: top;\n",
       "    }\n",
       "\n",
       "    .dataframe thead th {\n",
       "        text-align: right;\n",
       "    }\n",
       "</style>\n",
       "<table border=\"1\" class=\"dataframe\">\n",
       "  <thead>\n",
       "    <tr style=\"text-align: right;\">\n",
       "      <th></th>\n",
       "      <th>Broad_Bean_Origin</th>\n",
       "      <th>REF</th>\n",
       "      <th>Review_Date</th>\n",
       "      <th>Cocoa_Percent</th>\n",
       "      <th>Rating</th>\n",
       "      <th>latitude</th>\n",
       "      <th>longitude</th>\n",
       "    </tr>\n",
       "  </thead>\n",
       "  <tbody>\n",
       "    <tr>\n",
       "      <th>43</th>\n",
       "      <td>Solomon Islands</td>\n",
       "      <td>1811.000000</td>\n",
       "      <td>2016.250000</td>\n",
       "      <td>74.000000</td>\n",
       "      <td>3.437500</td>\n",
       "      <td>-9.645710</td>\n",
       "      <td>160.156194</td>\n",
       "    </tr>\n",
       "    <tr>\n",
       "      <th>17</th>\n",
       "      <td>Haiti</td>\n",
       "      <td>1354.444444</td>\n",
       "      <td>2014.000000</td>\n",
       "      <td>71.333333</td>\n",
       "      <td>3.388889</td>\n",
       "      <td>18.971187</td>\n",
       "      <td>-72.285215</td>\n",
       "    </tr>\n",
       "    <tr>\n",
       "      <th>19</th>\n",
       "      <td>Honduras</td>\n",
       "      <td>1463.176471</td>\n",
       "      <td>2014.470588</td>\n",
       "      <td>74.058824</td>\n",
       "      <td>3.352941</td>\n",
       "      <td>15.199999</td>\n",
       "      <td>-86.241905</td>\n",
       "    </tr>\n",
       "    <tr>\n",
       "      <th>16</th>\n",
       "      <td>Guatemala</td>\n",
       "      <td>1292.774194</td>\n",
       "      <td>2013.580645</td>\n",
       "      <td>71.483871</td>\n",
       "      <td>3.330645</td>\n",
       "      <td>15.783471</td>\n",
       "      <td>-90.230759</td>\n",
       "    </tr>\n",
       "    <tr>\n",
       "      <th>39</th>\n",
       "      <td>Republic of Congo</td>\n",
       "      <td>1091.600000</td>\n",
       "      <td>2012.600000</td>\n",
       "      <td>70.500000</td>\n",
       "      <td>3.325000</td>\n",
       "      <td>-0.228021</td>\n",
       "      <td>15.827659</td>\n",
       "    </tr>\n",
       "  </tbody>\n",
       "</table>\n",
       "</div>"
      ],
      "text/plain": [
       "    Broad_Bean_Origin          REF  Review_Date  Cocoa_Percent    Rating  \\\n",
       "43    Solomon Islands  1811.000000  2016.250000      74.000000  3.437500   \n",
       "17              Haiti  1354.444444  2014.000000      71.333333  3.388889   \n",
       "19           Honduras  1463.176471  2014.470588      74.058824  3.352941   \n",
       "16          Guatemala  1292.774194  2013.580645      71.483871  3.330645   \n",
       "39  Republic of Congo  1091.600000  2012.600000      70.500000  3.325000   \n",
       "\n",
       "     latitude   longitude  \n",
       "43  -9.645710  160.156194  \n",
       "17  18.971187  -72.285215  \n",
       "19  15.199999  -86.241905  \n",
       "16  15.783471  -90.230759  \n",
       "39  -0.228021   15.827659  "
      ]
     },
     "execution_count": 7,
     "metadata": {},
     "output_type": "execute_result"
    }
   ],
   "source": [
    "Broad_Bean_Origin_mean = df_chocolate.groupby('Broad_Bean_Origin').mean().reset_index().sort_values('Rating',ascending = False)\n",
    "Broad_Bean_Origin_mean.head()"
   ]
  },
  {
   "cell_type": "code",
   "execution_count": 8,
   "metadata": {},
   "outputs": [
    {
     "data": {
      "text/html": [
       "<div>\n",
       "<style scoped>\n",
       "    .dataframe tbody tr th:only-of-type {\n",
       "        vertical-align: middle;\n",
       "    }\n",
       "\n",
       "    .dataframe tbody tr th {\n",
       "        vertical-align: top;\n",
       "    }\n",
       "\n",
       "    .dataframe thead th {\n",
       "        text-align: right;\n",
       "    }\n",
       "</style>\n",
       "<table border=\"1\" class=\"dataframe\">\n",
       "  <thead>\n",
       "    <tr style=\"text-align: right;\">\n",
       "      <th></th>\n",
       "      <th>Broad_Bean_Origin</th>\n",
       "      <th>REF</th>\n",
       "      <th>Review_Date</th>\n",
       "      <th>Cocoa_Percent</th>\n",
       "      <th>Rating</th>\n",
       "      <th>latitude</th>\n",
       "      <th>longitude</th>\n",
       "    </tr>\n",
       "  </thead>\n",
       "  <tbody>\n",
       "    <tr>\n",
       "      <th>43</th>\n",
       "      <td>Solomon Islands</td>\n",
       "      <td>1811.000000</td>\n",
       "      <td>2016.250000</td>\n",
       "      <td>74.000000</td>\n",
       "      <td>3.437500</td>\n",
       "      <td>-9.645710</td>\n",
       "      <td>160.156194</td>\n",
       "    </tr>\n",
       "    <tr>\n",
       "      <th>17</th>\n",
       "      <td>Haiti</td>\n",
       "      <td>1354.444444</td>\n",
       "      <td>2014.000000</td>\n",
       "      <td>71.333333</td>\n",
       "      <td>3.388889</td>\n",
       "      <td>18.971187</td>\n",
       "      <td>-72.285215</td>\n",
       "    </tr>\n",
       "    <tr>\n",
       "      <th>19</th>\n",
       "      <td>Honduras</td>\n",
       "      <td>1463.176471</td>\n",
       "      <td>2014.470588</td>\n",
       "      <td>74.058824</td>\n",
       "      <td>3.352941</td>\n",
       "      <td>15.199999</td>\n",
       "      <td>-86.241905</td>\n",
       "    </tr>\n",
       "    <tr>\n",
       "      <th>16</th>\n",
       "      <td>Guatemala</td>\n",
       "      <td>1292.774194</td>\n",
       "      <td>2013.580645</td>\n",
       "      <td>71.483871</td>\n",
       "      <td>3.330645</td>\n",
       "      <td>15.783471</td>\n",
       "      <td>-90.230759</td>\n",
       "    </tr>\n",
       "    <tr>\n",
       "      <th>39</th>\n",
       "      <td>Republic of Congo</td>\n",
       "      <td>1091.600000</td>\n",
       "      <td>2012.600000</td>\n",
       "      <td>70.500000</td>\n",
       "      <td>3.325000</td>\n",
       "      <td>-0.228021</td>\n",
       "      <td>15.827659</td>\n",
       "    </tr>\n",
       "  </tbody>\n",
       "</table>\n",
       "</div>"
      ],
      "text/plain": [
       "    Broad_Bean_Origin          REF  Review_Date  Cocoa_Percent    Rating  \\\n",
       "43    Solomon Islands  1811.000000  2016.250000      74.000000  3.437500   \n",
       "17              Haiti  1354.444444  2014.000000      71.333333  3.388889   \n",
       "19           Honduras  1463.176471  2014.470588      74.058824  3.352941   \n",
       "16          Guatemala  1292.774194  2013.580645      71.483871  3.330645   \n",
       "39  Republic of Congo  1091.600000  2012.600000      70.500000  3.325000   \n",
       "\n",
       "     latitude   longitude  \n",
       "43  -9.645710  160.156194  \n",
       "17  18.971187  -72.285215  \n",
       "19  15.199999  -86.241905  \n",
       "16  15.783471  -90.230759  \n",
       "39  -0.228021   15.827659  "
      ]
     },
     "execution_count": 8,
     "metadata": {},
     "output_type": "execute_result"
    }
   ],
   "source": [
    "best_beans_grown = Broad_Bean_Origin_mean[Broad_Bean_Origin_mean['Rating'] >= 3.25]\n",
    "best_beans_grown.head()"
   ]
  },
  {
   "cell_type": "code",
   "execution_count": 9,
   "metadata": {},
   "outputs": [
    {
     "data": {
      "text/plain": [
       "['Solomon Islands',\n",
       " 'Haiti',\n",
       " 'Honduras',\n",
       " 'Guatemala',\n",
       " 'Republic of Congo',\n",
       " 'Vietnam',\n",
       " 'Brazil',\n",
       " 'Papua New Guinea',\n",
       " 'Gabon',\n",
       " 'Vanuatu',\n",
       " 'Suriname',\n",
       " 'Nigeria',\n",
       " 'Malaysia',\n",
       " 'Australia',\n",
       " 'Cameroon',\n",
       " 'Cuba']"
      ]
     },
     "execution_count": 9,
     "metadata": {},
     "output_type": "execute_result"
    }
   ],
   "source": [
    "best_beans_grown.Broad_Bean_Origin.tolist()"
   ]
  },
  {
   "cell_type": "code",
   "execution_count": 10,
   "metadata": {},
   "outputs": [],
   "source": [
    "Max_Bean_Origin = df_chocolate.groupby(['Broad_Bean_Origin'])['Rating'].max()"
   ]
  },
  {
   "cell_type": "code",
   "execution_count": 11,
   "metadata": {},
   "outputs": [
    {
     "data": {
      "text/plain": [
       "Broad_Bean_Origin\n",
       "Venezuela              5.0\n",
       "Unknown                5.0\n",
       "Mexico                 4.0\n",
       "Guatemala              4.0\n",
       "Trinidad Tobago        4.0\n",
       "Sao Tome & Principe    4.0\n",
       "Saint Lucia            4.0\n",
       "Peru                   4.0\n",
       "Papua New Guinea       4.0\n",
       "Other                  4.0\n",
       "Nicaragua              4.0\n",
       "Belize                 4.0\n",
       "Madagascar             4.0\n",
       "Jamaica                4.0\n",
       "Indonesia              4.0\n",
       "Haiti                  4.0\n",
       "Vietnam                4.0\n",
       "Grenada                4.0\n",
       "Bolivia                4.0\n",
       "Ghana                  4.0\n",
       "Name: Rating, dtype: float64"
      ]
     },
     "execution_count": 11,
     "metadata": {},
     "output_type": "execute_result"
    }
   ],
   "source": [
    "Max_Bean_Origin.sort_values(ascending = False)[:20]"
   ]
  },
  {
   "cell_type": "markdown",
   "metadata": {},
   "source": [
    "## Which countries produce the highest-rated bars?"
   ]
  },
  {
   "cell_type": "code",
   "execution_count": 12,
   "metadata": {},
   "outputs": [],
   "source": [
    "company_location=df_chocolate['Company_Location'].value_counts().index.tolist()"
   ]
  },
  {
   "cell_type": "code",
   "execution_count": 13,
   "metadata": {},
   "outputs": [
    {
     "data": {
      "image/png": "[encoded data removed]",
      "text/plain": [
       "<Figure size 432x288 with 1 Axes>"
      ]
     },
     "metadata": {
      "needs_background": "light"
     },
     "output_type": "display_data"
    },
    {
     "name": "stdout",
     "output_type": "stream",
     "text": [
      "{'United States of America': 25, 'France': 24, 'Canada': 9, 'England': 4, 'Ecuador': 3, 'Italy': 9, 'Australia': 4, 'Madagascar': 3, 'Germany': 1, 'Belgium': 6, 'Switzerland': 6, 'Brazil': 4, 'Spain': 3, 'Colombia': 1, 'Guatemala': 1, 'Scotland': 1, 'Sao Tome': 1}\n"
     ]
    }
   ],
   "source": [
    "best_choc={}\n",
    "for cl in company_location:\n",
    "    c=0\n",
    "    b=df_chocolate[df_chocolate['Company_Location']==cl]\n",
    "    br=b[b['Rating']>=4]\n",
    "    for i in br['Rating']:\n",
    "        \n",
    "        c+=1\n",
    "        best_choc[cl]=c\n",
    "li=best_choc.keys()\n",
    "\n",
    "\n",
    "# The lollipop plot\n",
    "plt.hlines(y=li,xmin=0,xmax=best_choc.values(),color='red')\n",
    "plt.plot(best_choc.values(),li,\"o\")\n",
    "plt.xlabel('Country')\n",
    "plt.ylabel('Number of chocolate bars')\n",
    "plt.title(\"Top Chocolate Producing Countries in the World (Ratings above 4.0)\")\n",
    "plt.show()\n",
    "print(best_choc)"
   ]
  },
  {
   "cell_type": "markdown",
   "metadata": {},
   "source": [
    "### USA and France produce the highest-rated bars."
   ]
  },
  {
   "cell_type": "markdown",
   "metadata": {},
   "source": [
    "## What’s the relationship between cocoa solids percentage and rating?"
   ]
  },
  {
   "cell_type": "code",
   "execution_count": 14,
   "metadata": {},
   "outputs": [
    {
     "data": {
      "image/png": "[encoded data removed]",
      "text/plain": [
       "<Figure size 1080x432 with 1 Axes>"
      ]
     },
     "metadata": {
      "needs_background": "light"
     },
     "output_type": "display_data"
    }
   ],
   "source": [
    "plt.subplots(figsize=(15, 6))\n",
    "plt.scatter(x=\"Cocoa_Percent\", y=\"Rating\", data=df_chocolate)\n",
    "plt.title(\"Relationship between Cocao percentage and Rating\")\n",
    "plt.xlabel('Percentage of Cocoa')\n",
    "plt.ylabel('Rating of the Bar')\n",
    "plt.show()"
   ]
  },
  {
   "cell_type": "markdown",
   "metadata": {},
   "source": [
    "## Percent of Cocoa with the highest and most consumer ratings"
   ]
  },
  {
   "cell_type": "markdown",
   "metadata": {},
   "source": [
    "## Count of Chocolate Bar Ratings"
   ]
  },
  {
   "cell_type": "code",
   "execution_count": 15,
   "metadata": {},
   "outputs": [
    {
     "data": {
      "image/png": "[encoded data removed]",
      "text/plain": [
       "<Figure size 864x432 with 1 Axes>"
      ]
     },
     "metadata": {
      "needs_background": "light"
     },
     "output_type": "display_data"
    }
   ],
   "source": [
    "\n",
    "\n",
    "ax = df_chocolate['Rating'].value_counts().plot(kind='bar',figsize=(12,6),title=\"Number of Users that Rated Chocolate Bar\"\n",
    "                                        ,edgecolor='black' )\n",
    "\n",
    "ax.set_xlabel(\"Rating\")\n",
    "ax.set_ylabel(\"Count of users\")\n",
    "plt.show()\n"
   ]
  },
  {
   "cell_type": "markdown",
   "metadata": {},
   "source": [
    "### The most number of ratings that were given was between 3.0 to 3.5, with the highest being 3.5 with a number of around 380 ratings. This shows us that most individuals are giving chocolate bars a rating of a little bit more than satisfactory. "
   ]
  },
  {
   "cell_type": "markdown",
   "metadata": {},
   "source": [
    "##  What percent of Cocoa has the highest and most consumer ratings ?"
   ]
  },
  {
   "cell_type": "markdown",
   "metadata": {},
   "source": [
    "## Count of Cocoa Percentage"
   ]
  },
  {
   "cell_type": "code",
   "execution_count": 16,
   "metadata": {},
   "outputs": [
    {
     "data": {
      "image/png": "[encoded data removed]",
      "text/plain": [
       "<Figure size 1008x576 with 1 Axes>"
      ]
     },
     "metadata": {
      "needs_background": "light"
     },
     "output_type": "display_data"
    }
   ],
   "source": [
    "ax = df_chocolate['Cocoa_Percent'].value_counts().plot(kind='bar',figsize=(14,8),title=\"Number of Users that Rated Chocolate Bar\"\n",
    "                                        ,color = \"green\"\n",
    "                                                       ,edgecolor='black' )\n",
    "\n",
    "ax.set_xlabel(\"Cocoa Percent\")\n",
    "ax.set_ylabel(\"Count\")\n",
    "plt.show()\n"
   ]
  },
  {
   "cell_type": "markdown",
   "metadata": {},
   "source": [
    "### The graph shows us,most chocolate bars are made with around 70 to 75% cocoa in the bar. With close to 700 chocolate bars being made with 70% cocoa. Less than one hundred bars are made with 60% or less cocoa, and the number is even smaller for chocolate bars with 80% or higher cocoa in them. "
   ]
  },
  {
   "cell_type": "markdown",
   "metadata": {},
   "source": [
    "## What percent of Cocoa has the highest and most consumer ratings ?"
   ]
  },
  {
   "cell_type": "code",
   "execution_count": 17,
   "metadata": {},
   "outputs": [
    {
     "data": {
      "image/png": "[encoded data removed]",
      "text/plain": [
       "<Figure size 864x432 with 1 Axes>"
      ]
     },
     "metadata": {
      "needs_background": "light"
     },
     "output_type": "display_data"
    }
   ],
   "source": [
    "# Build the scatter charts for each city type.\n",
    "plt.subplots(figsize=(12, 6))\n",
    "plt.scatter(df_chocolate['Cocoa_Percent'].tolist(),\n",
    "      df_chocolate['Rating'],\n",
    "      s=100*df_chocolate['Rating'], c=\"skyblue\",\n",
    "      edgecolor=\"black\", linewidths=1,\n",
    "      alpha=0.8)\n",
    "\n",
    "# Incorporate the other graph properties\n",
    "plt.title(\"Rating of Chocolate Bars by Cocoa Percent\", fontsize=20)\n",
    "plt.ylabel(\"Rating\", fontsize=12)\n",
    "plt.xlabel(\"Cocoa Percent (%)\", fontsize=12)\n",
    "plt.grid(True)\n",
    "\n",
    "\n",
    "# Show the plot\n",
    "plt.show()"
   ]
  },
  {
   "cell_type": "markdown",
   "metadata": {},
   "source": [
    "### The data shows that a large proportion of chocolate bars are made with 60–80% cocoa, with a large proportion being made with 70% cocoa. Of the 70% cocoa, most are rated between 3.0 to 4.0, telling us that people are more likely to enjoy chocolate bars that are around 70% cocoa."
   ]
  },
  {
   "cell_type": "markdown",
   "metadata": {},
   "source": [
    "## How can you compare the maximum cocoa percentage to the cocoa percentage that is most used in chocolate bars?"
   ]
  },
  {
   "cell_type": "code",
   "execution_count": 18,
   "metadata": {},
   "outputs": [
    {
     "data": {
      "text/html": [
       "<div>\n",
       "<style scoped>\n",
       "    .dataframe tbody tr th:only-of-type {\n",
       "        vertical-align: middle;\n",
       "    }\n",
       "\n",
       "    .dataframe tbody tr th {\n",
       "        vertical-align: top;\n",
       "    }\n",
       "\n",
       "    .dataframe thead th {\n",
       "        text-align: right;\n",
       "    }\n",
       "</style>\n",
       "<table border=\"1\" class=\"dataframe\">\n",
       "  <thead>\n",
       "    <tr style=\"text-align: right;\">\n",
       "      <th></th>\n",
       "      <th>Company</th>\n",
       "      <th>Bean_Origin_or_Bar_Name</th>\n",
       "      <th>REF</th>\n",
       "      <th>Review_Date</th>\n",
       "      <th>Cocoa_Percent</th>\n",
       "      <th>Company_Location</th>\n",
       "      <th>Rating</th>\n",
       "      <th>Bean_Type</th>\n",
       "      <th>Broad_Bean_Origin</th>\n",
       "      <th>Ingredients</th>\n",
       "      <th>Most_Memorable_Characteristics</th>\n",
       "      <th>country_code</th>\n",
       "      <th>latitude</th>\n",
       "      <th>longitude</th>\n",
       "      <th>continent</th>\n",
       "    </tr>\n",
       "  </thead>\n",
       "  <tbody>\n",
       "    <tr>\n",
       "      <th>144</th>\n",
       "      <td>Artisan du Chocolat</td>\n",
       "      <td>Venezuela</td>\n",
       "      <td>486</td>\n",
       "      <td>2010</td>\n",
       "      <td>100.0</td>\n",
       "      <td>England</td>\n",
       "      <td>1.75</td>\n",
       "      <td>missing</td>\n",
       "      <td>Venezuela</td>\n",
       "      <td>Unknown</td>\n",
       "      <td>very nutty, very bitter</td>\n",
       "      <td>VE</td>\n",
       "      <td>6.423750</td>\n",
       "      <td>-66.589730</td>\n",
       "      <td>South America</td>\n",
       "    </tr>\n",
       "    <tr>\n",
       "      <th>268</th>\n",
       "      <td>Bonnat</td>\n",
       "      <td>One Hundred</td>\n",
       "      <td>81</td>\n",
       "      <td>2006</td>\n",
       "      <td>100.0</td>\n",
       "      <td>France</td>\n",
       "      <td>1.50</td>\n",
       "      <td>missing</td>\n",
       "      <td>Unknown</td>\n",
       "      <td>Unknown</td>\n",
       "      <td>acidic, bitter, dry</td>\n",
       "      <td>ZZ</td>\n",
       "      <td>0.000000</td>\n",
       "      <td>0.000000</td>\n",
       "      <td>Unknown</td>\n",
       "    </tr>\n",
       "    <tr>\n",
       "      <th>272</th>\n",
       "      <td>Bouga Cacao (Tulicorp)</td>\n",
       "      <td>El Oro, Hacienda de Oro</td>\n",
       "      <td>341</td>\n",
       "      <td>2009</td>\n",
       "      <td>100.0</td>\n",
       "      <td>Ecuador</td>\n",
       "      <td>1.50</td>\n",
       "      <td>Forastero</td>\n",
       "      <td>Ecuador</td>\n",
       "      <td>Unknown</td>\n",
       "      <td>cardboard, very bitter, floral</td>\n",
       "      <td>EC</td>\n",
       "      <td>-1.831239</td>\n",
       "      <td>-78.183406</td>\n",
       "      <td>South America</td>\n",
       "    </tr>\n",
       "    <tr>\n",
       "      <th>358</th>\n",
       "      <td>C-Amaro</td>\n",
       "      <td>Ecuador</td>\n",
       "      <td>1185</td>\n",
       "      <td>2013</td>\n",
       "      <td>100.0</td>\n",
       "      <td>Italy</td>\n",
       "      <td>3.50</td>\n",
       "      <td>missing</td>\n",
       "      <td>Ecuador</td>\n",
       "      <td>1- B</td>\n",
       "      <td>fatty, controlled bitter, fruit</td>\n",
       "      <td>EC</td>\n",
       "      <td>-1.831239</td>\n",
       "      <td>-78.183406</td>\n",
       "      <td>South America</td>\n",
       "    </tr>\n",
       "    <tr>\n",
       "      <th>474</th>\n",
       "      <td>Claudio Corallo</td>\n",
       "      <td>Principe</td>\n",
       "      <td>252</td>\n",
       "      <td>2008</td>\n",
       "      <td>100.0</td>\n",
       "      <td>Sao Tome</td>\n",
       "      <td>1.00</td>\n",
       "      <td>Forastero</td>\n",
       "      <td>Sao Tome &amp; Principe</td>\n",
       "      <td>Unknown</td>\n",
       "      <td>missing</td>\n",
       "      <td>ST</td>\n",
       "      <td>0.186360</td>\n",
       "      <td>6.613081</td>\n",
       "      <td>Africa</td>\n",
       "    </tr>\n",
       "  </tbody>\n",
       "</table>\n",
       "</div>"
      ],
      "text/plain": [
       "                    Company  Bean_Origin_or_Bar_Name   REF  Review_Date  \\\n",
       "144     Artisan du Chocolat                Venezuela   486         2010   \n",
       "268                  Bonnat              One Hundred    81         2006   \n",
       "272  Bouga Cacao (Tulicorp)  El Oro, Hacienda de Oro   341         2009   \n",
       "358                 C-Amaro                  Ecuador  1185         2013   \n",
       "474         Claudio Corallo                 Principe   252         2008   \n",
       "\n",
       "     Cocoa_Percent Company_Location  Rating  Bean_Type    Broad_Bean_Origin  \\\n",
       "144          100.0          England    1.75    missing            Venezuela   \n",
       "268          100.0           France    1.50    missing              Unknown   \n",
       "272          100.0          Ecuador    1.50  Forastero              Ecuador   \n",
       "358          100.0            Italy    3.50    missing              Ecuador   \n",
       "474          100.0         Sao Tome    1.00  Forastero  Sao Tome & Principe   \n",
       "\n",
       "    Ingredients   Most_Memorable_Characteristics country_code  latitude  \\\n",
       "144     Unknown          very nutty, very bitter           VE  6.423750   \n",
       "268     Unknown              acidic, bitter, dry           ZZ  0.000000   \n",
       "272     Unknown   cardboard, very bitter, floral           EC -1.831239   \n",
       "358        1- B  fatty, controlled bitter, fruit           EC -1.831239   \n",
       "474     Unknown                          missing           ST  0.186360   \n",
       "\n",
       "     longitude      continent  \n",
       "144 -66.589730  South America  \n",
       "268   0.000000        Unknown  \n",
       "272 -78.183406  South America  \n",
       "358 -78.183406  South America  \n",
       "474   6.613081         Africa  "
      ]
     },
     "execution_count": 18,
     "metadata": {},
     "output_type": "execute_result"
    }
   ],
   "source": [
    "cocoa_100_percent = df_chocolate[df_chocolate['Cocoa_Percent'] == 100  ]\n",
    "cocoa_100_percent.head()"
   ]
  },
  {
   "cell_type": "code",
   "execution_count": 19,
   "metadata": {},
   "outputs": [
    {
     "data": {
      "image/png": "[encoded data removed]",
      "text/plain": [
       "<Figure size 720x432 with 1 Axes>"
      ]
     },
     "metadata": {
      "needs_background": "light"
     },
     "output_type": "display_data"
    }
   ],
   "source": [
    "ax = cocoa_100_percent['Rating'].value_counts().plot(kind='bar',figsize=(10,6),title=\"Ratings of Chocolate Bars with 100% Coca\"\n",
    "                                        ,color = \"pink\"\n",
    "                                                       ,edgecolor='black' )\n",
    "\n",
    "ax.set_xlabel(\"Rating\")\n",
    "ax.set_ylabel(\"Count\")\n",
    "plt.show()"
   ]
  },
  {
   "cell_type": "markdown",
   "metadata": {},
   "source": [
    "### We wanted to find out how consumers are rating chocolate bars that have 100% cocoa. Arounf 20 chocolate bars had a percentage of 100% cocoa, all originating from different parts of the world. As Bar graph shows us, most consumers do not refer chocolate bars that have 100% cocoa in them. At most, they are rating it more around 3.0(satisfactory).\n"
   ]
  },
  {
   "cell_type": "code",
   "execution_count": 20,
   "metadata": {},
   "outputs": [
    {
     "data": {
      "text/html": [
       "<div>\n",
       "<style scoped>\n",
       "    .dataframe tbody tr th:only-of-type {\n",
       "        vertical-align: middle;\n",
       "    }\n",
       "\n",
       "    .dataframe tbody tr th {\n",
       "        vertical-align: top;\n",
       "    }\n",
       "\n",
       "    .dataframe thead th {\n",
       "        text-align: right;\n",
       "    }\n",
       "</style>\n",
       "<table border=\"1\" class=\"dataframe\">\n",
       "  <thead>\n",
       "    <tr style=\"text-align: right;\">\n",
       "      <th></th>\n",
       "      <th>Company</th>\n",
       "      <th>Bean_Origin_or_Bar_Name</th>\n",
       "      <th>REF</th>\n",
       "      <th>Review_Date</th>\n",
       "      <th>Cocoa_Percent</th>\n",
       "      <th>Company_Location</th>\n",
       "      <th>Rating</th>\n",
       "      <th>Bean_Type</th>\n",
       "      <th>Broad_Bean_Origin</th>\n",
       "      <th>Ingredients</th>\n",
       "      <th>Most_Memorable_Characteristics</th>\n",
       "      <th>country_code</th>\n",
       "      <th>latitude</th>\n",
       "      <th>longitude</th>\n",
       "      <th>continent</th>\n",
       "    </tr>\n",
       "  </thead>\n",
       "  <tbody>\n",
       "    <tr>\n",
       "      <th>1</th>\n",
       "      <td>A. Morin</td>\n",
       "      <td>Kpime</td>\n",
       "      <td>1676</td>\n",
       "      <td>2015</td>\n",
       "      <td>70.0</td>\n",
       "      <td>France</td>\n",
       "      <td>2.75</td>\n",
       "      <td>missing</td>\n",
       "      <td>Togo</td>\n",
       "      <td>4- B,S,C,L</td>\n",
       "      <td>burnt wood, earthy, choco</td>\n",
       "      <td>TG</td>\n",
       "      <td>8.619543</td>\n",
       "      <td>0.824782</td>\n",
       "      <td>Africa</td>\n",
       "    </tr>\n",
       "    <tr>\n",
       "      <th>2</th>\n",
       "      <td>A. Morin</td>\n",
       "      <td>Atsane</td>\n",
       "      <td>1676</td>\n",
       "      <td>2015</td>\n",
       "      <td>70.0</td>\n",
       "      <td>France</td>\n",
       "      <td>3.00</td>\n",
       "      <td>missing</td>\n",
       "      <td>Togo</td>\n",
       "      <td>4- B,S,C,L</td>\n",
       "      <td>roasty, acidic, nutty</td>\n",
       "      <td>TG</td>\n",
       "      <td>8.619543</td>\n",
       "      <td>0.824782</td>\n",
       "      <td>Africa</td>\n",
       "    </tr>\n",
       "    <tr>\n",
       "      <th>3</th>\n",
       "      <td>A. Morin</td>\n",
       "      <td>Akata</td>\n",
       "      <td>1680</td>\n",
       "      <td>2015</td>\n",
       "      <td>70.0</td>\n",
       "      <td>France</td>\n",
       "      <td>3.50</td>\n",
       "      <td>missing</td>\n",
       "      <td>Togo</td>\n",
       "      <td>4- B,S,C,L</td>\n",
       "      <td>mild profile, chocolaty, spice</td>\n",
       "      <td>TG</td>\n",
       "      <td>8.619543</td>\n",
       "      <td>0.824782</td>\n",
       "      <td>Africa</td>\n",
       "    </tr>\n",
       "    <tr>\n",
       "      <th>4</th>\n",
       "      <td>A. Morin</td>\n",
       "      <td>Quilla</td>\n",
       "      <td>1704</td>\n",
       "      <td>2015</td>\n",
       "      <td>70.0</td>\n",
       "      <td>France</td>\n",
       "      <td>3.50</td>\n",
       "      <td>missing</td>\n",
       "      <td>Peru</td>\n",
       "      <td>4- B,S,C,L</td>\n",
       "      <td>grainy texture, cocoa, sweet</td>\n",
       "      <td>PE</td>\n",
       "      <td>-9.189967</td>\n",
       "      <td>-75.015152</td>\n",
       "      <td>South America</td>\n",
       "    </tr>\n",
       "    <tr>\n",
       "      <th>5</th>\n",
       "      <td>A. Morin</td>\n",
       "      <td>Carenero</td>\n",
       "      <td>1315</td>\n",
       "      <td>2014</td>\n",
       "      <td>70.0</td>\n",
       "      <td>France</td>\n",
       "      <td>2.75</td>\n",
       "      <td>Criollo</td>\n",
       "      <td>Venezuela</td>\n",
       "      <td>Unknown</td>\n",
       "      <td>missing</td>\n",
       "      <td>VE</td>\n",
       "      <td>6.423750</td>\n",
       "      <td>-66.589730</td>\n",
       "      <td>South America</td>\n",
       "    </tr>\n",
       "  </tbody>\n",
       "</table>\n",
       "</div>"
      ],
      "text/plain": [
       "    Company Bean_Origin_or_Bar_Name   REF  Review_Date  Cocoa_Percent  \\\n",
       "1  A. Morin                   Kpime  1676         2015           70.0   \n",
       "2  A. Morin                  Atsane  1676         2015           70.0   \n",
       "3  A. Morin                   Akata  1680         2015           70.0   \n",
       "4  A. Morin                  Quilla  1704         2015           70.0   \n",
       "5  A. Morin                Carenero  1315         2014           70.0   \n",
       "\n",
       "  Company_Location  Rating Bean_Type Broad_Bean_Origin Ingredients  \\\n",
       "1           France    2.75   missing              Togo  4- B,S,C,L   \n",
       "2           France    3.00   missing              Togo  4- B,S,C,L   \n",
       "3           France    3.50   missing              Togo  4- B,S,C,L   \n",
       "4           France    3.50   missing              Peru  4- B,S,C,L   \n",
       "5           France    2.75   Criollo         Venezuela     Unknown   \n",
       "\n",
       "   Most_Memorable_Characteristics country_code  latitude  longitude  \\\n",
       "1       burnt wood, earthy, choco           TG  8.619543   0.824782   \n",
       "2           roasty, acidic, nutty           TG  8.619543   0.824782   \n",
       "3  mild profile, chocolaty, spice           TG  8.619543   0.824782   \n",
       "4    grainy texture, cocoa, sweet           PE -9.189967 -75.015152   \n",
       "5                         missing           VE  6.423750 -66.589730   \n",
       "\n",
       "       continent  \n",
       "1         Africa  \n",
       "2         Africa  \n",
       "3         Africa  \n",
       "4  South America  \n",
       "5  South America  "
      ]
     },
     "execution_count": 20,
     "metadata": {},
     "output_type": "execute_result"
    }
   ],
   "source": [
    "cocoa_70_percent = df_chocolate[df_chocolate['Cocoa_Percent'] == 70 ]\n",
    "cocoa_70_percent.head()"
   ]
  },
  {
   "cell_type": "code",
   "execution_count": 21,
   "metadata": {},
   "outputs": [
    {
     "data": {
      "image/png": "[encoded data removed]",
      "text/plain": [
       "<Figure size 720x432 with 1 Axes>"
      ]
     },
     "metadata": {
      "needs_background": "light"
     },
     "output_type": "display_data"
    }
   ],
   "source": [
    "ax = cocoa_70_percent['Rating'].value_counts().plot(kind='bar',figsize=(10,6),title=\"Ratings of Chocolate Bars with 70% Coca\"\n",
    "                                        ,color = \"red\"\n",
    "                                                       ,edgecolor='black' )\n",
    "\n",
    "ax.set_xlabel(\"Rating\")\n",
    "ax.set_ylabel(\"Count\")\n",
    "plt.show()"
   ]
  },
  {
   "cell_type": "markdown",
   "metadata": {},
   "source": [
    "### We observed that the mean amount of cocoa percent that was used is 70%. We saw that around 650 chocolate bars are made with 70% cocoa in them. We already observed that most individuals rate chocolate bars with 70% cocoa with a rating of 3.5 (above satisfactory)"
   ]
  },
  {
   "cell_type": "code",
   "execution_count": null,
   "metadata": {},
   "outputs": [],
   "source": []
  }
 ],
 "metadata": {
  "kernelspec": {
   "display_name": "mlenv",
   "language": "python",
   "name": "mlenv"
  },
  "language_info": {
   "codemirror_mode": {
    "name": "ipython",
    "version": 3
   },
   "file_extension": ".py",
   "mimetype": "text/x-python",
   "name": "python",
   "nbconvert_exporter": "python",
   "pygments_lexer": "ipython3",
   "version": "3.7.10"
  }
 },
 "nbformat": 4,
 "nbformat_minor": 5
}
