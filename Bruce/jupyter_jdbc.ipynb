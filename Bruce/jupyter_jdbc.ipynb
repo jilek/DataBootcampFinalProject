{
 "cells": [
  {
   "cell_type": "code",
   "execution_count": 1,
   "id": "307d461c",
   "metadata": {},
   "outputs": [],
   "source": [
    "import os\n",
    "os.environ[\"JAVA_HOME\"] = \"/c/Users/bjile/Downloads/jdk_unzip\""
   ]
  },
  {
   "cell_type": "code",
   "execution_count": 3,
   "id": "dd6c5ec3",
   "metadata": {},
   "outputs": [
    {
     "ename": "SyntaxError",
     "evalue": "invalid syntax (<ipython-input-3-91f3ccda1d04>, line 1)",
     "output_type": "error",
     "traceback": [
      "\u001b[1;36m  File \u001b[1;32m\"<ipython-input-3-91f3ccda1d04>\"\u001b[1;36m, line \u001b[1;32m1\u001b[0m\n\u001b[1;33m    import python-wget\u001b[0m\n\u001b[1;37m                 ^\u001b[0m\n\u001b[1;31mSyntaxError\u001b[0m\u001b[1;31m:\u001b[0m invalid syntax\n"
     ]
    }
   ],
   "source": [
    "import python-wget\n",
    "!wget https://jdbc.postgresql.org/download/postgresql-42.2.16.jar"
   ]
  },
  {
   "cell_type": "code",
   "execution_count": 3,
   "id": "bbb4c36b",
   "metadata": {},
   "outputs": [
    {
     "name": "stdout",
     "output_type": "stream",
     "text": [
      "charts.js\n",
      "ChocolateBarRatings.ipynb\n",
      "data_cleaning.ipynb\n",
      "EDA.ipynb\n",
      "empty\n",
      "erd.sql\n",
      "flavors_of_cacao.csv\n",
      "flavors_of_cacao.csv.orig\n",
      "geoBoundariesCGAZ_ADM0.geojson\n",
      "Images\n",
      "index.html\n",
      "jdbc_test.ipynb\n",
      "RDS_via_JDBC.ipynb\n",
      "README_DATABASE.md\n",
      "Resources\n",
      "static\n",
      "Untitled.ipynb\n"
     ]
    }
   ],
   "source": [
    "!ls"
   ]
  }
 ],
 "metadata": {
  "kernelspec": {
   "display_name": "mlenv",
   "language": "python",
   "name": "mlenv"
  },
  "language_info": {
   "codemirror_mode": {
    "name": "ipython",
    "version": 3
   },
   "file_extension": ".py",
   "mimetype": "text/x-python",
   "name": "python",
   "nbconvert_exporter": "python",
   "pygments_lexer": "ipython3",
   "version": "3.7.10"
  }
 },
 "nbformat": 4,
 "nbformat_minor": 5
}
